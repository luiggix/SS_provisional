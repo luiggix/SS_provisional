{
 "cells": [
  {
   "cell_type": "markdown",
   "id": "f54fb059",
   "metadata": {},
   "source": [
    "# Vectores\n",
    "\n",
    "**Objetivo general**\n",
    "- Una descripción general de lo que se busca aprender en esta práctica. Usar verbos en infinitivo: Revisar, aplicar, solucionar, comprender, etc.\n",
    "\n",
    "**Objetivos particulares**\n",
    "- Describir una lista de objetivos/actividades que se realizarán en esta práctica.\n",
    "- Hacer énfasis en los métodos y conceptos que se aprenderán y en algunas cuestiones computacionales. \n",
    "- No vaya más allá de tres objetivos particulares y sea muy concreto.\n",
    "\n",
    "## Contenido\n",
    "- [1 - Introducción.](#1)\n",
    "- [2 - Operaciones con vectores.](#2)\n",
    "    - [2.1 - Suma y resta de vectores.](#2-1)\n",
    "        - [Ejemplo 1 - Suma de vectores.](#ej-1)\n",
    "        - [Ejemplo 2 - Resta de vectores.](#ej-2)\n",
    "    - [2.2 - Multiplicación de un vector por un escalar.](#2-2)\n",
    "        - [Ejemplo 3 - Multiplicación entre vector y escalar.](#ej-3)\n",
    "    - [2.3 - Producto punto entre vectores.](#2-3)\n",
    "        - [Ejemplo 4 - Producto punto entre vectores.](#ej-4)\n",
    "    - [2.4 - Producto vectorial o producto cruz entre vectores.](#2-4)\n",
    "        - [Ejemplo 5 - Producto cruz entre vectores.](#ej-4)\n",
    "        \n",
    "- [3 - Ortogonalidad.](#3)\n",
    "    - [3.1 - Ejemplo 1 - Determinar si dos vectores son ortogonales entre sí.](#3-1)\n",
    "- [4 - Referencias.](#4)"
   ]
  },
  {
   "cell_type": "markdown",
   "id": "8500e295",
   "metadata": {},
   "source": [
    "<a name='1'></a>\n",
    "## Introducción.\n",
    "\n",
    "¿Qué es un vector? Dentro del área de la física, se le conoce como vector a un segmento de recta en el espacio que parte de un punto hacia otro, es decir, que tiene dirección y sentido. Los vectores en física tienen por función expresar las llamadas magnitudes vectoriales. En computación, un vector representa una lista de números que pueden tomar muchos valores. En matemáticas se define vector como un elemento de un espacio vectorial. Esta noción es más abstracta y para muchos espacios vectoriales no es posible representar sus vectores mediante el módulo y la dirección, en particular los espacios de dimensión infinita sin producto escalar no son representables de ese modo. \n",
    "\n",
    "Los vectores en un espacio euclídeo se pueden representar geométricamente como segmentos de recta $\\mathbb{R}$, en el plano $\\mathbb{R}^{2}$ (bidimensional), o en el espacio $\\mathbb{R}^{3}$ (tridimensional).\n",
    "\n",
    "Mientras en el área de la computación, los vectores son una forma de almacenar datos que permiten contener una serie de valores del mismo tipo, cada uno de los valores contenidos tiene una posición asociada que se usará para accederlos. Está posición o índice será siempre un número entero positivo."
   ]
  },
  {
   "cell_type": "markdown",
   "id": "2bd0669b",
   "metadata": {},
   "source": [
    "<a name='1-1'></a>\n",
    "### Subtema A\n",
    "Describa el Subtema A para complementar el Tema 1 y describir conceptos importantes, así como dar con un poco más de detalle de la aplicación."
   ]
  },
  {
   "cell_type": "code",
   "execution_count": null,
   "id": "78034f61",
   "metadata": {},
   "outputs": [],
   "source": []
  }
 ],
 "metadata": {
  "kernelspec": {
   "display_name": "Python 3 (ipykernel)",
   "language": "python",
   "name": "python3"
  },
  "language_info": {
   "codemirror_mode": {
    "name": "ipython",
    "version": 3
   },
   "file_extension": ".py",
   "mimetype": "text/x-python",
   "name": "python",
   "nbconvert_exporter": "python",
   "pygments_lexer": "ipython3",
   "version": "3.9.7"
  }
 },
 "nbformat": 4,
 "nbformat_minor": 5
}
