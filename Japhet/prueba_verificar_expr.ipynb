{
 "cells": [
  {
   "cell_type": "markdown",
   "id": "1ccda450-a695-4deb-8e81-91a7528eb261",
   "metadata": {
    "tags": []
   },
   "source": [
    "# Evaluación automática de expresiones matemáticas\n",
    "\n",
    "---\n",
    "\n",
    "## Expresiones lineales"
   ]
  },
  {
   "cell_type": "code",
   "execution_count": 1,
   "id": "21d8e0ba-e48d-4d36-8214-19b9c8e0e9ed",
   "metadata": {
    "tags": []
   },
   "outputs": [],
   "source": [
    "import sympy as sy\n",
    "from verifysy import evaluar_expr"
   ]
  },
  {
   "cell_type": "markdown",
   "id": "ae1dd4d3-8708-4347-8d0c-759032e6f34c",
   "metadata": {},
   "source": [
    "Ejemplo 1:\n",
    "\n",
    "$$y(x) = \\frac{d}{dx} \\left(x^{5}\\right)$$"
   ]
  },
  {
   "cell_type": "code",
   "execution_count": 2,
   "id": "03b6b9ff-7b4b-497c-9299-7414724a33f7",
   "metadata": {
    "tags": []
   },
   "outputs": [
    {
     "data": {
      "text/latex": [
       "$\\displaystyle 5 x^{4}$"
      ],
      "text/plain": [
       "5*x**4"
      ]
     },
     "metadata": {},
     "output_type": "display_data"
    }
   ],
   "source": [
    "# Se le provee al alumno la instanciación del símbolo x\n",
    "x = sy.Symbol('x')\n",
    "\n",
    "# Resultado del alumno\n",
    "resultado = 5 * x**4\n",
    "\n",
    "display(resultado)"
   ]
  },
  {
   "cell_type": "code",
   "execution_count": 3,
   "id": "a1bbf64f-b987-474d-9e92-06d19a69708e",
   "metadata": {
    "tags": []
   },
   "outputs": [
    {
     "name": "stdout",
     "output_type": "stream",
     "text": [
      "(x**4) * 5\n",
      "Respuesta correcta\n"
     ]
    }
   ],
   "source": [
    "# Verificando el resultado\n",
    "evaluar_expr('derivadas', 'ejercicio1', resultado)"
   ]
  },
  {
   "cell_type": "markdown",
   "id": "d832c1c6-aa23-4637-9998-2b1540c48e7f",
   "metadata": {},
   "source": [
    "Ejemplo 2:\n",
    "\n",
    "$$\n",
    "y(x) = \\int 2x^{3} \\, dx\n",
    "$$"
   ]
  },
  {
   "cell_type": "code",
   "execution_count": 4,
   "id": "82faee8e-0368-4f7a-b9d0-8aa83f5020d4",
   "metadata": {
    "tags": []
   },
   "outputs": [
    {
     "data": {
      "text/latex": [
       "$\\displaystyle 0.5 x^{4}$"
      ],
      "text/plain": [
       "0.5*x**4"
      ]
     },
     "metadata": {},
     "output_type": "display_data"
    }
   ],
   "source": [
    "# Se le provee al alumno la instanciación del símbolo x\n",
    "x = sy.Symbol('x')\n",
    "\n",
    "# Resultado del alumno\n",
    "resultado = 1/2 * x**4\n",
    "\n",
    "display(resultado)"
   ]
  },
  {
   "cell_type": "code",
   "execution_count": 5,
   "id": "b95dafd3-166d-4989-9233-b9f0fddb5638",
   "metadata": {
    "tags": []
   },
   "outputs": [
    {
     "name": "stdout",
     "output_type": "stream",
     "text": [
      "x**4/2\n",
      "Respuesta correcta\n"
     ]
    }
   ],
   "source": [
    "evaluar_expr('integrales', 'ejercicio1', resultado)"
   ]
  },
  {
   "cell_type": "markdown",
   "id": "5de35c19-a98e-4cea-990b-f0328ef917e1",
   "metadata": {},
   "source": [
    "Ejemplo 3:\n",
    "\n",
    "$$\n",
    "f(x, y) = \\frac{\\partial}{\\partial x} \\sin(x^{y})\n",
    "$$"
   ]
  },
  {
   "cell_type": "code",
   "execution_count": 6,
   "id": "91363b35-1aee-42a6-a8a0-c070cdee058d",
   "metadata": {
    "tags": []
   },
   "outputs": [
    {
     "data": {
      "text/latex": [
       "$\\displaystyle \\frac{x^{y} y \\cos{\\left(x^{y} \\right)}}{x}$"
      ],
      "text/plain": [
       "x**y*y*cos(x**y)/x"
      ]
     },
     "metadata": {},
     "output_type": "display_data"
    }
   ],
   "source": [
    "# Se le provee al alumno la instanciación del símbolo x, y\n",
    "# así como la función coseno\n",
    "x = sy.Symbol('x')\n",
    "y = sy.Symbol('y')\n",
    "cos = sy.cos\n",
    "\n",
    "# Resultado del alumno\n",
    "resultado = x**y * y * cos(x**y) / x\n",
    "\n",
    "display(resultado)"
   ]
  },
  {
   "cell_type": "code",
   "execution_count": 7,
   "id": "ff8252c2-ad16-4ee5-a60a-e4ddcaa90a65",
   "metadata": {
    "tags": []
   },
   "outputs": [
    {
     "name": "stdout",
     "output_type": "stream",
     "text": [
      "(x**y * y * cos(x**y))/x\n",
      "Respuesta correcta\n"
     ]
    }
   ],
   "source": [
    "evaluar_expr('derivadas', 'ejercicio2', resultado)"
   ]
  }
 ],
 "metadata": {
  "kernelspec": {
   "display_name": "Python 3 (ipykernel)",
   "language": "python",
   "name": "python3"
  },
  "language_info": {
   "codemirror_mode": {
    "name": "ipython",
    "version": 3
   },
   "file_extension": ".py",
   "mimetype": "text/x-python",
   "name": "python",
   "nbconvert_exporter": "python",
   "pygments_lexer": "ipython3",
   "version": "3.10.9"
  }
 },
 "nbformat": 4,
 "nbformat_minor": 5
}
