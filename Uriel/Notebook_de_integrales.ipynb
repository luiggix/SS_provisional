{
  "nbformat": 4,
  "nbformat_minor": 0,
  "metadata": {
    "colab": {
      "provenance": []
    },
    "kernelspec": {
      "name": "python3",
      "display_name": "Python 3"
    },
    "language_info": {
      "name": "python"
    },
    "widgets": {
      "application/vnd.jupyter.widget-state+json": {
        "2e3ab57993b345da86aafe74a73f4344": {
          "model_module": "@jupyter-widgets/controls",
          "model_name": "IntSliderModel",
          "model_module_version": "1.5.0",
          "state": {
            "_dom_classes": [],
            "_model_module": "@jupyter-widgets/controls",
            "_model_module_version": "1.5.0",
            "_model_name": "IntSliderModel",
            "_view_count": null,
            "_view_module": "@jupyter-widgets/controls",
            "_view_module_version": "1.5.0",
            "_view_name": "IntSliderView",
            "continuous_update": true,
            "description": "",
            "description_tooltip": null,
            "disabled": false,
            "layout": "IPY_MODEL_d335eee0e7d14488b4dc129b9fc93340",
            "max": 100,
            "min": 0,
            "orientation": "horizontal",
            "readout": true,
            "readout_format": "d",
            "step": 1,
            "style": "IPY_MODEL_1952ac64f17241329365eb2bc6deb51a",
            "value": 0
          }
        },
        "d335eee0e7d14488b4dc129b9fc93340": {
          "model_module": "@jupyter-widgets/base",
          "model_name": "LayoutModel",
          "model_module_version": "1.2.0",
          "state": {
            "_model_module": "@jupyter-widgets/base",
            "_model_module_version": "1.2.0",
            "_model_name": "LayoutModel",
            "_view_count": null,
            "_view_module": "@jupyter-widgets/base",
            "_view_module_version": "1.2.0",
            "_view_name": "LayoutView",
            "align_content": null,
            "align_items": null,
            "align_self": null,
            "border": null,
            "bottom": null,
            "display": null,
            "flex": null,
            "flex_flow": null,
            "grid_area": null,
            "grid_auto_columns": null,
            "grid_auto_flow": null,
            "grid_auto_rows": null,
            "grid_column": null,
            "grid_gap": null,
            "grid_row": null,
            "grid_template_areas": null,
            "grid_template_columns": null,
            "grid_template_rows": null,
            "height": null,
            "justify_content": null,
            "justify_items": null,
            "left": null,
            "margin": null,
            "max_height": null,
            "max_width": null,
            "min_height": null,
            "min_width": null,
            "object_fit": null,
            "object_position": null,
            "order": null,
            "overflow": null,
            "overflow_x": null,
            "overflow_y": null,
            "padding": null,
            "right": null,
            "top": null,
            "visibility": null,
            "width": null
          }
        },
        "1952ac64f17241329365eb2bc6deb51a": {
          "model_module": "@jupyter-widgets/controls",
          "model_name": "SliderStyleModel",
          "model_module_version": "1.5.0",
          "state": {
            "_model_module": "@jupyter-widgets/controls",
            "_model_module_version": "1.5.0",
            "_model_name": "SliderStyleModel",
            "_view_count": null,
            "_view_module": "@jupyter-widgets/base",
            "_view_module_version": "1.2.0",
            "_view_name": "StyleView",
            "description_width": "",
            "handle_color": null
          }
        },
        "78aa2bb86a0a4b808cd02e9a861c1c36": {
          "model_module": "@jupyter-widgets/controls",
          "model_name": "IntSliderModel",
          "model_module_version": "1.5.0",
          "state": {
            "_dom_classes": [],
            "_model_module": "@jupyter-widgets/controls",
            "_model_module_version": "1.5.0",
            "_model_name": "IntSliderModel",
            "_view_count": null,
            "_view_module": "@jupyter-widgets/controls",
            "_view_module_version": "1.5.0",
            "_view_name": "IntSliderView",
            "continuous_update": true,
            "description": "Slider:",
            "description_tooltip": null,
            "disabled": false,
            "layout": "IPY_MODEL_d17c80ee1c874a709a93b3cfcc8e6bdf",
            "max": 50,
            "min": -5,
            "orientation": "horizontal",
            "readout": true,
            "readout_format": "d",
            "step": 1,
            "style": "IPY_MODEL_820b92c14bd24777b25f11441c116a6b",
            "value": -5
          }
        },
        "d17c80ee1c874a709a93b3cfcc8e6bdf": {
          "model_module": "@jupyter-widgets/base",
          "model_name": "LayoutModel",
          "model_module_version": "1.2.0",
          "state": {
            "_model_module": "@jupyter-widgets/base",
            "_model_module_version": "1.2.0",
            "_model_name": "LayoutModel",
            "_view_count": null,
            "_view_module": "@jupyter-widgets/base",
            "_view_module_version": "1.2.0",
            "_view_name": "LayoutView",
            "align_content": null,
            "align_items": null,
            "align_self": null,
            "border": null,
            "bottom": null,
            "display": null,
            "flex": null,
            "flex_flow": null,
            "grid_area": null,
            "grid_auto_columns": null,
            "grid_auto_flow": null,
            "grid_auto_rows": null,
            "grid_column": null,
            "grid_gap": null,
            "grid_row": null,
            "grid_template_areas": null,
            "grid_template_columns": null,
            "grid_template_rows": null,
            "height": null,
            "justify_content": null,
            "justify_items": null,
            "left": null,
            "margin": null,
            "max_height": null,
            "max_width": null,
            "min_height": null,
            "min_width": null,
            "object_fit": null,
            "object_position": null,
            "order": null,
            "overflow": null,
            "overflow_x": null,
            "overflow_y": null,
            "padding": null,
            "right": null,
            "top": null,
            "visibility": null,
            "width": null
          }
        },
        "820b92c14bd24777b25f11441c116a6b": {
          "model_module": "@jupyter-widgets/controls",
          "model_name": "SliderStyleModel",
          "model_module_version": "1.5.0",
          "state": {
            "_model_module": "@jupyter-widgets/controls",
            "_model_module_version": "1.5.0",
            "_model_name": "SliderStyleModel",
            "_view_count": null,
            "_view_module": "@jupyter-widgets/base",
            "_view_module_version": "1.2.0",
            "_view_name": "StyleView",
            "description_width": "",
            "handle_color": null
          }
        },
        "df91cc84014142c190c358f3887f4daa": {
          "model_module": "@jupyter-widgets/controls",
          "model_name": "IntSliderModel",
          "model_module_version": "1.5.0",
          "state": {
            "_dom_classes": [],
            "_model_module": "@jupyter-widgets/controls",
            "_model_module_version": "1.5.0",
            "_model_name": "IntSliderModel",
            "_view_count": null,
            "_view_module": "@jupyter-widgets/controls",
            "_view_module_version": "1.5.0",
            "_view_name": "IntSliderView",
            "continuous_update": true,
            "description": "Slider",
            "description_tooltip": null,
            "disabled": false,
            "layout": "IPY_MODEL_8bc637af29784005ac855bd222905a5c",
            "max": 50,
            "min": 0,
            "orientation": "horizontal",
            "readout": true,
            "readout_format": "d",
            "step": 1,
            "style": "IPY_MODEL_c1bf991b7dfa4918ae85e58896f55e1b",
            "value": 0
          }
        },
        "ee89e33bb1df4c3e99c5066daa7c7f84": {
          "model_module": "@jupyter-widgets/controls",
          "model_name": "IntTextModel",
          "model_module_version": "1.5.0",
          "state": {
            "_dom_classes": [],
            "_model_module": "@jupyter-widgets/controls",
            "_model_module_version": "1.5.0",
            "_model_name": "IntTextModel",
            "_view_count": null,
            "_view_module": "@jupyter-widgets/controls",
            "_view_module_version": "1.5.0",
            "_view_name": "IntTextView",
            "continuous_update": false,
            "description": "Texto",
            "description_tooltip": null,
            "disabled": false,
            "layout": "IPY_MODEL_533561e5c32c4c8883069f62ec9239c6",
            "step": 1,
            "style": "IPY_MODEL_c6a5889ec7b84ac1a799a3d7022eb924",
            "value": 0
          }
        },
        "8bc637af29784005ac855bd222905a5c": {
          "model_module": "@jupyter-widgets/base",
          "model_name": "LayoutModel",
          "model_module_version": "1.2.0",
          "state": {
            "_model_module": "@jupyter-widgets/base",
            "_model_module_version": "1.2.0",
            "_model_name": "LayoutModel",
            "_view_count": null,
            "_view_module": "@jupyter-widgets/base",
            "_view_module_version": "1.2.0",
            "_view_name": "LayoutView",
            "align_content": null,
            "align_items": null,
            "align_self": null,
            "border": null,
            "bottom": null,
            "display": null,
            "flex": null,
            "flex_flow": null,
            "grid_area": null,
            "grid_auto_columns": null,
            "grid_auto_flow": null,
            "grid_auto_rows": null,
            "grid_column": null,
            "grid_gap": null,
            "grid_row": null,
            "grid_template_areas": null,
            "grid_template_columns": null,
            "grid_template_rows": null,
            "height": null,
            "justify_content": null,
            "justify_items": null,
            "left": null,
            "margin": null,
            "max_height": null,
            "max_width": null,
            "min_height": null,
            "min_width": null,
            "object_fit": null,
            "object_position": null,
            "order": null,
            "overflow": null,
            "overflow_x": null,
            "overflow_y": null,
            "padding": null,
            "right": null,
            "top": null,
            "visibility": null,
            "width": null
          }
        },
        "c1bf991b7dfa4918ae85e58896f55e1b": {
          "model_module": "@jupyter-widgets/controls",
          "model_name": "SliderStyleModel",
          "model_module_version": "1.5.0",
          "state": {
            "_model_module": "@jupyter-widgets/controls",
            "_model_module_version": "1.5.0",
            "_model_name": "SliderStyleModel",
            "_view_count": null,
            "_view_module": "@jupyter-widgets/base",
            "_view_module_version": "1.2.0",
            "_view_name": "StyleView",
            "description_width": "",
            "handle_color": null
          }
        },
        "533561e5c32c4c8883069f62ec9239c6": {
          "model_module": "@jupyter-widgets/base",
          "model_name": "LayoutModel",
          "model_module_version": "1.2.0",
          "state": {
            "_model_module": "@jupyter-widgets/base",
            "_model_module_version": "1.2.0",
            "_model_name": "LayoutModel",
            "_view_count": null,
            "_view_module": "@jupyter-widgets/base",
            "_view_module_version": "1.2.0",
            "_view_name": "LayoutView",
            "align_content": null,
            "align_items": null,
            "align_self": null,
            "border": null,
            "bottom": null,
            "display": null,
            "flex": null,
            "flex_flow": null,
            "grid_area": null,
            "grid_auto_columns": null,
            "grid_auto_flow": null,
            "grid_auto_rows": null,
            "grid_column": null,
            "grid_gap": null,
            "grid_row": null,
            "grid_template_areas": null,
            "grid_template_columns": null,
            "grid_template_rows": null,
            "height": null,
            "justify_content": null,
            "justify_items": null,
            "left": null,
            "margin": null,
            "max_height": null,
            "max_width": null,
            "min_height": null,
            "min_width": null,
            "object_fit": null,
            "object_position": null,
            "order": null,
            "overflow": null,
            "overflow_x": null,
            "overflow_y": null,
            "padding": null,
            "right": null,
            "top": null,
            "visibility": null,
            "width": null
          }
        },
        "c6a5889ec7b84ac1a799a3d7022eb924": {
          "model_module": "@jupyter-widgets/controls",
          "model_name": "DescriptionStyleModel",
          "model_module_version": "1.5.0",
          "state": {
            "_model_module": "@jupyter-widgets/controls",
            "_model_module_version": "1.5.0",
            "_model_name": "DescriptionStyleModel",
            "_view_count": null,
            "_view_module": "@jupyter-widgets/base",
            "_view_module_version": "1.2.0",
            "_view_name": "StyleView",
            "description_width": ""
          }
        },
        "9844849bcce2497f89ce1db00c182009": {
          "model_module": "@jupyter-widgets/controls",
          "model_name": "VBoxModel",
          "model_module_version": "1.5.0",
          "state": {
            "_dom_classes": [
              "widget-interact"
            ],
            "_model_module": "@jupyter-widgets/controls",
            "_model_module_version": "1.5.0",
            "_model_name": "VBoxModel",
            "_view_count": null,
            "_view_module": "@jupyter-widgets/controls",
            "_view_module_version": "1.5.0",
            "_view_name": "VBoxView",
            "box_style": "",
            "children": [
              "IPY_MODEL_22294ec053be4254b3c75790b15b4de0",
              "IPY_MODEL_a36cf644c3da4fcd9667b36adcbcc64d"
            ],
            "layout": "IPY_MODEL_640f808f361549bb98194a9d3a08066d"
          }
        },
        "22294ec053be4254b3c75790b15b4de0": {
          "model_module": "@jupyter-widgets/controls",
          "model_name": "DropdownModel",
          "model_module_version": "1.5.0",
          "state": {
            "_dom_classes": [],
            "_model_module": "@jupyter-widgets/controls",
            "_model_module_version": "1.5.0",
            "_model_name": "DropdownModel",
            "_options_labels": [
              "Carlos",
              "Marina",
              "Javier",
              "Alex"
            ],
            "_view_count": null,
            "_view_module": "@jupyter-widgets/controls",
            "_view_module_version": "1.5.0",
            "_view_name": "DropdownView",
            "description": "nombre",
            "description_tooltip": null,
            "disabled": false,
            "index": 3,
            "layout": "IPY_MODEL_87f1ce7bf93343f09d0a3d376f38fb97",
            "style": "IPY_MODEL_c313d2e600274f16b458726bc03b5845"
          }
        },
        "a36cf644c3da4fcd9667b36adcbcc64d": {
          "model_module": "@jupyter-widgets/output",
          "model_name": "OutputModel",
          "model_module_version": "1.0.0",
          "state": {
            "_dom_classes": [],
            "_model_module": "@jupyter-widgets/output",
            "_model_module_version": "1.0.0",
            "_model_name": "OutputModel",
            "_view_count": null,
            "_view_module": "@jupyter-widgets/output",
            "_view_module_version": "1.0.0",
            "_view_name": "OutputView",
            "layout": "IPY_MODEL_0a32b57b43df4a839fd190fe5e462b90",
            "msg_id": "",
            "outputs": [
              {
                "output_type": "stream",
                "name": "stdout",
                "text": [
                  "Nombre: Alex\n"
                ]
              }
            ]
          }
        },
        "640f808f361549bb98194a9d3a08066d": {
          "model_module": "@jupyter-widgets/base",
          "model_name": "LayoutModel",
          "model_module_version": "1.2.0",
          "state": {
            "_model_module": "@jupyter-widgets/base",
            "_model_module_version": "1.2.0",
            "_model_name": "LayoutModel",
            "_view_count": null,
            "_view_module": "@jupyter-widgets/base",
            "_view_module_version": "1.2.0",
            "_view_name": "LayoutView",
            "align_content": null,
            "align_items": null,
            "align_self": null,
            "border": null,
            "bottom": null,
            "display": null,
            "flex": null,
            "flex_flow": null,
            "grid_area": null,
            "grid_auto_columns": null,
            "grid_auto_flow": null,
            "grid_auto_rows": null,
            "grid_column": null,
            "grid_gap": null,
            "grid_row": null,
            "grid_template_areas": null,
            "grid_template_columns": null,
            "grid_template_rows": null,
            "height": null,
            "justify_content": null,
            "justify_items": null,
            "left": null,
            "margin": null,
            "max_height": null,
            "max_width": null,
            "min_height": null,
            "min_width": null,
            "object_fit": null,
            "object_position": null,
            "order": null,
            "overflow": null,
            "overflow_x": null,
            "overflow_y": null,
            "padding": null,
            "right": null,
            "top": null,
            "visibility": null,
            "width": null
          }
        },
        "87f1ce7bf93343f09d0a3d376f38fb97": {
          "model_module": "@jupyter-widgets/base",
          "model_name": "LayoutModel",
          "model_module_version": "1.2.0",
          "state": {
            "_model_module": "@jupyter-widgets/base",
            "_model_module_version": "1.2.0",
            "_model_name": "LayoutModel",
            "_view_count": null,
            "_view_module": "@jupyter-widgets/base",
            "_view_module_version": "1.2.0",
            "_view_name": "LayoutView",
            "align_content": null,
            "align_items": null,
            "align_self": null,
            "border": null,
            "bottom": null,
            "display": null,
            "flex": null,
            "flex_flow": null,
            "grid_area": null,
            "grid_auto_columns": null,
            "grid_auto_flow": null,
            "grid_auto_rows": null,
            "grid_column": null,
            "grid_gap": null,
            "grid_row": null,
            "grid_template_areas": null,
            "grid_template_columns": null,
            "grid_template_rows": null,
            "height": null,
            "justify_content": null,
            "justify_items": null,
            "left": null,
            "margin": null,
            "max_height": null,
            "max_width": null,
            "min_height": null,
            "min_width": null,
            "object_fit": null,
            "object_position": null,
            "order": null,
            "overflow": null,
            "overflow_x": null,
            "overflow_y": null,
            "padding": null,
            "right": null,
            "top": null,
            "visibility": null,
            "width": null
          }
        },
        "c313d2e600274f16b458726bc03b5845": {
          "model_module": "@jupyter-widgets/controls",
          "model_name": "DescriptionStyleModel",
          "model_module_version": "1.5.0",
          "state": {
            "_model_module": "@jupyter-widgets/controls",
            "_model_module_version": "1.5.0",
            "_model_name": "DescriptionStyleModel",
            "_view_count": null,
            "_view_module": "@jupyter-widgets/base",
            "_view_module_version": "1.2.0",
            "_view_name": "StyleView",
            "description_width": ""
          }
        },
        "0a32b57b43df4a839fd190fe5e462b90": {
          "model_module": "@jupyter-widgets/base",
          "model_name": "LayoutModel",
          "model_module_version": "1.2.0",
          "state": {
            "_model_module": "@jupyter-widgets/base",
            "_model_module_version": "1.2.0",
            "_model_name": "LayoutModel",
            "_view_count": null,
            "_view_module": "@jupyter-widgets/base",
            "_view_module_version": "1.2.0",
            "_view_name": "LayoutView",
            "align_content": null,
            "align_items": null,
            "align_self": null,
            "border": null,
            "bottom": null,
            "display": null,
            "flex": null,
            "flex_flow": null,
            "grid_area": null,
            "grid_auto_columns": null,
            "grid_auto_flow": null,
            "grid_auto_rows": null,
            "grid_column": null,
            "grid_gap": null,
            "grid_row": null,
            "grid_template_areas": null,
            "grid_template_columns": null,
            "grid_template_rows": null,
            "height": null,
            "justify_content": null,
            "justify_items": null,
            "left": null,
            "margin": null,
            "max_height": null,
            "max_width": null,
            "min_height": null,
            "min_width": null,
            "object_fit": null,
            "object_position": null,
            "order": null,
            "overflow": null,
            "overflow_x": null,
            "overflow_y": null,
            "padding": null,
            "right": null,
            "top": null,
            "visibility": null,
            "width": null
          }
        },
        "949033f635114ceeb18c994a68092835": {
          "model_module": "@jupyter-widgets/controls",
          "model_name": "VBoxModel",
          "model_module_version": "1.5.0",
          "state": {
            "_dom_classes": [
              "widget-interact"
            ],
            "_model_module": "@jupyter-widgets/controls",
            "_model_module_version": "1.5.0",
            "_model_name": "VBoxModel",
            "_view_count": null,
            "_view_module": "@jupyter-widgets/controls",
            "_view_module_version": "1.5.0",
            "_view_name": "VBoxView",
            "box_style": "",
            "children": [
              "IPY_MODEL_fa0e858f05914870a5d255c110e7de79",
              "IPY_MODEL_d5f5e12016534397a382f7acb9d4eb1f"
            ],
            "layout": "IPY_MODEL_3abb9f2f94cd411eabe57b40650fb7b6"
          }
        },
        "fa0e858f05914870a5d255c110e7de79": {
          "model_module": "@jupyter-widgets/controls",
          "model_name": "IntSliderModel",
          "model_module_version": "1.5.0",
          "state": {
            "_dom_classes": [],
            "_model_module": "@jupyter-widgets/controls",
            "_model_module_version": "1.5.0",
            "_model_name": "IntSliderModel",
            "_view_count": null,
            "_view_module": "@jupyter-widgets/controls",
            "_view_module_version": "1.5.0",
            "_view_name": "IntSliderView",
            "continuous_update": true,
            "description": "num",
            "description_tooltip": null,
            "disabled": false,
            "layout": "IPY_MODEL_29d51ec9d1fb47eab0c8bb00f06b3ce9",
            "max": 10,
            "min": 0,
            "orientation": "horizontal",
            "readout": true,
            "readout_format": "d",
            "step": 1,
            "style": "IPY_MODEL_6a48a3b47b6a46bb860590ed869539dc",
            "value": 5
          }
        },
        "d5f5e12016534397a382f7acb9d4eb1f": {
          "model_module": "@jupyter-widgets/output",
          "model_name": "OutputModel",
          "model_module_version": "1.0.0",
          "state": {
            "_dom_classes": [],
            "_model_module": "@jupyter-widgets/output",
            "_model_module_version": "1.0.0",
            "_model_name": "OutputModel",
            "_view_count": null,
            "_view_module": "@jupyter-widgets/output",
            "_view_module_version": "1.0.0",
            "_view_name": "OutputView",
            "layout": "IPY_MODEL_66bffdf183d048dea324a5b7fd39922d",
            "msg_id": "",
            "outputs": [
              {
                "output_type": "display_data",
                "data": {
                  "text/plain": "5"
                },
                "metadata": {}
              }
            ]
          }
        },
        "3abb9f2f94cd411eabe57b40650fb7b6": {
          "model_module": "@jupyter-widgets/base",
          "model_name": "LayoutModel",
          "model_module_version": "1.2.0",
          "state": {
            "_model_module": "@jupyter-widgets/base",
            "_model_module_version": "1.2.0",
            "_model_name": "LayoutModel",
            "_view_count": null,
            "_view_module": "@jupyter-widgets/base",
            "_view_module_version": "1.2.0",
            "_view_name": "LayoutView",
            "align_content": null,
            "align_items": null,
            "align_self": null,
            "border": null,
            "bottom": null,
            "display": null,
            "flex": null,
            "flex_flow": null,
            "grid_area": null,
            "grid_auto_columns": null,
            "grid_auto_flow": null,
            "grid_auto_rows": null,
            "grid_column": null,
            "grid_gap": null,
            "grid_row": null,
            "grid_template_areas": null,
            "grid_template_columns": null,
            "grid_template_rows": null,
            "height": null,
            "justify_content": null,
            "justify_items": null,
            "left": null,
            "margin": null,
            "max_height": null,
            "max_width": null,
            "min_height": null,
            "min_width": null,
            "object_fit": null,
            "object_position": null,
            "order": null,
            "overflow": null,
            "overflow_x": null,
            "overflow_y": null,
            "padding": null,
            "right": null,
            "top": null,
            "visibility": null,
            "width": null
          }
        },
        "29d51ec9d1fb47eab0c8bb00f06b3ce9": {
          "model_module": "@jupyter-widgets/base",
          "model_name": "LayoutModel",
          "model_module_version": "1.2.0",
          "state": {
            "_model_module": "@jupyter-widgets/base",
            "_model_module_version": "1.2.0",
            "_model_name": "LayoutModel",
            "_view_count": null,
            "_view_module": "@jupyter-widgets/base",
            "_view_module_version": "1.2.0",
            "_view_name": "LayoutView",
            "align_content": null,
            "align_items": null,
            "align_self": null,
            "border": null,
            "bottom": null,
            "display": null,
            "flex": null,
            "flex_flow": null,
            "grid_area": null,
            "grid_auto_columns": null,
            "grid_auto_flow": null,
            "grid_auto_rows": null,
            "grid_column": null,
            "grid_gap": null,
            "grid_row": null,
            "grid_template_areas": null,
            "grid_template_columns": null,
            "grid_template_rows": null,
            "height": null,
            "justify_content": null,
            "justify_items": null,
            "left": null,
            "margin": null,
            "max_height": null,
            "max_width": null,
            "min_height": null,
            "min_width": null,
            "object_fit": null,
            "object_position": null,
            "order": null,
            "overflow": null,
            "overflow_x": null,
            "overflow_y": null,
            "padding": null,
            "right": null,
            "top": null,
            "visibility": null,
            "width": null
          }
        },
        "6a48a3b47b6a46bb860590ed869539dc": {
          "model_module": "@jupyter-widgets/controls",
          "model_name": "SliderStyleModel",
          "model_module_version": "1.5.0",
          "state": {
            "_model_module": "@jupyter-widgets/controls",
            "_model_module_version": "1.5.0",
            "_model_name": "SliderStyleModel",
            "_view_count": null,
            "_view_module": "@jupyter-widgets/base",
            "_view_module_version": "1.2.0",
            "_view_name": "StyleView",
            "description_width": "",
            "handle_color": null
          }
        },
        "66bffdf183d048dea324a5b7fd39922d": {
          "model_module": "@jupyter-widgets/base",
          "model_name": "LayoutModel",
          "model_module_version": "1.2.0",
          "state": {
            "_model_module": "@jupyter-widgets/base",
            "_model_module_version": "1.2.0",
            "_model_name": "LayoutModel",
            "_view_count": null,
            "_view_module": "@jupyter-widgets/base",
            "_view_module_version": "1.2.0",
            "_view_name": "LayoutView",
            "align_content": null,
            "align_items": null,
            "align_self": null,
            "border": null,
            "bottom": null,
            "display": null,
            "flex": null,
            "flex_flow": null,
            "grid_area": null,
            "grid_auto_columns": null,
            "grid_auto_flow": null,
            "grid_auto_rows": null,
            "grid_column": null,
            "grid_gap": null,
            "grid_row": null,
            "grid_template_areas": null,
            "grid_template_columns": null,
            "grid_template_rows": null,
            "height": null,
            "justify_content": null,
            "justify_items": null,
            "left": null,
            "margin": null,
            "max_height": null,
            "max_width": null,
            "min_height": null,
            "min_width": null,
            "object_fit": null,
            "object_position": null,
            "order": null,
            "overflow": null,
            "overflow_x": null,
            "overflow_y": null,
            "padding": null,
            "right": null,
            "top": null,
            "visibility": null,
            "width": null
          }
        },
        "65fd7405f6514ecc8bcf1c53f7236d9e": {
          "model_module": "@jupyter-widgets/controls",
          "model_name": "VBoxModel",
          "model_module_version": "1.5.0",
          "state": {
            "_dom_classes": [
              "widget-interact"
            ],
            "_model_module": "@jupyter-widgets/controls",
            "_model_module_version": "1.5.0",
            "_model_name": "VBoxModel",
            "_view_count": null,
            "_view_module": "@jupyter-widgets/controls",
            "_view_module_version": "1.5.0",
            "_view_name": "VBoxView",
            "box_style": "",
            "children": [
              "IPY_MODEL_25723f412fdd46fa8b8c77f41d8cc19f",
              "IPY_MODEL_11a08c990a0443a5bbc7df84bd7ddbf8"
            ],
            "layout": "IPY_MODEL_ad3b1bb33b0940f48a1bca461a92f41b"
          }
        },
        "25723f412fdd46fa8b8c77f41d8cc19f": {
          "model_module": "@jupyter-widgets/controls",
          "model_name": "FloatSliderModel",
          "model_module_version": "1.5.0",
          "state": {
            "_dom_classes": [],
            "_model_module": "@jupyter-widgets/controls",
            "_model_module_version": "1.5.0",
            "_model_name": "FloatSliderModel",
            "_view_count": null,
            "_view_module": "@jupyter-widgets/controls",
            "_view_module_version": "1.5.0",
            "_view_name": "FloatSliderView",
            "continuous_update": true,
            "description": "Frecuencia:",
            "description_tooltip": null,
            "disabled": false,
            "layout": "IPY_MODEL_7cdbf2949b1c4c498ee71c712ff578dc",
            "max": 5,
            "min": 0.1,
            "orientation": "horizontal",
            "readout": true,
            "readout_format": ".2f",
            "step": 0.1,
            "style": "IPY_MODEL_974a29544c1740ae9daa4342830b1c0d",
            "value": 4.7
          }
        },
        "11a08c990a0443a5bbc7df84bd7ddbf8": {
          "model_module": "@jupyter-widgets/output",
          "model_name": "OutputModel",
          "model_module_version": "1.0.0",
          "state": {
            "_dom_classes": [],
            "_model_module": "@jupyter-widgets/output",
            "_model_module_version": "1.0.0",
            "_model_name": "OutputModel",
            "_view_count": null,
            "_view_module": "@jupyter-widgets/output",
            "_view_module_version": "1.0.0",
            "_view_name": "OutputView",
            "layout": "IPY_MODEL_51ce9beae7b2410dbe85cd69e94920eb",
            "msg_id": "",
            "outputs": [
              {
                "output_type": "display_data",
                "data": {
                  "text/plain": "<Figure size 432x288 with 1 Axes>",
                  "image/png": "iVBORw0KGgoAAAANSUhEUgAAAXwAAAD4CAYAAADvsV2wAAAAOXRFWHRTb2Z0d2FyZQBNYXRwbG90bGliIHZlcnNpb24zLjUuMywgaHR0cHM6Ly9tYXRwbG90bGliLm9yZy/NK7nSAAAACXBIWXMAAAsTAAALEwEAmpwYAABMsUlEQVR4nO29eZAj2X3f+Xm4CyjUhaq+q6qne+6jOUfPkENKFCWRXFJLkRK5WpMO2zp3JK+0slZreyk7wofCDsuxDq18KOSgSNmULPFYUlyOyFnxEGmNeMxwuufomZ6e7um7qq+6C0DhBt7+kXgAuqqAyhuVifxEdExVAoPMesj8vd/7/o4npJQEBAQEBPifUL8vICAgICDAHQKDHxAQEDAgBAY/ICAgYEAIDH5AQEDAgBAY/ICAgIABIdLvC+jF5OSkPHz4cL8vIyAgIMAznDx5cklKObXda7va4B8+fJgTJ070+zICAgICPIMQ4kq31wJJJyAgIGBACAx+QEBAwIAQGPyAgICAASEw+AEBAQEDQmDwAwICAgaEwOAHBAQEDAiBwQ8ICAgYEHxv8G+sF8mVqv2+jL5RrtX5y9duMMhtsE9eWeHFq6uunW+jXNtV411vSD73wlVK1bor58uWqrx2bd2Vc+nl2lrR1Wv61hu3uL5WdO18evG1wS9V6/zkf/wO//IvXnflfJVag6dfuU6l1nDlfHr4zPNX+ZX/9iLfv7Dsyvn+6DuX+NdfdWe89SCl5Dc+9zK/+bmXXTHCl5c2OP6vvsnTr1x3/Fx6efbNRf7PL77Knz5/1ZXz/fMvn+Yjf/A91yYYPfyLp0/z0U88x0a55vi5bqwX+cVPn+Dff/NNx89lFF8b/K+dvslSvsKz5xYdf9illPzWn7/Kr3/mJf7qzC1Hz2WEr5y6AcBfn1t0/FyvX8/yr585w588d4V6Y3d4uBcW88ytFLm8XOD8Qt7x8/37v3qTYrXOcxfdmWD1oCZ7NyahhVyJr5y6TrnW4NVd4uVLKTlxeYV8ucZfuDAG/+9L15ESnru0e+4Bha8NvvJoFnJlLixuOHqu//BX5/nii/MAvHEz5+i59HJ9rciJK5qU4bTBr9UbfPzPT1FvSErVBpeXnR1vvXzrjYXWz19/3dmJ+PxCji+/fA2AU/O7w9gBfO/CEkLAK3NrXHH4e/nM83NU69pk/+IV92S0XlxY3GC1UEUI+LMfOLvKkVLy5y/OIwRcWS5wY313yTq+NfjnF3L84NIKH3tiGoDvO+hxfemlef7vb57jw48eZDaT5M2F3WHwn3lV8+4/+vg0b9zMcStbcuxc//V7lzk1v87ff9dRAM7cyDp2LiN8640F7t2X5i3TY44b/N/75pskomE++vg0527ldoWksVaocPp6lo8+rj0HT7/snIdbrTf40+ev8M67p5jNJF2Nm/Ti5JUVAP7OW2c5Nb/uqJZ/+nqWNxfy/O0nZgB4/uKKY+cyg28N/md+MEc0LPg/3nsP+0cTPOeQhn1+Ic8//sIpnjyS4Xc+fIx79qY5u0s8/K+cusEDB0b4e08eBuBZh7z8q8sF/t3Xz/Lu+/bwG+++i0hI7AqDny1VOXF5lR+7dw/vvX8vr8ytOTbpvXEzy1dfvcHPv+MwP3L3FNW63BX3wXMXV5ASPvLoIZ64Y4Ivv3LdMXnzL1+7yUKuzM+9fZZHZ8Z58erarghen7i8ylgyyj987z0koiFHYxlffHGeWDjEP3zvPYwkIrtK2gObDL4Q4o+EEAtCiNe6vC6EEP9BCHFeCHFKCPGoHeftRqla54svzvPeB/YxORznySMZvn9xmYYDuvIPLq1QrUv+7UeOEYuEuHtvmsvLBcq1/np3cysFXp5b4wPHDnDf/jRT6bhjss6/+/pZwkLw2x96kHgkzJ17hnn9ev8N/t+cW6LWkC2DD/ANh7z83/vGmwzHIvwvP3yEhw6NAnBqF2jY37+wRDIW5tihMT74lgOcX8hz5oYzE9Gnv3eZ2UySd929h0dnxljMlZlf7b+kcfLKKo/NjDOajPKTxw7w5ZevOZK5V603ePrl67z7/j2Mp2I8cUeG5y/508P/r8D7erz+fuCu5r+ngD+w6bzb8v+9doO1QrW1rHryaIaVjQrnHJBazi/kGYqGOTQ+BMDd+9LUG5KLDscMduKrTTnnA8f2I4TgnXdN8Z3zS44EU0/Nr/Gue/ZwYEwbg/v2jzhmVIzwrTcWGEtGeWRmnDv3DHM4k3TE4M+tFPjL0zf5+R+6g7FkjINjQ0ykYry2C3T8715Y5vHDE8QiIX7iof1EQoIvv3LN9vO8dm2dE1dW+btvmyUUEjwyMw7Qd1lnOV/m4tIGjx3Wrudvv3WGQqXOlx2Qtv7mzUWWNyr89COHAHjbkQkuLW04KqUaxRaDL6V8Fug1lX0I+GOp8RwwJoTYb8e5t+PPnr/K4UySJ49kAM3gA46kJp5fzHN0T4pQSABw995hAM7d6q/B+8qp67zl0CjTE0kA3nn3JGuFKqfm12w9T6XWYG61yJGpVOvYffvT3MyWWN2o2HouIzQakr8+t8CP3D1FOCQQQvDeB/bxvQtLtnt3Srr50Xu0PSeEEDx4cLTvHv5CtsT5hTxvb97/E6kYP3zXJH/x8nXbV7tfODlPIhriZ45rsYJ796VJxsK8dHXN1vMY5WQzcHx8dgKAh6fHuG//CJ9xIHj7xRevMZGK8SN3a/fB25r2ZzfJOm5p+AeBuY7f55vHtiCEeEoIcUIIcWJx0bgEkS/XWCtU+dgTMy0jfGg8yfTEkCMG/8JCnqNTw63fj0wOEwmJvhr8y0sbvHYtyweOHWgd++G7phACnj23ZOu5rq5sUG/I28bgvv0jQH8Dt6eurbOUr/Bj9+5pHXvP/Xup1qXt0talJW01d8dke9I7dnC074Fblajw9qOTrWMfevgg19dLnLTZ8z53K8d9+0cYHYoCEAmHOHZotO8e/skrq0TDgmNNmU0IwXvv38vp61lbv5tStc43Xr/FTx7bTyyimdX79o+QTkR4bhcFbndd0FZK+Qkp5XEp5fGpqW136erJcDzC1//3d/ILP3THbcfffmSS5y4u2yppFCo1rq0VubPD2MUiIQ5Ppjh3y/mc725894Jm1N/7wN7WsYlUjGMHR/nrcwvd/jdTnF/QjN3tHr5m8F/vo8H/1hsLhAQtbwvg0ZlxMqkYXz9tr6xzcWmDiVSMsWSsdeyhQ6PUG7Kvk973zi8zkohw/4GR1rF3NVchL9vseV9e2uCOTOq2Y4/OjPO6zYbVKCeurPLgwVES0XDrmLpXr64UbDvP3EqBSq3Bo7PjrWPhkODxwxM8v4vy8d0y+NeA6Y7fDzWPOYIQgmj49j/tyaMZsqWarQ+g0unv3DN82/F79qb76uHfXC8REtrKppMfuXuKl+fWWC/YJ2lcXNImtk7vdnI4zp50vK8G/9lzizwyM36bEQ6HBG+/c9J2r/PSUv62vx/goYOaR9nP4qPvXVziyaMZws2VLsBYMsZYMmprnUSpWuf6eonDk1sNfq0h+1aTUKrWeXV+neMdRhjgcHNiUiszO7i8XLjtsxVvOzLBxcUNFnaJju+WwX8a+HvNbJ23AetSyhsunRtwRse/sKgZu6ObDP5de4e5ulKgWOmPZ7OQLTM5HL/tQQd48ugkDQkvzdln8C4ubrB3JE46Eb3teL8Dt/OrBe7em95y/I5MkutrRVvbX1xa2thi8PePJpgcjvFqn4zd3EqBuZXibXKOYnYiyZVl+7xb9VmbDf4jM2NA/wK3r11bp1Jv8FhTv1coo2xnEZr6rM0G/613aHZnt2Tr2JWW+Rng+8A9Qoh5IcQvCiF+RQjxK823PANcBM4Dfwj8r3ac1wh7RxLcMZnihcv2Dfz5hTzhkGA2c7snfc/eNFLiSin/dtzKldg7kthy/KgDS9kLi3mOTA5vOX7f/hHOL+T60leoVm+wvFFhTzq+5bWZTIqG1Jpp2cFGucatbHmLwVeB2355+Gol+/D02JbXZjMprqzYZ+xaMYxNxi4zHOdwJtm3iltVZf7YJg9/NBllPBnl0pJ9z8Hl5Q3GklFGk7c7Pg8cGCEVC3PCRrtjhYgdHyKl/NgOr0vgV+04lxWOTg3bauzOL+SZmUgSj4RvO35X07M8dyvXysl2k4Vsmf2jWw3+VDpOIhriqk3enZRa+ukHjm1NuLr/wAjVuuTCYr6l6bvF8kYFKWHPyFaDrybnK8tbvXIzKGN3ZJvPOnZwlGfPLVKs1BmKhbe87iSL+TLAthP/4UySr5zSmvypAKMVlDx0eDK55bVHZ8Z59s0lpJQIIba87iQvX11jNpNkapuJ//Bkist2SjpLBWYzW++BSDjE9ESS6+uDJensCmYmklxdKdhW/Xdh8fYMHcXhTJJYONQ3HX8hV2LPNg+6EIKZiSRXbJr0VjYqrBerHNlmDO7fr016/SjAWshqxm5qeBuD30xTtWviv6gM/jZj8NChMRqyP8HrpZyWEpsZjm15bba5yplftWcMLi9tMDkc2yLrgTbxL+XLrNkYN9LLjfUiMxNbJyHQpBc7JZ3Lyxsczmx/rsnhOEvNCbjfDJjBH6JQqbNsQ354rd7g0tLGloAtaLP6kalUXwx+td5gKb+9nAHapDdns7E7OrXVszmcSRGPhPqSpbKQ07yp7Sa9qXScoWjYNg370uIGQrBF1oOOwK3NtQ96WMyXGE9GtyQvQNsTt20Mlja2aNcK9R0sb7hv8JbylW0nfdDuz+vrJVsyiMq1OtfXitt6+KDdc4u5wOC7zkzGPu/u6kqBal1ua+wA7tmX7ktq5lKPpTzAtI2rnAvNGMV2q5xIOMQ9+9Kcuem+wVcP13ZL+dYqxzZjl+fA6NBtaX+KvSNx4pFQX5bzi7nytn8/wMyEds/alalzeXljS8BWMZmKNa/H3SI8KSVL+fK2Kxywd9KbXy3SkPTw8GMs5cu7oq/QYBn85vLODg/3QpeUTMXde9NcW3N/t61bTTmjm4c/O5GkUKmzlLf+AF5c2iAWCbVaKmzm3n1pzt50f9JbaBr8yS4P+0wmyVWbgpaXljZuq0HoRAjRt+X8Ur7CZBfvdnI4RipmzyqnUNk+aN06V/M+dNvDz5drlGuNrmOgViR2THpKGurm4U8OxylVG2z0KWuvk4Ey+Cov3Y6gpcrA2ZySqVApgW+6nKmj8n27efh2rnIuLuY5Mpnakv6p2DeSYHmj7PpmKIu5MmPJ6JZgumLWplWOlJKL26RkdpIZjrFsw+RqlF4evhBCy9SxwdhdXto+/1yRaXr4Sy5LGsqh6Wrwm9+ZHYFbNQbd7gP1PewGWWegDH4iGmZPOs6cDcGq8wt59qTjjGwTqIK253/J5SZqt3JK0um9nLfDw72w2N27Ba26V0pYLbhr8BZypa4rHND09lK10VoJmGV5o0KuVOtt8FMxVvrQU2gxV+5q7ECTNOzw8Htl6ACMJ2OEBLbEzYygVlWTXe6D0aEoE6mYbR5+OhFhPLm9LVDfw24I3A6UwYd2po5VLizmu8o50JYT3H7YF7NalW2my8N+aHwIIeDqsrU89EqtwdWVwrY5+Ap1Da6PQQ/vFrRcfLCu327XQ2czE6k4yy4/6BvlGsVqvecYzGZSzK0WqNWt1UmoMejm4YdCgomU+7LW0g6yHmgT/2UbcvEvLxc4nEl1TTttGfzAw3cfLUvFmrGTUm5pmraZ4XiEaFi47tnc6lJlq0hEw+wbSVie9K6uFKg3ZE8PXy3n3ZY0FnJl9qS3l7SgnZppVdJQq7dek97kcIyljYqrAbtW0LqHhz87kaRal9ywGFC+vLTBnnScVLx7Sc/kcMz1oO1S87nrNQZ3ZFK2efjbZWkpWpJO4OG7j1YEYa20fiFXJleu9fTwhRBMpGKutwjWcvC73+SgMnWs3eitthI9Jr2JPqxypJQ7evgHx4cIh4TlSe/i0gbRsODg+PZBa9A0/EqtQb5cs3QuI+wkZ0A7wGjV4PXK0FFMDsddD9oqb3o81d3DPzyZ4sZ6yVILlGq9wfxqsesKBzRpMyQCD78vzEwkkRZL63ulI3YykYr3xcPf28O7hXbQ0gqqcdxOGj7AiosPe7akZWf00vCj4RAHx4ZaDa/Mcmkpz2yme9AaIJNqZqm4uMrR4+HblZZ4aamwpaXCZlRaopss5ctd6xAUszYkMFxfK1JryJ4efjikOX+LfQjeb2bwDL4NX3K7urL3jT6RivYhYFne0cOfmUhyK1u2VHRycTHPVHpr07ROxpudKt2c9BabRVe9PHzQHvarViWdHTJ0oF3p6uoY5LvXISj2phPEIyFLslauVGUpX9bn4bts7JbyvYPW0I69WOma2Yph6BiDIEunD8zYUFo/v1okGhZdUx8VE6m4q3KG1jSst34N7UnPSj3CxaWNbfvHdBINhxgdirr6sC/0KLrqxGqLiXpDcnm5sOMYtD189x72pVyZkGivsLYj1Gz6Z2WVo1YHd3TJ0FFkhuMUKnUKFTdlre51CAo7ZC01Br08fNDuxyBLpw9MDceJRULMWzL4BQ6MDfVcygNMJKPuPuj57k3DOrFj0ru6UuipWyrcTktUXtROk95sJslaocp60VxhnGqxvFs9/IlU98C9YmbCWi6+fu/W/eD9cr7cM4YBHamZFjz8y8sbJGPhnvIZ7J5+OgNn8EMhwfT4kGUP/1CPQJ1iIhUnW6pRtZj6phe1WfJOGv7MhDX9tlSts5gr6xqDzHDM1YBdr7YKnbTqEUyOQTv/fCdZTxk7N8eg0jMdUXE4o+Xim93fVhnK2Ymd5QxwN0tlKV9pZYn14nAmadnDn+2RkqlQ/XT63V5h4Aw+WM/Fn18tcmis9xIONA0f3Cs8WmgVXe0kNcUYjkdMj4EKeB+a0DPpuevhL+TKxCMhRhK9O3+32iSbzFaaX9XGYLpLN0ZFIhomHY/Y0spCL4v53llKitnJFOWa+QK0S8sb7B9N7Nj62e089FK1Tr5c0zUGWptk87bg8vLGjpIWaKucssvZWtsxuAZ/2VxpfalaZymvz7udaOq3qxvu9NNRHv5Oko4QotVEzQzK2G3eQnE73I5jqJTMnTwuq6ucuZUCkZBg3w6TK6hVjntjsLRDWqpCNfsy6+HOrRS6th/uxG1Za1FH0ZXicCbFzay5rpn1hmRuZfs++JtR34ebE/92DKTBn55IkivXTOm3ej07gPGmh++WpLGgqmx1LGWtpGaqPuq6JJ1UjNVC1bRsYJSd2iooUvEIk8Nx05LO/GpRVxwH1CrHnXtASql5+DtoytDRQMykhj23UtQ16SuD75aH36pD0DEG081Vqpm9Aa6vFanWZauQrxctWavPmToDafCtBC2NGTt3PfyFXJnMcJxIj9xjxUxG64tvxhDPrTSzlHaIFYBm7OoNaTo4apSFrD7vFjRZx7ykU9B1D4CWpeJWwDJbqlGpNXSNwf7RBBGTBWjlWp1buVLLYPYiHgmTTkRc8/CXd2ic1sl0c8KaWzVel6N6culZ5eyWfjqDafBbaYnGv2Qjcoby8N3y7m5lS12bpm1mZiJpWr+dXy1wcGyIkA7vtr2cd2cMFvM7p6UqZpvSnhnmdAbuQRUeuS1n7HwfRMIh9o8lTBm762slpNT3HICWHedW0FYZ1W698DtRK3UzWXvzK/ptQVvSCQy+66hZ3YxnM7daIBoWumQDVXi04qKHr9fYWVvl6FvKQ2eWivMGr1yrs1ao6vbwpyeS3MiWDLfZUFlK0zrHIJOKs7JRdkXWWtJRdNXJ9Li5HdDUSnda9yon5lqmkhFJR6Vpm/XwQwL2j+38zKmuoYGk0wdS8QiZVMy0sdPr3UbDWraIex5+2ZCHD+YaiOlNS4W2rOVG4FZ50XomY9AMvpk2G61Vng45AzRj15Cw5oKspTctVTE9njSlX6vVsZ5YFqg8dHdWOUv5Cul4ZNtdyDYTCgkOjQ2ZHIMC+0eHerZvUIT71DV0MwNp8MF8AzEj3i1o+u2KCxs4662yVRwYGyIkjGuXxYr+LCVwN0NDbf6i19iZ3QGt7d3q9PBbbaKdf9iNeLegBS2X8hXDVbBqpbtTCrBCa6/gnqy3U9FVJ4dMdtCdWy3qimEotFz8IEunL5htk3zNQLAOYDwZdelB11dlq4hFQuwfHTJs7K6tNY2dTs+uLWs5f6PrrbJVqIfV6IY4RuI40LHrkwse7mKuTCQkGBvq3uOok5aGbXDiN5KlBNrEv1qoulKEuJwv60rJVBwaHzK1KdLcSkH3pA/NNtF+8PCFEO8TQpwVQpwXQnx8m9d/TgixKIR4ufnvl+w4rxVmM0murRUN3YDF5l6weo0dqA0wXPBuc/qqbDsxU4A21zJ2+ia9WCREOhFxxeCrALTeSW9vOkEsHDIxBgVi4ZBu6SjjYmsBtdOVHskR2pOW0Yl/bsWY4zM57K60p3eFA9pKba1QNbT/dKlaZyFXNmQLpobjfW+RbNngCyHCwO8D7wfuBz4mhLh/m7d+Tkr5cPPfJ62e1yrTE0nqDcmNNf0bQCjv1siNruWhO3+TtzYv12nswJzBN+rdgjYGbkg6i7kyQmcdAjT12/GhVraFXuZXixwc1xfHgY4Gai5JOpNp/d5ta5VjQtYy6t2q63OapXxZV4aOop2Lr/8+aNfjGJN0lvL9ba9gh4f/BHBeSnlRSlkBPgt8yIbPdZTWrkcGdHyj3i1oGzCsuLDjUcvD16mpgpaeupgrG9oAYr7p3eop7FFMpNzJ0FjIlcmkYrrqEBRmKo6NBK1Bk/WEcEnS0Vl0pZgajpOIGstSUStdMx6+02NQrTdYK1QNe/hgbNIzGscBbQzKtQa5PrZXsMPgHwTmOn6fbx7bzEeEEKeEEF8QQkx3+zAhxFNCiBNCiBOLi4s2XN72mOmLb9a7rdal4z00lprBIL3eLbT1WyP65fyKMe8W3GuvsJgrGXrQQfPQDGv4BuWMSDjEeNKdatudNi/fjBCCQwZTM1vGzoCcoQLXTk/8RoquFOq7NOLhzxmouFeolVc/ZR23grZ/ARyWUh4DvgF8utsbpZSfkFIel1Ien5qacuyC9qYTxCIhQ4U38yvGvdvxlDtBy/VileF4xJB3ayZLxUiFqWLSpV4yi7kyewyscKCt32Z16reFSo3ljYqhSR/UKsfZMWg0JMv5iu4sJcX0+JAhD9+M4+OWpGM0Swm07yYZCxt0fArEIsZswdRwonmN/cvUscPgXwM6PfZDzWMtpJTLUkr1TX8SeMyG81rCTJtko9ottD1uNwz+qM7MDIUqmjE6BmaM3aoLstZizpicAcYnvXkTsh404xgOP+hrxSq1hjRu8CeSzK/obyY4Z7DoCmA4HiEWCTk+Bu3CM/0rXSFEswDNiIevOT5GbIHy8PtZfGWHwX8BuEsIcYcQIgZ8FHi68w1CiP0dv34QOGPDeS0zM5E01C3RjHfrpoc/YtDgT6RipGJh3Qa/7d0aG4OJVIxaQ5ItOitrrRaqrZbUemnJWjof9nYvJWOT3uRwnCWHJR0z3i1oqxwjzQTnVgrEIyFDE4sQwpX2Csp7VoFyvRwaN1Z8pbdxXCdTu6CfjmWDL6WsAb8GfA3NkH9eSnlaCPHbQogPNt/260KI00KIV4BfB37O6nntYDaTYs6AZ2PGu3XLw88Wq4wO9e4BvxnVJtlx79aFfjqVWoNitc5Ijz12t2PapIdvJDsDVGsBZ+8Bo1W2inamjt5JT1vp7tSCejNu9BRqTXpmVjmrRUOrHCMrHNBqUsIh0VeDb8xCdEFK+QzwzKZj/6zj598CfsuOc9mJapO8Vqi2PPFumPVu3fLws6Wqrq59m5mZ0L/jj1nvdqKjvcIRh8IyyjsdTRoz+KNDUUYSEd36bcu7NehFZ1Jx1ota4ZGeUnwztD18/XIGdOTirxZ46NDoju+fM5iSqcgMx1t7NjjFUq5MIhoitcOmLJs5ND5EXqctyJWqrBWqhgK2oMnIE6mY5yUdz9LqJ6PDu7tm0rtNxcLEIiFWHM7FN6PhQzsXX49nY9q7daHSVAVdzYyBkdRMs96tWuWsOjjxZ9WkN2TM4Btd5cytGGspoNA8fIezdDa0oiuj34+RiuNWHyETk56bPYW2Y6AN/qyB1EwzmQmgySYTyRgrDn/Jpg1+Jkmp2tClrc6vFk15txMurHKUh29U0gHVZkOnsTPr3bow6bXGwKC0Z2SVky1pG78bfQ6gvS+Ak8H7pbyxtFSFcuT0jEEraG1i0hsdiujOCHOCgTb4rTbJOiQNM5kJigmHq22r9QaFSt20dwv6vLv51YIp77Zt8J3z7rItY2duDOZXi7raFxstulK08tCdHINSjUQ0RDxiTM4AmrGcnb3beYvebc3hzXBWNiqt+80IRp4D9R4zYzCSiLbu1X4w0AZ/KBZmTzquy8M/v5AnHY8YDohBMwfbBe/WqH4Nxvrim8lMAG0j7+G4szsetcbApMEv13Ze5ZjVbsGdfjrrhaqpFQ40++Lr8G6N7Pi2mYnWhkDO3gdm7oGRRJTRoaguSWd+tchwPMKYiedtZCgw+H1Fb2rm2Zs57tw7bNi7BbWn6e40dgfH9GVoSCm5vLSha//O7XB6DLIm5Qxor9p28u7MZikBTLb66TgbxzBzD4AmT+hZ5ZipMFWoa8uWnEvPzZo0+KC/a6ZqHGfGFowORR39+3ciMPgZffrtmwt57tmbNnUOtwy+GTkjEQ2zbySxo4d/ba1Irlzjnn27cwzUQ2TGw53WucpRr5tZ5YwMRYg4nJJnphZDMT2RpKJjlTO3UiAZCzNuxrttfjdOebiNhiRXrjGSMJd8qHf3r7nVgqkJD7QxyJdr1FxoE70dgcFvbnNXrnVvILaUL7OyUeEuCwY/19xc2gmsePigr2vm2Zs5AO41afCdrjRdL1aJR0K6djnazMGxIYTYeZWjxuDOPcOGzyGEYCwZc1S/tuTh62wgNr9aZHo8acq7HWl5+M6MQb5SQ0pzjg+0Vzm9gspSSi1LycSkD+0VaK5PXn5g8Jvb3PXS7s7d0h70u/caf9ChnYu/5lDgNmshQwXQVXz1RtPY3W3Bw3cyYLleMG/sEtEwe9OJHZfzZ25kmc0kGY6b8yBHhiKO6rfZogXvVmcjvTcXctwxmTJ1jraH74yxs/oczDRjOTd71AqsbFQoVuumZD3olLX6o+MPvMHXk5p5Thk7kx6+SslzSr/N2uDh38yWKFW7r3LO3sxxcGzI9MM0Mexsm2gr3i3oW+WcuZHl/v0jps8xknBWvzUbsIR2XOLqcnfHJ1uqcmW5wIMHzY2B8m6dMnZWpE2A+5rf7evXs13fc2lJy+hTdsMo6vlxcqXXi4E3+C39tkfg9txCnpFERPcOR5tRaWJOFd1YlnQyQztu5n32Zs60fg9aWXm1LilVnZO1zD7ooG1IPt/D4OfLNa6sFFpGwQxOZmg0GpJcyfwYJKJhZjNJztzobuyUIXzg4M7VuNsxFA0TDQvHjJ1aOZgJ3INm8IWAV6+td33PqXnttQdNjkFL1nK4r1Q3Bt7gTw3HGYr2biD25i3N2JnRLaFt8J3y8NeLVYaiWkWvGXZKzazUGlxYzFsy+OmE896dFQ//6NQw19dLXY3R2ZtZpMSawU84V3STr9RoSPNyBsBbDo3xyvxa19dPK4N/wNwYCCEczUNXY2t2DFLxCEenhnntWvdJ79Vr6+wdiRvaaKiTQNLpM0KInqmZUkrO3cqbDtiC85WmVo3dbEbTZC8s5Ld9/eJSnlpDmg7YgvMZGlYlnUemxwB4eW5t29dfv6HJevfttzAGQ1HH9WsrY3Ds0Cg31kut3dM2c/raOnvScd2bxG/HiINpiXaMwYMHRnitp4e/xkMHx0x/vlp9BJJOH5nJJLm0tL2xW8yVWS9WudtEZobCaWNn1eBPDseZnhji5JXVbV9X2SlWPHynMzS0oiPzvQCPTY8REvDS1e3H4MyNLCOJSKtuwQyahr875QyAtzQnvVNz2xu809ezpr17xUjCucC1VQ0fNKnmZra0bYOzXKnKxaUNjuloMNcNp23BTgQGH3h4eowLixvbbr929pa1gC1ALBJiKBp2bC9LqwYf4PHZCV64vLJtUPWNmzkiIcGRSSuTXlPSccDDVfnXVsZgOB7h7r1pXry6tu3rZ25kuXf/iGlZDzRjXKk1egbHzWKHsXvgwAghoXmxmylV65xfzJvWrhWah+/UKq+GEJA2mUUF8MAB7e87fX3rpHf6uibr6eko2o1kLEwkJAJJp5+87UgGgOcvrWx57dwtzfO3IumApmE759nULD3oAMcPT7CUr3B5G2nr7M0cR6eGTccIwFkPP1e2ln+teGRmnJevrm6pNm00JGdv5ixl6ECHd+fAGFjVrwGSMW3Se2V+q7F742aOekPa4OE7qOE3t/k0sgvVZh5oZiBtJ+u82hyXhyxMekIIRoaigaTTT44dGiUZC/P9C8tbXnvzVo6JVMxwj/HNOOrZFKuWlvIAjx8eB+CFy1snPasZOuDsUtZK47ROHpkZI1uqcXGTvHdlpUChUrek30Nnhob9Y2A1U0uhArebV3rK41UesFk0Y+eQhl8y30tIMZKIcjiT3DZwe+raOgfHhkx147z9HJEgS6efRMMhHj88wfcvbjX4527luGuPuR46nTj5JVvpH6K4c88w48koL2xa5WRLVa6tFS0b/HaWjv1jYJexe3RGm/Q2yzoqVdFKhg60ZS0nDJ5dk96x6VHWCtUtVcevXcsyOhQ1XXCkGHGwPbAdzwFoaaevbSPpvDq/Zkm/V4wGHn7/efJohvML+dsyFKSUvHkrb0m/Vzjl4ddt0K9BW2o+NjvBiU2B23MWWyooEtEw8UjIGTnDYoWl4shkipFEZEvg9syNLOGQsHwfOClrZYtVy/o1aB4+sCU98/Xr6zxwwFoMA7TvyKk4RrZYs7zSBU2ymV8t3lY3s16ocnlZ345gO+Hkan8nAoPf5Eml419se7g31kvkyjXTLRU6SSeijvTPsCMVTfH44XEuLW3clqHwhg0ZOgqn0hLt8vBDIcHDM+O8tI2Hf2QyZapPTyeOylqlGmmL+jVo33MsErotcFutNzhzM2dZvweHJz0bJB2AB1uB27aso4qxjllIyVT0syd+YPCbPHBghOF45DZZR/XQsRqwBefS0ewydqAFbgFOXmlPemdv5kjHraUjKtIOFR61tjc00cFxM4/OjHH2Vo58R0bV69ezluUc6Gwt4MzEb1XOAU3evH//yG2B2wuLeSq1huUMHXA2W8uuMVATW6esc+raGmAtYKtwMo6xE4HBbxIJh3jijgme6wjcvtLMR7ZT0rG7l4ydBv+hg6PEIyF+cKktaZy9meNuC1XGnTjl2bS3N7S+nH9kZhwp4ZVmAdZaocL19ZI9Bt9BD9+O1FzFw9NjvHZtnXozW0kFMO3w8J2sNM2WarZ4+OOpGIfGh25rsfDq/DqzmaQtToWTcYydCAx+B08eyXBxaYNb2RKvzq/z+//9PD9816SpLdM2M5KIOtJLxk6DH4uEeHh6jBNND/+VuTVevbZuOTtF4VSVZbZYIxwSprtYdvJws/hI6fhqWW/HGCSa7S92s5wBWtZaoVLnfLPy+vT1dYaiYe6wUIehUB643UHLWr1B3oZYluLBA6Oc7jD4p+bXbfHuwdk4xk7YYvCFEO8TQpwVQpwXQnx8m9fjQojPNV9/Xghx2I7z2s2TRzUd/6unbvDLf3KCqeE4v/e3Hrbls1WWSs7mh92OgptOHj88wenrWb52+iYf+8PnyAzH+OV3HrXls0cSEXIOebcjiYgtq5DRoSh37hnm+Usr/Oe/vsAv/8lJUrEwx5rBTKtoqxxn4hh2BCyB1t/6+RNz/O43zvHMqze4b3+asMX4ADi3ylHxMbvG4MGDI1xeLvC7Xz/LH3//MtfWirZk6EDHKqcPOr7l0RFChIHfB94DzAMvCCGellK+3vG2XwRWpZR3CiE+Cvxb4G9ZPbfd3Ld/hJFEhH/11deJhkN88e+/vbX5tFU6g1V7TDZe2g47PXyA44fHqX9b8st/cpJ796X54194wrbrdSo7wWqnzM08Mj3G/3Nynr95c4l337eHf/IT99myygPnlvPZon3ercpW+tR3LhEScM++EX7xh47Y8tlOxTHsKDzr5Efv3cNnfjDHf/z2eZQKq2JcVnHKFujBjunwCeC8lPIigBDis8CHgE6D/yHgXzR//gLwn4QQQjrVHN0k4ZDgiTsyfPPMLf7Nhx+yJUilcCoHuxWwtOlhf2x2nFQszAMHRvnDnz1u2+eCc96t1cZpm/nIY4e4vl7kl995lHfePWXb54JzcQw7JZ1QSPDHv/hWcqUqD0+Pkbbpc8E5D7/dS8iea33gwCjf/fiPUak1uJUtUajUbclUg05b4EEPHzgIzHX8Pg+8tdt7pJQ1IcQ6kAGWNn+YEOIp4CmAmZkZGy7PGL/5nrt5/4P7+PCjh2z9XKfS0daLVWImt/bbjnQiyrf/0bsYT8aIhu0N8YwMRajUNe3SrusFewOWoLXaUO027MaJsvpqvUGhUrd1DFQsw26cimPYvdJVxCIh0/vXdqMt6bifqbPrgrZSyk9IKY9LKY9PTdnrXenh/gMjfOQxe409tGd1u3Px7aou7GRPOmG7sQfnesloGr69Y+AUTsQx7KqydYtRB+oxWpKOTRq+kzjdObYXdjzV14Dpjt8PNY9t+x4hRAQYBbb2MfAxTi1l7fZunSTtUA521obmcW7hRBzDKe/WKZyoSbGr2toNRh3KVNKDHQb/BeAuIcQdQogY8FHg6U3veRr42ebP/xPwrd2m3zuNk5KOZx50B8ZASmlL8zi3UHEMO2//rM0ZKk7jxKTX9vB3/7PQdnw8aPCllDXg14CvAWeAz0spTwshflsI8cHm2z4FZIQQ54HfBLakbvqdeCRELByy3bv1lMF3YJVTrjWo1BveGYNmHKNcs68eY91D3i04E7heL1YJhwSpmH2xIaeIR8IkoiFHN7Tvhi0ugZTyGeCZTcf+WcfPJeBn7DiXV9H6YEccycO/c8p6QYwbjDqQkuc9OaM96dkVuLazn5IbjAxFe+4hbYZssWZbLYYbjA5FWS940MMP0E86YX+l6XphsD18z3m3DshaXpIzwCENv2RvLYbTOLndZS8Cg+8idt/odmzt5yaOGDuvebcO1GN4bZUz6kBfqayHMrXAmfRcPQQG30XsDlbZtbWfW6g4hp2pqV4zds5MejVi4RBxC1tQusnIkNZXqmhjL5lsyTuOD7QnPbfxxh3iE0Zs7onvNe9WxTEckXQ8MgZOyVojQ1HP6NftMbB34vdKlhL0b5vDwOC7iN0bmXvNuwX74xhem/Sc6CWj6dceMnatMbBX2gsknZ0JDL6L2C3peNHg2x3HUFq4Hb3w3cAJD99zxs6JMfBY0HZ0KEquVKXRcLccKTD4LjKSiFCqNqjYlIPdMvg2bMrgFnZPetlSlVQsTMSBVhBO4EQvGSfaaziJ3ZuglGt1StWGZyZ90Ca9hoSNiruyjjeeEp+gPBC7cvG9lpII9hfdeKnwTGF319BsyTutJaAjcG3TGKjP8dJ9oGQtt2WdwOC7SKuk2ib91pOSzlDE9sIrLxk7sL8nvjbpecm7tdfYea0OAfrXMTMw+C5it3aZLVaJhARJD5STK+z28O3auNpN7ByDVi8hD63y0g48B+C9lS4EHr6vsTsHWwWqvJKOB9oYlGsNyjV7crA9KenYuLdvoVKn1pCeGoNYJMRQNGzjc+Ct5nHQvxbJgcF3ETWr25WLr/qHeAm79wXwmncL9vbE96KcAU1ZyzYN33vSZr/2tQ0MvovY3RY1V6rauv2cG9i+nPdYhSXYm6nU2trPY/eBnZWmXk1egEDS8TX2Szo1Ty1jwd7Co1q9Qb7swTGwsSe+FwP3oI3BIAdth21O4NBLYPBdJBULExL2ReZzpSrpuHducrA3cJ0ve9O7tbMnfnt7Q49NejavcrzUSwggHBK2V97rwTsj5AO0XjJR2/Lwta39vPeggz2rnFwrWOcxg2/jpOddD99GDd+DyQvgzEYwOxEYfJdJJ+zLQ8+VvBiwtC//WBm7tNcC1zZOeuozvBbLsdPD91rjNIUTWz3uRGDwXcauWb1Wb7BRqXvwQbevcVZLu/XaGNjYEz/rsV5CitEh7TmwI47hxUwt0HaAC4K2PseunW5yHsw9BhiKhomEhC2ylhqDQfbwc6UqSQ/1ElK0e8lYr8fwWmsJRdrmdul68NZd4gO0fW2tf8ltY+etG13FMeyQdLyYfw32avhZD8p6YG8vmVyx6rkVDgQa/kCQtulLbssZXrzR7ekl410P376UPC8G7qEjD92Gjby91hpZYXdfKT0EBt9lRmzaAMSrwTqwf9IbjnvL4Nnp4efK3iu+A/s6x2q9hGreXOUkouTLNeou9sQPDL7LjAxFbPmSW8E6L3p3Nnk22WKN4XjEc/q1nT3xvdheA+xrM1KuNajUG558DtTKNO+il2/pSRFCTAghviGEeLP53/Eu76sLIV5u/nvayjm9jrrRrX7JOY9mqIB92qXWWsJ7DzrY1xPfy3IGWA9ce7FTpqIfDdSsukYfB/5KSnkX8FfN37ejKKV8uPnvgxbP6WnaPfEt3uglb1aZgn2ZSl4NWIJqHmZPHMOLk55dPZWyHi2+gw5pz0MG/0PAp5s/fxr4KYuf53vUjWk1O0F5+MMefNjt6pToVWMH9kx6XuyFr7BrM6B2LMt798FIq5miRyQdYK+U8kbz55vA3i7vSwghTgghnhNC/FSvDxRCPNV874nFxUWLl7f7sGtWV/p1OOStcnLQxqBYrVOtW+sl41U5A+zpiV+sar3wvTgG0XCIZCxs3cMPJB1D7DgtCiG+Cezb5qV/2vmLlFIKIbpFImellNeEEEeAbwkhXpVSXtjujVLKTwCfADh+/Li7W7q7gNIurQarPK1fd/QCzwzHTX9OrlTjzimPjkEiwvxKwdJn5Dws64E9qxw1aXppi0eF3Tvg6WHHUZJSvrvba0KIW0KI/VLKG0KI/cBCl8+41vzvRSHEfwceAbY1+H7Hri/Z6/o1aAbLisHPFr2Zkgj29FHJerSXkMKOIkRPJy/Y5PwZwaqk8zTws82ffxb48uY3CCHGhRDx5s+TwDuA1y2e17O0JR2rN7q39WuwFseQUnpyPwCFHT3xvdgHvpO0HR5+0ZsV59CuH/FS0PZ3gPcIId4E3t38HSHEcSHEJ5vvuQ84IYR4Bfg28DtSyoE1+MOtxlk2ePgefdDt0C6L1Tr1hvTkgw729MRvZ2p5ddKzHrzPlqpEw4JE1Fu1GACRcIhULOxq0NbSnSKlXAZ+fJvjJ4Bfav78PeAhK+fxE+GQIB2PWK4wzJVqHPWsfm29RbJXt/ZTdEp7iWjY1Ge0JR2PjsFQlItLG5Y+Q2Upea0XvsLO/TH04L1p0QfY0TzMq+l4YE/RTUu79aqkY8MqJ+vRjqkKOwrwvNopU2FXTYpeAoPfB0aGrO3nKaX0hYZv5WH3ci8hsKcnvpcDltAO2lqJY2ibAHnzOYDmhkgeysMPMIHVbpFezr8GSMbChEPCmnfr0Y0/FLZ4+M29XM1KQv1mJBGl1pAUq+Z74ns5Uwuakk458PB9zciQtaWsV9sCK4QQzR2PLGj4nvfwrTcP0wL33rwHoLO9gpUx8G6mFti7t68eAoPfB0aHrO104+XqQoXVVY7n9WsVx7A48Xv6HrAhluPlWBbYk5pqhMDg94GRhDUNP+txDx/sWOV4e9Kzo8WGJmd4+B6wIZaT83rQ1oY4hhECg98HVE/8msleMl4vuAEbJr2mfh2PePMWbvXEtyhrefoesBjHqNQaFKt10h7bAKeTkUSUekNSsGFvXz1482nxOK2e+GVzD3vO4wU3YH0TFKVfezX/Gqyn5Hle0klYay2Q84Pj43IDtcDg94FRiy2S/aHhWw9cezVgq7DaE9/rko7Vnvhej+NAR5tolwK3gcHvA+1ukdY8fC8bPKvNw7RgnXcfdLC+v7HXJR2rPfH94viA9b199RIY/D4wYnHXKy/3D1GMJCKUqg3KNXPapdYe2rsPOqiiG/P6dana8PSkl4iGiUdCpsegJW16eNILJJ0BYDRpbSmrjJ2n9esha3noXs+/BmurnJzH6xAUVsbAy7tdKQJJZwCw2h44W6x52rMD6yl5OQ/vB6CwspG5H/RrUPUYgaQTePg+xuoyzuvaLbQD1+Yfdu/2ElJomUrWPHwvGzuwVo/hh/TktMVMJaMEBr8PpFQvGQtBWz8YOzDn4VfrWv61541dItrU4o3HMby88UcnaQuB61ypRkhoz5NXsRrHMEpg8PuAEIKRRMRSWqYfjB2YW+V4vZeQwspKr+3denwMEhFyFp4Dr8eywN32CoHB7xPWAnZ+8PDNxzFa2q2Hl/LQka1lYqXnK0nHtLTp/cA9WC9CNEJg8PuElcIjL29grrCy65Uf6hDAoodf9Mkqx0rg2gcrXbBnIxi9BAa/T5id1Wv1BoVK3fPGLhENEQ2b64nfkjN8YOzAXBwjW6o29WuPj0Fzb19TcQwfOD6gVjmBh+9rRk3uepXzSTqeFscw59n4RdIZHTJfaar061DI+/o1mI/leH2FA9oqLai09TlmjZ1f5Aww79n4JmhrwcP3i7GzEsfIFr2fngzWZC2jBAa/T5gNVvlFzgC124+VDBVvP+xWs3T8ImeA2THwdrdQhZV6DKMEBr9PjA5FTfWS8frWfp2Yn/RqCAHDHtev45EQsbC5nvjZok8yVEyucuoNSb7snzEwW49hFEsGXwjxM0KI00KIhhDieI/3vU8IcVYIcV4I8XEr5/QLZpeyrc27/XCjm6yyzBarDMcjntevhRCmvbusD5rHQTuOYbTSNN/aE8L7Y2B1XwAjWPXwXwM+DDzb7Q1CiDDw+8D7gfuBjwkh7rd4Xs9jdinrl/xrMN8e2C9yBmhjYOZB9/rmJwqzQVs/NE5TuNkx09JoSSnPADtVuj0BnJdSXmy+97PAh4DXrZzb65hdymb95NkMmas29kvAEiBtYZXji1WeyXqMdZ9kaoE9e/vqxQ0N/yAw1/H7fPPYtgghnhJCnBBCnFhcXHT84vqF2UpT5eEP+8DgmdUu/ZKdAapbpLF7oNGQ5Cve3/ELzNdjZH200nWzgdqOBl8I8U0hxGvb/PuQExckpfyElPK4lPL41NSUE6fYFZjNwc4WawzHI4Q9rl+DFVnL++2hFWbiGLlyDSn9kallth7Db7Es2CWSjpTy3RbPcQ2Y7vj9UPPYQGNe0vH2PqaddAau96T1/3/ZUpV7Ewb+h12MmTiGXwrPFGbqMfwWywJ3NkFxQ9J5AbhLCHGHECIGfBR42oXz7mrMzuprhQpjyZgTl+Q6Vjx8P016hj38VhzHP2NgtNLUT7Gs9t6+u1zDF0L8tBBiHngS+KoQ4mvN4weEEM8ASClrwK8BXwPOAJ+XUp62dtneJxENE4uEDGv4q4Uq40nv3+RgbpXTaEhttysfebdlg3EMP+nX0GwPbFjS8U8sK9ncH8ON9gpWs3S+BHxpm+PXgZ/o+P0Z4Bkr5/IjZkqqVwsV7ts/4tAVuYuZOMZGpUZD+iMdD27PwU5E9W3k4T9JJ8LNbMnQ/5MtVUn7JJal9sfwi6QT0AUzRTerG5WB9vDXCtp7xwdY1vJLLyGFmaBtrlTzzYQH1vYFMEJg8PvIqMEMjUZDsl6sDrSxW9moADCR8skYmJj0/CbpmDF2WrdQf0x4oDpmBh6+rzHq2WRLVRoS3wRtzcQxVgqawR/3i8E3IWuppb8f9GvQZK1StUGl1tD9//ip2hrc2wQlMPh9xGg6Wtu79duNrn8MVptj4JtVjgkPf7VQIZ2IEA374/FVBWRGgpZ+aR6nGEmY2x/DKP64YzyK0ZS81aZ+7RcPH4zHMdQYTPhkDMzKWhmfrHDA5CrHZx7+eCrauredJDD4fUTteiWl1PX+tYK/vFswvpRd3agQDgnf6Ldmim5WNiq+kbTAZBzDZxr+RCrGaqFCo6HPFpglMPh9ZGQoSq0hKerMwfabdwsmZK2ClqXk9dbICjO9ZFY2Kr67B0B/X6lqvUG2VPPVpDeRilNvSMczdQKD30eMendKvx7zlYYfIWfQw/fTCsdML5mVjYpvspSgvWJdba5gd0I9B5nhuGPX5DYqLqfidE4RGPw+orRLvZ7NaqFCJCRIx/2zlDWakuc3OQOMrXKklKwU/GXwJ4e1v2Upr8/YLSuD76MxmEhpk1dg8H3MqMGA3WqhylgyttP+A55CZenojWOsFvxTeKYYSURa8ZmdKFTqVGoNXxn8kUSUcEiwslHW9X6/1WJAe/IKDL6PMRqs8lOVrWJkKEKl3qCsMwd7tVD11YMOmjShV85QBsFPq5xQSDCejOk2dn708McDg+9/jKbkad6tf25y6Fjl6Jj0pJS+0/BBM1xLOWMG30/GDjRZR6+ks5LXVgJ+mvhVEH45MPj+RRm7dZ35t2uFKuM+CthCewz05CDnyjVqDemrBx00D395o6xL1vKjhw+a8dbr3a5sVBDCX/UoQ7EwQ9FwKyDtFIHB7yPtPtj6AnYrPvTwM81g1VJ+Z/3Wb1W2isnhGNW61HUftPRrn42BEYO/3Fzl+aFTZidGxsAsgcHvI9FwiGQsrCtLR0rpq81PFFNplaGxs8H3Y7AOINPMUlk2MgbDPhuDVEzX3w/+S0tVZIZjgaTjd8aTMV3LuI1KnWpd+i5oO9nMpV7M6fDwfdY4TaFWOXoe9pVChWjYX6m5oMla2VJNVwO1ZZ8a/PFkTHfw3iyBwe8zk+k4i0bkDJ/d6KNDUaJhoStgt7KheuH7a9Iz4uGroLWfUnOhvWrTY/CW82XfBa1BrXICg+9rpobjxrxbn0k6QggyqbguY7fmUw9frXL0THp+9W6VAddj8Pwq6QQa/gAwlY7rC1gW/OndAkymY7o1fL9VGkN7Etdj7FZ9auxUm4TlHYqv6g3JWrHqSw9/PBWjWK1TrOjf39gogcHvM1PpOMsbFWr13tqlXyUd0DxcPd7takFrq+A3OSMWCTE6FN3R2IE/W0tAW9LZycNdLVSQ0n+Be+iotnVQxw8Mfp+ZSseRUt+NDv6TdEALWur18P2WjqjIDOvTb1cK/hwDvZJOO0vJP43TFGoidzIXPzD4fWaqGbDbKXC7WqgiRLtQyU9MpjVjt1Ph0eqG/wrPFJM6Jr1avcGaD1tLgHZfa/10ehs7NSFM+nAMWpPebjX4QoifEUKcFkI0hBDHe7zvshDiVSHEy0KIE1bO6Tem0vrSEtcKldZD4TemhuNU6o0d20T7sfBMoScHe61Zr+FHg6/66ewka/m1DgE6ZS199QhmsOrhvwZ8GHhWx3t/VEr5sJSy68QwiEwNJ4CdDf6KD3vIKFq5+Dt4uGsFf+rXoI3BTplKqz4tPFPoSUtUxtCPY9A2+M5tgmLJ4Espz0gpz9p1MYPIZFqfpLNWqDLmwwwdaBv8Xgav0ZBap0yfTnqZ4RirhWrP4P2y3w3+8M5piWoM/Oj8GG0TbQa3NHwJfF0IcVII8VSvNwohnhJCnBBCnFhcXHTp8vpHMhYhFQvv2C3Rj50yFZOt9grdxyBXqlFvSN96+CotsVeGht89/InUzrLWykalWaznv/Cj0TbRps6x0xuEEN8UQry2zb8PGTjPD0kpHwXeD/yqEOKd3d4opfyElPK4lPL41NSUgVN4lykd1bZ+bAusaBcedR8DZQgnfBu03TlLxfcevo5+OssbFV/m4CsmUlFHDf6OFSxSyndbPYmU8lrzvwtCiC8BT6BP9x8IptJxFnOlnu9ZLVR9WXQF2vI8JHYw+D5eykNH4VEPg9/a09in98FESuunU603unrwK3l/Fp4pnK62dXxdJIRICSHS6mfgvWjB3oAmmsHvbuxK1TrFat23ckY4JJhI9a629WtrZEWrn04P/XZ5o0I6HiEeCbt1Wa6ixqBXHrpf2yoodrXBF0L8tBBiHngS+KoQ4mvN4weEEM8037YX+I4Q4hXgB8BXpZR/aeW8fmNqh0pTPxddKSaH4yz2iGO0JR1/jsFkaud+Oqs+zlKCdh56rzFY3ii3JgY/4rTBt9SUREr5JeBL2xy/DvxE8+eLwFusnMfvTA7HWS9WKdfq23pvqz7tEtmJ1l6hu3fr18ZpipGhCJGQ6KlhD4J3C92rzluZWr4egzhrxSr1hnSk5sZ/oW4Pooqvunk2ytj5bfOTTrQ9TXsZuyqxcIhUzJ9yhhBix/YKfjf4OzVQW28awomU/9oqKCaSUaRsP/N2Exj8XcBO1bZ+lzNAFR71DliOp6K+a5zWSSYV76nh+7VTpmKnfjoqS8nXWToqPdchWScw+LuAnQy+n1sjKybTcYrVOhvl7dsr+LmtgiIzHOu6ypNS+rYXvmKnfjp+3eKyE6f76QQGfxewUx762sYgSDq9x8Dv3i00VzldPPxitU651vD1pNfup9PN4Pu3rYJCfb9OdcwMDP4uQGUd9JJ0huMRYhH/fl1qDLoZ/IHw8Hv0klHH/SxngPb3dWstoCaCSR+2Rla003MDg+9b4pEwY8loV4Pv5z46iqnWZubdAtf+bY2syAzHKVTqFCpbZS2/buC+mYkek95KXo2Bf+8D9ZwHHr7P6bW37a1syddeDfSWdOoNyZpPN/7opL2Z+daHfRD0a9DaHnfT8P1eeAaa85eORwIP3+/0ykM/v5Dn6NSwy1fkLr0knWyxSkP637ud7LGcHxSDP9mjgdrKRsWXffA302vSs0pg8HcJ3RqoZUtVFnJl7tzjb4MfDYcYS0a39W6vrxeBdjaTX8mkureJHhSDP5HSihCr27SJ9nsdgmI8GWtJeHYTGPxdQrd+OucX8gDc5XODD91XOWdv5gC4Z2/a7UtylV6rnJWNCuGQYCRhqTh+1zPRo5+O3ztlKvRsBGOWwODvEqbSWsBucx76+Vuawfe7hw/dq23P3swRC4c4PJnqw1W5R6ZHP52rKwX2jSR8XXgGHW2itzP4+fJAePhO9tPxt7vgIaY6gpapePtrOb+YJxYJMT2R7NeluUZmOM7r17Nbjr9xM8fRPcO+3PSik6FYmFQsvK13d/p6lgcPjvThqtylWz8drY9OxddtFRTvf2gf9+xzZjXr7yfIQ0x2qbY9v5DnyGTKl5uXb2ZqOM7SNrLWGzez3OfQA7DbyGxTfJUrVbm0tMGDB0b7dFXuoeI019aKtx2/uLRBtS454vNVHsCP3buXX/rhI458dmDwdwntPPTbH/Y3F3IDIeeAJunkyjVK1Xrr2Fqhwq1s2TGPZ7eR2UbWUqueBw/53+AfzqRIJyK8PLd22/GXrq4C8OjsmPsX5SMCg79LaPXT6XjYS9U686vFATL4W3Px31AB2wEx+LMTSc7dyiOlbB17TRn8AfDwQyHBozPjnLy8etvxl+bWSCciHJkcjGfBKQKDv0uYSGnb/HV6+BcW80gJd+0ZDGOnJr0b6+3tHt+4oRm7+/b7X78GePvRSRZzZd5sZmcBnL62zt6RuO/TUhWPzY5zbiHHerHaOvbilVUenh4jNADSppMEBn+XoG3zd3tqpkrJHBQP/9GZccIhwbPnFlvHzt7KMZaMsmdAjN3b78wA8N3zS61jr15bHwjvXnF8dhwp2zJOvlzj3K0cj8yM9/nKvE9g8HcR9+wb5vlLK63l/PmFPOGQ4PCk/zN0QKukPT47zjdev9U69sbNHPfsTfs+HVFxaDzJbCbJd88vA1Co1LiwmOeBg4Nj8N8yPUY4JDh5RTP4p+bXaEh4ZGasvxfmAwKDv4v46UcOcWlpgxebns35hTyzE0lf9w7ZzHvu38sbN3PMrRRoNCTnbua4d0D0e8Xbj07y/MVlavUGZ27kaEh48MBgSFoAqXiE+/anWwb/patrADwyPda/i/IJgcHfRbz/wX0kY2G+cHIegDcX8hwdEDlH8Z779wLw9ddvMb9aZKNS594B0e8V77gzQ65c49S1dU5fXwfgwQHy8AGOz07w8twatXqDl66ucmQq5ev9INwiMPi7iFQ8wvsf3M9XXrlBrlTl8tLGQLRU6GQ2k+LuvcN88/VbvHFTC9gOSoaO4u1HJwH43vklXru2TiYVY/9oos9X5S6Pzo5TqNQ5cyPHS1fXeGQ60O/tIDD4u4yPPHaQXLnGHz57kVpDDkzAtpP33L+XH1xe4flLKwDc7fMeOpuZSMW4f/8I3z2/zGvXsjxwcHRgYhiK47Oagf/SS9dY3qgE+r1NBAZ/l/G2OzIcHBvik9+5BAxOSmYn775vL/WG5LM/uMrMRJLh+OB1AHnHnRlOXlnl3K3cQOn3igNjQ+wfTfC5F64CQcDWLiwZfCHE/yWEeEMIcUoI8SUhxFiX971PCHFWCHFeCPFxK+f0O6GQ4COPHqRQ0apNj+7xfyn5Zt5yaIw96TgblfrAyTmKt985SaXeoNaQA6ffKx6bHWejUicZC/u+U6pbWPXwvwE8KKU8BpwDfmvzG4QQYeD3gfcD9wMfE0Lcb/G8vuYjjx0C4ODYEMnY4Hm3oZDgx+/TgreDlqGjeOLwBJFmkdEg5eB3omSdY4dGifi8cZ5bWBpFKeXXpZSqn+9zwKFt3vYEcF5KeVFKWQE+C3zIynn9zmwmxbvumeL44cENVL33Ac3g3z9gGTqKVDzCIzNjpBMRpieG+n05feGx2QmAoODKRux0H38B+Nw2xw8Ccx2/zwNv7fYhQoingKcAZmZmbLw8b/Gpn32cQa4if9fdU/yXn3+cd9411e9L6Rsff/993MqWBi5gq7j/wAi/+qNH+Z+PT/f7UnzDjgZfCPFNYN82L/1TKeWXm+/5p0AN+FOrFySl/ATwCYDjx4/LHd7uWwahHXIvhBD86D17+n0ZfeWx2cH2bMMhwT/6H+7t92X4ih0NvpTy3b1eF0L8HPAB4MdlZ4u/NteAzin6UPNYQEBAQICLWM3SeR/wj4EPSikLXd72AnCXEOIOIUQM+CjwtJXzBgQEBAQYx2ro+z8BaeAbQoiXhRD/GUAIcUAI8QxAM6j7a8DXgDPA56WUpy2eNyAgICDAIJaCtlLKO7scvw78RMfvzwDPWDlXQEBAQIA1guTWgICAgAEhMPgBAQEBA0Jg8AMCAgIGhMDgBwQEBAwIYvvU+d2BEGIRuGLyf58ElnZ81+7F69cP3v8bvH794P2/Ibh+48xKKbctUd/VBt8KQogTUsrj/b4Os3j9+sH7f4PXrx+8/zcE128vgaQTEBAQMCAEBj8gICBgQPCzwf9Evy/AIl6/fvD+3+D16wfv/w3B9duIbzX8gICAgIDb8bOHHxAQEBDQQWDwAwICAgYE3xl8r2+YLoT4IyHEghDitX5fixmEENNCiG8LIV4XQpwWQvyDfl+TUYQQCSHED4QQrzT/hn/Z72sygxAiLIR4SQjxlX5fixmEEJeFEK82O/Ge6Pf1GEUIMSaE+IIQ4g0hxBkhxJN9vyY/afjNDdPPAe9B20rxBeBjUsrX+3phBhBCvBPIA38spXyw39djFCHEfmC/lPJFIUQaOAn8lMe+AwGkpJR5IUQU+A7wD6SUz/X50gwhhPhN4DgwIqX8QL+vxyhCiMvAcSmlJwuvhBCfBv5GSvnJ5l4gSSnlWj+vyW8evuc3TJdSPgus9Ps6zCKlvCGlfLH5cw5tD4SD/b0qY0iNfPPXaPOfpzwjIcQh4H8EPtnvaxlEhBCjwDuBTwFIKSv9NvbgP4O/3YbpnjI2fkIIcRh4BHi+z5dimKYc8jKwAHxDSum1v+H30Haja/T5Oqwgga8LIU4KIZ7q98UY5A5gEfgvTVntk0KIVL8vym8GP2CXIIQYBr4I/IaUMtvv6zGKlLIupXwYbQ/mJ4QQnpHXhBAfABaklCf7fS0W+SEp5aPA+4FfbcqdXiECPAr8gZTyEWAD6HtM0W8GP9gwfRfQ1L2/CPyplPLP+309Vmguw78NvK/Pl2KEdwAfbGrgnwV+TAjx3/p7ScaRUl5r/ncB+BKaZOsV5oH5jpXhF9AmgL7iN4MfbJjeZ5oBz08BZ6SUv9vv6zGDEGJKCDHW/HkILQngjb5elAGklL8lpTwkpTyM9gx8S0r5d/p8WYYQQqSaQX+aUsh7Ac9krkkpbwJzQoh7mod+HOh74oKlPW13G1LKmhBCbZgeBv7IaxumCyE+A7wLmBRCzAP/XEr5qf5elSHeAfxd4NWmBg7wT5r7GnuF/cCnm1lfIeDzUkpPpjZ6mL3AlzT/gQjwZ1LKv+zvJRnmfwP+tOl8XgR+vs/X46+0zICAgICA7vhN0gkICAgI6EJg8AMCAgIGhMDgBwQEBAwIgcEPCAgIGBACgx8QEBAwIAQGPyAgIGBACAx+QEBAwIDw/wOgGaS8jcg6LQAAAABJRU5ErkJggg==\n"
                },
                "metadata": {
                  "needs_background": "light"
                }
              }
            ]
          }
        },
        "ad3b1bb33b0940f48a1bca461a92f41b": {
          "model_module": "@jupyter-widgets/base",
          "model_name": "LayoutModel",
          "model_module_version": "1.2.0",
          "state": {
            "_model_module": "@jupyter-widgets/base",
            "_model_module_version": "1.2.0",
            "_model_name": "LayoutModel",
            "_view_count": null,
            "_view_module": "@jupyter-widgets/base",
            "_view_module_version": "1.2.0",
            "_view_name": "LayoutView",
            "align_content": null,
            "align_items": null,
            "align_self": null,
            "border": null,
            "bottom": null,
            "display": null,
            "flex": null,
            "flex_flow": null,
            "grid_area": null,
            "grid_auto_columns": null,
            "grid_auto_flow": null,
            "grid_auto_rows": null,
            "grid_column": null,
            "grid_gap": null,
            "grid_row": null,
            "grid_template_areas": null,
            "grid_template_columns": null,
            "grid_template_rows": null,
            "height": null,
            "justify_content": null,
            "justify_items": null,
            "left": null,
            "margin": null,
            "max_height": null,
            "max_width": null,
            "min_height": null,
            "min_width": null,
            "object_fit": null,
            "object_position": null,
            "order": null,
            "overflow": null,
            "overflow_x": null,
            "overflow_y": null,
            "padding": null,
            "right": null,
            "top": null,
            "visibility": null,
            "width": null
          }
        },
        "7cdbf2949b1c4c498ee71c712ff578dc": {
          "model_module": "@jupyter-widgets/base",
          "model_name": "LayoutModel",
          "model_module_version": "1.2.0",
          "state": {
            "_model_module": "@jupyter-widgets/base",
            "_model_module_version": "1.2.0",
            "_model_name": "LayoutModel",
            "_view_count": null,
            "_view_module": "@jupyter-widgets/base",
            "_view_module_version": "1.2.0",
            "_view_name": "LayoutView",
            "align_content": null,
            "align_items": null,
            "align_self": null,
            "border": null,
            "bottom": null,
            "display": null,
            "flex": null,
            "flex_flow": null,
            "grid_area": null,
            "grid_auto_columns": null,
            "grid_auto_flow": null,
            "grid_auto_rows": null,
            "grid_column": null,
            "grid_gap": null,
            "grid_row": null,
            "grid_template_areas": null,
            "grid_template_columns": null,
            "grid_template_rows": null,
            "height": null,
            "justify_content": null,
            "justify_items": null,
            "left": null,
            "margin": null,
            "max_height": null,
            "max_width": null,
            "min_height": null,
            "min_width": null,
            "object_fit": null,
            "object_position": null,
            "order": null,
            "overflow": null,
            "overflow_x": null,
            "overflow_y": null,
            "padding": null,
            "right": null,
            "top": null,
            "visibility": null,
            "width": null
          }
        },
        "974a29544c1740ae9daa4342830b1c0d": {
          "model_module": "@jupyter-widgets/controls",
          "model_name": "SliderStyleModel",
          "model_module_version": "1.5.0",
          "state": {
            "_model_module": "@jupyter-widgets/controls",
            "_model_module_version": "1.5.0",
            "_model_name": "SliderStyleModel",
            "_view_count": null,
            "_view_module": "@jupyter-widgets/base",
            "_view_module_version": "1.2.0",
            "_view_name": "StyleView",
            "description_width": "",
            "handle_color": null
          }
        },
        "51ce9beae7b2410dbe85cd69e94920eb": {
          "model_module": "@jupyter-widgets/base",
          "model_name": "LayoutModel",
          "model_module_version": "1.2.0",
          "state": {
            "_model_module": "@jupyter-widgets/base",
            "_model_module_version": "1.2.0",
            "_model_name": "LayoutModel",
            "_view_count": null,
            "_view_module": "@jupyter-widgets/base",
            "_view_module_version": "1.2.0",
            "_view_name": "LayoutView",
            "align_content": null,
            "align_items": null,
            "align_self": null,
            "border": null,
            "bottom": null,
            "display": null,
            "flex": null,
            "flex_flow": null,
            "grid_area": null,
            "grid_auto_columns": null,
            "grid_auto_flow": null,
            "grid_auto_rows": null,
            "grid_column": null,
            "grid_gap": null,
            "grid_row": null,
            "grid_template_areas": null,
            "grid_template_columns": null,
            "grid_template_rows": null,
            "height": null,
            "justify_content": null,
            "justify_items": null,
            "left": null,
            "margin": null,
            "max_height": null,
            "max_width": null,
            "min_height": null,
            "min_width": null,
            "object_fit": null,
            "object_position": null,
            "order": null,
            "overflow": null,
            "overflow_x": null,
            "overflow_y": null,
            "padding": null,
            "right": null,
            "top": null,
            "visibility": null,
            "width": null
          }
        },
        "b41c82793aad461bb87a7da76023beb6": {
          "model_module": "@jupyter-widgets/controls",
          "model_name": "VBoxModel",
          "model_module_version": "1.5.0",
          "state": {
            "_dom_classes": [
              "widget-interact"
            ],
            "_model_module": "@jupyter-widgets/controls",
            "_model_module_version": "1.5.0",
            "_model_name": "VBoxModel",
            "_view_count": null,
            "_view_module": "@jupyter-widgets/controls",
            "_view_module_version": "1.5.0",
            "_view_name": "VBoxView",
            "box_style": "",
            "children": [
              "IPY_MODEL_dcea9d83f78a417da092c906c48c6be4",
              "IPY_MODEL_064be4c482e045239a496d841e3c9416"
            ],
            "layout": "IPY_MODEL_e5f5d202a7a34b01aee4b388ac6d16ec"
          }
        },
        "dcea9d83f78a417da092c906c48c6be4": {
          "model_module": "@jupyter-widgets/controls",
          "model_name": "FloatTextModel",
          "model_module_version": "1.5.0",
          "state": {
            "_dom_classes": [],
            "_model_module": "@jupyter-widgets/controls",
            "_model_module_version": "1.5.0",
            "_model_name": "FloatTextModel",
            "_view_count": null,
            "_view_module": "@jupyter-widgets/controls",
            "_view_module_version": "1.5.0",
            "_view_name": "FloatTextView",
            "continuous_update": false,
            "description": "Frecuencia:",
            "description_tooltip": null,
            "disabled": false,
            "layout": "IPY_MODEL_29554c52994b4170bc3c53e3e6d19e87",
            "step": null,
            "style": "IPY_MODEL_87d8a44a57484ed3baa93cd2ce76858a",
            "value": 15
          }
        },
        "064be4c482e045239a496d841e3c9416": {
          "model_module": "@jupyter-widgets/output",
          "model_name": "OutputModel",
          "model_module_version": "1.0.0",
          "state": {
            "_dom_classes": [],
            "_model_module": "@jupyter-widgets/output",
            "_model_module_version": "1.0.0",
            "_model_name": "OutputModel",
            "_view_count": null,
            "_view_module": "@jupyter-widgets/output",
            "_view_module_version": "1.0.0",
            "_view_name": "OutputView",
            "layout": "IPY_MODEL_aeeff91d1e544bf4a8b38b26e627bcfd",
            "msg_id": "",
            "outputs": [
              {
                "output_type": "display_data",
                "data": {
                  "text/plain": "<Figure size 432x288 with 1 Axes>",
                  "image/png": "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\n"
                },
                "metadata": {
                  "needs_background": "light"
                }
              }
            ]
          }
        },
        "e5f5d202a7a34b01aee4b388ac6d16ec": {
          "model_module": "@jupyter-widgets/base",
          "model_name": "LayoutModel",
          "model_module_version": "1.2.0",
          "state": {
            "_model_module": "@jupyter-widgets/base",
            "_model_module_version": "1.2.0",
            "_model_name": "LayoutModel",
            "_view_count": null,
            "_view_module": "@jupyter-widgets/base",
            "_view_module_version": "1.2.0",
            "_view_name": "LayoutView",
            "align_content": null,
            "align_items": null,
            "align_self": null,
            "border": null,
            "bottom": null,
            "display": null,
            "flex": null,
            "flex_flow": null,
            "grid_area": null,
            "grid_auto_columns": null,
            "grid_auto_flow": null,
            "grid_auto_rows": null,
            "grid_column": null,
            "grid_gap": null,
            "grid_row": null,
            "grid_template_areas": null,
            "grid_template_columns": null,
            "grid_template_rows": null,
            "height": null,
            "justify_content": null,
            "justify_items": null,
            "left": null,
            "margin": null,
            "max_height": null,
            "max_width": null,
            "min_height": null,
            "min_width": null,
            "object_fit": null,
            "object_position": null,
            "order": null,
            "overflow": null,
            "overflow_x": null,
            "overflow_y": null,
            "padding": null,
            "right": null,
            "top": null,
            "visibility": null,
            "width": null
          }
        },
        "29554c52994b4170bc3c53e3e6d19e87": {
          "model_module": "@jupyter-widgets/base",
          "model_name": "LayoutModel",
          "model_module_version": "1.2.0",
          "state": {
            "_model_module": "@jupyter-widgets/base",
            "_model_module_version": "1.2.0",
            "_model_name": "LayoutModel",
            "_view_count": null,
            "_view_module": "@jupyter-widgets/base",
            "_view_module_version": "1.2.0",
            "_view_name": "LayoutView",
            "align_content": null,
            "align_items": null,
            "align_self": null,
            "border": null,
            "bottom": null,
            "display": null,
            "flex": null,
            "flex_flow": null,
            "grid_area": null,
            "grid_auto_columns": null,
            "grid_auto_flow": null,
            "grid_auto_rows": null,
            "grid_column": null,
            "grid_gap": null,
            "grid_row": null,
            "grid_template_areas": null,
            "grid_template_columns": null,
            "grid_template_rows": null,
            "height": null,
            "justify_content": null,
            "justify_items": null,
            "left": null,
            "margin": null,
            "max_height": null,
            "max_width": null,
            "min_height": null,
            "min_width": null,
            "object_fit": null,
            "object_position": null,
            "order": null,
            "overflow": null,
            "overflow_x": null,
            "overflow_y": null,
            "padding": null,
            "right": null,
            "top": null,
            "visibility": null,
            "width": null
          }
        },
        "87d8a44a57484ed3baa93cd2ce76858a": {
          "model_module": "@jupyter-widgets/controls",
          "model_name": "DescriptionStyleModel",
          "model_module_version": "1.5.0",
          "state": {
            "_model_module": "@jupyter-widgets/controls",
            "_model_module_version": "1.5.0",
            "_model_name": "DescriptionStyleModel",
            "_view_count": null,
            "_view_module": "@jupyter-widgets/base",
            "_view_module_version": "1.2.0",
            "_view_name": "StyleView",
            "description_width": ""
          }
        },
        "aeeff91d1e544bf4a8b38b26e627bcfd": {
          "model_module": "@jupyter-widgets/base",
          "model_name": "LayoutModel",
          "model_module_version": "1.2.0",
          "state": {
            "_model_module": "@jupyter-widgets/base",
            "_model_module_version": "1.2.0",
            "_model_name": "LayoutModel",
            "_view_count": null,
            "_view_module": "@jupyter-widgets/base",
            "_view_module_version": "1.2.0",
            "_view_name": "LayoutView",
            "align_content": null,
            "align_items": null,
            "align_self": null,
            "border": null,
            "bottom": null,
            "display": null,
            "flex": null,
            "flex_flow": null,
            "grid_area": null,
            "grid_auto_columns": null,
            "grid_auto_flow": null,
            "grid_auto_rows": null,
            "grid_column": null,
            "grid_gap": null,
            "grid_row": null,
            "grid_template_areas": null,
            "grid_template_columns": null,
            "grid_template_rows": null,
            "height": null,
            "justify_content": null,
            "justify_items": null,
            "left": null,
            "margin": null,
            "max_height": null,
            "max_width": null,
            "min_height": null,
            "min_width": null,
            "object_fit": null,
            "object_position": null,
            "order": null,
            "overflow": null,
            "overflow_x": null,
            "overflow_y": null,
            "padding": null,
            "right": null,
            "top": null,
            "visibility": null,
            "width": null
          }
        }
      }
    }
  },
  "cells": [
    {
      "cell_type": "markdown",
      "source": [
        "<font color=blue>\n",
        "<font size = 14>\n",
        "Integrales de línea en un campo vectorial\n",
        "\n",
        "---"
      ],
      "metadata": {
        "id": "SttnwwQ_a7u9"
      }
    },
    {
      "cell_type": "markdown",
      "source": [
        "\n",
        "\n",
        "**Objetivo general**\n",
        "- Comprender la idea de la integral de linea actuando sobre un campo vectorial asi como tener una idea intuitiva de la manera de utilizar esta heramienta para problemas aplicados en fenomenos rales, usando simulaciones computacionales para obtener la idea central del tema.\n",
        "**Objetivos particulares**\n",
        "- Comprender el concepto de producto interno en el espacio $\\R^n$.\n",
        "- Juntar las ideas de producto interno y de integral para comprender lo que hace una integral de linea.\n",
        "- Conocer la utilidad de la integral de línea y resolver algunas aplicaiones de ella.\n",
        "\n",
        "## Contenido\n",
        "- [1 - Producto interno en $\\R^n$.](#1)\n",
        "    - [1.1 - Definicion de producto punto.](#1-1)\n",
        "        - [Ejercicio 1 - Cálculo de un producto punto.](#ej-1)\n",
        "    - [1.2 - La integral.](#1-2)\n",
        "        - [Ejercicio 2 - Título del ejercicio.](#ej-2)\n",
        "- [2 - Tema 2.](#2)\n",
        "    - [2.1 - Subtema C.](#2-1)\n",
        "    - [2-2 - Subtema D.](#2-2)\n",
        "        - [Ejercicio 3 - Título dell ejercicio.](#ej-3)"
      ],
      "metadata": {
        "id": "hYcPR8mkwLNS"
      }
    },
    {
      "cell_type": "markdown",
      "source": [
        "<a name='1'></a>\n",
        "## Producto interno en $R^n$\n",
        "\n"
      ],
      "metadata": {
        "id": "oVscIlEWwYJV"
      }
    },
    {
      "cell_type": "markdown",
      "source": [
        "<a name='1-1'></a>\n",
        "### Definición y producto punto\n",
        "\n",
        "Un producto interno o producto interior, sobre un espacio vectorial (para el caso de este notebook será $R^n$), es una operacion que asigna a cada par de vectores u y v un escalar tal que <u|v> y cumple con las siguinetes propiedades:\n",
        "\n",
        "* <v|v> $\\geq 0$\n",
        "* <v|v> = 0 si y solo si v =0\n",
        "* <u|v+w> = <u|v> + <u|w>\n",
        "* Sea $\\alpha \\in R$ entonces < $\\alpha$ v|w> = $\\alpha$<v|w>\n",
        "* <v|w>= $\\bar{<w|v>}$ (Esta última propiedad se usa con los números complejos, por lo que para fines de este notebook no se usará pero es importante saber de su existencia)\n",
        "\n",
        "En el caso de $ R^n$ el porducto interior es mejor conocido como producto punto y está definido como $\\vec{a} \\cdot \\vec{b} = ||\\vec{a}||||\\vec{b}||cosθ $ donde $||\\vec{a}||$ y $||\\vec{b}||$ son la magnitud del vector $\\vec{a}$ y $\\vec{b}$ respectivamente y $θ$ el ángulo entre ambos.\n",
        "\n",
        "\n",
        "\n",
        "Ten en cuenta que $\\textbf{el producto punto de dos vectores es un escalar, no un vector.}$ Eso significa, por ejemplo, que no tiene sentido preguntar a qué es igual $\\vec{a} \\cdot \\vec{b} \\cdot \\vec{c} $.\n",
        "\n",
        "Una vez que hayamos evaluado $\\vec{a} \\cdot \\vec{b}$\n",
        " y obtenido un número, terminaríamos por tratar de tomar el producto punto entre un número y un vector.\n",
        "\n",
        " Otra forma equivalente y más sencilla de calcular el producto punto es conociendo los coeficientes de sus componentes; de modo que el produto punto será la suma de las multiplicaciones de sus componentes.\n",
        "\n",
        "Supongamos que tenemos a los vectores \n",
        "\n",
        "$x = (x_1,x_2,...,x_n)$\n",
        "\n",
        "$y = (y_1,y_2,...,y_n) $\n",
        "\n",
        "\n",
        "Tenemos que el producto interior entonces será:\n",
        "\n",
        "$\\sum_{i=1}^n x_iy_i$\n",
        "\n",
        "Ahora para visualizar mejor el porducto punto veámos un ejemplo.\n",
        "\n",
        "## Ejemplo de producto punto en $R^n$\n",
        "Si tenemos los vectores \n",
        "$x = (3,2)$\n",
        "$y = (5,6)$\n",
        " Entonces el producto punto será $\\alpha = (3)(5)+(2)(6)= 20$\n",
        "\n",
        "## Una ballena que cae del cielo\n",
        "\n",
        "Supongamos que una ballena llamada Whilly, cae del cielo, y que cae a lo largo de una trayectoria curvada, porque las corrientes de aire la empujan de un lado para otro.\n",
        "\n"
      ],
      "metadata": {
        "id": "A9CdaKo_wemN"
      }
    },
    {
      "cell_type": "markdown",
      "source": [
        "<img src = 'Whilly.svg'>\n",
        "<figcaption> <center> Figura 1 Whilly y su trayectoria curva.  </center> </figcaption>"
      ],
      "metadata": {
        "id": "TEDtGHc4y-_a"
      }
    },
    {
      "cell_type": "markdown",
      "source": [
        "En este ejemplo, se asume que el alumno está familiarizado con las ideas de la física que la fuerza hace trabajo sobre un objeto en movimiento, además la fuerza está definida como \n",
        "$$\n",
        "\\begin{align}\n",
        "{\\vec{W} = \\vec{F} \\cdot \\vec{s}}\n",
        "\\end{align}\n",
        "$$\n",
        "\n",
        "es decir que el trabajo está definido como el producto punto entre el vector de fuerza y el vector de desplazamiento."
      ],
      "metadata": {
        "id": "hrJqMISv1RSI"
      }
    },
    {
      "cell_type": "markdown",
      "source": [
        "$\\textbf{Pregunta clave:}$ ¿cuál es el trabajo que la fuerza de gravedad realiza sobre Whilly conforme cae a lo largo de la trayectoria curvada C?\n",
        "\n",
        "\n",
        "Usualmente, calculamos el trabajo con respecto a un vector constante de fuerza y un vector constante de desplazamiento. ¿Qué podemos hacer con una trayectoria curvada? \n",
        "\n",
        "Podemos comenzar imaginándonos que la curva está compuesta de muchos vectores pequeños de desplazamiento:\n",
        "\n",
        "$\\vec{\\Delta s_1}, \\vec{Δs_2}, ...$\n",
        "\n",
        "El trabajo realizado por la gravedad a lo largo de cada uno de estos vectores de desplazamiento es el producto punto del vector de fuerza de gravedad, que denotaremos $\\vec{F_g} $, con el vector de desplazamiento mismo por lo que la contibción de los vectores se verá como:\n",
        "\n",
        "$∑_i^n\\vec{F_g} \\cdot \\vec{Δs_i}$\n",
        "\n",
        "\n"
      ],
      "metadata": {
        "id": "BYZVj6A54nHv"
      }
    },
    {
      "cell_type": "code",
      "source": [
        "import matplotlib.pyplot as plt #Se importa la paquetería que genera gráficas\n",
        "import numpy as np #Se importa la paquetería que tiene acceso a la parte matemática\n",
        "import ipywidgets as widgets #Se importa la paquetería para la generación de la parte interactiva con el usuario\n",
        "\n",
        "\n",
        "\n",
        "# make data\n",
        "y = np.linspace(0, 10, 200)\n",
        "x = 4 + 2 * np.sin(2 * x)\n",
        "\n",
        "# plot\n",
        "fig, ax = plt.subplots()\n",
        "\n",
        "ax.plot(x, y+x, linewidth=2.0)\n",
        "\n",
        "ax.set(xlim=(0, 8), xticks=np.arange(1, 8),\n",
        "       ylim=(0, 8), yticks=np.arange(1, 8))\n",
        "\n",
        "plt.show()"
      ],
      "metadata": {
        "colab": {
          "base_uri": "https://localhost:8080/",
          "height": 186
        },
        "id": "cObRIhplCBsW",
        "outputId": "a9c5cf29-d0fb-4b8b-900f-bec098a07ab7"
      },
      "execution_count": 17,
      "outputs": [
        {
          "output_type": "display_data",
          "data": {
            "text/plain": [
              "<Figure size 144x144 with 1 Axes>"
            ],
            "image/png": "[encoded data removed]"
          },
          "metadata": {
            "needs_background": "light"
          }
        }
      ]
    },
    {
      "cell_type": "markdown",
      "source": [
        "Pero lo que realmente nos interesa es el valor límite de esta suma conforme el tamaño de esos pasos es más y más pequeño. Para ello haremos uso de la integral ya que toma en cuenta las contibuciones de las trayectorias infinitesimales y se verá de la forma:\n",
        "\n",
        "$∫_C \\vec{F}\\cdot \\vec{ds}$\n",
        "Similar a una integral de línea en un campo escalar pero ahora consideramos el pequeño paso $\\vec{ds} $ como un vector, no como una longitud.\n",
        "\n",
        "\n",
        "$\\textbf{Nota}$: la cantidad que sumamos conforme caminamos a lo largo de C no es todo el valor de $\\vec{F_g}$ en cada punto, sino la componente de $\\vec{F_g}$ que apunta en la misma dirección que el vector $\\vec{ds}$. Es decir, la componente de la fuerza en la dirección de la curva."
      ],
      "metadata": {
        "id": "fUWNDCcRCCE6"
      }
    },
    {
      "cell_type": "code",
      "source": [],
      "metadata": {
        "id": "JzaRvVQQ2gpM"
      },
      "execution_count": 2,
      "outputs": []
    },
    {
      "cell_type": "code",
      "source": [
        "w = widgets.IntSlider()\n",
        "display(w)"
      ],
      "metadata": {
        "colab": {
          "base_uri": "https://localhost:8080/",
          "height": 49,
          "referenced_widgets": [
            "2e3ab57993b345da86aafe74a73f4344",
            "d335eee0e7d14488b4dc129b9fc93340",
            "1952ac64f17241329365eb2bc6deb51a"
          ]
        },
        "id": "jzsWoi4M2lHy",
        "outputId": "d88b3eb0-06e3-47de-ed38-708cd748843e"
      },
      "execution_count": 3,
      "outputs": [
        {
          "output_type": "display_data",
          "data": {
            "text/plain": [
              "IntSlider(value=0)"
            ],
            "application/vnd.jupyter.widget-view+json": {
              "version_major": 2,
              "version_minor": 0,
              "model_id": "2e3ab57993b345da86aafe74a73f4344"
            }
          },
          "metadata": {}
        }
      ]
    },
    {
      "cell_type": "code",
      "metadata": {
        "colab": {
          "base_uri": "https://localhost:8080/",
          "height": 49,
          "referenced_widgets": [
            "78aa2bb86a0a4b808cd02e9a861c1c36",
            "d17c80ee1c874a709a93b3cfcc8e6bdf",
            "820b92c14bd24777b25f11441c116a6b"
          ]
        },
        "id": "CHWvq5_zw5zY",
        "outputId": "13bc8ff1-e191-49b0-fe44-6f223414dd51"
      },
      "source": [
        "ws = widgets.IntSlider(\n",
        "    min=-5, # valor mínimo\n",
        "    max=50, # valor máximo\n",
        "    step=1, # paso del slider\n",
        "    description=\"Slider:\", # nombre\n",
        "    value=2) # valor inicial\n",
        "display(ws)"
      ],
      "execution_count": 5,
      "outputs": [
        {
          "output_type": "display_data",
          "data": {
            "text/plain": [
              "IntSlider(value=2, description='Slider:', max=50, min=-5)"
            ],
            "application/vnd.jupyter.widget-view+json": {
              "version_major": 2,
              "version_minor": 0,
              "model_id": "78aa2bb86a0a4b808cd02e9a861c1c36"
            }
          },
          "metadata": {}
        }
      ]
    },
    {
      "cell_type": "code",
      "source": [
        "# Vamos a generar primero nuestro widget Slider y asigenemos valores \n",
        "# iniciales a este\n",
        "slider = widgets.IntSlider(\n",
        "    min=0,\n",
        "    max=50,\n",
        "    step=1,\n",
        "    description='Slider')\n",
        "\n",
        "# Ahora generemos el widget IntText que se actualizará con el slider\n",
        "text = widgets.IntText(\n",
        "    description='Texto')\n",
        "\n",
        "# Y los enlazamos con la función jslink. A esta función, le indicamos\n",
        "# que la propiedad de ambos widgets que queremos ligar es su valor,\n",
        "# y lo indicamos con el texto 'value'\n",
        "enlace = widgets.jslink((slider, 'value'), (text, 'value'))\n",
        "\n",
        "# Finalmente, mostramos ambos widgets\n",
        "display(slider, text)"
      ],
      "metadata": {
        "colab": {
          "base_uri": "https://localhost:8080/",
          "height": 79,
          "referenced_widgets": [
            "df91cc84014142c190c358f3887f4daa",
            "ee89e33bb1df4c3e99c5066daa7c7f84",
            "8bc637af29784005ac855bd222905a5c",
            "c1bf991b7dfa4918ae85e58896f55e1b",
            "533561e5c32c4c8883069f62ec9239c6",
            "c6a5889ec7b84ac1a799a3d7022eb924"
          ]
        },
        "id": "mTPVE-i42zFC",
        "outputId": "ae7e72af-c33f-4e97-f993-7caa5d9ec122"
      },
      "execution_count": 6,
      "outputs": [
        {
          "output_type": "display_data",
          "data": {
            "text/plain": [
              "IntSlider(value=0, description='Slider', max=50)"
            ],
            "application/vnd.jupyter.widget-view+json": {
              "version_major": 2,
              "version_minor": 0,
              "model_id": "df91cc84014142c190c358f3887f4daa"
            }
          },
          "metadata": {}
        },
        {
          "output_type": "display_data",
          "data": {
            "text/plain": [
              "IntText(value=0, description='Texto')"
            ],
            "application/vnd.jupyter.widget-view+json": {
              "version_major": 2,
              "version_minor": 0,
              "model_id": "ee89e33bb1df4c3e99c5066daa7c7f84"
            }
          },
          "metadata": {}
        }
      ]
    },
    {
      "cell_type": "code",
      "source": [
        "def imprimir_nombres(nombre):\n",
        "    print(\"Nombre: {}\".format(nombre))\n",
        "\n",
        "widgets.interact(imprimir_nombres, nombre=[\"Carlos\", \"Marina\", \"Javier\", \"Alex\"])"
      ],
      "metadata": {
        "colab": {
          "base_uri": "https://localhost:8080/",
          "height": 86,
          "referenced_widgets": [
            "9844849bcce2497f89ce1db00c182009",
            "22294ec053be4254b3c75790b15b4de0",
            "a36cf644c3da4fcd9667b36adcbcc64d",
            "640f808f361549bb98194a9d3a08066d",
            "87f1ce7bf93343f09d0a3d376f38fb97",
            "c313d2e600274f16b458726bc03b5845",
            "0a32b57b43df4a839fd190fe5e462b90"
          ]
        },
        "id": "NLSr9sP-20Hw",
        "outputId": "332f835f-b990-4d3b-9365-4019f01bc7f3"
      },
      "execution_count": 7,
      "outputs": [
        {
          "output_type": "display_data",
          "data": {
            "text/plain": [
              "interactive(children=(Dropdown(description='nombre', options=('Carlos', 'Marina', 'Javier', 'Alex'), value='Ca…"
            ],
            "application/vnd.jupyter.widget-view+json": {
              "version_major": 2,
              "version_minor": 0,
              "model_id": "9844849bcce2497f89ce1db00c182009"
            }
          },
          "metadata": {}
        },
        {
          "output_type": "execute_result",
          "data": {
            "text/plain": [
              "<function __main__.imprimir_nombres(nombre)>"
            ]
          },
          "metadata": {},
          "execution_count": 7
        }
      ]
    },
    {
      "cell_type": "code",
      "source": [
        "def numeros(num):\n",
        "    return num\n",
        "\n",
        "widgets.interact(numeros, num=(0, 10, 1))"
      ],
      "metadata": {
        "colab": {
          "base_uri": "https://localhost:8080/",
          "height": 86,
          "referenced_widgets": [
            "949033f635114ceeb18c994a68092835",
            "fa0e858f05914870a5d255c110e7de79",
            "d5f5e12016534397a382f7acb9d4eb1f",
            "3abb9f2f94cd411eabe57b40650fb7b6",
            "29d51ec9d1fb47eab0c8bb00f06b3ce9",
            "6a48a3b47b6a46bb860590ed869539dc",
            "66bffdf183d048dea324a5b7fd39922d"
          ]
        },
        "id": "On5KLdSn3GM2",
        "outputId": "fb0501ba-c6c2-4516-950a-6ad15b21e5cc"
      },
      "execution_count": 8,
      "outputs": [
        {
          "output_type": "display_data",
          "data": {
            "text/plain": [
              "interactive(children=(IntSlider(value=5, description='num', max=10), Output()), _dom_classes=('widget-interact…"
            ],
            "application/vnd.jupyter.widget-view+json": {
              "version_major": 2,
              "version_minor": 0,
              "model_id": "949033f635114ceeb18c994a68092835"
            }
          },
          "metadata": {}
        },
        {
          "output_type": "execute_result",
          "data": {
            "text/plain": [
              "<function __main__.numeros(num)>"
            ]
          },
          "metadata": {},
          "execution_count": 8
        }
      ]
    },
    {
      "cell_type": "code",
      "source": [
        "import numpy as np\n",
        "import matplotlib.pyplot as plt\n",
        "def plot(freq):\n",
        "    x = np.linspace(0, 2 * np.pi, 100)\n",
        "    y = np.sin(x * freq) + np.cos(2 * x * freq)\n",
        "    plt.plot(x, y)\n",
        "widgets.interact(plot, freq=widgets.FloatSlider(value=2, min=0.1, max=5, step=0.1, description='Frecuencia:'))"
      ],
      "metadata": {
        "colab": {
          "base_uri": "https://localhost:8080/",
          "height": 315,
          "referenced_widgets": [
            "65fd7405f6514ecc8bcf1c53f7236d9e",
            "25723f412fdd46fa8b8c77f41d8cc19f",
            "11a08c990a0443a5bbc7df84bd7ddbf8",
            "ad3b1bb33b0940f48a1bca461a92f41b",
            "7cdbf2949b1c4c498ee71c712ff578dc",
            "974a29544c1740ae9daa4342830b1c0d",
            "51ce9beae7b2410dbe85cd69e94920eb"
          ]
        },
        "id": "_rFx2RFM3aIC",
        "outputId": "d329b976-ae48-4006-d9f2-90c266dd570a"
      },
      "execution_count": 9,
      "outputs": [
        {
          "output_type": "display_data",
          "data": {
            "text/plain": [
              "interactive(children=(FloatSlider(value=2.0, description='Frecuencia:', max=5.0, min=0.1), Output()), _dom_cla…"
            ],
            "application/vnd.jupyter.widget-view+json": {
              "version_major": 2,
              "version_minor": 0,
              "model_id": "65fd7405f6514ecc8bcf1c53f7236d9e"
            }
          },
          "metadata": {}
        },
        {
          "output_type": "execute_result",
          "data": {
            "text/plain": [
              "<function __main__.plot(freq)>"
            ]
          },
          "metadata": {},
          "execution_count": 9
        }
      ]
    },
    {
      "cell_type": "code",
      "source": [
        "widgets.interact(plot, freq=widgets.FloatText(value=2, description='Frecuencia:'))\n"
      ],
      "metadata": {
        "colab": {
          "base_uri": "https://localhost:8080/",
          "height": 315,
          "referenced_widgets": [
            "b41c82793aad461bb87a7da76023beb6",
            "dcea9d83f78a417da092c906c48c6be4",
            "064be4c482e045239a496d841e3c9416",
            "e5f5d202a7a34b01aee4b388ac6d16ec",
            "29554c52994b4170bc3c53e3e6d19e87",
            "87d8a44a57484ed3baa93cd2ce76858a",
            "aeeff91d1e544bf4a8b38b26e627bcfd"
          ]
        },
        "id": "ObHak4T83gkg",
        "outputId": "b2e583cd-c523-4500-bc11-5156eef9d93c"
      },
      "execution_count": 10,
      "outputs": [
        {
          "output_type": "display_data",
          "data": {
            "text/plain": [
              "interactive(children=(FloatText(value=2.0, description='Frecuencia:'), Output()), _dom_classes=('widget-intera…"
            ],
            "application/vnd.jupyter.widget-view+json": {
              "version_major": 2,
              "version_minor": 0,
              "model_id": "b41c82793aad461bb87a7da76023beb6"
            }
          },
          "metadata": {}
        },
        {
          "output_type": "execute_result",
          "data": {
            "text/plain": [
              "<function __main__.plot(freq)>"
            ]
          },
          "metadata": {},
          "execution_count": 10
        }
      ]
    }
  ]
}