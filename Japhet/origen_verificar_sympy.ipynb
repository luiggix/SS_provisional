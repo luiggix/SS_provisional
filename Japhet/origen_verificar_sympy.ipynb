{
 "cells": [
  {
   "cell_type": "markdown",
   "id": "8a993db2-8acb-4af1-8dcc-a30accee92d1",
   "metadata": {},
   "source": [
    "# Prueba de evaluación usando sympy\n",
    "\n",
    "---\n",
    "\n",
    "## Funciones del tipo checksol()"
   ]
  },
  {
   "cell_type": "code",
   "execution_count": 1,
   "id": "2f48b750-10fb-4674-b303-7a92525513e1",
   "metadata": {
    "tags": []
   },
   "outputs": [],
   "source": [
    "import sympy as sy"
   ]
  },
  {
   "cell_type": "code",
   "execution_count": 2,
   "id": "a8533606-4fbb-448f-8601-b807f9280e66",
   "metadata": {
    "tags": []
   },
   "outputs": [],
   "source": [
    "x = sy.symbols('x', real=True)\n",
    "f = sy.Function('f', real=True)(x)"
   ]
  },
  {
   "cell_type": "markdown",
   "id": "366c368e-df93-4cab-a594-56d6392b44b1",
   "metadata": {
    "tags": []
   },
   "source": [
    "Construir una EDO"
   ]
  },
  {
   "cell_type": "code",
   "execution_count": 3,
   "id": "3eb351a3-14d1-49c2-98af-52c4051c1962",
   "metadata": {
    "tags": []
   },
   "outputs": [
    {
     "data": {
      "text/latex": [
       "$\\displaystyle - 4 f{\\left(x \\right)} + \\frac{d^{2}}{d x^{2}} f{\\left(x \\right)} = 2 e^{2 x} + 5 e^{- 2 x}$"
      ],
      "text/plain": [
       "Eq(-4*f(x) + Derivative(f(x), (x, 2)), 2*exp(2*x) + 5*exp(-2*x))"
      ]
     },
     "metadata": {},
     "output_type": "display_data"
    }
   ],
   "source": [
    "ode = sy.Eq(f.diff(x, 2) - 4 * f, 2 * sy.exp(2 * x) + 5 * sy.exp(- 2 * x))\n",
    "display(ode)"
   ]
  },
  {
   "cell_type": "markdown",
   "id": "14d37b43-bf22-46c7-99b5-90e5838b4165",
   "metadata": {},
   "source": [
    "Resolviendo por método de coeficientes indeterminados"
   ]
  },
  {
   "cell_type": "code",
   "execution_count": 4,
   "id": "0932d165-46cb-4427-b1d4-639e4f135f87",
   "metadata": {
    "tags": []
   },
   "outputs": [
    {
     "data": {
      "text/latex": [
       "$\\displaystyle - 4 f{\\left(x \\right)} + \\frac{d^{2}}{d x^{2}} f{\\left(x \\right)} = 0$"
      ],
      "text/plain": [
       "Eq(-4*f(x) + Derivative(f(x), (x, 2)), 0)"
      ]
     },
     "metadata": {},
     "output_type": "display_data"
    }
   ],
   "source": [
    "ode_ah = sy.Eq(ode.lhs, 0)\n",
    "display(ode_ah)"
   ]
  },
  {
   "cell_type": "code",
   "execution_count": 5,
   "id": "900aad57-dcc7-433e-bb37-2b644103f1d3",
   "metadata": {
    "tags": []
   },
   "outputs": [
    {
     "data": {
      "text/latex": [
       "$\\displaystyle D^{2} f{\\left(x \\right)} - 4 f{\\left(x \\right)} = 0$"
      ],
      "text/plain": [
       "Eq(D**2*f(x) - 4*f(x), 0)"
      ]
     },
     "metadata": {},
     "output_type": "display_data"
    }
   ],
   "source": [
    "D = sy.Symbol('D')\n",
    "edo_op = ode_ah.subs(f.diff(x,2), D**2 * f)\n",
    "display(edo_op)"
   ]
  },
  {
   "cell_type": "code",
   "execution_count": 6,
   "id": "f5a5797d-3460-4ed2-9d80-93a6b4970146",
   "metadata": {
    "tags": []
   },
   "outputs": [
    {
     "data": {
      "text/latex": [
       "$\\displaystyle m^{2} - 4 = 0$"
      ],
      "text/plain": [
       "Eq(m**2 - 4, 0)"
      ]
     },
     "metadata": {},
     "output_type": "display_data"
    }
   ],
   "source": [
    "m = sy.Symbol('m')\n",
    "ec_char = edo_op.subs({D: m, f:1})\n",
    "display(ec_char)"
   ]
  },
  {
   "cell_type": "code",
   "execution_count": 7,
   "id": "27df9364-3343-44e9-a976-ba28a87e5709",
   "metadata": {
    "tags": []
   },
   "outputs": [
    {
     "data": {
      "text/plain": [
       "{-2: 1, 2: 1}"
      ]
     },
     "metadata": {},
     "output_type": "display_data"
    }
   ],
   "source": [
    "roots = sy.roots(ec_char, m)\n",
    "display(roots)"
   ]
  },
  {
   "cell_type": "code",
   "execution_count": 8,
   "id": "aa69e589-8d1f-4571-81db-e3a6fca49374",
   "metadata": {
    "tags": []
   },
   "outputs": [
    {
     "data": {
      "text/latex": [
       "$\\displaystyle e^{- 2 x}$"
      ],
      "text/plain": [
       "exp(-2*x)"
      ]
     },
     "metadata": {},
     "output_type": "display_data"
    },
    {
     "data": {
      "text/latex": [
       "$\\displaystyle e^{2 x}$"
      ],
      "text/plain": [
       "exp(2*x)"
      ]
     },
     "metadata": {},
     "output_type": "display_data"
    }
   ],
   "source": [
    "a, b = [sy.exp(root * x) if times == 1 else [x**i * sy.exp(root * x) for i in range(times)] for root, times in roots.items()]\n",
    "display(a, b)"
   ]
  },
  {
   "cell_type": "code",
   "execution_count": 30,
   "id": "c2b09e59-1721-45e1-a8b0-383ff2210567",
   "metadata": {
    "tags": []
   },
   "outputs": [
    {
     "data": {
      "text/latex": [
       "$\\displaystyle f{\\left(x \\right)} = C_{1} e^{- 2 x} + C_{2} e^{2 x}$"
      ],
      "text/plain": [
       "Eq(f(x), C1*exp(-2*x) + C2*exp(2*x))"
      ]
     },
     "metadata": {},
     "output_type": "display_data"
    }
   ],
   "source": [
    "C1, C2 = sy.symbols('C(1:3)')\n",
    "sol_ah = sy.Eq(f, C1 * a + C2 * b)\n",
    "display(sol_ah)"
   ]
  },
  {
   "cell_type": "code",
   "execution_count": 31,
   "id": "d692a4b8-34bf-4c62-9f34-e63a7434719d",
   "metadata": {
    "tags": []
   },
   "outputs": [
    {
     "data": {
      "text/latex": [
       "$\\displaystyle \\left(m - 2\\right) \\left(m + 2\\right) \\left(m^{2} - 4\\right) = 0$"
      ],
      "text/plain": [
       "Eq((m - 2)*(m + 2)*(m**2 - 4), 0)"
      ]
     },
     "metadata": {},
     "output_type": "display_data"
    }
   ],
   "source": [
    "ec_char2 = sy.Eq(ec_char.lhs.factor() * ec_char.lhs, ec_char.rhs)\n",
    "display(ec_char2)"
   ]
  },
  {
   "cell_type": "code",
   "execution_count": 32,
   "id": "646af67b-6ad6-4ba0-b034-298dde47a525",
   "metadata": {
    "tags": []
   },
   "outputs": [
    {
     "data": {
      "text/plain": [
       "{2: 2, -2: 2}"
      ]
     },
     "metadata": {},
     "output_type": "display_data"
    }
   ],
   "source": [
    "roots2 = sy.roots(ec_char2, m)\n",
    "display(roots2)"
   ]
  },
  {
   "cell_type": "code",
   "execution_count": 33,
   "id": "05496681-0131-452e-a946-a644aac13cd1",
   "metadata": {
    "tags": []
   },
   "outputs": [
    {
     "data": {
      "text/latex": [
       "$\\displaystyle e^{- 2 x}$"
      ],
      "text/plain": [
       "exp(-2*x)"
      ]
     },
     "metadata": {},
     "output_type": "display_data"
    },
    {
     "data": {
      "text/latex": [
       "$\\displaystyle e^{2 x}$"
      ],
      "text/plain": [
       "exp(2*x)"
      ]
     },
     "metadata": {},
     "output_type": "display_data"
    },
    {
     "data": {
      "text/latex": [
       "$\\displaystyle x e^{- 2 x}$"
      ],
      "text/plain": [
       "x*exp(-2*x)"
      ]
     },
     "metadata": {},
     "output_type": "display_data"
    },
    {
     "data": {
      "text/latex": [
       "$\\displaystyle x e^{2 x}$"
      ],
      "text/plain": [
       "x*exp(2*x)"
      ]
     },
     "metadata": {},
     "output_type": "display_data"
    }
   ],
   "source": [
    "(b, d), (a, c) = [sy.exp(root * x) if times == 1 else [x**i * sy.exp(root * x) for i in range(times)] for root, times in roots2.items()]\n",
    "display(a, b, c, d)"
   ]
  },
  {
   "cell_type": "code",
   "execution_count": 34,
   "id": "9f2240a7-470c-452e-b2f7-28ffd1367848",
   "metadata": {
    "tags": []
   },
   "outputs": [
    {
     "data": {
      "text/latex": [
       "$\\displaystyle f{\\left(x \\right)} = C_{1} e^{- 2 x} + C_{2} e^{2 x} + C_{3} x e^{- 2 x} + C_{4} x e^{2 x}$"
      ],
      "text/plain": [
       "Eq(f(x), C1*exp(-2*x) + C2*exp(2*x) + C3*x*exp(-2*x) + C4*x*exp(2*x))"
      ]
     },
     "metadata": {},
     "output_type": "display_data"
    }
   ],
   "source": [
    "C3, C4 = sy.symbols('C(3:5)')\n",
    "sol_anh = sy.Eq(f, C1 * a + C2 * b + C3 * c + C4 * d)\n",
    "display(sol_anh)"
   ]
  },
  {
   "cell_type": "code",
   "execution_count": 35,
   "id": "3b58ff92-2a8d-4fd8-bb9c-8c9e7e8c42ce",
   "metadata": {
    "tags": []
   },
   "outputs": [
    {
     "data": {
      "text/latex": [
       "$\\displaystyle f{\\left(x \\right)} = A x e^{- 2 x} + B x e^{2 x}$"
      ],
      "text/plain": [
       "Eq(f(x), A*x*exp(-2*x) + B*x*exp(2*x))"
      ]
     },
     "metadata": {},
     "output_type": "display_data"
    }
   ],
   "source": [
    "A, B = sy.symbols('A B')\n",
    "sol_pq = sy.Eq(f, (sol_anh.rhs - sol_ah.rhs).subs({C3:A, C4:B}))\n",
    "display(sol_pq)"
   ]
  },
  {
   "cell_type": "code",
   "execution_count": 36,
   "id": "69f5d715-3513-4857-a027-73005f195520",
   "metadata": {
    "tags": []
   },
   "outputs": [
    {
     "data": {
      "text/latex": [
       "$\\displaystyle 2 e^{2 x} + 5 e^{- 2 x} = - 4 A e^{- 2 x} + 4 B e^{2 x}$"
      ],
      "text/plain": [
       "Eq(2*exp(2*x) + 5*exp(-2*x), -4*A*exp(-2*x) + 4*B*exp(2*x))"
      ]
     },
     "metadata": {},
     "output_type": "display_data"
    }
   ],
   "source": [
    "pars = ode.subs(f, sol_pq.rhs).simplify().expand()\n",
    "display(pars)"
   ]
  },
  {
   "cell_type": "code",
   "execution_count": 37,
   "id": "bb51ca09-b5aa-467d-a585-17f3e3705ed1",
   "metadata": {
    "tags": []
   },
   "outputs": [
    {
     "data": {
      "text/latex": [
       "$\\displaystyle - \\frac{5}{4}$"
      ],
      "text/plain": [
       "-5/4"
      ]
     },
     "metadata": {},
     "output_type": "display_data"
    },
    {
     "data": {
      "text/latex": [
       "$\\displaystyle \\frac{1}{2}$"
      ],
      "text/plain": [
       "1/2"
      ]
     },
     "metadata": {},
     "output_type": "display_data"
    }
   ],
   "source": [
    "parA, parB = [sy.solve(sy.Eq(pars.lhs.coeff(sy.exp(root * x), 1), pars.rhs.coeff(sy.exp(root * x), 1)), par)[0] for root, par in zip(roots, [A, B])]\n",
    "display(parA, parB)"
   ]
  },
  {
   "cell_type": "markdown",
   "id": "e4ba35cb-f75b-42d1-8f9e-1b785afb2c8d",
   "metadata": {},
   "source": [
    "Solución del alumno"
   ]
  },
  {
   "cell_type": "code",
   "execution_count": 38,
   "id": "94ddc4d9-96ef-48fe-9457-00286bd81061",
   "metadata": {
    "tags": []
   },
   "outputs": [
    {
     "data": {
      "text/latex": [
       "$\\displaystyle f{\\left(x \\right)} = C_{1} e^{- 2 x} + C_{2} e^{2 x} + \\frac{x e^{2 x}}{2} - \\frac{5 x e^{- 2 x}}{4}$"
      ],
      "text/plain": [
       "Eq(f(x), C1*exp(-2*x) + C2*exp(2*x) + x*exp(2*x)/2 - 5*x*exp(-2*x)/4)"
      ]
     },
     "metadata": {},
     "output_type": "display_data"
    }
   ],
   "source": [
    "gensol_nh = sy.Eq(f, sol_ah.rhs + sol_pq.rhs.subs({A:parA, B:parB}))\n",
    "display(gensol_nh)"
   ]
  },
  {
   "cell_type": "markdown",
   "id": "3c5b5a31-529b-4027-b4f1-3b92b5b341f3",
   "metadata": {},
   "source": [
    "Solución de SymPy"
   ]
  },
  {
   "cell_type": "code",
   "execution_count": 39,
   "id": "1f29aed5-6b67-468e-b91a-71194acf6f10",
   "metadata": {
    "tags": []
   },
   "outputs": [
    {
     "data": {
      "text/latex": [
       "$\\displaystyle f{\\left(x \\right)} = \\left(C_{1} - \\frac{5 x}{4}\\right) e^{- 2 x} + \\left(C_{2} + \\frac{x}{2}\\right) e^{2 x}$"
      ],
      "text/plain": [
       "Eq(f(x), (C1 - 5*x/4)*exp(-2*x) + (C2 + x/2)*exp(2*x))"
      ]
     },
     "execution_count": 39,
     "metadata": {},
     "output_type": "execute_result"
    }
   ],
   "source": [
    "sy.dsolve(ode, f)"
   ]
  },
  {
   "cell_type": "markdown",
   "id": "792b0a0b-f01e-4edb-8e02-46408374d303",
   "metadata": {},
   "source": [
    "Built-in function de SymPy para evaluar expresiones"
   ]
  },
  {
   "cell_type": "code",
   "execution_count": 40,
   "id": "789bfa82-cfd7-4724-9dae-6c988042a09b",
   "metadata": {
    "tags": []
   },
   "outputs": [
    {
     "data": {
      "text/plain": [
       "(True, 0)"
      ]
     },
     "execution_count": 40,
     "metadata": {},
     "output_type": "execute_result"
    }
   ],
   "source": [
    "sy.checkodesol(ode, gensol_nh)\n",
    "# ode: ecuación diferencial original\n",
    "# gensol_nh: solución obtenida por el alumno"
   ]
  },
  {
   "cell_type": "markdown",
   "id": "3adcaa1a-9666-4fc9-a654-e9cf644a51e5",
   "metadata": {},
   "source": [
    "## ¿Cómo evaluar la respuesta del alumno?"
   ]
  },
  {
   "cell_type": "code",
   "execution_count": 20,
   "id": "9a8cf35a-71bd-43ad-a359-d6f255ee5531",
   "metadata": {
    "tags": []
   },
   "outputs": [],
   "source": [
    "import sympy as sy"
   ]
  },
  {
   "cell_type": "code",
   "execution_count": 21,
   "id": "b4534080-1d16-46ce-832c-1280cd27f622",
   "metadata": {
    "tags": []
   },
   "outputs": [],
   "source": [
    "x, y = sy.symbols('x y')\n",
    "f = sy.Function('f')(x)\n",
    "u = sy.Function('u')(x, y)"
   ]
  },
  {
   "cell_type": "code",
   "execution_count": 22,
   "id": "840dd141-8b5b-4139-af7f-f2f8cd382940",
   "metadata": {
    "tags": []
   },
   "outputs": [],
   "source": [
    "equation = sy.Eq(2 * x**2, 4 + x)\n",
    "ode = sy.Eq(f.diff(x, 2) + 7 * f.diff(x) + 10 * f, sy.exp(3 * x))\n",
    "pde = sy.Eq(x * u.diff(x) - y * u.diff(y) + x**2 * u, y**2)"
   ]
  },
  {
   "cell_type": "code",
   "execution_count": 23,
   "id": "a02bc35a-7930-4864-86c3-dca26f1c33f8",
   "metadata": {
    "tags": []
   },
   "outputs": [
    {
     "data": {
      "text/latex": [
       "$\\displaystyle 2 x^{2} = x + 4$"
      ],
      "text/plain": [
       "Eq(2*x**2, x + 4)"
      ]
     },
     "metadata": {},
     "output_type": "display_data"
    },
    {
     "data": {
      "text/latex": [
       "$\\displaystyle 10 f{\\left(x \\right)} + 7 \\frac{d}{d x} f{\\left(x \\right)} + \\frac{d^{2}}{d x^{2}} f{\\left(x \\right)} = e^{3 x}$"
      ],
      "text/plain": [
       "Eq(10*f(x) + 7*Derivative(f(x), x) + Derivative(f(x), (x, 2)), exp(3*x))"
      ]
     },
     "metadata": {},
     "output_type": "display_data"
    },
    {
     "data": {
      "text/latex": [
       "$\\displaystyle x^{2} u{\\left(x,y \\right)} + x \\frac{\\partial}{\\partial x} u{\\left(x,y \\right)} - y \\frac{\\partial}{\\partial y} u{\\left(x,y \\right)} = y^{2}$"
      ],
      "text/plain": [
       "Eq(x**2*u(x, y) + x*Derivative(u(x, y), x) - y*Derivative(u(x, y), y), y**2)"
      ]
     },
     "metadata": {},
     "output_type": "display_data"
    }
   ],
   "source": [
    "display(equation, ode, pde)"
   ]
  },
  {
   "cell_type": "markdown",
   "id": "aed54db7-5490-419d-86eb-f0f5bf11142d",
   "metadata": {
    "tags": []
   },
   "source": [
    "Verificar si la expresión contiene una derivada"
   ]
  },
  {
   "cell_type": "code",
   "execution_count": 24,
   "id": "8a5ed0fe-5db8-4dd2-95bb-71cdea166b9a",
   "metadata": {
    "tags": []
   },
   "outputs": [],
   "source": [
    "def whatis(expr):\n",
    "    if isinstance(expr, sy.Basic): # verificar que la expresión sea una expresión de SymPy\n",
    "        if expr.atoms(sy.Derivative): # verificar si la expresión contiene una derivada\n",
    "            return True # es una ODE/PDE\n",
    "        else:\n",
    "            return False # es una expresión/ecuación\n",
    "    else:\n",
    "        return False # es un sistema de ecuaciones"
   ]
  },
  {
   "cell_type": "markdown",
   "id": "c41d539f-e695-45d7-936f-1b94eb2efb13",
   "metadata": {},
   "source": [
    "Si la expresión contiene la clase ```Derivative```, estamos ante una ODE/PDE. Si no, es una simple ecuación lineal/no lineal"
   ]
  },
  {
   "cell_type": "markdown",
   "id": "5451021b-d83f-4e7c-a453-a978c1dfe79b",
   "metadata": {},
   "source": [
    "Se define una función que permita corroborar el resultado obtenido por el alumno.\n",
    "\n",
    "Esta consiste de estructuras ```try/except``` e ```if/else``` anidadas, a manera de poder revisar con detenimiento todos los casos presentes."
   ]
  },
  {
   "cell_type": "code",
   "execution_count": 25,
   "id": "1bb03aba-918e-4c9f-9597-c9d260676fbc",
   "metadata": {
    "tags": []
   },
   "outputs": [],
   "source": [
    "def verificar_sympy(problema, solucion):\n",
    "    # Caso para ODEs/PDEs\n",
    "    if whatis(problema):\n",
    "        # Caso para ODEs\n",
    "        try:\n",
    "            # Se intenta clasificar la ODE (PDEs no pasan esta prueba), por lo\n",
    "            # que se realiza esta prueba primero. Además, las soluciones de PDEs\n",
    "            # pasan la prueba de checkodesol, pero con resultado False\n",
    "            sy.classify_ode(problema)\n",
    "            # Se verifica la solución de la ODE. En caso de existir algún error con\n",
    "            # la entrada, entrará el except del bloque anidado, dado que si el \n",
    "            # problema fuese una PDE, la línea anterior habría entrado al except \n",
    "            # de este bloque\n",
    "            if not sy.checkodesol(problema, solucion)[0]:\n",
    "                return print('Revisa tu solución')\n",
    "            else:\n",
    "                return print('¡Excelente! Tu solución es correcta')\n",
    "        except Exception:\n",
    "            # Caso para PDEs\n",
    "            try:\n",
    "                # Se intenta clasificar la PDE (ODEs no pasan esta prueba)\n",
    "                # Contrario al caso anterior, las soluciones de ODEs no pasan\n",
    "                # la prueba de checkpdesol.\n",
    "                sy.classify_pde(problema)\n",
    "                # Se intenta verificar la solución de la PDE. En caso de existir\n",
    "                # algún error en la entrada, entrará el except\n",
    "                if not sy.checkpdesol(problema, solucion)[0]:\n",
    "                    return print('Revisa tu solución')\n",
    "                else:\n",
    "                    return print('¡Excelente! Tu solución es correcta')\n",
    "            except Exception:\n",
    "                # La entrada presenta un error, se debe revisar por el usuario\n",
    "                print('Ha ocurrido un error. Revisa tu entrada')\n",
    "    # Caso para ecuaciones/sistemas de ecuaciones\n",
    "    else:\n",
    "        try:\n",
    "            # Para pasar el bloque try, debe cumplirse el siguiente caso:\n",
    "            # - El problema depende de sólo n variables, es un problema lineal y\n",
    "            #   existe sólo una solución\n",
    "            # Esto dado a que la verificación asume que la solución que recibe es\n",
    "            # un diccionario. En caso de que la solución sea una lista de diccionarios\n",
    "            # entrará en el bloque except\n",
    "            if sy.checksol(problema, solucion):\n",
    "                return print('¡Excelente! Tu solución es correcta')\n",
    "            else:\n",
    "                return print('Revisa tu solución')\n",
    "        except Exception:\n",
    "            # Para entrar al bloque except, debe presentarse el siguiente caso:\n",
    "            # - El problema depende de n variables, pero no es un problema lineal por lo\n",
    "            #   que existe más de una solución\n",
    "            # Por ende, se revisa primero que la solución sea una lista (los diccionarios\n",
    "            # tienen len(dict) = 1). En dicho caso, se almacena el resultado de todas las\n",
    "            # soluciones en una lista y después se verifica que todos los elementos de la\n",
    "            # lista tengan valor True.\n",
    "            if len(solucion) > 1:\n",
    "                resultado = [sy.checksol(problema, sol) for sol in solucion]\n",
    "                if all(resultado):\n",
    "                    return print('¡Excelente! Tu solución es correcta')\n",
    "                else:\n",
    "                    return print('Revisa tu solución')\n",
    "            else:\n",
    "                # Si se entra a este caso, existe un error en la entrada y esta debe ser\n",
    "                # revisada por el usuario\n",
    "                return print('Ha ocurrido un error. Revisa tu entrada')"
   ]
  },
  {
   "cell_type": "markdown",
   "id": "bfc45e50-4465-4016-97ff-d2c87537ecc9",
   "metadata": {},
   "source": [
    "Verificando la solución de la ODE (generada por sympy)"
   ]
  },
  {
   "cell_type": "code",
   "execution_count": 26,
   "id": "fd2b078c-cfbd-449c-abe2-d85265651edc",
   "metadata": {
    "tags": []
   },
   "outputs": [
    {
     "data": {
      "text/latex": [
       "$\\displaystyle f{\\left(x \\right)} = C_{1} e^{- 5 x} + C_{2} e^{- 2 x} + \\frac{e^{3 x}}{40}$"
      ],
      "text/plain": [
       "Eq(f(x), C1*exp(-5*x) + C2*exp(-2*x) + exp(3*x)/40)"
      ]
     },
     "metadata": {},
     "output_type": "display_data"
    }
   ],
   "source": [
    "ode_sol = sy.dsolve(ode, f)\n",
    "display(ode_sol)"
   ]
  },
  {
   "cell_type": "code",
   "execution_count": 27,
   "id": "24e2e60e-ca29-48c5-bc47-62b42d3da489",
   "metadata": {
    "tags": []
   },
   "outputs": [
    {
     "name": "stdout",
     "output_type": "stream",
     "text": [
      "¡Excelente! Tu solución es correcta\n"
     ]
    }
   ],
   "source": [
    "verificar_sympy(ode, ode_sol)"
   ]
  },
  {
   "cell_type": "markdown",
   "id": "6465c481-8ec0-46f1-8932-30be383ef176",
   "metadata": {},
   "source": [
    "Verificando la solución de la PDE (generada por sympy)"
   ]
  },
  {
   "cell_type": "code",
   "execution_count": 28,
   "id": "11ad6f75-b371-4721-af47-b43f693e8776",
   "metadata": {
    "tags": []
   },
   "outputs": [
    {
     "data": {
      "text/latex": [
       "$\\displaystyle u{\\left(x,y \\right)} = \\left(\\frac{y^{2} \\left(x^{2} \\operatorname{Ei}{\\left(\\frac{x^{2}}{2} \\right)} - 2 e^{\\frac{x^{2}}{2}}\\right)}{4} + F{\\left(x y \\right)}\\right) e^{- \\frac{x^{2}}{2}}$"
      ],
      "text/plain": [
       "Eq(u(x, y), (y**2*(x**2*Ei(x**2/2) - 2*exp(x**2/2))/4 + F(x*y))*exp(-x**2/2))"
      ]
     },
     "metadata": {},
     "output_type": "display_data"
    }
   ],
   "source": [
    "# La PDE utilizada para este ejemplo es una PDE de primer orden\n",
    "# dado que pdesolve sólo puede resolver este tipo de ecuaciones\n",
    "pde_sol = sy.pdsolve(pde)\n",
    "display(pde_sol)"
   ]
  },
  {
   "cell_type": "code",
   "execution_count": 29,
   "id": "55d8bf25-b653-4be8-aaf3-34f080caab18",
   "metadata": {
    "tags": []
   },
   "outputs": [
    {
     "name": "stdout",
     "output_type": "stream",
     "text": [
      "¡Excelente! Tu solución es correcta\n"
     ]
    }
   ],
   "source": [
    "verificar_sympy(pde, pde_sol)"
   ]
  },
  {
   "cell_type": "markdown",
   "id": "2d22dfe7-f987-44d2-8e8a-1f2830980761",
   "metadata": {},
   "source": [
    "Verificar la solución de una ecuación no lineal de una sola variable"
   ]
  },
  {
   "cell_type": "code",
   "execution_count": 30,
   "id": "f63643e2-78a7-4a80-bb99-33cc940b16cb",
   "metadata": {
    "tags": []
   },
   "outputs": [
    {
     "data": {
      "text/plain": [
       "{x: 1/4 - sqrt(33)/4}"
      ]
     },
     "metadata": {},
     "output_type": "display_data"
    },
    {
     "data": {
      "text/plain": [
       "{x: 1/4 + sqrt(33)/4}"
      ]
     },
     "metadata": {},
     "output_type": "display_data"
    }
   ],
   "source": [
    "eq_sol = sy.solve(equation, dict=True)\n",
    "display(*eq_sol)"
   ]
  },
  {
   "cell_type": "code",
   "execution_count": 31,
   "id": "160790a4-dd0d-4be3-9487-6ce757869276",
   "metadata": {
    "tags": []
   },
   "outputs": [
    {
     "name": "stdout",
     "output_type": "stream",
     "text": [
      "¡Excelente! Tu solución es correcta\n"
     ]
    }
   ],
   "source": [
    "verificar_sympy(equation, eq_sol)"
   ]
  },
  {
   "cell_type": "markdown",
   "id": "0af47af0-81db-41a4-818d-c5432dd0490d",
   "metadata": {},
   "source": [
    "Verificar la solución de una ecuación lineal de dos variables"
   ]
  },
  {
   "cell_type": "code",
   "execution_count": 32,
   "id": "df384ea6-de55-48fc-b4f5-9904e74d805c",
   "metadata": {
    "tags": []
   },
   "outputs": [
    {
     "data": {
      "text/latex": [
       "$\\displaystyle x + y = 2 z$"
      ],
      "text/plain": [
       "Eq(x + y, 2*z)"
      ]
     },
     "metadata": {},
     "output_type": "display_data"
    },
    {
     "data": {
      "text/latex": [
       "$\\displaystyle y = - 4 z$"
      ],
      "text/plain": [
       "Eq(y, -4*z)"
      ]
     },
     "metadata": {},
     "output_type": "display_data"
    }
   ],
   "source": [
    "z = sy.Symbol('z')\n",
    "equation2 = sy.Eq(x + y, 2*z), sy.Eq(y, -4*z)\n",
    "display(*equation2)"
   ]
  },
  {
   "cell_type": "code",
   "execution_count": 33,
   "id": "50b44628-2eae-4cbe-b000-76dc3d7c02ea",
   "metadata": {
    "tags": []
   },
   "outputs": [
    {
     "data": {
      "text/plain": [
       "{x: 6*z, y: -4*z}"
      ]
     },
     "metadata": {},
     "output_type": "display_data"
    }
   ],
   "source": [
    "eq2_sol = sy.solve(equation2)\n",
    "display(eq2_sol)"
   ]
  },
  {
   "cell_type": "code",
   "execution_count": 34,
   "id": "2894a9ae-5d00-47fe-a38c-57ecfc430cbb",
   "metadata": {
    "tags": []
   },
   "outputs": [
    {
     "name": "stdout",
     "output_type": "stream",
     "text": [
      "¡Excelente! Tu solución es correcta\n"
     ]
    }
   ],
   "source": [
    "verificar_sympy(equation2, eq2_sol)"
   ]
  },
  {
   "cell_type": "markdown",
   "id": "9bdf8d0a-bf22-4100-a75c-3bb3f733f895",
   "metadata": {},
   "source": [
    "Verificar la solución de una ecuación no lineal de dos variables"
   ]
  },
  {
   "cell_type": "code",
   "execution_count": 35,
   "id": "a64c9873-7f2c-4c7f-94c8-e124a60c5d5d",
   "metadata": {
    "tags": []
   },
   "outputs": [
    {
     "data": {
      "text/latex": [
       "$\\displaystyle x^{2} + y^{2} = 2 z$"
      ],
      "text/plain": [
       "Eq(x**2 + y**2, 2*z)"
      ]
     },
     "metadata": {},
     "output_type": "display_data"
    },
    {
     "data": {
      "text/latex": [
       "$\\displaystyle y^{2} = - 4 z$"
      ],
      "text/plain": [
       "Eq(y**2, -4*z)"
      ]
     },
     "metadata": {},
     "output_type": "display_data"
    }
   ],
   "source": [
    "equation3 = sy.Eq(x**2 + y**2, 2*z), sy.Eq(y**2, -4*z)\n",
    "display(*equation3)"
   ]
  },
  {
   "cell_type": "code",
   "execution_count": 36,
   "id": "b8175b31-d1f2-438a-b139-35f92413de3a",
   "metadata": {
    "tags": []
   },
   "outputs": [
    {
     "data": {
      "text/plain": [
       "{x: -sqrt(6)*sqrt(z), y: -2*sqrt(-z)}"
      ]
     },
     "metadata": {},
     "output_type": "display_data"
    },
    {
     "data": {
      "text/plain": [
       "{x: -sqrt(6)*sqrt(z), y: 2*sqrt(-z)}"
      ]
     },
     "metadata": {},
     "output_type": "display_data"
    },
    {
     "data": {
      "text/plain": [
       "{x: sqrt(6)*sqrt(z), y: -2*sqrt(-z)}"
      ]
     },
     "metadata": {},
     "output_type": "display_data"
    },
    {
     "data": {
      "text/plain": [
       "{x: sqrt(6)*sqrt(z), y: 2*sqrt(-z)}"
      ]
     },
     "metadata": {},
     "output_type": "display_data"
    }
   ],
   "source": [
    "eq3_sol = sy.solve(equation3)\n",
    "display(*eq3_sol)"
   ]
  },
  {
   "cell_type": "code",
   "execution_count": 37,
   "id": "e5e539c3-8a31-4b9e-bc7d-ca5b61df509f",
   "metadata": {
    "tags": []
   },
   "outputs": [
    {
     "name": "stdout",
     "output_type": "stream",
     "text": [
      "¡Excelente! Tu solución es correcta\n"
     ]
    }
   ],
   "source": [
    "verificar_sympy(equation3, eq3_sol)"
   ]
  }
 ],
 "metadata": {
  "kernelspec": {
   "display_name": "Python 3 (ipykernel)",
   "language": "python",
   "name": "python3"
  },
  "language_info": {
   "codemirror_mode": {
    "name": "ipython",
    "version": 3
   },
   "file_extension": ".py",
   "mimetype": "text/x-python",
   "name": "python",
   "nbconvert_exporter": "python",
   "pygments_lexer": "ipython3",
   "version": "3.10.9"
  }
 },
 "nbformat": 4,
 "nbformat_minor": 5
}
