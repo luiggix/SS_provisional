{
 "cells": [
  {
   "cell_type": "markdown",
   "id": "b9edbaa2",
   "metadata": {},
   "source": [
    "# Ipywidgets: Breve introducción\n",
    "\n",
    "**C03 : Visualización Científica y Narrativas**\n",
    "\n",
    "**RAUGM 2021: Geociencias e inclusión**\n",
    "\n",
    "This tutotial by Luis M. de la Cruz Salas is licensed under <a href=\"https://creativecommons.org/licenses/by-nc-nd/4.0?ref=chooser-v1\">Attribution-NonCommercial-NoDerivatives 4.0 International</a>\n",
    "\n",
    "Revisón rápida del uso de algunos widgets de Ipywidgets"
   ]
  },
  {
   "cell_type": "code",
   "execution_count": 1,
   "id": "39f9f7e6",
   "metadata": {},
   "outputs": [],
   "source": [
    "import ipywidgets as widgets\n",
    "import matplotlib.pyplot as plt\n",
    "import numpy as np"
   ]
  },
  {
   "cell_type": "markdown",
   "id": "b04c32ff",
   "metadata": {},
   "source": [
    "Los **Widgets** pueden ser creados ya sea directamente o a través de la función `interact`.\n",
    "\n",
    "`interact`: crea automáticamente una interfaz de usuario (*user interface*, UI) con controles para explorar el código y los datos de manera interactiva. \n",
    "\n",
    "Argumentos:\n",
    "- Una función `f`.\n",
    "- Los argumentos de la función `f`.\n",
    "\n",
    "### Ejemplo 01:\n",
    "Creamos una función que despliega la opción que se elije en la interfaz creada por interact."
   ]
  },
  {
   "cell_type": "code",
   "execution_count": 2,
   "id": "1a01afab",
   "metadata": {},
   "outputs": [
    {
     "data": {
      "application/vnd.jupyter.widget-view+json": {
       "model_id": "71c211081c8d4226bb5006039a414c2d",
       "version_major": 2,
       "version_minor": 0
      },
      "text/plain": [
       "interactive(children=(Dropdown(description='opcion', options=('Luis', 'Miguel', 'Juan'), value='Luis'), Output…"
      ]
     },
     "metadata": {},
     "output_type": "display_data"
    }
   ],
   "source": [
    "# Función que será pasada como argumento a interact\n",
    "def seleccion(opcion):\n",
    "    \"\"\"\n",
    "    Imprime el valor del widget actual en un enunciado corto.\n",
    "    \"\"\"\n",
    "    print(f'Elegiste: {opcion}')\n",
    "    \n",
    "# Creamos el menú con una lista de argumentos:\n",
    "widgets.interact(seleccion, opcion=[\"Luis\", \"Miguel\", \"Juan\"]);"
   ]
  },
  {
   "cell_type": "markdown",
   "id": "1f112cbd",
   "metadata": {},
   "source": [
    "Observe que los argumentos que se están pasando a la función `seleccion()` es una lista de cadenas. Dados estos argumentos, `interact` crea un menú desplegable (*drop-down* o *pull-down*). Cuando se elije una de las opciones del menú, inmediatamente se ejecuta la función `selección()` (función que generalmente se conoce como *callback*) y en este caso se imprime lo que se elige. \n",
    "\n",
    "La función `interact` creará la UI dependiendo de los argumentos. Veamos otros ejemplos:"
   ]
  },
  {
   "cell_type": "code",
   "execution_count": 3,
   "id": "3b3714af",
   "metadata": {},
   "outputs": [
    {
     "data": {
      "application/vnd.jupyter.widget-view+json": {
       "model_id": "7c44ffaf0b7e4510a41fa7d5be28de29",
       "version_major": 2,
       "version_minor": 0
      },
      "text/plain": [
       "interactive(children=(Dropdown(description='opcion', options=(0, 1, 2, 3, 4), value=0), Output()), _dom_classe…"
      ]
     },
     "metadata": {},
     "output_type": "display_data"
    },
    {
     "data": {
      "application/vnd.jupyter.widget-view+json": {
       "model_id": "266f56b03ee9437cbe0b69fe4a71ee6d",
       "version_major": 2,
       "version_minor": 0
      },
      "text/plain": [
       "interactive(children=(IntSlider(value=5, description='opcion', max=10, step=5), Output()), _dom_classes=('widg…"
      ]
     },
     "metadata": {},
     "output_type": "display_data"
    },
    {
     "data": {
      "application/vnd.jupyter.widget-view+json": {
       "model_id": "2a22a58c2a754d5aaa7bd86995533d01",
       "version_major": 2,
       "version_minor": 0
      },
      "text/plain": [
       "interactive(children=(FloatSlider(value=5.0, description='opcion', max=10.0, step=0.5), Output()), _dom_classe…"
      ]
     },
     "metadata": {},
     "output_type": "display_data"
    },
    {
     "data": {
      "application/vnd.jupyter.widget-view+json": {
       "model_id": "b60c9263e2da43739dda7882b79842f9",
       "version_major": 2,
       "version_minor": 0
      },
      "text/plain": [
       "interactive(children=(Dropdown(description='opcion', options=(1.0, 1.125, 1.25, 1.375, 1.5, 1.625, 1.75, 1.875…"
      ]
     },
     "metadata": {},
     "output_type": "display_data"
    },
    {
     "data": {
      "application/vnd.jupyter.widget-view+json": {
       "model_id": "2bd15db102a547cd927c89a764fd2c2a",
       "version_major": 2,
       "version_minor": 0
      },
      "text/plain": [
       "interactive(children=(Checkbox(value=True, description='opcion'), Output()), _dom_classes=('widget-interact',)…"
      ]
     },
     "metadata": {},
     "output_type": "display_data"
    },
    {
     "data": {
      "text/plain": [
       "<function __main__.seleccion(opcion)>"
      ]
     },
     "execution_count": 3,
     "metadata": {},
     "output_type": "execute_result"
    }
   ],
   "source": [
    "# Crea un IntSlider con una lista de enteros.\n",
    "widgets.interact(seleccion, opcion=[0, 1, 2, 3, 4])\n",
    "\n",
    "# Crea un IntSlider con una tupla de enteros.\n",
    "widgets.interact(seleccion, opcion=(0, 10, 5))\n",
    "\n",
    "# Crea un FloatSlider con una tupla de flotantes.\n",
    "widgets.interact(seleccion, opcion=(0, 10, .5))\n",
    "\n",
    "# Crea un FloatSlider con una arrelgo de numpy\n",
    "widgets.interact(seleccion, opcion=np.linspace(1,2,9))\n",
    "\n",
    "# Crea un CheckBox con el valor True.\n",
    "widgets.interact(seleccion, opcion=True)"
   ]
  },
  {
   "cell_type": "markdown",
   "id": "a297d757",
   "metadata": {},
   "source": [
    "Las UI que genera `interact` dependen entonces de los argumentos que le pasemos a la función *callback* y esta última puede tener argumentos de distintos tipos.\n",
    "\n",
    "### Ejemplo 02.\n",
    "Definir una función con tres de argumentos de distinto tipo y usarla para generar una UI usando `interact`."
   ]
  },
  {
   "cell_type": "code",
   "execution_count": 4,
   "id": "f246891b",
   "metadata": {},
   "outputs": [
    {
     "data": {
      "application/vnd.jupyter.widget-view+json": {
       "model_id": "916f511fdbe24e5ca836cb140962f3ee",
       "version_major": 2,
       "version_minor": 0
      },
      "text/plain": [
       "interactive(children=(Dropdown(description='a', options=(0.0, 0.25, 0.5, 0.75, 1.0), value=0.0), Dropdown(desc…"
      ]
     },
     "metadata": {},
     "output_type": "display_data"
    },
    {
     "data": {
      "text/plain": [
       "<function __main__.tres_argumentos(a, b, c)>"
      ]
     },
     "execution_count": 4,
     "metadata": {},
     "output_type": "execute_result"
    }
   ],
   "source": [
    "def tres_argumentos(a, b, c):\n",
    "    return (a, b, c)\n",
    " \n",
    "widgets.interact(\n",
    "    tres_argumentos, \n",
    "    a = np.linspace(0,1,5), \n",
    "    b = [chr(0x3B1), chr(0x3B2), chr(0x3B3), chr(0x3C0), chr(0x3C1)],\n",
    "    c = False\n",
    ")"
   ]
  },
  {
   "cell_type": "markdown",
   "id": "ca8f17f8",
   "metadata": {},
   "source": [
    "Es posible fijar uno de los argumentos en un valor, en cuyo caso la UI se modifica de tal manera que el usuario no tiene la posibilidad de cambiar dicho valor."
   ]
  },
  {
   "cell_type": "code",
   "execution_count": 5,
   "id": "3f3a9706",
   "metadata": {},
   "outputs": [
    {
     "data": {
      "application/vnd.jupyter.widget-view+json": {
       "model_id": "9e63097c89604158ab94284c9da0db6b",
       "version_major": 2,
       "version_minor": 0
      },
      "text/plain": [
       "interactive(children=(Dropdown(description='a', options=(0.0, 0.25, 0.5, 0.75, 1.0), value=0.0), Dropdown(desc…"
      ]
     },
     "metadata": {},
     "output_type": "display_data"
    },
    {
     "data": {
      "text/plain": [
       "<function __main__.tres_argumentos(a, b, c)>"
      ]
     },
     "execution_count": 5,
     "metadata": {},
     "output_type": "execute_result"
    }
   ],
   "source": [
    "widgets.interact(\n",
    "    tres_argumentos, \n",
    "    a = np.linspace(0,1,5), \n",
    "    b = [chr(0x3B1), chr(0x3B2), chr(0x3B3), chr(0x3C0), chr(0x3C1)],\n",
    "    c = widgets.fixed(False)\n",
    ")"
   ]
  },
  {
   "cell_type": "markdown",
   "id": "077bd8aa",
   "metadata": {},
   "source": [
    "## ¿Qué wigdets podemos usar"
   ]
  },
  {
   "cell_type": "code",
   "execution_count": 6,
   "id": "ffc95312",
   "metadata": {},
   "outputs": [
    {
     "data": {
      "text/plain": [
       "['Accordion',\n",
       " 'AppLayout',\n",
       " 'Audio',\n",
       " 'BoundedFloatText',\n",
       " 'BoundedIntText',\n",
       " 'Box',\n",
       " 'Button',\n",
       " 'ButtonStyle',\n",
       " 'CallbackDispatcher',\n",
       " 'Checkbox',\n",
       " 'Color',\n",
       " 'ColorPicker',\n",
       " 'Combobox',\n",
       " 'Controller',\n",
       " 'CoreWidget',\n",
       " 'DOMWidget',\n",
       " 'DatePicker',\n",
       " 'Datetime',\n",
       " 'Dropdown',\n",
       " 'FileUpload',\n",
       " 'FloatLogSlider',\n",
       " 'FloatProgress',\n",
       " 'FloatRangeSlider',\n",
       " 'FloatSlider',\n",
       " 'FloatText',\n",
       " 'GridBox',\n",
       " 'GridspecLayout',\n",
       " 'HBox',\n",
       " 'HTML',\n",
       " 'HTMLMath',\n",
       " 'Image',\n",
       " 'IntProgress',\n",
       " 'IntRangeSlider',\n",
       " 'IntSlider',\n",
       " 'IntText',\n",
       " 'Label',\n",
       " 'Layout',\n",
       " 'NumberFormat',\n",
       " 'Output',\n",
       " 'Password',\n",
       " 'Play',\n",
       " 'RadioButtons',\n",
       " 'Select',\n",
       " 'SelectMultiple',\n",
       " 'SelectionRangeSlider',\n",
       " 'SelectionSlider',\n",
       " 'SliderStyle',\n",
       " 'Style',\n",
       " 'Tab',\n",
       " 'Text',\n",
       " 'Textarea',\n",
       " 'ToggleButton',\n",
       " 'ToggleButtons',\n",
       " 'ToggleButtonsStyle',\n",
       " 'TwoByTwoLayout',\n",
       " 'VBox',\n",
       " 'Valid',\n",
       " 'ValueWidget',\n",
       " 'Video',\n",
       " 'Widget',\n",
       " '__builtins__',\n",
       " '__cached__',\n",
       " '__doc__',\n",
       " '__file__',\n",
       " '__jupyter_widgets_base_version__',\n",
       " '__jupyter_widgets_controls_version__',\n",
       " '__loader__',\n",
       " '__name__',\n",
       " '__package__',\n",
       " '__path__',\n",
       " '__protocol_version__',\n",
       " '__spec__',\n",
       " '__version__',\n",
       " '_handle_ipython',\n",
       " '_version',\n",
       " 'dlink',\n",
       " 'docutils',\n",
       " 'domwidget',\n",
       " 'fixed',\n",
       " 'get_ipython',\n",
       " 'handle_kernel',\n",
       " 'interact',\n",
       " 'interact_manual',\n",
       " 'interaction',\n",
       " 'interactive',\n",
       " 'interactive_output',\n",
       " 'jsdlink',\n",
       " 'jslink',\n",
       " 'link',\n",
       " 'load_ipython_extension',\n",
       " 'os',\n",
       " 'register',\n",
       " 'register_comm_target',\n",
       " 'trait_types',\n",
       " 'util',\n",
       " 'valuewidget',\n",
       " 'version_info',\n",
       " 'widget',\n",
       " 'widget_bool',\n",
       " 'widget_box',\n",
       " 'widget_button',\n",
       " 'widget_color',\n",
       " 'widget_controller',\n",
       " 'widget_core',\n",
       " 'widget_date',\n",
       " 'widget_description',\n",
       " 'widget_float',\n",
       " 'widget_int',\n",
       " 'widget_layout',\n",
       " 'widget_link',\n",
       " 'widget_media',\n",
       " 'widget_output',\n",
       " 'widget_selection',\n",
       " 'widget_selectioncontainer',\n",
       " 'widget_serialization',\n",
       " 'widget_string',\n",
       " 'widget_style',\n",
       " 'widget_templates',\n",
       " 'widget_upload',\n",
       " 'widgets']"
      ]
     },
     "execution_count": 6,
     "metadata": {},
     "output_type": "execute_result"
    }
   ],
   "source": [
    "dir(widgets) # Lista todos los posibles argumentos del objeto widgets"
   ]
  },
  {
   "cell_type": "code",
   "execution_count": 7,
   "id": "32e9ea75",
   "metadata": {},
   "outputs": [
    {
     "data": {
      "text/plain": [
       "['Accordion',\n",
       " 'AppLayout',\n",
       " 'Audio',\n",
       " 'BoundedFloatText',\n",
       " 'BoundedIntText',\n",
       " 'Box',\n",
       " 'Button',\n",
       " 'ButtonStyle',\n",
       " 'CallbackDispatcher',\n",
       " 'Checkbox',\n",
       " 'Color',\n",
       " 'ColorPicker',\n",
       " 'Combobox',\n",
       " 'Controller',\n",
       " 'CoreWidget',\n",
       " 'DOMWidget',\n",
       " 'DatePicker',\n",
       " 'Datetime',\n",
       " 'Dropdown',\n",
       " 'FileUpload',\n",
       " 'FloatLogSlider',\n",
       " 'FloatProgress',\n",
       " 'FloatRangeSlider',\n",
       " 'FloatSlider',\n",
       " 'FloatText',\n",
       " 'GridBox',\n",
       " 'GridspecLayout',\n",
       " 'HBox',\n",
       " 'HTML',\n",
       " 'HTMLMath',\n",
       " 'Image',\n",
       " 'IntProgress',\n",
       " 'IntRangeSlider',\n",
       " 'IntSlider',\n",
       " 'IntText',\n",
       " 'Label',\n",
       " 'Layout',\n",
       " 'NumberFormat',\n",
       " 'Output',\n",
       " 'Password',\n",
       " 'Play',\n",
       " 'RadioButtons',\n",
       " 'Select',\n",
       " 'SelectMultiple',\n",
       " 'SelectionRangeSlider',\n",
       " 'SelectionSlider',\n",
       " 'SliderStyle',\n",
       " 'Style',\n",
       " 'Tab',\n",
       " 'Text',\n",
       " 'Textarea',\n",
       " 'ToggleButton',\n",
       " 'ToggleButtons',\n",
       " 'ToggleButtonsStyle',\n",
       " 'TwoByTwoLayout',\n",
       " 'VBox',\n",
       " 'Valid',\n",
       " 'ValueWidget',\n",
       " 'Video',\n",
       " 'Widget']"
      ]
     },
     "execution_count": 7,
     "metadata": {},
     "output_type": "execute_result"
    }
   ],
   "source": [
    "[w for w in dir(widgets) if not w.islower()] # eliminamos los que solo tengan minúsculas"
   ]
  },
  {
   "cell_type": "code",
   "execution_count": 6,
   "id": "52288af1",
   "metadata": {},
   "outputs": [
    {
     "data": {
      "application/vnd.jupyter.widget-view+json": {
       "model_id": "a4ee182cd5ea478ebb5a954b51460589",
       "version_major": 2,
       "version_minor": 0
      },
      "text/plain": [
       "Textarea(value='Accordion\\nAppLayout\\nAudio\\nBoundedFloatText\\nBoundedIntText\\nBox\\nButton\\nButtonStyle\\nCallb…"
      ]
     },
     "metadata": {},
     "output_type": "display_data"
    }
   ],
   "source": [
    "# Podemos usar los widgets para desplegar mejor la información\n",
    "widgets.Textarea(\n",
    "    '\\n'.join([w for w in dir(widgets) if not w.islower()]),\n",
    "    layout=widgets.Layout(height='100px')\n",
    ")"
   ]
  },
  {
   "cell_type": "markdown",
   "id": "746d43e4",
   "metadata": {},
   "source": [
    "## Ejemplos de algunos widgets"
   ]
  },
  {
   "cell_type": "markdown",
   "id": "29f40f3e",
   "metadata": {},
   "source": [
    "### Etiquetas"
   ]
  },
  {
   "cell_type": "code",
   "execution_count": 7,
   "id": "69352f53",
   "metadata": {},
   "outputs": [
    {
     "data": {
      "application/vnd.jupyter.widget-view+json": {
       "model_id": "4704c74dc7b944739739ed9c96d732b5",
       "version_major": 2,
       "version_minor": 0
      },
      "text/plain": [
       "Label(value='Esta es una etiqueta')"
      ]
     },
     "metadata": {},
     "output_type": "display_data"
    }
   ],
   "source": [
    "etiqueta = widgets.Label(\n",
    "    value='Esta es una etiqueta'\n",
    ")\n",
    "\n",
    "display(etiqueta)"
   ]
  },
  {
   "cell_type": "markdown",
   "id": "0306df44",
   "metadata": {},
   "source": [
    "### Texto con formato HTML"
   ]
  },
  {
   "cell_type": "code",
   "execution_count": 8,
   "id": "1d511bcd",
   "metadata": {},
   "outputs": [
    {
     "data": {
      "application/vnd.jupyter.widget-view+json": {
       "model_id": "665ee05a734e4ea280aad5505baa0310",
       "version_major": 2,
       "version_minor": 0
      },
      "text/plain": [
       "HTML(value='<b>Negritas</b> <font color=\"red\">rojo</font> y <H3>más</H3>')"
      ]
     },
     "metadata": {},
     "output_type": "display_data"
    }
   ],
   "source": [
    "html = widgets.HTML(\n",
    "    value='<b>Negritas</b> <font color=\"red\">rojo</font> y <H3>más</H3>', \n",
    "    description=''\n",
    ")\n",
    "\n",
    "display(html)"
   ]
  },
  {
   "cell_type": "markdown",
   "id": "0bb515d9",
   "metadata": {},
   "source": [
    "### Espacio de texto"
   ]
  },
  {
   "cell_type": "code",
   "execution_count": 9,
   "id": "43cdc72e",
   "metadata": {},
   "outputs": [
    {
     "data": {
      "application/vnd.jupyter.widget-view+json": {
       "model_id": "5fe2e06acbb44e79ac3c22aea0e03476",
       "version_major": 2,
       "version_minor": 0
      },
      "text/plain": [
       "Text(value='Ser o no ser', description='El texto es')"
      ]
     },
     "metadata": {},
     "output_type": "display_data"
    }
   ],
   "source": [
    "texto = widgets.Text(\n",
    "    value='Ser o no ser', \n",
    "    description='El texto es'\n",
    ")\n",
    "\n",
    "display(texto)"
   ]
  },
  {
   "cell_type": "markdown",
   "id": "fbd59980",
   "metadata": {},
   "source": [
    "### Area de texto:"
   ]
  },
  {
   "cell_type": "code",
   "execution_count": 10,
   "id": "77b334f8",
   "metadata": {},
   "outputs": [
    {
     "data": {
      "application/vnd.jupyter.widget-view+json": {
       "model_id": "1a25aec7740f4301a15cc9b8b5abb1b9",
       "version_major": 2,
       "version_minor": 0
      },
      "text/plain": [
       "Textarea(value='\"Desde muy niño tuve que interrumpir mi educación para ir a la escuela.” \\n    \\t George Berna…"
      ]
     },
     "metadata": {},
     "output_type": "display_data"
    }
   ],
   "source": [
    "area_texto = widgets.Textarea(\n",
    "    value='\"Desde muy niño tuve que interrumpir mi educación para ir a la escuela.” \\n\\\n",
    "    \\t George Bernard Shaw',\n",
    "    description='Área de texto'\n",
    ")\n",
    "\n",
    "display(area_texto)"
   ]
  },
  {
   "cell_type": "markdown",
   "id": "dafd9fd4",
   "metadata": {},
   "source": [
    "### Contenedor de widgets Vertical"
   ]
  },
  {
   "cell_type": "code",
   "execution_count": 11,
   "id": "585cce5f",
   "metadata": {},
   "outputs": [
    {
     "data": {
      "application/vnd.jupyter.widget-view+json": {
       "model_id": "1f3517a7026445c79cba5e0b9617b559",
       "version_major": 2,
       "version_minor": 0
      },
      "text/plain": [
       "VBox(children=(Label(value='Esta es una etiqueta'), HTML(value='<b>Negritas</b> <font color=\"red\">rojo</font> …"
      ]
     },
     "metadata": {},
     "output_type": "display_data"
    }
   ],
   "source": [
    "widgets.VBox([etiqueta, html, texto, area_texto])"
   ]
  },
  {
   "cell_type": "markdown",
   "id": "28844318",
   "metadata": {},
   "source": [
    "### Contenedor de widgets Horizontal"
   ]
  },
  {
   "cell_type": "code",
   "execution_count": 12,
   "id": "690c176f",
   "metadata": {},
   "outputs": [
    {
     "data": {
      "application/vnd.jupyter.widget-view+json": {
       "model_id": "b8bf614f3c8948518412252ff40206d5",
       "version_major": 2,
       "version_minor": 0
      },
      "text/plain": [
       "HBox(children=(Label(value='Esta es una etiqueta'), HTML(value='<b>Negritas</b> <font color=\"red\">rojo</font> …"
      ]
     },
     "metadata": {},
     "output_type": "display_data"
    }
   ],
   "source": [
    "widgets.HBox([etiqueta, html, texto, area_texto])"
   ]
  },
  {
   "cell_type": "markdown",
   "id": "a1794b84",
   "metadata": {},
   "source": [
    "### Combinación de VBox y HBox"
   ]
  },
  {
   "cell_type": "code",
   "execution_count": 13,
   "id": "fd5a4b5c",
   "metadata": {},
   "outputs": [
    {
     "data": {
      "application/vnd.jupyter.widget-view+json": {
       "model_id": "e5891691b4f440288161e04df7cbb008",
       "version_major": 2,
       "version_minor": 0
      },
      "text/plain": [
       "VBox(children=(HBox(children=(Label(value='Esta es una etiqueta'), Text(value='Ser o no ser', description='El …"
      ]
     },
     "metadata": {},
     "output_type": "display_data"
    }
   ],
   "source": [
    "widgets.VBox([widgets.HBox([etiqueta, texto]), \n",
    "              widgets.HBox([html, area_texto])])"
   ]
  },
  {
   "cell_type": "markdown",
   "id": "a0a98f5c",
   "metadata": {},
   "source": [
    "### Distintos tipos de selectores"
   ]
  },
  {
   "cell_type": "code",
   "execution_count": 14,
   "id": "48bce6c5",
   "metadata": {},
   "outputs": [
    {
     "data": {
      "application/vnd.jupyter.widget-view+json": {
       "model_id": "5a39efeb27274640a259fd7265282666",
       "version_major": 2,
       "version_minor": 0
      },
      "text/plain": [
       "VBox(children=(IntSlider(value=5, description='Slider entero (IntSlider)', max=10), IntRangeSlider(value=(20, …"
      ]
     },
     "metadata": {},
     "output_type": "display_data"
    }
   ],
   "source": [
    "# IntSlider \n",
    "i_s = widgets.IntSlider(\n",
    "    value=5, \n",
    "    min=0, max=10, step=1,\n",
    "    description='Slider entero (IntSlider)'\n",
    ")\n",
    "\n",
    "# IntRangeSlider\n",
    "i_rs = widgets.IntRangeSlider(\n",
    "    value=(20, 40), \n",
    "    min=0, max=100, step=2, \n",
    "    description='Slider de rango de enteros (IntRangeSlider)'\n",
    ")\n",
    " \n",
    "# Dropdown\n",
    "meses_dd = widgets.Dropdown(\n",
    "    value='ago', \n",
    "    options=['ene', 'feb', 'mar', 'abr', 'may', 'jun', 'jul', 'ago', 'sep', 'oct', 'nov', 'dic'], \n",
    "    description='Dropdown'\n",
    ")\n",
    "\n",
    "# RadioButtons\n",
    "meses_rb = widgets.RadioButtons(\n",
    "    value='feb', \n",
    "    options=['ene', 'feb', 'mar', 'abr', 'may', 'jun', 'jul', 'ago', 'sep', 'oct', 'nov', 'dic'], \n",
    "    description='RadioButtons'\n",
    ")\n",
    "\n",
    "# ComboBox\n",
    "cb = widgets.Combobox(\n",
    "    placeholder='teclea tu respuesta ... (e.g. M or h)',\n",
    "    options=['México', 'Jalisco', 'Durango', 'Chihuahua', 'Tlaxcala'], \n",
    "    description='Combobox'\n",
    ")\n",
    " \n",
    "# CheckBox\n",
    "chb = widgets.Checkbox(\n",
    "    description='checkbox',\n",
    "    value=True\n",
    ")\n",
    "\n",
    "# a VBox container to pack widgets vertically\n",
    "widgets.VBox(\n",
    "    [\n",
    "        i_s, \n",
    "        i_rs, \n",
    "        meses_dd, \n",
    "        meses_rb,\n",
    "        cb,\n",
    "        chb,\n",
    "    ],\n",
    "        layout=widgets.Layout(widht='100px')\n",
    ")"
   ]
  },
  {
   "cell_type": "markdown",
   "id": "894129ea",
   "metadata": {},
   "source": [
    "### La función `observe`\n",
    "\n",
    "Supongamos que tenemos un slider como el siguiente:"
   ]
  },
  {
   "cell_type": "code",
   "execution_count": 15,
   "id": "e2b64e7c",
   "metadata": {},
   "outputs": [
    {
     "data": {
      "application/vnd.jupyter.widget-view+json": {
       "model_id": "94380564aae3493b9d541b1ac8d2129a",
       "version_major": 2,
       "version_minor": 0
      },
      "text/plain": [
       "IntSlider(value=5, description='Número: ', max=10)"
      ]
     },
     "metadata": {},
     "output_type": "display_data"
    }
   ],
   "source": [
    "s = widgets.IntSlider(\n",
    "    value=5, \n",
    "    min=0, max=10, step=1,\n",
    "    description='Número: '\n",
    ")\n",
    "display(s)"
   ]
  },
  {
   "cell_type": "code",
   "execution_count": 16,
   "id": "fbaa6a09",
   "metadata": {},
   "outputs": [
    {
     "name": "stdout",
     "output_type": "stream",
     "text": [
      "5\n"
     ]
    },
    {
     "data": {
      "application/vnd.jupyter.widget-view+json": {
       "model_id": "9ba1142c79634c2f8a12a2d1592d84e0",
       "version_major": 2,
       "version_minor": 0
      },
      "text/plain": [
       "Label(value='Número : 5')"
      ]
     },
     "metadata": {},
     "output_type": "display_data"
    }
   ],
   "source": [
    "#Si queremos conocer el valor actual de este slider podemos usar el atributo `value`:\n",
    "print(s.value)\n",
    "\n",
    "# Podemos usar otro widget para desplegar el valor del número\n",
    "texto = widgets.Label('Número : {}'.format(s.value))\n",
    "texto"
   ]
  },
  {
   "cell_type": "code",
   "execution_count": 17,
   "id": "3437c24b",
   "metadata": {},
   "outputs": [],
   "source": [
    "# Con esta función actualizamos el despliegue en el otro widget\n",
    "def actualiza(change):\n",
    "    texto.value = 'Numero : {}'.format(s.value)\n",
    "\n",
    "# Observamos el cambio en el valor del slider\n",
    "s.observe(actualiza, 'value')"
   ]
  },
  {
   "cell_type": "markdown",
   "id": "fe4a6ae2",
   "metadata": {},
   "source": [
    "Cuando el valor del slider cambia, se ejecuta la función `actualiza()` que es el *callback* de `observe()`; esta función *callback*  se ejecuta con el argumento `change`. Este argumento es un diccionario que contiene varias entradas: "
   ]
  },
  {
   "cell_type": "code",
   "execution_count": 19,
   "id": "db6944a6",
   "metadata": {},
   "outputs": [
    {
     "name": "stdout",
     "output_type": "stream",
     "text": [
      "{'name': 'value', 'old': 7, 'new': 6, 'owner': IntSlider(value=6, max=10), 'type': 'change'}\n"
     ]
    }
   ],
   "source": [
    "# Función callback de observe, que solo imprime el contenido de change\n",
    "def muestra_cambio(change):\n",
    "    print(change)\n",
    "\n",
    "# Creamos un IntSlider \n",
    "i_s = widgets.IntSlider(value=7, min=0, max=10)\n",
    "\n",
    "# Observamos el cambio\n",
    "i_s.observe(muestra_cambio, 'value')\n",
    "\n",
    "# Realizamos un cambio\n",
    "i_s.value = 6"
   ]
  },
  {
   "cell_type": "code",
   "execution_count": 20,
   "id": "ece41218",
   "metadata": {},
   "outputs": [
    {
     "data": {
      "application/vnd.jupyter.widget-view+json": {
       "model_id": "57dda780a8cf4508ae4f2588e02d44b2",
       "version_major": 2,
       "version_minor": 0
      },
      "text/plain": [
       "IntSlider(value=6, max=10)"
      ]
     },
     "metadata": {},
     "output_type": "display_data"
    }
   ],
   "source": [
    "display(i_s)"
   ]
  },
  {
   "cell_type": "markdown",
   "id": "9d37fecd",
   "metadata": {},
   "source": [
    "### Ligado entre widgets\n",
    "Los widgets se pueden ligar usando la función `link`"
   ]
  },
  {
   "cell_type": "code",
   "execution_count": 21,
   "id": "532e460f",
   "metadata": {},
   "outputs": [
    {
     "data": {
      "application/vnd.jupyter.widget-view+json": {
       "model_id": "a65dd38f5d9e4541b0d2e01a832a7ae7",
       "version_major": 2,
       "version_minor": 0
      },
      "text/plain": [
       "VBox(children=(IntSlider(value=0, description='Rango 1', max=50), IntSlider(value=0, description='Rango 2', ma…"
      ]
     },
     "metadata": {},
     "output_type": "display_data"
    }
   ],
   "source": [
    "# Creamos un IntSlider\n",
    "s1 = widgets.IntSlider(description='Rango 1', min=0, max=50)\n",
    "\n",
    "# Creamos un segundo IntSlider\n",
    "s2 = widgets.IntSlider(description='Rango 2', min=0, max=50)\n",
    "\n",
    "# Los mostramos en un contenedor vertical\n",
    "widgets.VBox([s1, s2])"
   ]
  },
  {
   "cell_type": "code",
   "execution_count": 22,
   "id": "5e0a9843",
   "metadata": {},
   "outputs": [
    {
     "data": {
      "application/vnd.jupyter.widget-view+json": {
       "model_id": "e63ecf72dcb14571ac107cd38c02aa5d",
       "version_major": 2,
       "version_minor": 0
      },
      "text/plain": [
       "VBox(children=(IntSlider(value=5, description='Rango 1', max=50), IntSlider(value=5, description='Rango 2', ma…"
      ]
     },
     "metadata": {},
     "output_type": "display_data"
    }
   ],
   "source": [
    "# Ahora ligamos el valor del primer slider, con el máximo del segundo slider\n",
    "link = widgets.link(\n",
    "    (s1, 'value'),  # Valor del primer slider ligado\n",
    "    (s2, 'max')     # con el máximo del segundo slider\n",
    ")\n",
    "\n",
    "# Inicializamos el valor del primer slider\n",
    "s1.value = 5\n",
    "\n",
    "# Mostramos los sliders en un contenedor vertical\n",
    "widgets.VBox([s1, s2])"
   ]
  },
  {
   "cell_type": "code",
   "execution_count": 23,
   "id": "d11a598c",
   "metadata": {},
   "outputs": [],
   "source": [
    "# Los sliders se pueden desligar con la siguiente función:\n",
    "link.unlink()"
   ]
  },
  {
   "cell_type": "markdown",
   "id": "f6d0518a",
   "metadata": {},
   "source": [
    "### Contenedores (revisited)\n",
    "Existen varios tipos de contenedores. Para ver su uso y ventajas crearemos primero 3 botones:"
   ]
  },
  {
   "cell_type": "code",
   "execution_count": 24,
   "id": "77c059a3-b6e5-4596-adc0-ad3b5188adb4",
   "metadata": {},
   "outputs": [],
   "source": [
    "# Tres widgets de tipo Button\n",
    "b1 = widgets.Button(description='botón 1')\n",
    "b2 = widgets.Button(description='botón 2')\n",
    "b3 = widgets.Button(description='botón 3')"
   ]
  },
  {
   "cell_type": "code",
   "execution_count": 25,
   "id": "93a726ed-dd32-4ddf-9839-74fad20f42e9",
   "metadata": {},
   "outputs": [
    {
     "data": {
      "application/vnd.jupyter.widget-view+json": {
       "model_id": "40fba0107dcd4abf8d01faa14dc8ae82",
       "version_major": 2,
       "version_minor": 0
      },
      "text/plain": [
       "Button(description='botón 1', style=ButtonStyle())"
      ]
     },
     "metadata": {},
     "output_type": "display_data"
    },
    {
     "data": {
      "application/vnd.jupyter.widget-view+json": {
       "model_id": "77c98cb0275c4e7b8ced93e2d74ac101",
       "version_major": 2,
       "version_minor": 0
      },
      "text/plain": [
       "Button(description='botón 2', style=ButtonStyle())"
      ]
     },
     "metadata": {},
     "output_type": "display_data"
    },
    {
     "data": {
      "application/vnd.jupyter.widget-view+json": {
       "model_id": "81617fd78c9a4e938cf0805eef93aaca",
       "version_major": 2,
       "version_minor": 0
      },
      "text/plain": [
       "Button(description='botón 3', style=ButtonStyle())"
      ]
     },
     "metadata": {},
     "output_type": "display_data"
    }
   ],
   "source": [
    "display(b1, b2, b3)"
   ]
  },
  {
   "cell_type": "code",
   "execution_count": 26,
   "id": "bee7ef41",
   "metadata": {},
   "outputs": [
    {
     "data": {
      "application/vnd.jupyter.widget-view+json": {
       "model_id": "970c43fec2864c308ba012b40d635799",
       "version_major": 2,
       "version_minor": 0
      },
      "text/plain": [
       "VBox(children=(Button(description='botón 1', style=ButtonStyle()), Button(description='botón 2', style=ButtonS…"
      ]
     },
     "metadata": {},
     "output_type": "display_data"
    },
    {
     "data": {
      "application/vnd.jupyter.widget-view+json": {
       "model_id": "ffbd805f12ca4efa82446d89f701cd7b",
       "version_major": 2,
       "version_minor": 0
      },
      "text/plain": [
       "HBox(children=(Button(description='botón 1', style=ButtonStyle()), Button(description='botón 2', style=ButtonS…"
      ]
     },
     "metadata": {},
     "output_type": "display_data"
    }
   ],
   "source": [
    "# Los desplegamos en un contenedor vertical\n",
    "display(widgets.VBox([b1,b2,b3]))\n",
    "\n",
    "# y luego en un contenedor horizontal\n",
    "display(widgets.HBox([b1,b2,b3]))"
   ]
  },
  {
   "cell_type": "code",
   "execution_count": 27,
   "id": "041e267b",
   "metadata": {},
   "outputs": [
    {
     "data": {
      "application/vnd.jupyter.widget-view+json": {
       "model_id": "5a8bc58c6b0845d096386c9fd6c490dd",
       "version_major": 2,
       "version_minor": 0
      },
      "text/plain": [
       "HBox(children=(VBox(children=(Label(value='Izquierda'), Button(description='botón 1', style=ButtonStyle()), Bu…"
      ]
     },
     "metadata": {},
     "output_type": "display_data"
    }
   ],
   "source": [
    "# Podemos crear diseños más complicados anidando estos contenedores:\n",
    "# OJO: estamos reusando widgets creados en celdas anteriores.\n",
    "def make_boxes():\n",
    "    vbox1 = widgets.VBox([widgets.Label('Izquierda'), b1, b2, b3, html] )\n",
    "    vbox2 = widgets.VBox([widgets.Label('Centro'), meses_dd, area_texto])\n",
    "    vbox3 = widgets.VBox([widgets.Label('Derecha'), meses_rb])\n",
    "    return vbox1, vbox2, vbox3\n",
    "  \n",
    "widgets.HBox(make_boxes())"
   ]
  },
  {
   "cell_type": "markdown",
   "id": "cc6bf50b",
   "metadata": {},
   "source": [
    "### Layout\n",
    "Este widget permite darle un poco de personalización a los contenedores (con notación similar a CSS). Por ejemplo:"
   ]
  },
  {
   "cell_type": "code",
   "execution_count": 28,
   "id": "911cc76f",
   "metadata": {},
   "outputs": [
    {
     "data": {
      "application/vnd.jupyter.widget-view+json": {
       "model_id": "5037d2f204174698aa26cc4103cfd576",
       "version_major": 2,
       "version_minor": 0
      },
      "text/plain": [
       "HBox(children=(VBox(children=(Label(value='Izquierda'), Button(description='botón 1', style=ButtonStyle()), Bu…"
      ]
     },
     "metadata": {},
     "output_type": "display_data"
    }
   ],
   "source": [
    "box_layout = widgets.Layout(\n",
    "        border='solid 1px red',\n",
    "        margin='0px 10px 10px 0px',\n",
    "        padding='5px 5px 5px 5px')\n",
    " \n",
    "vbox1, vbox2, vbox3 = make_boxes()\n",
    " \n",
    "vbox1.layout = box_layout\n",
    "vbox2.layout = box_layout\n",
    "vbox3.layout = box_layout\n",
    "\n",
    "widgets.HBox([vbox1, vbox2, vbox3])"
   ]
  },
  {
   "cell_type": "markdown",
   "id": "528a10b5",
   "metadata": {},
   "source": [
    "Los objetos de tipo `Layout` son mutables, de tal manera que podemos cambiar la disposición del diseño cambiando sus parámetros:"
   ]
  },
  {
   "cell_type": "code",
   "execution_count": 29,
   "id": "c2fb4281",
   "metadata": {},
   "outputs": [
    {
     "data": {
      "application/vnd.jupyter.widget-view+json": {
       "model_id": "13c909f31f804f3e8be121684bdca19a",
       "version_major": 2,
       "version_minor": 0
      },
      "text/plain": [
       "HBox(children=(VBox(children=(Label(value='Izquierda'), Button(description='botón 1', style=ButtonStyle()), Bu…"
      ]
     },
     "metadata": {},
     "output_type": "display_data"
    }
   ],
   "source": [
    "vbox1.layout.height = '100px'\n",
    "vbox1.layout.border = 'solid 2px green'\n",
    " \n",
    "widgets.HBox([vbox1, vbox2, vbox3])"
   ]
  },
  {
   "cell_type": "markdown",
   "id": "65d4dcbb",
   "metadata": {},
   "source": [
    "Observe que cambiando uno de los parámetros en un solo contenedor hace el cambio también en los otros contenedores.\n",
    "\n",
    "Para evitar el comportamiento anterior, debemos crear un layout por cada contenedor. Una forma sería la siguiente:"
   ]
  },
  {
   "cell_type": "code",
   "execution_count": 30,
   "id": "6795a935",
   "metadata": {},
   "outputs": [
    {
     "data": {
      "application/vnd.jupyter.widget-view+json": {
       "model_id": "1074de89524a431eaf7ed862c5e46922",
       "version_major": 2,
       "version_minor": 0
      },
      "text/plain": [
       "HBox(children=(VBox(children=(Label(value='Izquierda'), Button(description='botón 1', style=ButtonStyle()), Bu…"
      ]
     },
     "metadata": {},
     "output_type": "display_data"
    }
   ],
   "source": [
    "def make_box_layout():\n",
    "     return widgets.Layout(\n",
    "        border='solid 1px red',\n",
    "        margin='0px 10px 10px 0px',\n",
    "        padding='5px 5px 5px 5px'\n",
    "     )\n",
    "     \n",
    "vbox1, vbox2, vbox3 = make_boxes()\n",
    "\n",
    "# Creamos un Layout independiente para cada contenedor\n",
    "vbox1.layout = make_box_layout()\n",
    "vbox2.layout = make_box_layout()\n",
    "vbox3.layout = make_box_layout()\n",
    "\n",
    "# Cambiamos la disposición de vbox1\n",
    "vbox1.layout.height = '200px'\n",
    "vbox1.layout.border = 'solid 2px green'\n",
    " \n",
    "widgets.HBox([vbox1, vbox2, vbox3])"
   ]
  },
  {
   "cell_type": "markdown",
   "id": "109ba2cc-aae3-4b36-9892-154636376f45",
   "metadata": {},
   "source": [
    "### `TwoByTwoLayout`"
   ]
  },
  {
   "cell_type": "code",
   "execution_count": 31,
   "id": "7c8c07bb",
   "metadata": {},
   "outputs": [],
   "source": [
    "# Utils widgets\n",
    "#from ipywidgets import Button, Layout, jslink, IntText, IntSlider\n",
    "\n",
    "def create_expanded_button(description, button_style):\n",
    "    return widgets.Button(description=description, button_style=button_style, \n",
    "                          layout=widgets.Layout(height='auto', width='auto'))\n",
    "\n",
    "top_left_button = create_expanded_button(\"Top left\", 'info')\n",
    "top_right_button = create_expanded_button(\"Top right\", 'success')\n",
    "bottom_left_button = create_expanded_button(\"Bottom left\", 'danger')\n",
    "bottom_right_button = create_expanded_button(\"Bottom right\", 'warning')"
   ]
  },
  {
   "cell_type": "code",
   "execution_count": 32,
   "id": "3de353f2",
   "metadata": {},
   "outputs": [
    {
     "data": {
      "application/vnd.jupyter.widget-view+json": {
       "model_id": "e7726a424eb44b3b98c762a9448b9e6e",
       "version_major": 2,
       "version_minor": 0
      },
      "text/plain": [
       "TwoByTwoLayout(children=(Button(button_style='info', description='Top left', layout=Layout(grid_area='top-left…"
      ]
     },
     "metadata": {},
     "output_type": "display_data"
    }
   ],
   "source": [
    "#from ipywidgets import TwoByTwoLayout\n",
    "\n",
    "widgets.TwoByTwoLayout(top_left=top_left_button,\n",
    "                       top_right=top_right_button,\n",
    "                       bottom_left=bottom_left_button,\n",
    "                       bottom_right=bottom_right_button)"
   ]
  },
  {
   "cell_type": "code",
   "execution_count": 33,
   "id": "fc78dd33",
   "metadata": {},
   "outputs": [
    {
     "data": {
      "application/vnd.jupyter.widget-view+json": {
       "model_id": "1589f2a5709246879d88f4884ba06377",
       "version_major": 2,
       "version_minor": 0
      },
      "text/plain": [
       "TwoByTwoLayout(children=(Button(button_style='info', description='Top left', layout=Layout(grid_area='top-left…"
      ]
     },
     "metadata": {},
     "output_type": "display_data"
    }
   ],
   "source": [
    "widgets.TwoByTwoLayout(top_left=top_left_button,\n",
    "                       bottom_left=bottom_left_button,\n",
    "                       bottom_right=bottom_right_button)"
   ]
  },
  {
   "cell_type": "code",
   "execution_count": 34,
   "id": "d7c41086",
   "metadata": {},
   "outputs": [
    {
     "data": {
      "application/vnd.jupyter.widget-view+json": {
       "model_id": "cfdf39d9e8294e7e9e6167c0c2508f94",
       "version_major": 2,
       "version_minor": 0
      },
      "text/plain": [
       "TwoByTwoLayout(children=(Button(button_style='info', description='Top left', layout=Layout(grid_area='top-left…"
      ]
     },
     "metadata": {},
     "output_type": "display_data"
    }
   ],
   "source": [
    "widgets.TwoByTwoLayout(top_left=top_left_button,\n",
    "                       bottom_left=bottom_left_button,\n",
    "                       bottom_right=bottom_right_button,\n",
    "                       merge=False)"
   ]
  },
  {
   "cell_type": "code",
   "execution_count": 35,
   "id": "f5e5c1f0",
   "metadata": {},
   "outputs": [
    {
     "data": {
      "application/vnd.jupyter.widget-view+json": {
       "model_id": "edcbeba3cf064a2eb943b0a4ea012c07",
       "version_major": 2,
       "version_minor": 0
      },
      "text/plain": [
       "TwoByTwoLayout(children=(Button(button_style='info', description='Top left', layout=Layout(grid_area='top-left…"
      ]
     },
     "metadata": {},
     "output_type": "display_data"
    }
   ],
   "source": [
    "layout_2x2 = widgets.TwoByTwoLayout(top_left=top_left_button,\n",
    "                                    bottom_left=bottom_left_button,\n",
    "                                    bottom_right=bottom_right_button)\n",
    "layout_2x2"
   ]
  },
  {
   "cell_type": "code",
   "execution_count": 36,
   "id": "15f1a9d1",
   "metadata": {},
   "outputs": [],
   "source": [
    "layout_2x2.top_right = top_right_button"
   ]
  },
  {
   "cell_type": "code",
   "execution_count": 37,
   "id": "01d47cf9",
   "metadata": {},
   "outputs": [
    {
     "data": {
      "application/vnd.jupyter.widget-view+json": {
       "model_id": "9fb0d6cd060c41c09725ade83b33343b",
       "version_major": 2,
       "version_minor": 0
      },
      "text/plain": [
       "TwoByTwoLayout(children=(IntText(value=25, description='Arriba izq.', layout=Layout(grid_area='top-left', heig…"
      ]
     },
     "metadata": {},
     "output_type": "display_data"
    }
   ],
   "source": [
    "top_left_text = widgets.IntText(description='Arriba izq.', \n",
    "                                layout=widgets.Layout(width='auto', height='auto'))\n",
    "top_right_text = widgets.IntText(description='Arriba der.', \n",
    "                                 layout=widgets.Layout(width='auto', height='auto'))\n",
    "bottom_left_slider = widgets.IntSlider(description='Abajo izq.', \n",
    "                                       layout=widgets.Layout(width='auto', height='auto'))\n",
    "bottom_right_slider = widgets.IntSlider(description='Abajo der.', \n",
    "                                        layout=widgets.Layout(width='auto', height='auto'))\n",
    "\n",
    "app = widgets.TwoByTwoLayout(top_left=top_left_text, \n",
    "                             top_right=top_right_text,\n",
    "                             bottom_left=bottom_left_slider, \n",
    "                             bottom_right=bottom_right_slider)\n",
    "\n",
    "link_left = widgets.jslink((app.top_left, 'value'), (app.bottom_left, 'value'))\n",
    "link_right = widgets.jslink((app.top_right, 'value'), (app.bottom_right, 'value'))\n",
    "app.bottom_right.value = 30\n",
    "app.top_left.value = 25\n",
    "app"
   ]
  },
  {
   "cell_type": "markdown",
   "id": "011ee79f-9e38-4755-8745-afe5cade97ef",
   "metadata": {},
   "source": [
    "## Combinando Widgets y matplotlib"
   ]
  },
  {
   "cell_type": "code",
   "execution_count": 38,
   "id": "6cf61ca3",
   "metadata": {},
   "outputs": [
    {
     "data": {
      "text/plain": [
       "[<matplotlib.lines.Line2D at 0x7effa8048520>]"
      ]
     },
     "execution_count": 38,
     "metadata": {},
     "output_type": "execute_result"
    },
    {
     "data": {
      "image/png": "[encoded data removed]",
      "text/plain": [
       "<Figure size 432x288 with 1 Axes>"
      ]
     },
     "metadata": {
      "needs_background": "light"
     },
     "output_type": "display_data"
    }
   ],
   "source": [
    "a = np.linspace(0,1,20)\n",
    "b = np.sin(a)\n",
    "plt.plot(a,b)"
   ]
  },
  {
   "cell_type": "markdown",
   "id": "7213d557",
   "metadata": {},
   "source": [
    "## Combinando Widgets y bqplot\n",
    "\n",
    "Vamos a usar la biblioteca bqplot que no está instalada por omisión. Se puede instalar con el comando: `conda install -c conda-forge bqplot`.\n",
    "\n",
    "También se puede usar pip para la instalación: `pip install bqplot`."
   ]
  },
  {
   "cell_type": "code",
   "execution_count": 39,
   "id": "d1ae3070",
   "metadata": {},
   "outputs": [],
   "source": [
    "import bqplot as bq\n",
    "\n",
    "size = 100\n",
    "np.random.seed(0)\n",
    "\n",
    "x_data = range(size)\n",
    "y_data = np.random.randn(size)\n",
    "y_data_2 = np.random.randn(size)\n",
    "y_data_3 = np.cumsum(np.random.randn(size) * 100.)\n",
    "\n",
    "x_ord = bq.OrdinalScale()\n",
    "y_sc = bq.LinearScale()\n",
    "\n",
    "bar = bq.Bars(x=np.arange(10), y=np.random.rand(10), scales={'x': x_ord, 'y': y_sc})\n",
    "ax_x = bq.Axis(scale=x_ord)\n",
    "ax_y = bq.Axis(scale=y_sc, tick_format='0.2f', orientation='vertical')\n",
    "\n",
    "fig = bq.Figure(marks=[bar], axes=[ax_x, ax_y], padding_x=0.025, padding_y=0.025,\n",
    "                layout=widgets.Layout(width='auto', height='50%'))"
   ]
  },
  {
   "cell_type": "code",
   "execution_count": 40,
   "id": "d03f82de",
   "metadata": {},
   "outputs": [
    {
     "data": {
      "application/vnd.jupyter.widget-view+json": {
       "model_id": "02e9b810cd8d43a5ad6962db5d95fe74",
       "version_major": 2,
       "version_minor": 0
      },
      "text/plain": [
       "TwoByTwoLayout(children=(FloatSlider(value=0.0, description='Min: ', layout=Layout(grid_area='top-left', heigh…"
      ]
     },
     "metadata": {},
     "output_type": "display_data"
    }
   ],
   "source": [
    "from ipywidgets import FloatSlider\n",
    "\n",
    "max_slider = widgets.FloatSlider(min=0, max=10, default_value=2, description=\"Max: \",\n",
    "                                 layout=widgets.Layout(width='auto', height='auto'))\n",
    "min_slider = widgets.FloatSlider(min=-1, max=10, description=\"Min: \",\n",
    "                                 layout=widgets.Layout(width='auto', height='auto'))\n",
    "app = widgets.TwoByTwoLayout(top_left=min_slider,\n",
    "                             bottom_left=max_slider,\n",
    "                             bottom_right=fig,\n",
    "                             align_items=\"center\",\n",
    "                             height='700px')\n",
    "\n",
    "widgets.jslink((y_sc, 'max'), (max_slider, 'value'))\n",
    "widgets.jslink((y_sc, 'min'), (min_slider, 'value'))\n",
    "widgets.jslink((min_slider, 'max'), (max_slider, 'value'))\n",
    "widgets.jslink((max_slider, 'min'), (min_slider, 'value'))\n",
    "\n",
    "max_slider.value = 1.5\n",
    "app"
   ]
  },
  {
   "cell_type": "code",
   "execution_count": 41,
   "id": "89244dac",
   "metadata": {},
   "outputs": [
    {
     "data": {
      "application/vnd.jupyter.widget-view+json": {
       "model_id": "73efcb534826484f8f0bb97eb3066614",
       "version_major": 2,
       "version_minor": 0
      },
      "text/plain": [
       "interactive(children=(IntSlider(value=3, description='n', max=5, min=2), Output()), _dom_classes=('widget-inte…"
      ]
     },
     "metadata": {},
     "output_type": "display_data"
    }
   ],
   "source": [
    "x = [1,2,5,4,3]\n",
    "\n",
    "@widgets.interact(n=(2,5))\n",
    "def f(n):\n",
    "    plt.plot(x[:n])\n",
    "    plt.show()\n",
    "    return(n)"
   ]
  },
  {
   "cell_type": "code",
   "execution_count": null,
   "id": "68357c8a",
   "metadata": {},
   "outputs": [],
   "source": []
  }
 ],
 "metadata": {
  "kernelspec": {
   "display_name": "Python 3 (ipykernel)",
   "language": "python",
   "name": "python3"
  },
  "language_info": {
   "codemirror_mode": {
    "name": "ipython",
    "version": 3
   },
   "file_extension": ".py",
   "mimetype": "text/x-python",
   "name": "python",
   "nbconvert_exporter": "python",
   "pygments_lexer": "ipython3",
   "version": "3.9.7"
  }
 },
 "nbformat": 4,
 "nbformat_minor": 5
}
