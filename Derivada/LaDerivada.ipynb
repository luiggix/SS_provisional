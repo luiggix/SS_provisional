{
 "cells": [
  {
   "cell_type": "code",
   "execution_count": 4,
   "id": "a786d66d",
   "metadata": {},
   "outputs": [
    {
     "ename": "ModuleNotFoundError",
     "evalue": "No module named 'termcolor'",
     "output_type": "error",
     "traceback": [
      "\u001b[1;31m---------------------------------------------------------------------------\u001b[0m",
      "\u001b[1;31mModuleNotFoundError\u001b[0m                       Traceback (most recent call last)",
      "\u001b[1;32m~\\AppData\\Local\\Temp/ipykernel_18844/3426309119.py\u001b[0m in \u001b[0;36m<module>\u001b[1;34m\u001b[0m\n\u001b[0;32m      6\u001b[0m \u001b[1;32mimport\u001b[0m \u001b[0mseaborn\u001b[0m \u001b[1;32mas\u001b[0m \u001b[0msnb\u001b[0m\u001b[1;33m;\u001b[0m \u001b[0msnb\u001b[0m\u001b[1;33m.\u001b[0m\u001b[0mset\u001b[0m\u001b[1;33m(\u001b[0m\u001b[1;33m)\u001b[0m\u001b[1;33m;\u001b[0m\u001b[1;33m\u001b[0m\u001b[1;33m\u001b[0m\u001b[0m\n\u001b[0;32m      7\u001b[0m \u001b[1;33m\u001b[0m\u001b[0m\n\u001b[1;32m----> 8\u001b[1;33m \u001b[1;32mfrom\u001b[0m \u001b[0mSoluciones\u001b[0m\u001b[1;33m.\u001b[0m\u001b[0mManager\u001b[0m \u001b[1;32mimport\u001b[0m \u001b[0mActividad\u001b[0m\u001b[1;33m\u001b[0m\u001b[1;33m\u001b[0m\u001b[0m\n\u001b[0m\u001b[0;32m      9\u001b[0m \u001b[1;32mfrom\u001b[0m \u001b[0mSoluciones\u001b[0m\u001b[1;33m.\u001b[0m\u001b[0mEjercicios\u001b[0m \u001b[1;32mimport\u001b[0m \u001b[1;33m*\u001b[0m\u001b[1;33m\u001b[0m\u001b[1;33m\u001b[0m\u001b[0m\n",
      "\u001b[1;32m~\\OneDrive\\Escritorio\\SS\\01_Funciones\\SS_provisional\\Derivada\\Soluciones\\Manager.py\u001b[0m in \u001b[0;36m<module>\u001b[1;34m\u001b[0m\n\u001b[0;32m      1\u001b[0m \u001b[1;32mfrom\u001b[0m \u001b[0mIPython\u001b[0m\u001b[1;33m.\u001b[0m\u001b[0mdisplay\u001b[0m \u001b[1;32mimport\u001b[0m \u001b[0mdisplay\u001b[0m\u001b[1;33m,\u001b[0m \u001b[0mLatex\u001b[0m\u001b[1;33m\u001b[0m\u001b[1;33m\u001b[0m\u001b[0m\n\u001b[1;32m----> 2\u001b[1;33m \u001b[1;32mfrom\u001b[0m \u001b[0mtermcolor\u001b[0m \u001b[1;32mimport\u001b[0m \u001b[0mcolored\u001b[0m\u001b[1;33m\u001b[0m\u001b[1;33m\u001b[0m\u001b[0m\n\u001b[0m\u001b[0;32m      3\u001b[0m \u001b[1;32mimport\u001b[0m \u001b[0mnumpy\u001b[0m \u001b[1;32mas\u001b[0m \u001b[0mnp\u001b[0m\u001b[1;33m\u001b[0m\u001b[1;33m\u001b[0m\u001b[0m\n\u001b[0;32m      4\u001b[0m \u001b[1;33m\u001b[0m\u001b[0m\n\u001b[0;32m      5\u001b[0m \u001b[1;32mclass\u001b[0m \u001b[0mActividad\u001b[0m\u001b[1;33m:\u001b[0m\u001b[1;33m\u001b[0m\u001b[1;33m\u001b[0m\u001b[0m\n",
      "\u001b[1;31mModuleNotFoundError\u001b[0m: No module named 'termcolor'"
     ]
    }
   ],
   "source": [
    "#Importamos librerias de interes\n",
    "\n",
    "import matplotlib.pyplot as plt\n",
    "import numpy as np\n",
    "import pandas as pd\n",
    "import seaborn as snb; snb.set();\n",
    "\n",
    "from Soluciones.Manager import Actividad\n",
    "from Soluciones.Ejercicios import *\n"
   ]
  },
  {
   "cell_type": "markdown",
   "id": "7a1f6f90",
   "metadata": {},
   "source": [
    "# Derivada\n",
    "\n",
    "**Objetivo general**\n",
    "- Revisar el concepto de derivada con multiples Ejemplos, así como herramientas visuales que permitan comprender el sentido geometrico de la Derivada\n",
    "\n",
    "**Objetivos particulares**\n",
    "- Comprender que nos motiva a defirnir la Derivada\n",
    "- Revisar algunas de las ditintas reglas de derivación\n",
    "- Realizar ejercicios que fortalezcan los conceptos aprendidos\n",
    "\n",
    "## Contenido\n",
    "- [1 - Introcción.](#1)\n",
    "    - [1.1 - Ejemplo 1](#1-1)\n",
    "- [2 - Definición de Derivada.](#2)\n",
    "    - [2.1 - Ejemplo 2.](#2-1)\n",
    "- [3 - Reglas de Derivación.](#3)    \n",
    "    - [3.1 - Regla de potencias](#3-1)\n",
    "    - [3.2 - Regla de la función constante](#3-2)\n",
    "    - [3.3 - Regla de la multiplicación por constante](#3-3)\n",
    "    - [3.4 - Regla de suma y diferencia](#3-4)\n",
    "    - [3.5 - Regla del producto](#3-5)\n",
    "    - [3.6 - Regla del cociente](#3-6)\n",
    "    - [3.7 - Regla  de la cadena](#3-7)\n",
    "    - [3.8 - Regla de L’Hôpital](#3-8)\n",
    "    - [3.9 - Derivadas de funciones trigonométricas](#3-9)\n",
    "- [4 - Teorema de Rolle.](#4)\n",
    "    - [4.1 - Ejemplo 3.](#4-1)\n",
    "- [5 - Derivadas de orden superior.](#5)\n",
    "    - [5.1 - Ejemplo 4.](#5-1)\n",
    "    - [5.2 - Ejemplo 5.](#5-2)\n",
    "    \n",
    "    \n"
   ]
  },
  {
   "cell_type": "markdown",
   "id": "2add3a2f",
   "metadata": {},
   "source": [
    "<a name='1'></a>\n",
    "## Introducción\n",
    "\n",
    "Si revisamos con cuidado, algunas definiciones matemáticas utilizan un tipo de figura literaria conocida como <a href=https://es.wikipedia.org/wiki/Ox%C3%ADmoron>*oxímoron*</a>. En términos simples, un oxímoron consiste en usar dos conceptos de significado opuesto y con ello generar un tercer concepto. \n",
    "\n",
    "Por ejemplo: **La razón de cambio instantáneo**. \n",
    "- Cuando se habla de un *cambio*, se requiere de la comparación entre dos o más estados y con ello analizar las diferencias entre un estado y otro; \n",
    "- por otro lado, la palabra *instantáneo* tiene que ver con algo que dura un instante, es decir un tiempo puntal. \n",
    "\n",
    "Entonces el concepto \"**cambio instantáneo**\" representa un oxímoron. Pero ¿cuál es su significado?\n",
    "¿Será importante este concepto en nuestra vida diaria?\n",
    "\n",
    "En lo que sigue veremos que la razón de cambio instantáneo tiene que ver con un concepto muy importante en Cálculo: *la derivada*."
   ]
  },
  {
   "cell_type": "markdown",
   "id": "2be9ccfc",
   "metadata": {},
   "source": [
    "<a name='1-1'></a>\n",
    "### Ejemplo 1\n",
    "\n",
    "Un estudiante de lenguas participará en un concurso internacional cuyo principal reto es el conocimiento del vocabulario de un cierto idioma. Por ello, es importante que el estudiante utilice un método de estudio adecuado para recordar el significado del mayor número de palabras posible.\n",
    "\n",
    "La <a href=https://es.wikipedia.org/wiki/Curva_del_olvido>curva del olvido</a> puede ayudar al estudiante a generar un plan de estudio adecuado. La función que define esta curva es la siguiente:\n",
    "\n",
    "$$\n",
    "R(t) = e^{-t/S}\n",
    "$$\n",
    "\n",
    "donde $R$ es cuanto recordamos, $S$ es la intensidad del recuerdo y $t$ el tiempo. Podemos definir $S \\in (0,1]$, donde $1$ es la máxima intensidad de recuerdo y un valor cercano a $0$ corresponde a algo que no nos interesa nada.\n",
    "\n",
    "**Observación**: $S$ no puede ser exactamente $0$ por que en ese caso la función $R(t)$ no está definida.\n",
    "\n",
    "La siguiente gráfica muestra cómo decrecen nuestros recuerdos con el paso del tiempo."
   ]
  },
  {
   "cell_type": "code",
   "execution_count": null,
   "id": "35941f88",
   "metadata": {},
   "outputs": [],
   "source": [
    "#Definimos la funcion de olvido\n",
    "\n",
    "def Funcion(t,s):\n",
    "    return np.exp(-t/s)"
   ]
  },
  {
   "cell_type": "markdown",
   "id": "bedeebbc",
   "metadata": {},
   "source": [
    "A continuación se muestra la grafica para la funcion de Olvido para varios valores de S"
   ]
  },
  {
   "cell_type": "code",
   "execution_count": null,
   "id": "47544636",
   "metadata": {},
   "outputs": [],
   "source": [
    "#Configuracion del Grafico\n",
    "\n",
    "plt.figure(figsize=(15,7))\n",
    "plt.title(\"Funcion de Olvido $R(t)=e^{-t/S}$\",fontsize=22)\n",
    "plt.ylabel(\"$R(t)$\",fontsize=18)\n",
    "plt.xlabel(\"$t(Días)$\",fontsize=18)\n",
    "\n",
    "\n",
    "#Dominio\n",
    "ts = np.linspace(0,7,100)\n",
    "\n",
    "for S in [0.1,0.5,0.9]:\n",
    "#Imagen para cada valor de S\n",
    "    R = [Funcion(t,S) for t in ts]\n",
    "    plt.plot(ts,R,lw=3)\n",
    "    \n",
    "plt.show()"
   ]
  },
  {
   "cell_type": "markdown",
   "id": "fe8bb8e3",
   "metadata": {},
   "source": [
    "¿Será posible determinar cada cuanto tiempo el estudiante debe repasar las palabras para que no las olvide y pueda ganar el concurso? ¿De qué depende esto?\n",
    "\n",
    "Tomemos por ejemplo el caso de $S=0.9$ (curva naranja). ¿En qué parte de la gráfica el descenso es más rápido?, en otras palabras, ¿en qué parte de la gráfica el olvido se incrementa?,Para conocer ese descenso, debemos calcular la pendiente y eso lo podemos hacer con la siguiente fórmula:\n",
    "\n",
    "$$\n",
    "m = \\frac{R(t_2) - R(t_1)}{t_2 - t_1}\n",
    "$$\n",
    "\n",
    "Como es obvio, este valor de la pendiente cambiará cuando $t_1$ y $t_2$ cambien. \n",
    "\n",
    "Definamos entonces $h = t_2 - t_1$ y $t = t_1$. \n",
    "\n",
    "Con ello podemos escribir:\n",
    "\n",
    "$$\n",
    "m(t) = \\frac{R(t + h) - R(t)}{h}\n",
    "$$\n",
    "\n",
    "En esta última fórmula vemos que la pendiente depende de $t$.\n",
    "\n",
    "Vamos a calcular $m$ para $h = 1$ y $t = [0,1,2,3,4,5,6]$:"
   ]
  },
  {
   "cell_type": "code",
   "execution_count": null,
   "id": "3cf4ee5e",
   "metadata": {},
   "outputs": [],
   "source": [
    "# Vamos a trabajar con el siguiente valor de S\n",
    "S = 0.9\n",
    "h = 1.0\n",
    "td = np.arange(0,8,h) # Definición de las t = 0,1,2,...,6\n",
    "m = np.zeros(len(td)) # Arreglo para almacenar las pendientes\n",
    "\n",
    "# Calculamos la pendiente usando la fórmula antes descrita\n",
    "for i,x in enumerate(td):\n",
    "    m[i] = (Funcion(x + h, S) - Funcion(x, S)) / h\n",
    "\n",
    "# Ponemos la información en un DataFrame y la mostramos\n",
    "tabla = pd.DataFrame(np.array([td, m, ]).T, columns = ['t', 'm(t)'])\n",
    "tabla"
   ]
  },
  {
   "cell_type": "markdown",
   "id": "ebb14729",
   "metadata": {},
   "source": [
    "Observamos que la pendiente es negativa, lo cual indica un decrecimiento. También, la magnitud de la pendiente (su valor absoluto) disminuye conforme  t  se incrementa. Es posible visualizar la pendiente uniendo los puntos con los que se realizó el cálculo de la misma, y también se puede graficar como función del tiempo, veamos ambas cosas en las siguientes gráficas:"
   ]
  },
  {
   "cell_type": "code",
   "execution_count": null,
   "id": "6b81bcb5",
   "metadata": {},
   "outputs": [],
   "source": [
    "plt.figure(figsize=(16,5))    \n",
    "    \n",
    "ax1 = plt.subplot(1,2,1)\n",
    "ax2 = plt.subplot(1,2,2)\n",
    "\n",
    "ax1.set_title(\"Función del olvido:$R(t)=e^{t/S}$, con $S=0.9$\",fontsize=18)\n",
    "ax1.set_xlabel(\"t (Días)\",fontsize=14)\n",
    "ax1.set_ylabel(\"$R(t)$\",fontsize=14)\n",
    "\n",
    "ax2.set_title(\"Pendiente $m(t)$\",fontsize=18)\n",
    "ax2.set_xlabel(\"t (Días)\",fontsize=14)\n",
    "ax2.set_ylabel(\"$m(t)$\",fontsize=14)\n",
    "\n",
    "\n",
    "ax1.plot(ts,Funcion(ts,0.9),lw=3,color=\"orange\")\n",
    "ax1.plot(td,Funcion(td,0.9),marker=\"o\",lw=1,markersize=8,markerfacecolor=\"black\",color=\"black\",alpha=1)\n",
    "\n",
    "ax2.plot(td,m,ls=\"dashed\",lw=2,marker=\"o\",markersize=8,markerfacecolor=\"black\",color=\"black\")\n",
    "\n",
    "plt.show()"
   ]
  },
  {
   "cell_type": "markdown",
   "id": "2c08c3ac",
   "metadata": {},
   "source": [
    "En la gráfica de la izquierda, la línea negra nos muestra gráficamente el cambio en la pendiente de la recta que une los puntos de la gráfica de $R(t)$. En la gráfica de la derecha, observamos el cámbio de la pendiente $m$ en función de $t$.\n",
    "\n",
    "Lo que estamos observando es la razón de cambio de $R(t)$ en intervalos de tiempo de longitud $h = 1$. Esto es lo que expresa la fórmula de $m(t)$. \n",
    "\n",
    "¿Será posible calcular **la razón de cambio instantáneo**? Para ello, esta razón debería calcularse en un solo instante de tiempo, lo cual implica que $t_1 = t_2 \\Longrightarrow h = 0$, y esto nos lleva a que la fórmula de $m(t)$ no está bien definida (división por cero!). Pero, ¿qué pasa si $h$ se hace muy pequeña? es decir:\n",
    "\n",
    "$$\n",
    "\\lim_{h \\to 0}  \\frac{R(t + h) - R(t)}{h}\n",
    "$$\n",
    "\n",
    "En la siguiente visualización puedes modificar $S$, $h$ y $t$. Observa lo que sucede cuando $h \\to 0$. "
   ]
  },
  {
   "cell_type": "code",
   "execution_count": null,
   "id": "89f87b08",
   "metadata": {},
   "outputs": [],
   "source": [
    "%run Ejemplo1.py"
   ]
  },
  {
   "cell_type": "markdown",
   "id": "dc733144",
   "metadata": {},
   "source": [
    "Conforme $h$ se hace más pequeño, observamos que la línea roja se aproxima cada vez mejor a la línea tangente que pasa por el punto rojo. Dicha línea representa una aproximación a la razón de cambio instantánea en el punto rojo.\n",
    "Entonces, la tangente en el punto rojo, no es otra cosa que la razón de cambio instantánea. Veremos enseguida que ambas cosas se representan un concepto conocido como *la derivada de la función* en el punto rojo."
   ]
  },
  {
   "cell_type": "markdown",
   "id": "56612446",
   "metadata": {},
   "source": [
    "<a name='2'></a>\n",
    "## Definición de derivada\n",
    "\n",
    "En todos los libros de cálculo encontrarás la siguiente definición y notación para la derivada de la función $f(x)$:\n",
    "\n",
    "$$ \n",
    "\\frac{d f}{dx} = f^\\prime(x)=\\lim_{h \\to 0} \\frac{f(x + h) - f(x)}{h} \n",
    "$$\n",
    "\n",
    "La derivada existe siempre y cuando exista el límite. ¿Puedes imaginar cuando este límite no existe? Observe que en la definición anterior se está calculando la pendiente de la función $f(x)$ en $x$, ¿cuándo es que esta pendiente no se puede calcular?\n",
    "\n",
    "Para tener una mejor idea de lo que este límite significa vea el siguiente interactivo."
   ]
  },
  {
   "cell_type": "code",
   "execution_count": null,
   "id": "4bcdd802",
   "metadata": {},
   "outputs": [],
   "source": [
    "%run Ejemplo2.py"
   ]
  },
  {
   "cell_type": "markdown",
   "id": "6b0e3fd0",
   "metadata": {},
   "source": [
    "<a name='2-1'></a>\n",
    "### Ejemplo 2\n",
    "\n",
    "Consideremos la función $f(x) = x^3$ y apliquemos la definición de derivada:\n",
    "\n",
    "$$\n",
    "\\frac{d f}{dx} = \\lim_{h \\to 0} \\frac{f(x + h) - f(x)}{h} = \\lim_{h \\to 0} \\frac{(x + h)^3 - x^3}{h}\n",
    "$$\n",
    "\n",
    "Si expandimos los términos del numerador obtenemos:\n",
    "\n",
    "$$\n",
    "\\frac{d f}{dx} = \\lim_{h \\to 0} \\, (3x^2 + 3 x h + h ^2)\n",
    "$$\n",
    "\n",
    "Al calcular el límite de la derecha obtenemos:\n",
    "\n",
    "$$\n",
    "\\frac{d f}{dx} = 3x^2\n",
    "$$\n",
    "\n",
    "Hemos calculado la derivada analítica de $f(x) = x^3$. Veamos como se ven $f(x)$ y $f^\\prime(x)$:"
   ]
  },
  {
   "cell_type": "code",
   "execution_count": null,
   "id": "0df8e61e",
   "metadata": {},
   "outputs": [],
   "source": [
    "#Dominio\n",
    "x = np.linspace(0,10,100)\n",
    "\n",
    "#Imagen de Funcion F\n",
    "f = [i**3 for i in x]\n",
    "\n",
    "#Imagen de la derivada de F\n",
    "f_p = [3*i**2 for i in x]\n",
    "\n",
    "plt.figure(figsize=(15,7))\n",
    "plt.plot(x,f,lw=3)\n",
    "plt.plot(x,f_p,lw=3)\n",
    "\n",
    "plt.xlabel(\"X\", fontsize=16)\n",
    "plt.ylabel(\"$f(x)$  y  $f'(x)$\", fontsize=16)\n",
    "plt.title(\"$f(x)$ y $f'(x)$\",fontsize=22)\n",
    "\n",
    "plt.legend([\"$f(x)$\",\"$f'(x)$\"],fontsize=20)\n",
    "\n",
    "plt.show()"
   ]
  },
  {
   "cell_type": "markdown",
   "id": "e6a76525",
   "metadata": {},
   "source": [
    "<a name='3'></a>\n",
    "## Reglas de derivación\n",
    "\n",
    "En general es fácil calcular la derivada de cualquier función y existen reglas para hacerlo más fácil.\n",
    " \n",
    "<a name='3-1'></a>\n",
    "**Regla de potencias**\n",
    "\n",
    "Para cualquier número real $n$ si $f(x)= x^n$, entonces\n",
    "$$\n",
    "f^\\prime(x) = n * x^{n-1}\n",
    "$$\n",
    "\n",
    "<a name='3-2'></a>\n",
    "**Regla de la función constante**\n",
    "\n",
    "Si $f(x)=c$ es una función constante, entonces\n",
    "$$ \n",
    "f^\\prime(x)=0 \n",
    "$$\n",
    "\n",
    "<a name='3-3'></a>\n",
    "**Regla de la multiplicación por constante**\n",
    "\n",
    "Si $c$ es cualquier constante y $f(x)$ es diferenciable, entonces $g(x)= c f(x)$ también es diferenciable y su derivada es:\n",
    "$$ \n",
    "g^\\prime(x) = c f^\\prime(x) \n",
    "$$\n",
    "\n",
    "<a name='3-4'></a>\n",
    "**Regla de suma y diferencia**\n",
    "\n",
    "Si $f(x)$ y $g(x)$ son diferenciables, entonces $f(x) + g(x)$ y $f(x) - g(x)$ también son diferenciables y sus derivadas son:\n",
    "$$ \n",
    "[f(x)+ g(x)]^\\prime = f^\\prime(x) + g^\\prime(x) \n",
    "$$\n",
    "\n",
    "$$ \n",
    "[f(x)- g(x)]^\\prime=f^\\prime(x) - g^\\prime(x) \n",
    "$$\n",
    "\n",
    "<a name='3-5'></a>\n",
    "**Regla del producto**\n",
    "\n",
    "Si $f(x)$ y $g(x)$ son funciones diferenciables, entonces $f(x)g(x)$ es diferenciable y su derivada es:\n",
    "$$ \n",
    "[f(x) g(x)]^\\prime= f(x)g^\\prime(x) + g(x)f^\\prime(x) \n",
    "$$\n",
    "\n",
    "<a name='3-6'></a>\n",
    "**Regla del cociente**\n",
    "\n",
    "Si $f$ y $g$ son funciones diferenciables y $g(x) \\neq 0$, entonces $f(x)/g(x)$ es diferenciable y su derivada es: \n",
    "$$  \n",
    "\\left[\\frac{f(x)}{g(x)} \\right]^\\prime = \\frac{f(x)g^\\prime(x)- f^\\prime(x)g(x) }{g(x)^2}\n",
    "$$\n",
    "\n",
    "<a name='3-7'></a>\n",
    "**Regla  de la cadena**\n",
    "\n",
    "Si la función $f(u)$ es diferenciable, donde $u = g(x)$, y la función $g(x)$ es diferenciable, entonces la composición $y=(f \\circ g)(x)= f(g(x))$ es diferenciable:\n",
    "$$ \n",
    "f(g(x))^\\prime = f^\\prime(g(x)) \\cdot g^\\prime(x)  \n",
    "$$\n",
    "\n",
    "<a name='3-8'></a>\n",
    "**Regla de L’Hôpital**\n",
    "\n",
    "Esta regla es utilizada en caso de indeterminaciones donde $f(x)$ y $g(x)$ son dos funciones continuas definidas en el intervalo $[a,b]$, derivables en $(a,b)$ y sea $c$ perteneciente a $(a,b)$ tal que $f(c)=g(c)=0$ y $g^\\prime(x) \\neq 0$ si $x \\neq c$. Si existe el límite $L$ de $f^\\prime/g^\\prime$ en $c$, entonces existe el límite de $f(x)/g(x)$ (en $c$) y es igual a $L$. Por lo tanto:\n",
    "$$ \n",
    "\\lim_{x \\to c} \\frac{f(x)}{g(x)} = \\lim_{x \\to c} \\frac{f^\\prime(x)}{g^\\prime(x)} = L \n",
    "$$\n",
    "\n",
    "<a name='3-9'></a>\n",
    "**Derivadas de funciones trigonométricas**\n",
    "\n",
    "$$\n",
    "\\begin{eqnarray}\n",
    "\\sin^\\prime(x) & = & \\cos(x) \\\\ \n",
    "\\tan^\\prime(x) & = & \\sec^2(x) \\\\\n",
    "\\sec^\\prime(x) & = & \\sec(x)tan(x) \\\\\n",
    "\\cos^\\prime(x) & = & -\\sin(x) \\\\\n",
    "\\cot^\\prime(x) & = & -\\csc^2(x) \\\\\n",
    "\\csc^\\prime(x) & = & -\\csc(x)cot(x)\n",
    "\\end{eqnarray}\n",
    "$$\n",
    "\n",
    "**Derivada la función exponencial**\n",
    "\n",
    "$$\n",
    "\\left[ e^{x} \\right]^\\prime = e^{x}\n",
    "$$\n"
   ]
  },
  {
   "cell_type": "markdown",
   "id": "f8e79ed9",
   "metadata": {},
   "source": [
    "<a name='4'></a>\n",
    "***\n",
    "## Teorema de Rolle :\n",
    "Sea $a < b$ y suponga que $f : [a, b] → {\\mathbb{R}}$ es derivable en $(a, b)$ y continua\n",
    "en $[a, b]$ y $f(a) = f(b)$. Entonces $∃ x_0 ∈ (a, b)$ tal que $f^\\prime(x_0) = 0$\n",
    "***\n",
    "Lo anterior quiere decir que, dadas las condiciones del teorema, es posible encontrar un punto de la función $f(x)$ dentro del intervalo $(a,b)$ donde la derivada, esto es la línea tangente, es cero, en otras palabras, en ese punto la línea tangente es horizontal. \n",
    "\n",
    "<a name='4-1'></a>\n",
    "### Ejemplo 3\n",
    "\n",
    "Considere la función $F(x)= x^2 + 5$, la cual es continúa en todo $\\mathbb{R}$. Tomemos el intervalo $[-5,5]$ y hagamos la gráfica de esta función. Observe en la gráfica que sigue, que se cumplen las condiciones del Teorema de Rolle y por lo tanto es posible encontrar un punto $c$, punto rojo, donde la derivada es cero (línea roja)."
   ]
  },
  {
   "cell_type": "code",
   "execution_count": null,
   "id": "27a99613",
   "metadata": {},
   "outputs": [],
   "source": [
    "#Dominio e imagen de la grafica\n",
    "x = np.linspace(-10,10,200)\n",
    "f = lambda i: i**2 + 5 \n",
    "\n",
    "#Configuracion de la grafica\n",
    "plt.figure(figsize=(15,7))\n",
    "plt.grid(alpha=0.3,c=\"grey\")\n",
    "plt.xticks(range(-10,11,5))\n",
    "plt.yticks(range(-10,110,10))\n",
    "plt.xlabel(\"X\",size=16)\n",
    "plt.ylabel(\"$f(x)$\",size=16)\n",
    "plt.title(\"$F(x)=x^{2}+5$\",size=22)\n",
    "\n",
    "\n",
    "#Funcion\n",
    "plt.plot(x,f(x),lw=3)\n",
    "\n",
    "#Algunas lineas utiles\n",
    "plt.plot(np.linspace(-10,10,2),[f(5)]*2,ls=\"dashed\",color=\"green\",lw=2)\n",
    "plt.plot((5,5),(0,f(5)),ls=\"dashed\",color=\"green\",lw=2)\n",
    "plt.plot((-5,-5),(0,f(5)),ls=\"dashed\",color=\"green\",lw=2)\n",
    "plt.plot((-3,3),(5,5),color=\"red\",label=\"Linea Tangente\",lw=3)\n",
    "\n",
    "#Algunos puntos utiles\n",
    "plt.scatter((-5,5),(0,0),lw=5,color=\"black\",label=\"Puntos a y b\")\n",
    "plt.scatter((-5,5),(f(-5),f(5)),lw=5,color=\"blue\",label=\"Puntos $F(a)$ y $F(b)$\")\n",
    "plt.scatter(0,f(0),lw=5,color=\"red\",label=\"Punto en el que $F'(x)=0$\")\n",
    "\n",
    "plt.legend(loc=\"upper center\")\n",
    "plt.show()"
   ]
  },
  {
   "cell_type": "markdown",
   "id": "89ae28ee",
   "metadata": {},
   "source": [
    "<a name='5'></a>\n",
    "## Derivadas de orden superior\n",
    "\n",
    "Es posible obtener la derivada de la derivada, es decir, si tenemos una función $f(x)$ cuya derivada es $f^\\prime(x)$, entonces podemos calcular la derivada a esta última función, para obtener $f^{\\prime\\prime}(x)$, a esta última función, si es que existe, se le conoce como la segunda derivada de $f(x)$. También se puede denotar a la segunda derivada com $f^{(2)}(x)$.\n",
    "\n",
    "En general, si $f(x)$ es derivable $k$ veces, entonces es posible obtener la $k$-ésima derivada de dicha función, que se escribe como:\n",
    "$$ \n",
    "\\frac{d^kf(x)}{dx^k} = f^{(k)}(x)\n",
    "$$"
   ]
  },
  {
   "cell_type": "markdown",
   "id": "57a2b1ca",
   "metadata": {},
   "source": [
    "<a name='5-1'></a>\n",
    "### Ejemplo 4\n",
    "\n",
    "Calcular la cuarta derivada de $f(x)= 3x^4 + 2x^2 - 20$.\n",
    "  \n",
    "Para calcular la derivada solicitada de $f(x)$ se deben realizar los cálculos recursivos desde la primera derivada de la función:\n",
    "\n",
    "$$\n",
    "\\begin{eqnarray}\n",
    "f^\\prime(x) & = & 12x^3 + 4x \\\\\n",
    "f^{(2)}(x) & = & 36x^2 + 4 \\\\\n",
    "f^{(3)}(x) & = & 72x  \\\\\n",
    "f^{(4)}(x) & = & 72 \\\\\n",
    "\\end{eqnarray}  \n",
    "$$ \n",
    "\n",
    "Observe las gráficas de cada función y explique el comportamiento de cada una de ellas."
   ]
  },
  {
   "cell_type": "code",
   "execution_count": 5,
   "id": "11f2037e",
   "metadata": {},
   "outputs": [
    {
     "data": {
      "image/png": "[encoded data removed]",
      "text/plain": [
       "<Figure size 1080x504 with 1 Axes>"
      ]
     },
     "metadata": {},
     "output_type": "display_data"
    }
   ],
   "source": [
    "# Definimos la función y sus cuatro derivadas\n",
    "f = lambda x: 3*x**4 + 2*x**3 -20\n",
    "f1 = lambda x: 12*x**3 + 4*x\n",
    "f2 = lambda x: 36*x**2 + 4\n",
    "f3 = lambda x: 72*x\n",
    "f4 = lambda x: 72*np.ones(len(x))\n",
    "\n",
    "x = np.linspace(-3, 3, 50) # Codominio de la función\n",
    "\n",
    "\n",
    "# Graficamos la función y su derivada\n",
    "plt.figure(figsize=(15,7))\n",
    "plt.title('$f(x)=3x^4 + 2x^3 -20$ y sus derivadas',fontsize=22)\n",
    "plt.plot(x, f(x), label='$f(x)$')\n",
    "plt.plot(x, f1(x), label='$f^{(1)}(x)$')\n",
    "plt.plot(x, f2(x), label='$f^{(2)}(x)$')\n",
    "plt.plot(x, f3(x), label='$f^{(3)}(x)$')\n",
    "plt.plot(x, f4(x), label='$f^{(4)}(x)$')\n",
    "plt.legend(fontsize=18)\n",
    "plt.show()"
   ]
  },
  {
   "cell_type": "markdown",
   "id": "65d1e5ec",
   "metadata": {},
   "source": [
    "<a name='5-2'></a>\n",
    "### Ejemplo 5\n",
    "\n",
    "1. Utilizando la regla de L'Hopital encuentra el límite de $\\displaystyle f(x)=\\frac{\\sin(x)}{x}$ cuando $x$ tiende a cero.\n",
    "2. Encuentra la primera y segunda derivada de la siguientes funciones:\n",
    "- a) $f(x)= x^5 - 2x^3 + x$ \n",
    "- b) $f(x)= 4 \\cos x^2$\n",
    "\n",
    "**Solución 1.**\n",
    "\n",
    "1. Al cumplirse las condiciones de la regla podemos asegurar que:\n",
    " $$ \\lim_{x \\to 0} \\frac{\\sin (x)}{x} = \\lim_{x \\to 0} \\frac{\\sin^\\prime(x)}{x^\\prime} = \\lim_{x \\to 0} \\frac{\\cos(x)}{1}=1$$\n"
   ]
  },
  {
   "cell_type": "code",
   "execution_count": 6,
   "id": "0fd0cb0f",
   "metadata": {},
   "outputs": [
    {
     "data": {
      "image/png": "[encoded data removed]",
      "text/plain": [
       "<Figure size 1080x504 with 1 Axes>"
      ]
     },
     "metadata": {},
     "output_type": "display_data"
    }
   ],
   "source": [
    "f = lambda x: np.sin(x) / x\n",
    "\n",
    "x = np.linspace(0.01, 8*np.pi, num=100) # Codominio de la función\n",
    "\n",
    "\n",
    "# Graficamos la función y el punto (0, f(0))\n",
    "plt.figure(figsize=(15,7))\n",
    "plt.title('$f(x)=\\sin(x) / x$',fontsize=22)\n",
    "plt.ylabel(\"$f(x)$\",fontsize=18)\n",
    "plt.xlabel(\"$x$\",fontsize=18)\n",
    "plt.plot(x, f(x),lw=3)\n",
    "plt.scatter(0, 1, label='Límite cuando $x \\Rightarrow 0$',\n",
    "            fc='red', \n",
    "            ec='black',\n",
    "            alpha=0.75,\n",
    "            s=75, \n",
    "            zorder=10)\n",
    "\n",
    "plt.legend(fontsize=18)\n",
    "plt.show()"
   ]
  },
  {
   "cell_type": "markdown",
   "id": "a923cacd",
   "metadata": {},
   "source": [
    "**Solución 2.**\n",
    "\n",
    "2.a) Aplicando las reglas de derivación obtenemos:\n",
    "  $$f^\\prime(x)= 5x^4 - 6x^2 +1$$ \n",
    "  $$f^{\\prime\\prime}(x)= 20x^3 - 12 x $$ \n",
    "\n",
    "2.b) Aplicando las regla de la cadena obtenemos:\n",
    "  $$f^\\prime(x)= -4 \\sin x^2(2x) = -8x \\sin x^2$$ \n",
    "  $$f^{\\prime\\prime}(x)= -8 \\sin x^2 -8x (\\cos x^2(2x)) = -8 \\sin x^2 -16x^2 (\\cos x^2)$$ "
   ]
  },
  {
   "cell_type": "code",
   "execution_count": 7,
   "id": "c26a7f6c",
   "metadata": {},
   "outputs": [
    {
     "data": {
      "image/png": "[encoded data removed]",
      "text/plain": [
       "<Figure size 1152x432 with 2 Axes>"
      ]
     },
     "metadata": {},
     "output_type": "display_data"
    }
   ],
   "source": [
    "# Definimos la primera función y sus derivadas\n",
    "f = lambda x: x**5 - 2*x**3 + x\n",
    "f1 = lambda x: 5*x**4 -6*x**2 + 1\n",
    "f2 = lambda x: 20*x**3 - 12*x\n",
    "\n",
    "# Definimos la segunda función y sus derivadas\n",
    "g = lambda x: 4*np.cos(x**2)\n",
    "g1 = lambda x: -8*x*np.sin(x**2)\n",
    "g2 = lambda x: -8*np.sin(x**2) - 16*x**2*np.cos(x**2)\n",
    "\n",
    "x = np.linspace(-3, 3, 50) # Codominio de las funciones\n",
    "\n",
    "# Graficamos las funciones y sus derivadas\n",
    "plt.figure(figsize=(16,6))\n",
    "ax1 = plt.subplot(1,2,1)\n",
    "ax2 = plt.subplot(1,2,2)\n",
    "\n",
    "ax1.plot(x, f(x), label='$f(x)$',lw=3)\n",
    "ax1.plot(x, f1(x), label='$f^{(1)}(x)$',lw=3)\n",
    "ax1.plot(x, f2(x), label='$f^{(2)}(x)$',lw=3)\n",
    "ax1.legend(loc='upper center',fontsize=16)\n",
    "ax1.set_title('$f(x)=x^5 - 2x^3 + x$ y sus derivadas',fontsize=22)\n",
    "ax1.set_xlabel\n",
    "\n",
    "ax2.plot(x, g(x), label='$g(x)$',lw=3)\n",
    "ax2.plot(x, g1(x), label='$g^{(1)}(x)$',lw=3)\n",
    "ax2.plot(x, g2(x), label='$g^{(2)}(x)$',lw=3)\n",
    "ax2.legend(loc='upper center',fontsize=16)\n",
    "ax2.set_title('$g(x)=4\\cos(x^2)$ y sus derivadas',fontsize=22)\n",
    "\n",
    "ax1.set_xlabel(\"$X$\",fontsize=16)\n",
    "ax1.set_ylabel(\"$f(X)$\",fontsize=16)\n",
    "ax2.set_xlabel(\"$X$\",fontsize=16)\n",
    "ax2.set_ylabel(\"$g(X)$\",fontsize=16)\n",
    "\n",
    "plt.show()\n"
   ]
  },
  {
   "cell_type": "markdown",
   "id": "3c8d05f6",
   "metadata": {},
   "source": [
    "# Ejercicios"
   ]
  },
  {
   "cell_type": "markdown",
   "id": "35dfd843",
   "metadata": {},
   "source": [
    "Derive las siguientes funciones siguiendo las reglas del apartado [Reglas de derivación](#3):\n",
    "\n",
    "__Notas__: \n",
    " - _Para responder ejecuta la celda correspondiente (en Windows presiona Shift + Enter) y coloca tu respuesta_\n",
    " - _Recuerda para representar potencias ocupa el acento circunflejo (^), por ejemplo, para representar x al cuadrado escribimos x^2_\n",
    " - _En el caso de que las potencias tengas mas de un elemento recuerda ocupar parentesis, por ejemplo, x elevado a n+1 queda como x^(n+1)_\n",
    "\n",
    "## 1. Potencias:"
   ]
  },
  {
   "cell_type": "markdown",
   "id": "af1cf798",
   "metadata": {},
   "source": [
    "a) $F(x) = x^{5}$"
   ]
  },
  {
   "cell_type": "code",
   "execution_count": 9,
   "id": "7cfe1e60",
   "metadata": {
    "scrolled": true
   },
   "outputs": [
    {
     "ename": "NameError",
     "evalue": "name 'Ejercicio_1a' is not defined",
     "output_type": "error",
     "traceback": [
      "\u001b[1;31m---------------------------------------------------------------------------\u001b[0m",
      "\u001b[1;31mNameError\u001b[0m                                 Traceback (most recent call last)",
      "\u001b[1;32m~\\AppData\\Local\\Temp/ipykernel_18844/1661416176.py\u001b[0m in \u001b[0;36m<module>\u001b[1;34m\u001b[0m\n\u001b[1;32m----> 1\u001b[1;33m \u001b[0mEjercicio_1a\u001b[0m\u001b[1;33m(\u001b[0m\u001b[1;33m)\u001b[0m\u001b[1;33m\u001b[0m\u001b[1;33m\u001b[0m\u001b[0m\n\u001b[0m",
      "\u001b[1;31mNameError\u001b[0m: name 'Ejercicio_1a' is not defined"
     ]
    }
   ],
   "source": [
    "Ejercicio_1a()"
   ]
  },
  {
   "cell_type": "code",
   "execution_count": null,
   "id": "0e2fc86c",
   "metadata": {},
   "outputs": [],
   "source": [
    "Ejercicio_1a()"
   ]
  },
  {
   "cell_type": "markdown",
   "id": "2aff8fa1",
   "metadata": {},
   "source": [
    "b) $G(x) = x^{m}$"
   ]
  },
  {
   "cell_type": "code",
   "execution_count": null,
   "id": "96428ad4",
   "metadata": {},
   "outputs": [],
   "source": [
    "Ejercicio_1b()"
   ]
  },
  {
   "cell_type": "code",
   "execution_count": null,
   "id": "8408d7a8",
   "metadata": {},
   "outputs": [],
   "source": [
    "Ejercicio_1b()"
   ]
  },
  {
   "cell_type": "markdown",
   "id": "bd4fbd23",
   "metadata": {},
   "source": [
    "## 2. Constantes\n",
    "\n",
    "a) $F(x)=\\pi^{435}$"
   ]
  },
  {
   "cell_type": "code",
   "execution_count": null,
   "id": "29b4f1f0",
   "metadata": {
    "scrolled": true
   },
   "outputs": [],
   "source": [
    "Ejercicio_2a()"
   ]
  },
  {
   "cell_type": "code",
   "execution_count": null,
   "id": "37e978d9",
   "metadata": {},
   "outputs": [],
   "source": [
    "Ejercicio_2a()"
   ]
  },
  {
   "cell_type": "markdown",
   "id": "26f249b2",
   "metadata": {},
   "source": [
    "b) $G(x)=e^{\\pi}$"
   ]
  },
  {
   "cell_type": "code",
   "execution_count": null,
   "id": "2163c399",
   "metadata": {
    "scrolled": true
   },
   "outputs": [],
   "source": [
    "Ejercicio_2b()"
   ]
  },
  {
   "cell_type": "code",
   "execution_count": null,
   "id": "c884eaeb",
   "metadata": {},
   "outputs": [],
   "source": [
    "Ejercicio_2b()"
   ]
  },
  {
   "cell_type": "markdown",
   "id": "a2949437",
   "metadata": {},
   "source": [
    "## 3.- Regla de multiplicaion por constante"
   ]
  },
  {
   "cell_type": "markdown",
   "id": "1a01daa0",
   "metadata": {},
   "source": [
    "a) $F(x)= 10x^{4}$"
   ]
  },
  {
   "cell_type": "code",
   "execution_count": null,
   "id": "3a1be145",
   "metadata": {
    "scrolled": true
   },
   "outputs": [],
   "source": [
    "Ejercicio_3a()"
   ]
  },
  {
   "cell_type": "code",
   "execution_count": null,
   "id": "0efddcc4",
   "metadata": {
    "scrolled": true
   },
   "outputs": [],
   "source": [
    "Ejercicio_3a()"
   ]
  },
  {
   "cell_type": "markdown",
   "id": "3ac12c97",
   "metadata": {},
   "source": [
    "b) $G(x)= Ax^{n}$"
   ]
  },
  {
   "cell_type": "code",
   "execution_count": null,
   "id": "c79974d8",
   "metadata": {},
   "outputs": [],
   "source": [
    "Ejercicio_3b()"
   ]
  },
  {
   "cell_type": "markdown",
   "id": "cb439318",
   "metadata": {},
   "source": [
    "## 4.- Regla de Suma y Diferencia"
   ]
  },
  {
   "cell_type": "markdown",
   "id": "560981e8",
   "metadata": {},
   "source": [
    "a) $ F(x)= x^2 + x + 1 $"
   ]
  },
  {
   "cell_type": "code",
   "execution_count": null,
   "id": "8839ca77",
   "metadata": {},
   "outputs": [],
   "source": [
    "Ejercicio_4a()"
   ]
  },
  {
   "cell_type": "code",
   "execution_count": null,
   "id": "aa442c35",
   "metadata": {
    "scrolled": true
   },
   "outputs": [],
   "source": [
    "Ejercicio_4a()"
   ]
  },
  {
   "cell_type": "markdown",
   "id": "60a9abe8",
   "metadata": {},
   "source": [
    "b) $ G(x)= \\sin(x) - \\cos(x)$"
   ]
  },
  {
   "cell_type": "code",
   "execution_count": null,
   "id": "46f4fb50",
   "metadata": {},
   "outputs": [],
   "source": [
    "Ejercicio_4b()"
   ]
  },
  {
   "cell_type": "code",
   "execution_count": null,
   "id": "34375f20",
   "metadata": {},
   "outputs": [],
   "source": [
    "Ejercicio_4b()"
   ]
  },
  {
   "cell_type": "markdown",
   "id": "87f3c1d6",
   "metadata": {},
   "source": [
    "c) $ H(x)= Ax^m - Bx^n + C $"
   ]
  },
  {
   "cell_type": "code",
   "execution_count": null,
   "id": "582d1599",
   "metadata": {
    "scrolled": true
   },
   "outputs": [],
   "source": [
    "Ejercicio_4c()"
   ]
  },
  {
   "cell_type": "code",
   "execution_count": null,
   "id": "06e7f586",
   "metadata": {},
   "outputs": [],
   "source": [
    "Ejercicio_4c()"
   ]
  },
  {
   "cell_type": "markdown",
   "id": "0b5b04c6",
   "metadata": {},
   "source": [
    "## 5.- Regla de Producto"
   ]
  },
  {
   "cell_type": "markdown",
   "id": "65b8d1bc",
   "metadata": {},
   "source": [
    "a) $ F(x)= \\left( x^4 \\right) \\left( x^{-2} \\right) $     \n",
    "__NOTA__:Reduce la solucion a su minima expresion"
   ]
  },
  {
   "cell_type": "markdown",
   "id": "de635dcd",
   "metadata": {},
   "source": [
    "b) $ G(x) = \\sin(x)\\cos(x)$"
   ]
  },
  {
   "cell_type": "code",
   "execution_count": null,
   "id": "f868fb63",
   "metadata": {
    "scrolled": true
   },
   "outputs": [],
   "source": [
    "Ejercicio_5a()"
   ]
  },
  {
   "cell_type": "code",
   "execution_count": null,
   "id": "ade79025",
   "metadata": {
    "scrolled": true
   },
   "outputs": [],
   "source": [
    "Ejercicio_5a()"
   ]
  },
  {
   "cell_type": "code",
   "execution_count": null,
   "id": "23cd5076",
   "metadata": {},
   "outputs": [],
   "source": [
    "Ejercicio_5b()"
   ]
  },
  {
   "cell_type": "code",
   "execution_count": null,
   "id": "6ae38d9e",
   "metadata": {
    "scrolled": true
   },
   "outputs": [],
   "source": [
    "Ejercicio_5b()"
   ]
  },
  {
   "cell_type": "markdown",
   "id": "5b9016cb",
   "metadata": {},
   "source": [
    "## 6.- Regla de Cociente"
   ]
  },
  {
   "cell_type": "markdown",
   "id": "c9ff59d1",
   "metadata": {},
   "source": [
    "a) $ F(x)=  \\frac{sin(x)}{x} $\n",
    "\n",
    "__Nota:__ Reduce la expresion del numerador\n",
    "\n",
    "__Formato__: ( f(x) )/( g(x) )"
   ]
  },
  {
   "cell_type": "code",
   "execution_count": null,
   "id": "8406ca12",
   "metadata": {},
   "outputs": [],
   "source": [
    "Ejercicio_6a()"
   ]
  },
  {
   "cell_type": "code",
   "execution_count": null,
   "id": "201998ab",
   "metadata": {},
   "outputs": [],
   "source": [
    "Ejercicio_6a()"
   ]
  },
  {
   "cell_type": "markdown",
   "id": "03ff9928",
   "metadata": {},
   "source": [
    "b) $ G(x)=  \\frac{1}{x^2+x+1} $"
   ]
  },
  {
   "cell_type": "code",
   "execution_count": null,
   "id": "889de543",
   "metadata": {},
   "outputs": [],
   "source": [
    "Ejercicio_6b()"
   ]
  },
  {
   "cell_type": "code",
   "execution_count": null,
   "id": "ebfa52e6",
   "metadata": {
    "scrolled": true
   },
   "outputs": [],
   "source": [
    "Ejercicio_6b()"
   ]
  },
  {
   "cell_type": "markdown",
   "id": "3773969f",
   "metadata": {},
   "source": [
    "## 7.- Regla de la Cadena"
   ]
  },
  {
   "cell_type": "markdown",
   "id": "07208832",
   "metadata": {},
   "source": [
    "a) $ F(x)= \\left( 5x^2 + 2x \\right)^{2} $"
   ]
  },
  {
   "cell_type": "code",
   "execution_count": null,
   "id": "ae9fd7cb",
   "metadata": {},
   "outputs": [],
   "source": [
    "Ejercicio_7a()"
   ]
  },
  {
   "cell_type": "code",
   "execution_count": null,
   "id": "ded80a20",
   "metadata": {},
   "outputs": [],
   "source": [
    "Ejercicio_7a()"
   ]
  },
  {
   "cell_type": "markdown",
   "id": "ebdcb29d",
   "metadata": {},
   "source": [
    "b) $ G(x)= \\cos(x^2 +3)$"
   ]
  },
  {
   "cell_type": "code",
   "execution_count": null,
   "id": "6f7bdff6",
   "metadata": {},
   "outputs": [],
   "source": [
    "Ejercicio_7b()"
   ]
  },
  {
   "cell_type": "code",
   "execution_count": null,
   "id": "ea5ee36c",
   "metadata": {},
   "outputs": [],
   "source": [
    "Ejercicio_7b()"
   ]
  },
  {
   "cell_type": "code",
   "execution_count": null,
   "id": "ccf65a3b",
   "metadata": {},
   "outputs": [],
   "source": []
  }
 ],
 "metadata": {
  "kernelspec": {
   "display_name": "Python 3 (ipykernel)",
   "language": "python",
   "name": "python3"
  },
  "language_info": {
   "codemirror_mode": {
    "name": "ipython",
    "version": 3
   },
   "file_extension": ".py",
   "mimetype": "text/x-python",
   "name": "python",
   "nbconvert_exporter": "python",
   "pygments_lexer": "ipython3",
   "version": "3.9.7"
  }
 },
 "nbformat": 4,
 "nbformat_minor": 5
}
