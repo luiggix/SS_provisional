{
 "cells": [
  {
   "cell_type": "markdown",
   "id": "8a90276f",
   "metadata": {},
   "source": [
    "# Sistemas lineales\n",
    "\n",
    "**Objetivo general**\n",
    "- Presentar el concepto de sistema lineal así como sus aplicaciones dentro de diversos campos de estudio.\n",
    "\n",
    "**Objetivos particulares**\n",
    "- Dar una idea concisa sobre los sistemas lineales.\n",
    "- Con ayuda de ejemplos mostrar la importancia del estudio de estos sistemas. \n",
    "\n",
    "## Contenido\n",
    "- [1 - Introducción.](#1)\n",
    "- [2 - Representación vectorial.](#2)\n",
    "- [3 - Representación matricial.](#3)\n",
    "- [4 - Interpretación.](#4)\n",
    "    - [Ejemplo 1.](#ej-1)\n",
    "        \n",
    "- [5 - Interpretación general.](#5)\n",
    "- [6 - Inversa de la matriz A.](#6)\n",
    "- [7 - Inconveniente del cálculo de la inversa de una matriz.](#7)\n",
    "   \n",
    "- [8 - Ejercicio.](#8)\n",
    "- [9 - Referencias.](#9)\n",
    "- [10 - Evalúa tu conocimiento.](#10)"
   ]
  },
  {
   "cell_type": "markdown",
   "id": "eea20b43",
   "metadata": {},
   "source": [
    "<a name='1'></a>\n",
    "## Introducción\n",
    "\n",
    "Múltiples problemas de las ciencias exactas implican la resolución de sistemas de N ecuaciones lineales con N incógnitas.\n",
    "\n",
    "Estos sistemas tienen un sin fin de aplicaciones, desde aplicaciones en economía, medicina e incluso en inteligencia artificial.\n",
    "\n",
    "En el caso general, un sistema de N ecuaciones lineales con N incógnitas $x_{i}$ se puede presentar en la forma:\n",
    "\n",
    "$$\\begin{cases}\n",
    "f_{1}(x_{1},x_{2},\\ldots,x_{n}) & =0\\\\\n",
    "f_{2}(x_{1},x_{2},\\ldots,x_{n}) & =0\\\\\n",
    " & \\,\\vdots\\\\\n",
    "f_{n}(x_{1},x_{2},\\ldots,x_{n}) & =0\n",
    "\\end{cases}$$\n"
   ]
  },
  {
   "cell_type": "markdown",
   "id": "15e7ab01",
   "metadata": {},
   "source": [
    "<a name='2'></a>\n",
    "## Representación vectorial\n",
    "\n",
    "Usando notación vectorial, podemos reescribir el sistema en una forma más elegante:\n",
    "\n",
    "$$F(\\vec{X})=\\vec{0}$$\n",
    "\n",
    "Definiendo vectores columna como\n",
    "\n",
    "$$F\t=\t\\left[f_{1},f_{2},\\ldots,f_{N}\\right]^{T}$$\n",
    "\n",
    "$$ \\vec{X}\t=\t\\left[x_{1,}x_{2},\\ldots,x_{N}\\right]$$\n",
    "\n",
    "$$ \\vec{0}\t=\t\\left[0_{1},0_{2},\\ldots,0_{N}\\right]^{T}$$\n",
    "\n",
    "Y considerando que cada una de las $f_{i}$ son ecuaciones lineales."
   ]
  },
  {
   "cell_type": "markdown",
   "id": "40e26936",
   "metadata": {},
   "source": [
    "<a name='3'></a>\n",
    "## Representación matricial\n",
    "\n",
    "Otra forma en la cual podemos representar este sistema de N ecuaciones con N incognitas es mediante la representación matricial.\n",
    "\n",
    "$$A\\vec{x}=\\vec{b}$$\n",
    "\n",
    "Con $A\\in M_{n\\times n}$ y $\\vec{x}, \\vec{b} \\in \\mathbb{R}^{n}$, es decir.\n",
    "\n",
    "$$\\left(\\begin{array}{ccccccc}\n",
    "a_{11} & a_{12} & \\cdots & \\cdots & \\cdots & \\cdots & a_{1n}\\\\\n",
    "a_{21} & a_{22} & \\cdots & \\cdots & \\cdots & \\cdots & a_{2n}\\\\\n",
    "\\vdots & \\ddots & \\ddots & \\ddots & \\ddots & \\ddots & \\vdots\\\\\n",
    "\\vdots & \\ddots & \\ddots & \\ddots & \\ddots & \\ddots & \\vdots\\\\\n",
    "\\vdots & \\ddots & \\ddots & \\ddots & \\ddots & \\ddots & \\vdots\\\\\n",
    "a_{n1} & \\cdots & \\cdots & \\cdots & \\cdots & \\cdots & a_{nn}\n",
    "\\end{array}\\right)\\left(\\begin{array}{c}\n",
    "x_{1}\\\\\n",
    "x_{2}\\\\\n",
    "\\vdots\\\\\n",
    "\\vdots\\\\\n",
    "\\vdots\\\\\n",
    "x_{n}\n",
    "\\end{array}\\right)=\\left(\\begin{array}{c}\n",
    "0\\\\\n",
    "0\\\\\n",
    "\\vdots\\\\\n",
    "\\vdots\\\\\n",
    "\\vdots\\\\\n",
    "0\n",
    "\\end{array}\\right)$$\n",
    "\n",
    "Recordando un poco temas de álgebra lineal podemos concluir que este sistema tendra solución única, siempre y cuando el determinante de la matriz $A$, sea diferente de cero, ya que en otro caso el sistema $A\\vec{x}=\\vec{b}$ no tiene solución ó tiene infinidad de soluciones. El hecho de que el determinante de una matriz sea diferente de cero está directamente relacionado con la dimensión del espacio generado por los vectores columna de la matriz $A$ y también con respecto a las combinaciones lineales que estos generan, por lo que se recomienda enfáticamente revisar las referencias a estos temas para una mejor comprensión del tema o también ver esta [serie de videos](https://www.youtube.com/watch?v=fNk_zzaMoSs)."
   ]
  },
  {
   "cell_type": "markdown",
   "id": "ff56c933",
   "metadata": {},
   "source": [
    "<a name='4'></a>\n",
    "## Interpretación\n",
    "\n",
    "Al intentar resolver un sistema lineal de ecuaciones, nos podemos topar con las siguientes opciones:\n",
    "\n",
    "*   Sistema incompatible (carece de solución).\n",
    "*   Sistema compatible y determinado (solución única).\n",
    "*   Sistema compatible e indeterminado (infinitas soluciones).\n",
    "\n",
    "Supongamos que tenemos un sistema lineal de 2 ecuaciones con 2 incognitas, es decir que tenemos las ecuaciones de dos rectas:\n",
    "\n",
    "$$\n",
    "\\begin{matrix}\n",
    "a_{00} x_0 + a_{01} x_1 = b_0 \\\\\n",
    "a_{10} x_0 + a_{11} x_1 = b_1\n",
    "\\end{matrix}\n",
    "$$\n",
    "\n",
    "que en forma matricial se escriben como:\n",
    "\n",
    "$$\\left(\\begin{array}{cc}\n",
    "a_{00} & a_{01}\\\\\n",
    "a_{10} & a_{11}\n",
    "\\end{array}\\right)\\left(\\begin{array}{c}\n",
    "x_{0}\\\\\n",
    "x_{1}\n",
    "\\end{array}\\right)=\\left(\\begin{array}{c}\n",
    "b_{0}\\\\\n",
    "b_{1}\n",
    "\\end{array}\\right)$$\n",
    "\n",
    "La solución (en caso de existir) representa el **punto en el cual estas dos rectas se intersectan**. Por el contrario, en caso de que no exista solución eso significa que **ambas rectas son paralelas**, por lo que no existe intersección. Finalmente en caso de que ambas rectas no sean linealmente independientes, podemos decir que **existe una infinidad de soluciones** al sistema."
   ]
  },
  {
   "cell_type": "markdown",
   "id": "5ec7cb40",
   "metadata": {},
   "source": [
    "---\n",
    "<a name='ej-1'></a>\n",
    "#### **<font color=\"DodgerBlue\">Ejemplo 1.</font>**\n",
    "\n",
    "<font color=\"DarkBlue\">Sea el sistema lineal\n",
    "\n",
    "<font color=\"DarkBlue\">$$\n",
    "\\begin{matrix}\n",
    "-1 x_0 + 3 x_1 = 3 \\\\\n",
    "1 x_0 + 4 x_1 = 8\n",
    "\\end{matrix}\n",
    "$$\n",
    "\n",
    "<font color=\"DarkBlue\">O en su representación matricial $A\\vec{x}=\\vec{b}$\n",
    "\n",
    "<font color=\"DarkBlue\">$$\\left(\\begin{array}{cc}\n",
    "-1 & 3\\\\\n",
    "1 & 4\n",
    "\\end{array}\\right)\\left(\\begin{array}{c}\n",
    "x_{0}\\\\\n",
    "x_{1}\n",
    "\\end{array}\\right)=\\left(\\begin{array}{c}\n",
    "3\\\\\n",
    "8\n",
    "\\end{array}\\right)$$\n",
    "\n",
    "<font color=\"DarkBlue\">Las ecuaciones de las rectas se pueden escribir como:\n",
    "\n",
    "<font color=\"DarkBlue\">$$\n",
    "\\begin{array}{ccc}\n",
    "-\\dfrac{1}{3}x_0 + x_1 = \\dfrac{3}{3} \\\\\n",
    "\\quad\\dfrac{1}{4}x_0 + x_1 = \\dfrac{8}{4}\n",
    "\\end{array} \\Longrightarrow\n",
    "\\begin{array}{ccc}\n",
    "y_0 = m_0 x + b_0 \\\\\n",
    "y_1 = m_1 x + b_1\n",
    "\\end{array} \\text{ donde }\n",
    "\\begin{array}{ccc}\n",
    "m_0 = \\dfrac{1}{3}, b_0 = 1 \\\\\n",
    "m_1 = -\\dfrac{1}{4}, b_1 = \\dfrac{8}{4}\n",
    "\\end{array}\n",
    "$$\n",
    "\n",
    "<font color=\"DarkBlue\">Nótese que hemos renombrado $x_0 \\equiv x$ y $x_1 \\equiv y_0$ para la primera recta y $x_1 \\equiv y_1$ para la segunda recta.\n",
    "\n",
    "<font color=\"DarkBlue\">El siguiente código muestra las gráficas de estas líneas rectas.\n",
    "\n",
    "\n",
    "---"
   ]
  },
  {
   "cell_type": "code",
   "execution_count": 2,
   "id": "3faecb46",
   "metadata": {},
   "outputs": [
    {
     "data": {
      "image/png": "[encoded data removed]",
      "text/plain": [
       "<Figure size 432x288 with 1 Axes>"
      ]
     },
     "metadata": {
      "needs_background": "light"
     },
     "output_type": "display_data"
    }
   ],
   "source": [
    "import numpy as np\n",
    "import matplotlib.pyplot as plt\n",
    "%matplotlib inline\n",
    "# definición de las pendientes y ordenada al origen\n",
    "m0 = 1/3\n",
    "b0 = 1\n",
    "m1 = -1/4\n",
    "b1 = 2\n",
    "# dominio en el cual se genera la gráfica\n",
    "x = np.linspace(0,3,10)\n",
    "# definición de las rectas\n",
    "y0 = m0 * x + b0\n",
    "y1 = m1 * x + b1 \n",
    "# se grafican ambas rectas\n",
    "plt.plot(x,y0,label = '$-1x_0+3x_1=3$', color='crimson')\n",
    "plt.plot(x,y1,label = '$1x_0+4x_1=8$', color='b' )\n",
    "plt.xlabel('$x$')\n",
    "plt.ylabel('$y$')\n",
    "plt.title('Cruce de rectas')\n",
    "plt.grid()\n",
    "plt.legend()\n",
    "plt.show()"
   ]
  },
  {
   "cell_type": "markdown",
   "id": "eff3dbdb",
   "metadata": {},
   "source": [
    "Al resolver el sistema de ecuaciones obtenemos el punto en el cual se intersectan las rectas."
   ]
  },
  {
   "cell_type": "code",
   "execution_count": 8,
   "id": "ce56234d",
   "metadata": {},
   "outputs": [
    {
     "name": "stdout",
     "output_type": "stream",
     "text": [
      "Matriz A : \n",
      " [[-1  3]\n",
      " [ 1  4]]\n",
      "\n",
      "\n",
      "Vector b : \n",
      " [3 8]\n",
      "\n",
      "\n",
      "Solucion del sistema:  [1.71428571 1.57142857]\n"
     ]
    },
    {
     "data": {
      "image/png": "[encoded data removed]",
      "text/plain": [
       "<Figure size 432x288 with 1 Axes>"
      ]
     },
     "metadata": {
      "needs_background": "light"
     },
     "output_type": "display_data"
    }
   ],
   "source": [
    "# definicion del sistema de ecuaciones\n",
    "A = np.matrix([[-1, 3],[1,4]] )\n",
    "b = np.array([3,8])\n",
    "print(\"Matriz A : \\n\",A)\n",
    "print(\"\\n\")\n",
    "print(\"Vector b : \\n\", b)\n",
    "print(\"\\n\")\n",
    "# solucion del sistema empleando numpy\n",
    "sol = np.linalg.solve(A,b)\n",
    "print(\"Solucion del sistema: \", sol)\n",
    "# se grafican ambas rectas\n",
    "plt.plot(x,y0,label = 'Netflix', color='crimson')\n",
    "plt.plot(x,y1,label = 'BlockBuster', color='b' )\n",
    "plt.plot(sol[0],sol[1],'ro',label=\"Pto. solución\")\n",
    "plt.xlabel('$x$')\n",
    "plt.ylabel('$y$')\n",
    "plt.title('Cruce de rectas')\n",
    "plt.grid()\n",
    "plt.legend()\n",
    "plt.show()"
   ]
  },
  {
   "cell_type": "markdown",
   "id": "e3b9786a",
   "metadata": {},
   "source": [
    "En este [video](https://www.youtube.com/watch?v=MisZYKmoKYU) se muestra una de las muchas aplicaciones e interpretaciones que se le pueda dar al concepto de solución de sistemas de ecuaciones lineales."
   ]
  },
  {
   "cell_type": "markdown",
   "id": "b8c87094",
   "metadata": {},
   "source": [
    "<a name='5'></a>\n",
    "## Interpretación general\n",
    "\n",
    "Ya se vio que la solución de un sistema de 2 ecuaciones lineales con 2 incógnitas representa **el punto en $\\mathbb{R}^{2}$ donde ambas rectas se intersectan**. Por otro lado, la solución de un sistema de 3 ecuaciones lineales con 3 incógnitas representa **el punto en $\\mathbb{R}^{3}$** donde se genera de la intersección de los 3 planos. De manera general podemos decir que la solución de un sistema de $n$-ecuaciones lineales con $n$-incógnitas representa el vector $\\vec{x} \\in \\mathbb{R}^{n}$ donde se da la intersección de los subespacios generados por los vectores columna de la matriz $A\\in M_{n\\times n}$."
   ]
  },
  {
   "cell_type": "markdown",
   "id": "2170dc49",
   "metadata": {},
   "source": [
    "<a name='6'></a>\n",
    "## Inversa de la matriz A\n",
    "\n",
    "En caso de que el sistema $A\\vec{x}=\\vec{b}$ tenga solución es decir que el determinante de la matriz $A$ sea diferente de cero, un camino para resolver este sistema es mediante la inversa de $A$, es decir que en caso de que exista $A^{-1}$ entonces se tiene que.\n",
    "\n",
    "$$A\\vec{x}=\\vec{b} \\Longrightarrow (A^{-1}A)\\vec{x}=(A^{-1}\\vec{b}) \\Longrightarrow \\vec{x}=A^{-1}\\vec{b}$$\n",
    "\n",
    "Por lo tanto veamos esto con un ejemplo sencillo, supongamos que tenemos el sistema de ecuaciones lineales\n",
    "\n",
    "$$3w+9y-10z=24$$\n",
    "$$w-y+4z=-4$$\n",
    "$$10w-2y+8z=20$$\n",
    "\n",
    "Este sistema se puede resolver de muchas forma, sin embargo vamos a usar $A^{-1}$ y python para mostrar el resultado."
   ]
  },
  {
   "cell_type": "code",
   "execution_count": 9,
   "id": "228c8d4b",
   "metadata": {},
   "outputs": [
    {
     "name": "stdout",
     "output_type": "stream",
     "text": [
      "[[  3   9 -10]\n",
      " [  1  -6   4]\n",
      " [ 10  -2   8]]\n",
      "[[24]\n",
      " [-4]\n",
      " [20]]\n",
      "[[ 0.09708738  0.12621359  0.05825243]\n",
      " [-0.0776699  -0.30097087  0.05339806]\n",
      " [-0.1407767  -0.23300971  0.06553398]]\n",
      "[[ 2.99029126]\n",
      " [ 0.40776699]\n",
      " [-1.13592233]]\n",
      "[[24.]\n",
      " [-4.]\n",
      " [20.]]\n",
      "[[ 2.99029126]\n",
      " [ 0.40776699]\n",
      " [-1.13592233]]\n"
     ]
    }
   ],
   "source": [
    "import numpy as np\n",
    "\n",
    "#Se define los valores de la matriz A\n",
    "A = np.matrix([[3,9,-10],[1,-6,4],[10,-2,8]])\n",
    "print(A)\n",
    "\n",
    "#Se definen los valores del vector b\n",
    "b = np.matrix([[24],[-4],[20]])\n",
    "print(b)\n",
    "\n",
    "#Calculemos la inversa de la matriz A\n",
    "inversa = np.linalg.inv(A)\n",
    "print(inversa)\n",
    "\n",
    "#Se resuelve el sistema mediante la inversa\n",
    "x = np.matmul(inversa, b)\n",
    "print(x)\n",
    "\n",
    "#Comprobamos el resultado\n",
    "print(np.dot(A, x))\n",
    "\n",
    "#También podemos usar el solver de numpy\n",
    "x = np.linalg.solve(A, b)\n",
    "print(x)"
   ]
  },
  {
   "cell_type": "markdown",
   "id": "59225d84",
   "metadata": {},
   "source": [
    "<a name='7'></a>\n",
    "## Inconveniente del cálculo de la inversa de una matriz \n",
    "\n",
    "Generalmente el cálculo de la inversa de una matriz involucra el cálculo del determinante de la misma, que requiere de muchos cálculos y por lo tanto es muy costoso en términos computacionales, de hecho se puede mostrar que el costo del cálculo de la inversa de una matriz es de orden exponencial.\n",
    "\n",
    "Es por este motivo es que existen alternativas para resolver sistemas líneales, los cuales evitan el cálculo de la matriz inversa. Por ejemplo, para resolver un sistema lineal de ecuaciones del tipo $A\\vec{x}=\\vec{b}$ algunos métodos son:\n",
    "\n",
    "*   Factorización LU.\n",
    "*   Factorización QR.\n",
    "*   Cholesky."
   ]
  },
  {
   "cell_type": "markdown",
   "id": "6fb051bf",
   "metadata": {},
   "source": [
    "<a name='8'></a>\n",
    "## Ejercicio\n",
    "\n",
    "Considera el siguiente sistema lineal.\n",
    "\n",
    "$$\n",
    "\\begin{matrix}\n",
    "2 x_0 + 3 x_1 = 1 \\\\\n",
    "6 x_0 - 2 x_1 = -14\n",
    "\\end{matrix}\n",
    "$$\n",
    "\n",
    "Determina el punto de interseccion de las rectas, gráfica las rectas, asi como el punot de intersección. Las lineas de código arriba usadas pueden ser de utilidad."
   ]
  },
  {
   "cell_type": "code",
   "execution_count": 12,
   "id": "9cd3ae57",
   "metadata": {},
   "outputs": [
    {
     "data": {
      "image/png": "[encoded data removed]",
      "text/plain": [
       "<Figure size 432x288 with 1 Axes>"
      ]
     },
     "metadata": {
      "needs_background": "light"
     },
     "output_type": "display_data"
    }
   ],
   "source": [
    "# definicion de las pendientes y ordenada al origen\n",
    "m0 = -2/3\n",
    "b0 = 1/3\n",
    "m1 = 3\n",
    "b1 = 7\n",
    "# dominio en el cual se genera la grafica\n",
    "x = np.linspace(-3,3,50)\n",
    "# definicion de las rectas\n",
    "y0 = m0 * x + b0\n",
    "y1 = m1 * x + b1 \n",
    "# se grafican ambas rectas\n",
    "plt.plot(x,y0,label = '$2x_0+3x_1=1$', color='crimson')\n",
    "plt.plot(x,y1,label = '$6x_0-2x_1=-14$', color='b' )\n",
    "plt.xlabel('$x$')\n",
    "plt.ylabel('$y$')\n",
    "plt.title('Cruce de rectas')\n",
    "plt.grid()\n",
    "plt.legend()\n",
    "plt.show()"
   ]
  },
  {
   "cell_type": "code",
   "execution_count": 16,
   "id": "81b8f238",
   "metadata": {},
   "outputs": [
    {
     "name": "stdout",
     "output_type": "stream",
     "text": [
      "Matriz A : \n",
      " [[ 2  3]\n",
      " [ 6 -2]]\n",
      "Vector b : \n",
      " [  1 -14]\n",
      "Solucion del sistema:  [-1.81818182  1.54545455]\n"
     ]
    },
    {
     "data": {
      "image/png": "[encoded data removed]",
      "text/plain": [
       "<Figure size 432x288 with 1 Axes>"
      ]
     },
     "metadata": {
      "needs_background": "light"
     },
     "output_type": "display_data"
    }
   ],
   "source": [
    "# definicion del sistema de ecuaciones\n",
    "A = np.matrix([[2, 3],[6,-2]] )\n",
    "b = np.array([1,-14])\n",
    "print(\"Matriz A : \\n\",A)\n",
    "print(\"Vector b : \\n\", b)\n",
    "# solucion del sistema empleando numpy\n",
    "sol = np.linalg.solve(A,b)\n",
    "print(\"Solucion del sistema: \", sol)\n",
    "# se grafican ambas rectas\n",
    "plt.plot(x,y0,label = '$2x_0+3x_1=1$', color='crimson')\n",
    "plt.plot(x,y1,label = '$6x_0-2x_1=-14$', color='b' )\n",
    "plt.plot(sol[0],sol[1],'ro',label=\"Pto. solución\")\n",
    "plt.xlabel('$x$')\n",
    "plt.ylabel('$y$')\n",
    "plt.title('Cruce de rectas')\n",
    "plt.grid()\n",
    "plt.legend()\n",
    "plt.show()"
   ]
  },
  {
   "cell_type": "markdown",
   "id": "0aad56da",
   "metadata": {},
   "source": [
    "<a name='9'></a>\n",
    "## Referencias\n",
    "\n",
    "*   Butt, R. (2009). Introduction to Numerical Analysis Using MATLAB®. Jones & Bartlett Learning.\n",
    "*   Cheney, W., & Kincaid, D. (2010). Métodos numéricos y computación (6a. Ed.). Cengage Learning Editores S.A. de C.V.\n",
    "*   Burden, R. L., Faires, J. D., & C, S. M. (1985). Análisis numérico. Grupo Editorial Iberoamérica.\n",
    "*   Skiba, Y. N. (2001). Introducción a los métodos numéricos. UNAM, Dirección General de Publicaciones y Fomento Editorial."
   ]
  },
  {
   "cell_type": "markdown",
   "id": "2a4adc1a",
   "metadata": {},
   "source": [
    "<a name='10'></a>\n",
    "## Evalúa tu conocimiento\n",
    "\n",
    "Si deseas contestar un breve cuestionario en el que podras evaluar un poco del conocimiento aquirido en este notebook da clic en el siguiente enlace:\n",
    "\n",
    "https://docs.google.com/forms/d/e/1FAIpQLSdJtMXUZx22MQTqiNs6nHq3foZbIPqF0B2jEee2WoUnPLbsAg/viewform?usp=sf_link"
   ]
  }
 ],
 "metadata": {
  "kernelspec": {
   "display_name": "Python 3 (ipykernel)",
   "language": "python",
   "name": "python3"
  },
  "language_info": {
   "codemirror_mode": {
    "name": "ipython",
    "version": 3
   },
   "file_extension": ".py",
   "mimetype": "text/x-python",
   "name": "python",
   "nbconvert_exporter": "python",
   "pygments_lexer": "ipython3",
   "version": "3.9.7"
  }
 },
 "nbformat": 4,
 "nbformat_minor": 5
}
