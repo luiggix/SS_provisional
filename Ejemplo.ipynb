{
 "cells": [
  {
   "cell_type": "markdown",
   "id": "23127708",
   "metadata": {},
   "source": [
    "# Título\n",
    "\n",
    "**Objetivo general**\n",
    "- Una descripción general de lo que se busca aprender en esta práctica. Usar verbos en infinitivo: Revisar, aplicar, solucionar, comprender, etc.\n",
    "\n",
    "**Objetivos particulares**\n",
    "- Describir una lista de objetivos/actividades que se realizarán en esta práctica.\n",
    "- Hacer énfasis en los métodos y conceptos que se aprenderán y en algunas cuestiones computacionales. \n",
    "- No vaya más allá de tres objetivos particulares y sea muy concreto.\n",
    "\n",
    "## Contenido\n",
    "- [1 - Tema 1.](#1)\n",
    "    - [1.1 - Subtema A.](#1-1)\n",
    "        - [Ejercicio 1 - Título del ejercicio.](#ej-1)\n",
    "    - [1.2 - Subtema B.](#1-2)\n",
    "        - [Ejercicio 2 - Título del ejercicio.](#ej-2)\n",
    "- [2 - Tema 2.](#2)\n",
    "    - [2.1 - Subtema C.](#2-1)\n",
    "    - [2-2 - Subtema D.](#2-2)\n",
    "        - [Ejercicio 3 - Título dell ejercicio.](#ej-3)"
   ]
  },
  {
   "cell_type": "code",
   "execution_count": 1,
   "id": "68350375",
   "metadata": {},
   "outputs": [],
   "source": [
    "import numpy as np\n"
   ]
  },
  {
   "cell_type": "code",
   "execution_count": 2,
   "id": "e1d209e6",
   "metadata": {},
   "outputs": [],
   "source": [
    "x = np.linspace(0,1,9)"
   ]
  },
  {
   "cell_type": "code",
   "execution_count": 3,
   "id": "54ac5a0a",
   "metadata": {},
   "outputs": [
    {
     "data": {
      "text/plain": [
       "array([0.   , 0.125, 0.25 , 0.375, 0.5  , 0.625, 0.75 , 0.875, 1.   ])"
      ]
     },
     "execution_count": 3,
     "metadata": {},
     "output_type": "execute_result"
    }
   ],
   "source": [
    "x"
   ]
  },
  {
   "cell_type": "code",
   "execution_count": 4,
   "id": "c71959e3",
   "metadata": {},
   "outputs": [],
   "source": [
    "np.save('sol01.npy', x)"
   ]
  },
  {
   "cell_type": "code",
   "execution_count": 5,
   "id": "60e373eb",
   "metadata": {},
   "outputs": [],
   "source": [
    "xx = np.load('sol01.npy')"
   ]
  },
  {
   "cell_type": "code",
   "execution_count": 6,
   "id": "d903864d",
   "metadata": {},
   "outputs": [
    {
     "data": {
      "text/plain": [
       "array([0.   , 0.125, 0.25 , 0.375, 0.5  , 0.625, 0.75 , 0.875, 1.   ])"
      ]
     },
     "execution_count": 6,
     "metadata": {},
     "output_type": "execute_result"
    }
   ],
   "source": [
    "xx"
   ]
  },
  {
   "cell_type": "code",
   "execution_count": null,
   "id": "edee3650",
   "metadata": {},
   "outputs": [],
   "source": []
  }
 ],
 "metadata": {
  "kernelspec": {
   "display_name": "Python 3 (ipykernel)",
   "language": "python",
   "name": "python3"
  },
  "language_info": {
   "codemirror_mode": {
    "name": "ipython",
    "version": 3
   },
   "file_extension": ".py",
   "mimetype": "text/x-python",
   "name": "python",
   "nbconvert_exporter": "python",
   "pygments_lexer": "ipython3",
   "version": "3.9.7"
  }
 },
 "nbformat": 4,
 "nbformat_minor": 5
}
