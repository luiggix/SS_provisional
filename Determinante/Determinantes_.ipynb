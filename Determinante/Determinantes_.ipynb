{
 "cells": [
  {
   "cell_type": "markdown",
   "id": "882eb34e",
   "metadata": {},
   "source": [
    "# Determinantes\n",
    "\n",
    "**Objetivo general**\n",
    "- Una descripción general de lo que se busca aprender en esta práctica. Usar verbos en infinitivo: Revisar, aplicar, solucionar, comprender, etc.\n",
    "\n",
    "**Objetivos particulares**\n",
    "- Describir una lista de objetivos/actividades que se realizarán en esta práctica.\n",
    "- Hacer énfasis en los métodos y conceptos que se aprenderán y en algunas cuestiones computacionales. \n",
    "- No vaya más allá de tres objetivos particulares y sea muy concreto.\n",
    "\n",
    "## Contenido\n",
    "- [1 - Tema 1.](#1)\n",
    "    - [1.1 - Subtema A.](#1-1)\n",
    "        - [Ejercicio 1 - Título del ejercicio.](#ej-1)\n",
    "    - [1.2 - Subtema B.](#1-2)\n",
    "        - [Ejercicio 2 - Título del ejercicio.](#ej-2)\n",
    "- [2 - Tema 2.](#2)\n",
    "    - [2.1 - Subtema C.](#2-1)\n",
    "    - [2-2 - Subtema D.](#2-2)\n",
    "        - [Ejercicio 3 - Título dell ejercicio.](#ej-3)"
   ]
  },
  {
   "cell_type": "markdown",
   "id": "0152d427",
   "metadata": {},
   "source": [
    "### Problema inicial\n",
    "\n",
    "Calcular el área de un triángulo cuyos vértices son: $A(2, 0), B(3,4)$ y $C(-2,5)$"
   ]
  },
  {
   "cell_type": "markdown",
   "id": "0dc3d5fc",
   "metadata": {},
   "source": [
    "## **Introducción**\n",
    "\n",
    "\n",
    "La función determinante de una matriz es una herramienta que nos permite clasificar los sistemas de ecuaciones lineales según sus soluciones.\n",
    "La definición de determinante no es sencilla, sin embargo existen reglas que ayudan a obtenerlo dependiendo la dimensión de la matriz, es importante saber que esto solo funciona con matrices cuadradas."
   ]
  },
  {
   "cell_type": "markdown",
   "id": "39d14583",
   "metadata": {},
   "source": [
    "## **Definición de determinante**\n",
    "\n",
    "Sea $A \\in M_{n\\times n}$ sobre $\\mathbb{R}$ el determinante de $A$ se define como sigue.\n",
    "\n",
    "$$det(A)=\\begin{cases}\n",
    "a_{0,0}*a_{1,1}-a_{0,1}*a_{1,0} & n=2\\\\\n",
    "\\sum_{i=0}^{n-1}\\left(-1\\right)^{i}*a_{0,i}*det\\left(subMatriz_{0,i}\\left(A\\right)\\right) & n\\geq2\n",
    "\\end{cases}$$\n",
    "\n",
    "Donde la función $subMatriz_{0,i}\\left(A\\right)$ elimina el renglón cero y la columna $i$ de la matriz $A$.\n",
    "\n",
    "Algo que tambien es importante mencionar es que los determinantes son de gran utilidad por ejemplo para:"
   ]
  },
  {
   "cell_type": "markdown",
   "id": "2ec5fe77",
   "metadata": {},
   "source": [
    "#### Ejemplo de 3x3\n",
    "\n",
    "$$A=\\left(\\begin{array}{ccc}\n",
    "4 & 3 & 1\\\\\n",
    "7 & 5 & -1\\\\\n",
    "4 & 9 & 5\n",
    "\\end{array}\\right)$$\n",
    "\n",
    "$det(A)=\\left(-1\\right)^{0}\\left(4\\right)\\left(det\\left(\\left(\\begin{array}{cc}\n",
    "5 & -1\\\\\n",
    "9 & 5\n",
    "\\end{array}\\right)\\right)\\right)\n",
    "+\n",
    "\\left(-1\\right)^{1}\\left(3\\right)\\left(det\\left(\\left(\\begin{array}{cc}\n",
    "7 & -1\\\\\n",
    "4 & 5\n",
    "\\end{array}\\right)\\right)\\right)\n",
    "+\n",
    "\\left(-1\\right)^{2}\\left(1\\right)\n",
    "\\left(det\\left(\\left(\\begin{array}{cc}\n",
    "7 & 5\\\\\n",
    "4 & 9\n",
    "\\end{array}\\right)\\right)\\right)=62$"
   ]
  },
  {
   "cell_type": "code",
   "execution_count": 157,
   "id": "8e7b7fee",
   "metadata": {},
   "outputs": [
    {
     "name": "stdout",
     "output_type": "stream",
     "text": [
      "[[ 4  3  1  1]\n",
      " [ 7  5 -1  1]\n",
      " [ 4  9  5  1]\n",
      " [ 4  2  5  3]]\n",
      "40.0\n",
      "40.000000000000014\n"
     ]
    }
   ],
   "source": [
    "# se importan las paqueterias necesarias\n",
    "import numpy as np\n",
    "\n",
    "#Funcion auxiliar para eliminar un renglon y una columna\n",
    "def subMatriz(mat, ren, col):\n",
    "    copia = np.copy(mat)\n",
    "    copia = np.delete(copia, (ren), axis=0)\n",
    "    copia = np.delete(copia, (col), axis=1)\n",
    "    return copia\n",
    "\n",
    "# Determinante\n",
    "# devuelve el determinante de la matriz m1\n",
    "# se asume que m1 es cuadrada\n",
    "def det(m1):\n",
    "    if len(m1) == 2:\n",
    "        return m1[0][0]*m1[1][1]-(m1[0][1]*m1[1][0])\n",
    "    else:\n",
    "        determinante = 0.0\n",
    "        for i in range(len(m1[0])):\n",
    "            determinante += ((-1)**i)*(m1[0][i])*det(subMatriz(m1,0,i))\n",
    "    return determinante\n",
    "\n",
    "a = np.array([[4,3,1,1],[7,5,-1,1],[4,9,5,1],[4,2,5,3]])\n",
    "#se muestran ambas matrices\n",
    "print(a)\n",
    "#se imprime la multiplicacion\n",
    "print(det(a))\n",
    "\n",
    "print(np.linalg.det(a))"
   ]
  },
  {
   "cell_type": "markdown",
   "id": "82c50a67",
   "metadata": {},
   "source": [
    "## **Cálculo de áreas de figuras en el plano**\n",
    "\n",
    "El cálculo de áreas de polígonos en el plano, de los que se conocen o bien las coordenadas de los vértices o bien las de ciertos vectores, puede efectuarse mediante el cálculo de determinantes. "
   ]
  },
  {
   "cell_type": "markdown",
   "id": "780b2a17",
   "metadata": {},
   "source": [
    "### **Obtención de la ecuación implícita de un plano**\n",
    "\n",
    "La obtención de la ecuación implícita de un plano, puede efectuarse mediante el desarrollo de un determinante nulo, cuyas entradas están en función de las coordenadas de tres puntos no alineados de dicho plano.\n",
    "\n",
    "\n",
    "Si tenemos una matriz de la siguiente forma:\n",
    "\n",
    "\n",
    "$$\\begin{equation} A_{1\\times 1} =\n",
    "\\begin{pmatrix}\n",
    " a_{11} \n",
    "\\end{pmatrix}\n",
    "\\end{equation}$$\n",
    "\n",
    "entonces $det(A)$= $ a_{11} $\n",
    "\n",
    "para una matriz de ${2 \\times 2}$, es decir:\n",
    "\n",
    "$$\\begin{equation} A_{2\\times 2} =\n",
    "\\begin{pmatrix}\n",
    "a_{11} & a_{12} \\\\\n",
    "a_{21} & a_{22} \n",
    "\\end{pmatrix}\n",
    "\\end{equation}$$\n",
    "\n",
    "entonces $det(A)$= $ a_{11} $ x $ a_{22} $ - $ a_{12} $ x $ a_{21} $"
   ]
  },
  {
   "cell_type": "markdown",
   "id": "8d15ae41",
   "metadata": {},
   "source": [
    "El cálculo de los determinantes se vuelve mas complejo conforme la dimensión de la matriz aumenta.\n",
    "A continuación se muestra como obtener el determinante con numpy."
   ]
  },
  {
   "cell_type": "code",
   "execution_count": 26,
   "id": "23a9f9a0",
   "metadata": {},
   "outputs": [
    {
     "name": "stdout",
     "output_type": "stream",
     "text": [
      "Ingrese la matriz a la que se le sacará el determinante\n",
      "Recuerde que debe ingresar una matriz cuadrada\n",
      "Indique el número de filas: 3\n",
      "Ingrese la matriz\n",
      "Elemento (0,0): 1\n",
      "Elemento (0,1): 1\n",
      "Elemento (0,2): 1\n",
      "Elemento (1,0): 1\n",
      "Elemento (1,1): 1\n",
      "Elemento (1,2): 1\n",
      "Elemento (2,0): 1\n",
      "Elemento (2,1): 1\n",
      "Elemento (2,2): 1\n",
      "su matriz es:\n",
      "[[1. 1. 1.]\n",
      " [1. 1. 1.]\n",
      " [1. 1. 1.]]\n",
      "El determinante de su matriz es: 0.0\n"
     ]
    }
   ],
   "source": [
    "# Iportamos la libreria que  da soporte para crear vectores y matrices grandes multidimensionales, \n",
    "#Junto con una gran colección de funciones matemáticas de alto nivel para operar con ellas\n",
    "import numpy as np\n",
    "\n",
    "#Pedimos que nos de la leyenda que nos pida ingresar la matriz\n",
    "print(\"Ingrese la matriz a la que se le sacará el determinante\")\n",
    "\n",
    "#Pedimos que ingrese el número de filas y columnas que tiene la matriz\n",
    "print(\"Recuerde que debe ingresar una matriz cuadrada\")\n",
    "\n",
    "filas = int(input (\"Indique el número de filas: \"))\n",
    "\n",
    "#Creamos la matriz en las que se guardarán los valores que el usuario proporcione \n",
    "matriz1 = np.zeros((filas,filas))\n",
    "#Le pedimos que ingrese la matriz elemento por elemento y vamos llenando\n",
    "print ('Ingrese la matriz')\n",
    "for i in range(filas):\n",
    "    for j in range(filas):\n",
    "        matriz1[i][j] = np.array( float(input('Elemento (%d,%d): ' % (i, j))))\n",
    "        \n",
    "print(\"su matriz es:\" )\n",
    "print(matriz1)\n",
    "\n",
    "#sacamos el determinante\n",
    "#Mediante la función linealg.det() de Numpy obtenemos el determinante\n",
    "print(\"El determinante de su matriz es:\",np.linalg.det(matriz1))"
   ]
  },
  {
   "cell_type": "markdown",
   "id": "b8b06225",
   "metadata": {},
   "source": [
    "## **Propiedades de los determinantes**\n",
    "\n",
    "* El determinante de una matriz triangular es igual al producto de sus componentes en la diagonal.\n",
    "Es decir que sea $A$ una matriz como la que se muestra a continuacion:\n",
    "\n",
    "$$\\begin{equation} A_{n\\times n} =\n",
    "\\begin{pmatrix}\n",
    "a_{11} & 0 & \\cdots & 0\\\\\n",
    "a_{21} & a_{22} & \\cdots & 0\\\\\n",
    "\\vdots & \\vdots & \\ddots & \\vdots\\\\\n",
    "a_{n1} & a_{n2} & \\cdots & a_{nn}\n",
    "\\end{pmatrix}\n",
    "\\end{equation}$$\n",
    "\n",
    "Entonces $det(A)$= $a_{11}$*$a_{22}$*$a_{33}$*....*$a_{nn}$"
   ]
  },
  {
   "cell_type": "code",
   "execution_count": 27,
   "id": "0d04fdbf",
   "metadata": {},
   "outputs": [
    {
     "name": "stdout",
     "output_type": "stream",
     "text": [
      "Matriz diagonal A de dimensión 3x3, :\n",
      "[[11  2  3]\n",
      " [ 0  1  4]\n",
      " [ 0  0  2]]\n",
      "El determinante de su matriz es: 22.000000000000004\n"
     ]
    }
   ],
   "source": [
    "#Matriz diagonal \n",
    "print(\"Matriz diagonal A de dimensión 3x3, :\")\n",
    "\n",
    "#Creamos la matriz mediante un arreglo \n",
    "A= np.array([[11,2,3],[0,1,4],[0,0,2]])\n",
    "#Imprimimos la matriz creada\n",
    "print(A)\n",
    "\n",
    "#sacamos el determinante mediante linalg de la paqueteria numpy\n",
    "print(\"El determinante de su matriz es:\", np.linalg.det(A))"
   ]
  },
  {
   "cell_type": "markdown",
   "id": "d9d5cde9",
   "metadata": {},
   "source": [
    "Si una matriz $B$ se obtiene intercambiando dos filas o intercambiando dos columnas de una matriz $A$ entonces:\n",
    "\n",
    " $det(B)$ = $−det(A)$"
   ]
  },
  {
   "cell_type": "code",
   "execution_count": 29,
   "id": "55400b8d",
   "metadata": {},
   "outputs": [
    {
     "name": "stdout",
     "output_type": "stream",
     "text": [
      "Matriz A de dimensión 2x2, :\n",
      "[[11  2  3]\n",
      " [ 0  1  4]\n",
      " [ 6  4  2]]\n",
      "El determinante de su matriz A es: -124.00000000000003\n",
      "Matriz B de dimensión 2x2, :\n",
      "[[ 2 11  3]\n",
      " [ 1  0  4]\n",
      " [ 4  6  2]]\n",
      "El determinante de su matriz B es: 123.99999999999991\n"
     ]
    }
   ],
   "source": [
    "print(\"Matriz A de dimensión 2x2, :\")\n",
    "\n",
    "A= np.array([[11,2,3],[0,1,4],[6,4,2]])\n",
    "print(A)\n",
    "\n",
    "#Sacamos el determinante de A\n",
    "print(\"El determinante de su matriz A es:\", np.linalg.det(A))\n",
    "\n",
    "print(\"Matriz B de dimensión 2x2, :\")\n",
    "B= np.array([[2,11,3],[1,0,4],[4,6,2]])\n",
    "print(B)\n",
    "\n",
    "#sacamos el determinante de B\n",
    "print(\"El determinante de su matriz B es:\", np.linalg.det(B))"
   ]
  },
  {
   "cell_type": "markdown",
   "id": "4f4d604d",
   "metadata": {},
   "source": [
    "Si $A$ y $B$ son matrices diagonales de ${n \\times n}$, entonces $det AB$=$det A$ $det B$. \n",
    "\n",
    "Si $A$ y $B$ son matrices triangulares inferiores, entonces $AB$=$det A$ $det B$. "
   ]
  },
  {
   "cell_type": "code",
   "execution_count": 31,
   "id": "fdd85b06",
   "metadata": {},
   "outputs": [
    {
     "name": "stdout",
     "output_type": "stream",
     "text": [
      "recuerde que deben ser matrices cuadradas y diagonales\n",
      "Indique el número de filas y columnas de la matriz: 1\n",
      "Ingrese la primer matriz\n",
      "Elemento (0,0): 2\n",
      "su matriz 1 es:\n",
      "[[2.]]\n",
      "Ingrese la segunda matriz\n",
      "Elemento (0,0): 3\n",
      "su matriz 2 es:\n",
      "[[3.]]\n",
      "El producto de las matrices es: [[6.]]\n",
      "El determinante de su matriz A es: 2.0\n",
      "El determinante de su matriz B es: 3.0000000000000004\n",
      "El determinante de su matriz A*B es: 6.0\n"
     ]
    }
   ],
   "source": [
    "#Solicitamos al usuario las matrices \n",
    "print(\"recuerde que deben ser matrices cuadradas y diagonales\")\n",
    "filas1 = int(input (\"Indique el número de filas y columnas de la matriz: \"))\n",
    "\n",
    "\n",
    "#creamos las matrices en las que se guardarán los valores que el usuario proporcione y los de la suma\n",
    "A = np.zeros((filas1,filas1))    \n",
    "B = np.zeros((filas1,filas1))   \n",
    " #llenamos la matriz 1 con los datos del usuario\n",
    "print (\"Ingrese la primer matriz\")\n",
    "\n",
    "for i in range(filas1):\n",
    "        for j in range(filas1):\n",
    "            A[i][j] = float(input('Elemento (%d,%d): ' % (i, j)))\n",
    "print( \"su matriz 1 es:\")\n",
    "print(A)\n",
    "#llenamos la matriz 2\n",
    "print (\"Ingrese la segunda matriz\")\n",
    "for i in range(filas1):\n",
    "        for j in range(filas1):\n",
    "            B[i][j] = float(input('Elemento (%d,%d): ' % (i, j)))\n",
    "print( \"su matriz 2 es:\")\n",
    "print(B)\n",
    "\n",
    "#Recordamos que la función dot() nos devuelve un producto matricial\n",
    "C = A.dot(B)\n",
    "print(\"El producto de las matrices es:\",C)\n",
    "\n",
    "print(\"El determinante de su matriz A es:\", np.linalg.det(A))\n",
    "\n",
    "print(\"El determinante de su matriz B es:\", np.linalg.det(B))\n",
    "\n",
    "print(\"El determinante de su matriz A*B es:\", np.linalg.det(C))\n"
   ]
  },
  {
   "cell_type": "markdown",
   "id": "83f382c4",
   "metadata": {},
   "source": [
    "No se cumple en general que el $det (A + B)$=$det A + det B$"
   ]
  },
  {
   "cell_type": "code",
   "execution_count": 32,
   "id": "4facba8b",
   "metadata": {},
   "outputs": [
    {
     "name": "stdout",
     "output_type": "stream",
     "text": [
      "[[11  2]\n",
      " [ 0  1]]\n",
      "El determinante de su matriz es: 11.000000000000002\n",
      "[[23 12]\n",
      " [11  3]]\n",
      "El determinante de su matriz es: -62.99999999999999\n",
      "La suma de las matrices es:\n",
      "El determinante de su matriz suma es: -18.000000000000014\n"
     ]
    }
   ],
   "source": [
    "A= np.array([[11,2],[0,1]])\n",
    "print(A)\n",
    "\n",
    "#sacamos el determinante\n",
    "print(\"El determinante de su matriz es:\", np.linalg.det(A))\n",
    "\n",
    "S= np.array([[23,12],[11,3]])\n",
    "print(S)\n",
    "\n",
    "#sacamos el determinante\n",
    "print(\"El determinante de su matriz es:\", np.linalg.det(S))\n",
    "\n",
    "\n",
    "print(\"La suma de las matrices es:\")\n",
    "T=A+S\n",
    "\n",
    "print(\"El determinante de su matriz suma es:\", np.linalg.det(T))"
   ]
  },
  {
   "cell_type": "markdown",
   "id": "6be941e3",
   "metadata": {},
   "source": [
    "Si dos filas (columnas) de $A$ son iguales, entonces $det(A) = 0$"
   ]
  },
  {
   "cell_type": "code",
   "execution_count": 33,
   "id": "0060c586",
   "metadata": {},
   "outputs": [
    {
     "name": "stdout",
     "output_type": "stream",
     "text": [
      "[[23 12]\n",
      " [23 12]]\n",
      "El determinante de su matriz es: 0.0\n"
     ]
    }
   ],
   "source": [
    "S= np.array([[23,12],[23,12]])\n",
    "print(S)\n",
    "\n",
    "#Sacamos el determinante\n",
    "print(\"El determinante de su matriz es:\", np.linalg.det(S))"
   ]
  },
  {
   "cell_type": "markdown",
   "id": "d7049ffb",
   "metadata": {},
   "source": [
    "El determinante de una matriz con un escalar es el escalar por el determinante de la matriz, es decir:\n",
    "\n",
    "Si $C$= $\\tau$*$A_{n\\times n}$ ,  \n",
    "entonces $det(C)$= $\\tau$ * det($A_{n\\times n}$)\n",
    "\n",
    "Estas son solo algunas de las propiedades que los determinantes poseen.\n",
    "\n",
    "\n",
    "\n",
    "## **Cálculo de determinantes por el método de desarrollo por menores**\n",
    "\n",
    "Para el cálculo de determinantes por este método se toma como referencia una fila o una columna y se va eliminando sus elementos (de acuerdo a su posición) y formando los determinantes de un orden inferior a la matriz original; el cual queda multiplicado por este elemento y su signo de posición. Es decir cada elemento de la fila o la columna seleccionada se multiplica por su determinante menor y el signo de posición. \n",
    "\n",
    "Los signos de posición se obtienen siempre comenzando con positivo y alternando luego. \n",
    "\n",
    "Por ejemplo para una matriz ${3 \\times 3}$ los signos serían :\n",
    "\n",
    "\n",
    "$$\\begin{equation} A_{3\\times 3} = \n",
    "\\begin{pmatrix}\n",
    "+ & - & +  \\\\\n",
    "- & + & - \\\\\n",
    "+ & - & +\n",
    "\\end{pmatrix}\n",
    "\\end{equation}$$\n",
    "\n",
    "Para una matriz de ${4\\times 4}$ se tiene:\n",
    "\n",
    "$$\\begin{equation} A_{4\\times 4} = \n",
    "\\begin{pmatrix}\n",
    "+ & - & + & - \\\\\n",
    "- & + & - & + \\\\\n",
    "+ & - & + & - \\\\\n",
    "- & + & - & + \n",
    "\\end{pmatrix}\n",
    "\\end{equation}$$\n",
    "\n",
    "Para una matriz de ${5\\times 5}$ se tiene:\n",
    "\n",
    "$$\\begin{equation} A_{5\\times 5} = \n",
    "\\begin{pmatrix}\n",
    "+ & - & + & - & +\\\\\n",
    "- & + & - & + & - \\\\\n",
    "+ & - & + & - & + \\\\\n",
    "- & + & - & + & - \\\\\n",
    "+ & - & + & - & +\n",
    "\\end{pmatrix}\n",
    "\\end{equation}$$\n",
    "\n",
    "y asi sucesivamente se lleva a cabo el procedimiento antes descrito, por ejemplo calcularemos el determinante de una matriz de ${3\\times 3}$.\n",
    "\n",
    "$$\\begin{equation} A_{3\\times 3} = \n",
    "\\begin{pmatrix}\n",
    "a_{11} & a_{12} & a_{13} \\\\\n",
    "a_{21}& a_{22} & a_{23}\\\\\n",
    "a_{31}& a_{32}& a_{33}\n",
    "\\end{pmatrix}\n",
    "\\end{equation}$$\n",
    "\n",
    "Entonces como primer paso tomamos el primer elemento y lo multiplicamos por el determinante de la matriz que se obtiene al eliminar la primera fila y la primer columna, es decir:\n",
    "\n",
    "- primer elemento del determinante :\n",
    "\n",
    "$$\\begin{equation}\n",
    "a_{11}*\\begin{vmatrix}\n",
    "a_{22} & a_{23}\\\\\n",
    "a_{32} & a_{33}\n",
    "\\end{vmatrix}= + a_{11}*[(a_{22}*a_{33})-(a_{23}*a_{32})]=a\n",
    "\\end{equation}$$\n",
    "\n",
    "- segundo elemento del determinante :\n",
    "para este se toma el segundo elemento de la matriz y se multiplica por el determinante de la matriz que resta al quitar el primer renglón y la segunda columna.\n",
    "\n",
    "\n",
    "$$\\begin{equation}\n",
    "-a_{12}*\\begin{vmatrix}\n",
    "a_{21} & a_{23}\\\\\n",
    "a_{31} & a_{33}\n",
    "\\end{vmatrix}= - a_{12}*[(a_{21}*a_{33})-(a_{23}*a_{31})]=b\n",
    "\\end{equation}$$\n",
    "\n",
    "- tercer elemento del determinante :\n",
    "para este se toma el tercer elemento de la matriz y se multiplica por el determinante de la matriz que resta al quitar el primer renglón y la tercer columna.\n",
    "\n",
    "$$\\begin{equation}\n",
    "+a_{13}*\\begin{vmatrix}\n",
    "a_{21} & a_{22}\\\\\n",
    "a_{31} & a_{32}\n",
    "\\end{vmatrix}= a_{13}*[(a_{21}*a_{32})-(a_{22}*a_{31})]=c\n",
    "\\end{equation}$$\n",
    "\n",
    "\n",
    "Todo lo anterior tomando en cuenta los signos de los elementos según la posición del elemento y el signo qe le corresponde por lo que se explico al inicio del método. \n",
    "Por último se obtiene que:\n",
    "\n",
    "\n",
    "$$\\begin{equation} det(A) = \n",
    "\\begin{pmatrix}\n",
    "a_{11} & a_{12} & a_{13} \\\\\n",
    "a_{21}& a_{22} & a_{23}\\\\\n",
    "a_{31}& a_{32}& a_{33}\n",
    "\\end{pmatrix} = \\pm a \\pm b \\pm c\n",
    "\\end{equation}$$\n",
    "\n",
    "De manera similar se hace lo anterior con matrices de orden mayor hasta que se logre disminuir a un orden en el que sea mas fácil calcular el determinante."
   ]
  },
  {
   "cell_type": "markdown",
   "id": "bb255109",
   "metadata": {},
   "source": [
    "# **Referencias**\n",
    "\n",
    "•\tKolman, B., & Hill, D. R. (2006). Algebra lineal. Pearson Educación.\n",
    "\n",
    "•\tGrossman, S., & Flores Godoy, J. J. (2012). Álgebra Lineal (Séptima edición). McGraw Hill.\n",
    "\n"
   ]
  },
  {
   "cell_type": "code",
   "execution_count": null,
   "id": "b19bb11a",
   "metadata": {},
   "outputs": [],
   "source": []
  }
 ],
 "metadata": {
  "kernelspec": {
   "display_name": "Python 3 (ipykernel)",
   "language": "python",
   "name": "python3"
  },
  "language_info": {
   "codemirror_mode": {
    "name": "ipython",
    "version": 3
   },
   "file_extension": ".py",
   "mimetype": "text/x-python",
   "name": "python",
   "nbconvert_exporter": "python",
   "pygments_lexer": "ipython3",
   "version": "3.10.4"
  }
 },
 "nbformat": 4,
 "nbformat_minor": 5
}
