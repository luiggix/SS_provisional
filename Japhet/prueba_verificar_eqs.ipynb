{
 "cells": [
  {
   "cell_type": "markdown",
   "id": "a28cb9a7-fc3e-4374-91ef-d884b827390f",
   "metadata": {},
   "source": [
    "# Prueba de la función verificar_sympy\n",
    "\n",
    "---\n",
    "\n",
    "## Solución de una ODE por el método de coeficientes indeterminados"
   ]
  },
  {
   "cell_type": "code",
   "execution_count": 1,
   "id": "5d0e0610-ed72-47df-a9e4-4127f1e81666",
   "metadata": {
    "tags": []
   },
   "outputs": [],
   "source": [
    "import sympy as sy"
   ]
  },
  {
   "cell_type": "code",
   "execution_count": 2,
   "id": "aea5dbd9-6aeb-42f3-8635-265132aaa785",
   "metadata": {
    "tags": []
   },
   "outputs": [],
   "source": [
    "x = sy.symbols('x', real=True)\n",
    "f = sy.Function('f', real=True)(x)"
   ]
  },
  {
   "cell_type": "markdown",
   "id": "02d932b4-0650-42d8-ab78-2f32e537a870",
   "metadata": {
    "tags": []
   },
   "source": [
    "Construir una EDO"
   ]
  },
  {
   "cell_type": "code",
   "execution_count": 3,
   "id": "2528d520-e45e-47ce-b33c-bb0a2182c23f",
   "metadata": {
    "tags": []
   },
   "outputs": [
    {
     "data": {
      "text/latex": [
       "$\\displaystyle - 4 f{\\left(x \\right)} + \\frac{d^{2}}{d x^{2}} f{\\left(x \\right)} = 2 e^{2 x} + 5 e^{- 2 x}$"
      ],
      "text/plain": [
       "Eq(-4*f(x) + Derivative(f(x), (x, 2)), 2*exp(2*x) + 5*exp(-2*x))"
      ]
     },
     "metadata": {},
     "output_type": "display_data"
    }
   ],
   "source": [
    "ode = sy.Eq(f.diff(x, 2) - 4 * f, 2 * sy.exp(2 * x) + 5 * sy.exp(- 2 * x))\n",
    "display(ode)"
   ]
  },
  {
   "cell_type": "markdown",
   "id": "8d05e72b-2506-4ff2-96e5-25105e5e1dd7",
   "metadata": {},
   "source": [
    "Resolviendo por método de coeficientes indeterminados"
   ]
  },
  {
   "cell_type": "code",
   "execution_count": 4,
   "id": "efa05ee3-2fb2-4f81-ac48-dea4208a3d39",
   "metadata": {
    "tags": []
   },
   "outputs": [
    {
     "data": {
      "text/latex": [
       "$\\displaystyle - 4 f{\\left(x \\right)} + \\frac{d^{2}}{d x^{2}} f{\\left(x \\right)} = 0$"
      ],
      "text/plain": [
       "Eq(-4*f(x) + Derivative(f(x), (x, 2)), 0)"
      ]
     },
     "metadata": {},
     "output_type": "display_data"
    }
   ],
   "source": [
    "ode_ah = sy.Eq(ode.lhs, 0)\n",
    "display(ode_ah)"
   ]
  },
  {
   "cell_type": "code",
   "execution_count": 5,
   "id": "7b9ca7b8-0ff9-438c-b1ed-a00910fdce0b",
   "metadata": {
    "tags": []
   },
   "outputs": [
    {
     "data": {
      "text/latex": [
       "$\\displaystyle D^{2} f{\\left(x \\right)} - 4 f{\\left(x \\right)} = 0$"
      ],
      "text/plain": [
       "Eq(D**2*f(x) - 4*f(x), 0)"
      ]
     },
     "metadata": {},
     "output_type": "display_data"
    }
   ],
   "source": [
    "D = sy.Symbol('D')\n",
    "edo_op = ode_ah.subs(f.diff(x,2), D**2 * f)\n",
    "display(edo_op)"
   ]
  },
  {
   "cell_type": "code",
   "execution_count": 6,
   "id": "3a95d116-70c2-4379-89ec-bd562a79784b",
   "metadata": {
    "tags": []
   },
   "outputs": [
    {
     "data": {
      "text/latex": [
       "$\\displaystyle m^{2} - 4 = 0$"
      ],
      "text/plain": [
       "Eq(m**2 - 4, 0)"
      ]
     },
     "metadata": {},
     "output_type": "display_data"
    }
   ],
   "source": [
    "m = sy.Symbol('m')\n",
    "ec_char = edo_op.subs({D: m, f:1})\n",
    "display(ec_char)"
   ]
  },
  {
   "cell_type": "code",
   "execution_count": 7,
   "id": "6a79c08c-b8ab-4949-8508-c8272c8799d5",
   "metadata": {
    "tags": []
   },
   "outputs": [
    {
     "data": {
      "text/plain": [
       "{-2: 1, 2: 1}"
      ]
     },
     "metadata": {},
     "output_type": "display_data"
    }
   ],
   "source": [
    "roots = sy.roots(ec_char, m)\n",
    "display(roots)"
   ]
  },
  {
   "cell_type": "code",
   "execution_count": 8,
   "id": "ce0fd78f-3531-4d6b-88a7-852ce69d5d3f",
   "metadata": {
    "tags": []
   },
   "outputs": [
    {
     "data": {
      "text/latex": [
       "$\\displaystyle e^{- 2 x}$"
      ],
      "text/plain": [
       "exp(-2*x)"
      ]
     },
     "metadata": {},
     "output_type": "display_data"
    },
    {
     "data": {
      "text/latex": [
       "$\\displaystyle e^{2 x}$"
      ],
      "text/plain": [
       "exp(2*x)"
      ]
     },
     "metadata": {},
     "output_type": "display_data"
    }
   ],
   "source": [
    "a, b = [sy.exp(root * x) if times == 1 else [x**i * sy.exp(root * x) for i in range(times)] for root, times in roots.items()]\n",
    "display(a, b)"
   ]
  },
  {
   "cell_type": "code",
   "execution_count": 9,
   "id": "5c8419da-3eca-4198-b750-ede8f0979e7b",
   "metadata": {
    "tags": []
   },
   "outputs": [
    {
     "data": {
      "text/latex": [
       "$\\displaystyle f{\\left(x \\right)} = C_{1} e^{- 2 x} + C_{2} e^{2 x}$"
      ],
      "text/plain": [
       "Eq(f(x), C1*exp(-2*x) + C2*exp(2*x))"
      ]
     },
     "metadata": {},
     "output_type": "display_data"
    }
   ],
   "source": [
    "C1, C2 = sy.symbols('C(1:3)')\n",
    "sol_ah = sy.Eq(f, C1 * a + C2 * b)\n",
    "display(sol_ah)"
   ]
  },
  {
   "cell_type": "code",
   "execution_count": 10,
   "id": "9eaea4d5-b5b1-4838-898a-191ca0de6827",
   "metadata": {
    "tags": []
   },
   "outputs": [
    {
     "data": {
      "text/latex": [
       "$\\displaystyle \\left(m - 2\\right) \\left(m + 2\\right) \\left(m^{2} - 4\\right) = 0$"
      ],
      "text/plain": [
       "Eq((m - 2)*(m + 2)*(m**2 - 4), 0)"
      ]
     },
     "metadata": {},
     "output_type": "display_data"
    }
   ],
   "source": [
    "ec_char2 = sy.Eq(ec_char.lhs.factor() * ec_char.lhs, ec_char.rhs)\n",
    "display(ec_char2)"
   ]
  },
  {
   "cell_type": "code",
   "execution_count": 11,
   "id": "9a099fd1-bba6-4f0c-b3c8-21c12308d972",
   "metadata": {
    "tags": []
   },
   "outputs": [
    {
     "data": {
      "text/plain": [
       "{2: 2, -2: 2}"
      ]
     },
     "metadata": {},
     "output_type": "display_data"
    }
   ],
   "source": [
    "roots2 = sy.roots(ec_char2, m)\n",
    "display(roots2)"
   ]
  },
  {
   "cell_type": "code",
   "execution_count": 12,
   "id": "1b033af2-5d05-47f6-9c46-4cbca00bec06",
   "metadata": {
    "tags": []
   },
   "outputs": [
    {
     "data": {
      "text/latex": [
       "$\\displaystyle e^{- 2 x}$"
      ],
      "text/plain": [
       "exp(-2*x)"
      ]
     },
     "metadata": {},
     "output_type": "display_data"
    },
    {
     "data": {
      "text/latex": [
       "$\\displaystyle e^{2 x}$"
      ],
      "text/plain": [
       "exp(2*x)"
      ]
     },
     "metadata": {},
     "output_type": "display_data"
    },
    {
     "data": {
      "text/latex": [
       "$\\displaystyle x e^{- 2 x}$"
      ],
      "text/plain": [
       "x*exp(-2*x)"
      ]
     },
     "metadata": {},
     "output_type": "display_data"
    },
    {
     "data": {
      "text/latex": [
       "$\\displaystyle x e^{2 x}$"
      ],
      "text/plain": [
       "x*exp(2*x)"
      ]
     },
     "metadata": {},
     "output_type": "display_data"
    }
   ],
   "source": [
    "(b, d), (a, c) = [sy.exp(root * x) if times == 1 else [x**i * sy.exp(root * x) for i in range(times)] for root, times in roots2.items()]\n",
    "display(a, b, c, d)"
   ]
  },
  {
   "cell_type": "code",
   "execution_count": 13,
   "id": "a5a5fd33-ae4f-477a-a374-6a9a3d8ceb7c",
   "metadata": {
    "tags": []
   },
   "outputs": [
    {
     "data": {
      "text/latex": [
       "$\\displaystyle f{\\left(x \\right)} = C_{1} e^{- 2 x} + C_{2} e^{2 x} + C_{3} x e^{- 2 x} + C_{4} x e^{2 x}$"
      ],
      "text/plain": [
       "Eq(f(x), C1*exp(-2*x) + C2*exp(2*x) + C3*x*exp(-2*x) + C4*x*exp(2*x))"
      ]
     },
     "metadata": {},
     "output_type": "display_data"
    }
   ],
   "source": [
    "C3, C4 = sy.symbols('C(3:5)')\n",
    "sol_anh = sy.Eq(f, C1 * a + C2 * b + C3 * c + C4 * d)\n",
    "display(sol_anh)"
   ]
  },
  {
   "cell_type": "code",
   "execution_count": 14,
   "id": "67d4a6ef-5d37-411f-a35a-faa5a6ec40d4",
   "metadata": {
    "tags": []
   },
   "outputs": [
    {
     "data": {
      "text/latex": [
       "$\\displaystyle f{\\left(x \\right)} = A x e^{- 2 x} + B x e^{2 x}$"
      ],
      "text/plain": [
       "Eq(f(x), A*x*exp(-2*x) + B*x*exp(2*x))"
      ]
     },
     "metadata": {},
     "output_type": "display_data"
    }
   ],
   "source": [
    "A, B = sy.symbols('A B')\n",
    "sol_pq = sy.Eq(f, (sol_anh.rhs - sol_ah.rhs).subs({C3:A, C4:B}))\n",
    "display(sol_pq)"
   ]
  },
  {
   "cell_type": "code",
   "execution_count": 15,
   "id": "b555e4d6-d545-4020-9cf0-b731e579193e",
   "metadata": {
    "tags": []
   },
   "outputs": [
    {
     "data": {
      "text/latex": [
       "$\\displaystyle 2 e^{2 x} + 5 e^{- 2 x} = - 4 A e^{- 2 x} + 4 B e^{2 x}$"
      ],
      "text/plain": [
       "Eq(2*exp(2*x) + 5*exp(-2*x), -4*A*exp(-2*x) + 4*B*exp(2*x))"
      ]
     },
     "metadata": {},
     "output_type": "display_data"
    }
   ],
   "source": [
    "pars = ode.subs(f, sol_pq.rhs).simplify().expand()\n",
    "display(pars)"
   ]
  },
  {
   "cell_type": "code",
   "execution_count": 16,
   "id": "30f7673e-4066-4f31-a84f-7ce801524644",
   "metadata": {
    "tags": []
   },
   "outputs": [
    {
     "data": {
      "text/latex": [
       "$\\displaystyle - \\frac{5}{4}$"
      ],
      "text/plain": [
       "-5/4"
      ]
     },
     "metadata": {},
     "output_type": "display_data"
    },
    {
     "data": {
      "text/latex": [
       "$\\displaystyle \\frac{1}{2}$"
      ],
      "text/plain": [
       "1/2"
      ]
     },
     "metadata": {},
     "output_type": "display_data"
    }
   ],
   "source": [
    "parA, parB = [sy.solve(sy.Eq(pars.lhs.coeff(sy.exp(root * x), 1), pars.rhs.coeff(sy.exp(root * x), 1)), par)[0] for root, par in zip(roots, [A, B])]\n",
    "display(parA, parB)"
   ]
  },
  {
   "cell_type": "markdown",
   "id": "19fa6f3c-945b-48b6-b6a9-e6ca287d9717",
   "metadata": {},
   "source": [
    "Solución del alumno"
   ]
  },
  {
   "cell_type": "code",
   "execution_count": 17,
   "id": "b893b0e7-fa5b-4f58-a489-f4a1b8e5b846",
   "metadata": {
    "tags": []
   },
   "outputs": [
    {
     "data": {
      "text/latex": [
       "$\\displaystyle f{\\left(x \\right)} = C_{1} e^{- 2 x} + C_{2} e^{2 x} + \\frac{x e^{2 x}}{2} - \\frac{5 x e^{- 2 x}}{4}$"
      ],
      "text/plain": [
       "Eq(f(x), C1*exp(-2*x) + C2*exp(2*x) + x*exp(2*x)/2 - 5*x*exp(-2*x)/4)"
      ]
     },
     "metadata": {},
     "output_type": "display_data"
    }
   ],
   "source": [
    "gensol_nh = sy.Eq(f, sol_ah.rhs + sol_pq.rhs.subs({A:parA, B:parB}))\n",
    "display(gensol_nh)"
   ]
  },
  {
   "cell_type": "markdown",
   "id": "ce41b00b-8e55-4e79-a869-4e41cb593732",
   "metadata": {},
   "source": [
    "### Verificando la solución con la función ```verificar_sympy```"
   ]
  },
  {
   "cell_type": "code",
   "execution_count": 18,
   "id": "3533f2ee-92d7-4bcf-ae17-64718242a507",
   "metadata": {
    "tags": []
   },
   "outputs": [],
   "source": [
    "from verifysy import evaluar_eqs"
   ]
  },
  {
   "cell_type": "code",
   "execution_count": 19,
   "id": "eacb8209-0669-45a2-b87a-046a5e50597a",
   "metadata": {
    "tags": []
   },
   "outputs": [
    {
     "name": "stdout",
     "output_type": "stream",
     "text": [
      "¡Excelente! Tu solución es correcta\n"
     ]
    }
   ],
   "source": [
    "evaluar_eqs(ode, gensol_nh)"
   ]
  }
 ],
 "metadata": {
  "kernelspec": {
   "display_name": "Python 3 (ipykernel)",
   "language": "python",
   "name": "python3"
  },
  "language_info": {
   "codemirror_mode": {
    "name": "ipython",
    "version": 3
   },
   "file_extension": ".py",
   "mimetype": "text/x-python",
   "name": "python",
   "nbconvert_exporter": "python",
   "pygments_lexer": "ipython3",
   "version": "3.10.9"
  }
 },
 "nbformat": 4,
 "nbformat_minor": 5
}
