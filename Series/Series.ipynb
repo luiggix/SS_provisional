{
 "cells": [
  {
   "cell_type": "code",
   "execution_count": 3,
   "id": "6a8b6230",
   "metadata": {},
   "outputs": [],
   "source": [
    "import matplotlib.pyplot as plt\n",
    "import numpy as np\n",
    "from sympy import limit, Symbol, oo\n",
    "import seaborn as snb; snb.set();\n",
    "\n",
    "from ipywidgets import interact\n",
    "import ipywidgets as widgets"
   ]
  },
  {
   "cell_type": "markdown",
   "id": "70ca3b07",
   "metadata": {},
   "source": [
    "# Series\n",
    "\n",
    "**Objetivo general**\n",
    "Pendiente\n",
    "\n",
    "**Objetivos particulares**\n",
    "- Pendiente\n",
    "- Pendiente\n",
    "- Pendiente\n",
    "\n",
    "## Contenido\n",
    "- [1 - Tema 1.](#1)\n",
    "    - [1.1 - Subtema A.](#1-1)\n",
    "        - [Ejercicio 1 - Título del ejercicio.](#ej-1)\n",
    "    - [1.2 - Subtema B.](#1-2)\n",
    "        - [Ejercicio 2 - Título del ejercicio.](#ej-2)\n",
    "- [2 - Tema 2.](#2)\n",
    "    - [2.1 - Subtema C.](#2-1)\n",
    "    - [2-2 - Subtema D.](#2-2)\n",
    "        - [Ejercicio 3 - Título dell ejercicio.](#ej-3)"
   ]
  },
  {
   "cell_type": "markdown",
   "id": "9af5c173",
   "metadata": {},
   "source": [
    "## Introducción\n",
    "\n",
    "Una serie matemática es la expresión de la **suma del número infinito de términos de una sucesión**.\n",
    "\n",
    "La suma hasta un término específico cualquiera se llama suma parcial. \n",
    "\n",
    "Si las sumas parciales de una serie infinita se aproximan cada vez más a un numero $k$, de modo que tal que si la serie continúa, la suma puede acercarse a $k$ tanto como se desee; a esto se le conoce como el límite de las sumas parciales o el límite de la serie infinita (suma al infinito, forma abreviada para designar a su límite pues realizar la suma infinita es imposible)."
   ]
  },
  {
   "cell_type": "markdown",
   "id": "8e497ec6",
   "metadata": {},
   "source": [
    "## Definición de serie\n",
    "\n",
    "Sea $a_n$ una sucesión de números reales. Para cada $n \\in N$, definimos $$S_n := \\sum a_n$$ como la serie $S_n$  compuesta por la suma de todos los elementos en la sucesión $a_n$."
   ]
  },
  {
   "cell_type": "markdown",
   "id": "8353728e",
   "metadata": {},
   "source": [
    "## Convergencia de series\n",
    "Diremos que una serie converge cuando una vez sumados el mayor número de elementos posibles el resultado se acerca cada vez más a un número $S$. Formalmente escribimos:\n",
    "\n",
    "Una serie $S_n$ es convergente si $\\exists  S $ tal que \n",
    "$$\\lim_{n \\to \\infty} S_n = S $$ \n",
    "Por lo tanto $S$ es el valor suma de la serie $S_n$ y se escribe de la siguiente manera\n",
    "\n",
    "$$\\sum_{n=1}^{\\infty}a_n= S$$\n",
    "\n",
    "### Condición para convergencia de una serie\n",
    "**Proposición:** Para que una serie $S_n$ sea convergente es necesario que la sucesión sea convergente, es decir:\n",
    "$\\lim_{n \\to \\infty} a_n = 0 $.\n",
    "\n",
    "### Convergencia absoluta\n",
    "Una serie $\\sum a_n$ es absolutamente convergente si la serie  $\\sum |a_n| $ es convergente."
   ]
  },
  {
   "cell_type": "markdown",
   "id": "f3c8ddb1",
   "metadata": {},
   "source": [
    "### Ejemplo 1\n",
    "La serie $\\displaystyle \\sum_{n=1}^{\\infty}\\frac{|\\sin( n)| }{n^2}$ es absolutamente convergente."
   ]
  },
  {
   "cell_type": "code",
   "execution_count": 4,
   "id": "49a9c73e",
   "metadata": {
    "scrolled": false
   },
   "outputs": [
    {
     "data": {
      "application/vnd.jupyter.widget-view+json": {
       "model_id": "db731a585cb44d48b98a33c73dd03eaf",
       "version_major": 2,
       "version_minor": 0
      },
      "text/plain": [
       "interactive(children=(Play(value=0, description='N', interval=1000, max=150, step=5), Output()), _dom_classes=…"
      ]
     },
     "metadata": {},
     "output_type": "display_data"
    }
   ],
   "source": [
    "%run Ejemplo1.py"
   ]
  },
  {
   "cell_type": "markdown",
   "id": "87a8babb",
   "metadata": {},
   "source": [
    "Notemos que conforme N aumente el valor de la suma converge aproximadamente a $S=1.276$"
   ]
  },
  {
   "cell_type": "markdown",
   "id": "84a7b203",
   "metadata": {},
   "source": [
    "### Convergencia condicional\n",
    "Una serie  $\\sum a_n$ es **condicionalmente convergente** si y sólo si la serie converge, pero no absolutamente.\n",
    "\n",
    "### Convergencia de series infinitas\n",
    "Una serie infinita puede converger en su límite de tres formas:\n",
    "\n",
    "1.   Las sumas parciales se acercan al límite, pero no lo alcanzan en realidad, es decir, nunca lo sobrepasan.\n",
    "2.   Las sumas parciales alcanzan el límite.\n",
    "3.   Las sumas parciales sobrepasan al límite antes de converger.\n",
    "\n",
    "### Divergencia\n",
    "En este caso diremos que una serie **diverge** cuando el límite de la serie no existe o es infinito, es decir: \n",
    "$$\\lim_{x \\to \\infty} S_n = \\infty $$ \n",
    "\n",
    "Si una serie no tiene límite entonces toma el nombre de **oscilante**.\n",
    "\n",
    "Al igual que algunas propiedades de las sucesiones, las series son *distributivas*, *aditivas* y *lineales*."
   ]
  },
  {
   "cell_type": "markdown",
   "id": "72b9d6af",
   "metadata": {},
   "source": [
    "### Ejemplo 2\n",
    "Una **Serie geométrica** : Es aquella cuyos términos forman una progresión geométrica, es decir, cada término de la serie es igual al anterior multiplicado por una constante. La fórmula es la siguiente:\n",
    "\n",
    "$$\\sum_{k=0}^{n} a r^k= a \\cdot \\frac{r^{n+1}-1}{r-1}$$\n",
    "\n",
    "Una serie geométrica mostrada **diverge** si $r$ es mayor o igual a $1$. Por otro lado, si $|r| < 1$, entonces dicha serie converge a $\\displaystyle \\frac{a}{1-r}$.\n",
    "\n",
    "Cuando $r =-1$, tenemos una serie de términos alternante que no converge.\n",
    "\n",
    "Ejecuta la siguiente celda y prueba diferentes valores para $a$, $r$ y $k$. Observa el comportamiento de la serie geometrica.\n",
    "\n",
    "__NOTA__: con valores de $r$ cercanos a $1$ o $-1$ el valor de $k$ debe aumentar para poder observar la convergencia."
   ]
  },
  {
   "cell_type": "code",
   "execution_count": 5,
   "id": "bdec7622",
   "metadata": {},
   "outputs": [
    {
     "data": {
      "application/vnd.jupyter.widget-view+json": {
       "model_id": "90d44c74e96d470a8c869294d59e49df",
       "version_major": 2,
       "version_minor": 0
      },
      "text/plain": [
       "interactive(children=(IntText(value=3, description='Valor de $a$'), FloatText(value=0.16, description='Valor d…"
      ]
     },
     "metadata": {},
     "output_type": "display_data"
    }
   ],
   "source": [
    "%run Ejemplo2.py"
   ]
  },
  {
   "cell_type": "markdown",
   "id": "b32e1f9d",
   "metadata": {},
   "source": [
    "### Ejemplo 3\n",
    "\n",
    "Una **Serie telescópica** es aquella tal que cada término se expresa como una diferencia de la forma $a_n = b_n - b_{n+1}$ y se expresa como sigue:\n",
    "\n",
    "$$\\sum_{n=0}^{N} b_n - b_{n+1}= b_0 - b_{N+1}$$\n",
    "\n",
    "Por ejemplo: $\\displaystyle \\sum_{k=1}^{8} \\left( \\frac{1}{k}-\\frac{1}{k+1}\\right)$\n",
    "\n",
    "Al realizar las sumas parciales de la serie anterior es posible observar que el resultado de las sumas parciales anteriores es igual a $\\frac{1}{1} - \\frac{1}{9}$ = 0.888...."
   ]
  },
  {
   "cell_type": "code",
   "execution_count": 6,
   "id": "98b70c54",
   "metadata": {},
   "outputs": [
    {
     "data": {
      "text/plain": [
       "0.8888888888888888"
      ]
     },
     "execution_count": 6,
     "metadata": {},
     "output_type": "execute_result"
    }
   ],
   "source": [
    "# Calculo de la serie telescopica\n",
    "def serietelescopica(inicio,final):\n",
    "    control = 0\n",
    "    for x in range(inicio, final+1):\n",
    "        control += (1/x)-(1/(x+1)) #Se define la serie del ejemplo anterior\n",
    "    return control\n",
    "\n",
    "serietelescopica(1,8)"
   ]
  },
  {
   "cell_type": "markdown",
   "id": "3db38c2d",
   "metadata": {},
   "source": [
    "Dado que la serie del ejemplo 3 es una serie telescópica, usando la fórmula obtenemos que \n",
    "\n",
    "$$\\sum_{k=1}^{N} \\left( \\frac{1}{k}-\\frac{1}{k+1}\\right) = 1 - \\frac{1}{N+1},$$\n",
    "\n",
    "y más aún, convergería a $1$ para $N$ muy grande. Esto último se puede comprobar calculando el límite cuando $N$ tiende a $\\infty$ de la última expresión.\n",
    "\n",
    "Compruebalo en la siguiente celda, ejecuta y coloca valores mas grandes para K y observa como se comporta"
   ]
  },
  {
   "cell_type": "code",
   "execution_count": 7,
   "id": "d54ac9af",
   "metadata": {},
   "outputs": [
    {
     "data": {
      "application/vnd.jupyter.widget-view+json": {
       "model_id": "bb38ca0a76864059b02bfadc37a861c2",
       "version_major": 2,
       "version_minor": 0
      },
      "text/plain": [
       "interactive(children=(IntText(value=8, description='Valor de $N$'), Output()), _dom_classes=('widget-interact'…"
      ]
     },
     "metadata": {},
     "output_type": "display_data"
    }
   ],
   "source": [
    "%run Ejemplo3.py"
   ]
  },
  {
   "cell_type": "markdown",
   "id": "acb0552a",
   "metadata": {},
   "source": [
    "### Serie de términos positivos\n",
    "Es aquella donde cada $a_n  \\geqslant 0$ $\\forall n$  por lo que es una serie siempre creciente.\n",
    "\n",
    "En muchas ocasiones resulta difícil determinar la suma de una serie, por esa razón nos conformamos con saber su carácter, es decir si converge o no."
   ]
  },
  {
   "cell_type": "markdown",
   "id": "88c2c5b7",
   "metadata": {},
   "source": [
    "## Criterio de la integral \n",
    "**Proposición:** Sea $\\sum_{n=1}^{\\infty}a_n $ una serie de términos positivos y $f(n)=a_n$ para $n \\geqslant 1 $ una función decreciente entonces:\n",
    "\n",
    "\n",
    "\n",
    "* Si  $\\int_{1}^{ \\infty} f(x) \\cdot dx$ converge, entonces $\\sum_{n=1}^{\\infty}a_n $ converge.\n",
    "* Si  $\\int_{1}^{ \\infty} f(x) \\cdot dx$ diverge, entonces $\\sum_{n=1}^{\\infty}a_n $ diverge.\n",
    "\n",
    "### Teorema Serie P\n",
    "Se dice que  $\\displaystyle \\sum_{n=1}^{a}a_n $ es una **serie P** si tiene la forma $\\displaystyle \\sum_{n=1}^{a} \\frac{1}{n^p} $ donde $p \\in {\\mathbb{R}}$\n",
    "\n",
    "**Proposición:** La serie P converge si \n",
    "$ p> 1$ y diverge si $p \\leq 1$.\n"
   ]
  },
  {
   "cell_type": "markdown",
   "id": "a653170e",
   "metadata": {},
   "source": [
    "### Ejemplo 4\n",
    "Ejecuta el siguiente codigo y comprueba la preposicion anterior"
   ]
  },
  {
   "cell_type": "code",
   "execution_count": 8,
   "id": "4867f180",
   "metadata": {},
   "outputs": [
    {
     "data": {
      "application/vnd.jupyter.widget-view+json": {
       "model_id": "f60fb2c87aad4d11aa65f8733b94d4bb",
       "version_major": 2,
       "version_minor": 0
      },
      "text/plain": [
       "interactive(children=(IntText(value=100, description='Valor de $a$'), FloatText(value=1.0, description='Valor …"
      ]
     },
     "metadata": {},
     "output_type": "display_data"
    }
   ],
   "source": [
    "%run Ejemplo4.py"
   ]
  },
  {
   "cell_type": "markdown",
   "id": "f3c6aed4",
   "metadata": {},
   "source": [
    "##  Criterio de la razón\n",
    "\n",
    "Sea  $\\sum_{n=1}^{\\infty}a_n $  una serie de términos positivos y sea \n",
    "$\\displaystyle r= \\lim_{n \\to \\infty} \\frac{a_{n+1}}{a_n}$, entonces:\n",
    "\n",
    "*   Si $r<1$ entonces $\\sum_{n=1}^{\\infty}a_n $  converge\n",
    "*   Si $r>1$ entonces $\\sum_{n=1}^{\\infty}a_n $ diverge"
   ]
  },
  {
   "cell_type": "markdown",
   "id": "ff9fb474",
   "metadata": {},
   "source": [
    "### Ejemplo 5\n",
    "Determinar si la siguiente serie converge o diverge. \n",
    "\n",
    "$$\\sum_{k=1}^{\\infty} \\frac{k^k}{k!} $$ \n",
    "\n",
    "Calculemos $r$:\n",
    "\n",
    "$$\n",
    "\\begin{eqnarray}\n",
    "r = \\lim_{k \\to \\infty} \\frac{a_{n+1}}{a_n}\n",
    "  & = & \\lim_{k \\to \\infty} \\frac{(k+1)^{k+1} / (k+1)!}{k^k / k!} \\\\\n",
    " r & = & \\lim_{k \\to \\infty} \\frac{{k!(k+1)^{k}}{(k+1)}}{{k^k}(k+1){k!}} \\\\\n",
    " r & = & \\lim_{k \\to \\infty} \\left( 1+ \\frac{1}{k}\\right) ^k\n",
    "\\end{eqnarray}\n",
    "$$\n",
    "\n",
    "¿Puede calcular este límite? "
   ]
  },
  {
   "cell_type": "code",
   "execution_count": 9,
   "id": "cb6fe917",
   "metadata": {},
   "outputs": [
    {
     "data": {
      "text/latex": [
       "$\\displaystyle e$"
      ],
      "text/plain": [
       "E"
      ]
     },
     "execution_count": 9,
     "metadata": {},
     "output_type": "execute_result"
    }
   ],
   "source": [
    "# Buscamos el límite\n",
    "k = Symbol('x') \n",
    "y=(1+(1/k))**k \n",
    "limit(y, k, oo)"
   ]
  },
  {
   "cell_type": "markdown",
   "id": "d9a9512a",
   "metadata": {},
   "source": [
    "Entonces $r = e >1$ por lo que según el criterio de la razón la serie $a_n$ diverge.\n",
    "En la siguiente celda puedes ver el comportamiento de esta Serie para algunos valores de $K$"
   ]
  },
  {
   "cell_type": "code",
   "execution_count": 10,
   "id": "49eaa37d",
   "metadata": {},
   "outputs": [
    {
     "data": {
      "application/vnd.jupyter.widget-view+json": {
       "model_id": "f9c5d1165a1b4ba78f800cfcda818c23",
       "version_major": 2,
       "version_minor": 0
      },
      "text/plain": [
       "interactive(children=(Play(value=1, description='Valor de $N$', interval=1000, max=20, min=1), Output()), _dom…"
      ]
     },
     "metadata": {},
     "output_type": "display_data"
    }
   ],
   "source": [
    "%run Ejemplo5.py"
   ]
  },
  {
   "cell_type": "markdown",
   "id": "d4899381",
   "metadata": {},
   "source": [
    "## Serie alternada.\n",
    "Se dice que una serie es **alternada** cuando sus términos son alternativamente positivos y negativos, por ejemplo $s_n$ es alternada si:\n",
    "\n",
    "$$\\sum_{n=1}^{\\infty}(-1)^{n+1}s_n= s_1-s_2+s_3-s_4+...$$"
   ]
  },
  {
   "cell_type": "markdown",
   "id": "0a33dd46",
   "metadata": {},
   "source": [
    "## Criterio de Leibniz\n",
    "**Proposición:** Una serie alternada $\\displaystyle \\sum_{n=1}^{\\infty}(-1)^{n+1}s_n$ tal que $s_n>0$ es convergente si cumple las siguientes condiciones:\n",
    "*   $\\displaystyle s_n \t\\geq s_{n+1} \\forall  n $ es decir, si $s_n$ es decreciente.\n",
    "*   $\\displaystyle \\lim_{k \\to +\\infty} s_n = 0$"
   ]
  },
  {
   "cell_type": "markdown",
   "id": "5fdc4ad0",
   "metadata": {},
   "source": [
    "### Ejemplo 6\n",
    "Determinar si la serie  $\\displaystyle \\sum \\frac{(-1)^n}{\\sqrt{n} }$ es convergente.\n",
    "\n",
    "Se observa que la serie es alternada, veámoslo gráficamente:"
   ]
  },
  {
   "cell_type": "code",
   "execution_count": 62,
   "id": "1dca944c",
   "metadata": {},
   "outputs": [
    {
     "data": {
      "application/vnd.jupyter.widget-view+json": {
       "model_id": "f197877470984359b9e37f6f632fcca5",
       "version_major": 2,
       "version_minor": 0
      },
      "text/plain": [
       "interactive(children=(Play(value=1, description='N', interval=1500, max=101, min=1, step=5), Output()), _dom_c…"
      ]
     },
     "metadata": {},
     "output_type": "display_data"
    }
   ],
   "source": [
    "%run Ejemplo6.py"
   ]
  },
  {
   "cell_type": "markdown",
   "id": "dd73ac5c",
   "metadata": {},
   "source": [
    "De la gráfica observamos que la serie es decreciente. Ahora calculemos el límite:"
   ]
  },
  {
   "cell_type": "code",
   "execution_count": 47,
   "id": "09b3b317",
   "metadata": {},
   "outputs": [
    {
     "data": {
      "text/latex": [
       "$\\displaystyle 0$"
      ],
      "text/plain": [
       "0"
      ]
     },
     "execution_count": 47,
     "metadata": {},
     "output_type": "execute_result"
    }
   ],
   "source": [
    "# Buscamos el límite\n",
    "x = Symbol('x') \n",
    "y=abs((-1)**x)/(x**(1/2)) \n",
    "limit(y, x, oo)"
   ]
  },
  {
   "cell_type": "markdown",
   "id": "8ebf3f3f",
   "metadata": {},
   "source": [
    "- Por el criterio de Leibniz esta serie es convergente. \n",
    "- Pero según el criterio de convergencia absoluta tenemos:\n",
    "$$\n",
    "\\sum \\left|\\frac{(-1)^n}{\\sqrt{n}}\\right| = \\sum\\frac{1}{\\sqrt{n}}\n",
    "$$\n",
    "\n",
    "observamos que bajo este criterio la serie es divergente pues utilizando el teorema de la serie P, vemos que\n",
    "$p=\\frac{1}{2} \\leq 1$.\n",
    "\n",
    "De lo anterior se concluye que la serie es condicionalmente convergente."
   ]
  },
  {
   "cell_type": "markdown",
   "id": "973ead38",
   "metadata": {},
   "source": [
    "### Ejemplo 7\n",
    "**Lámpara que prende y apaga**\n",
    "\n",
    "En un experimento una lámpara que se apaga al cabo de un minuto, luego se prende al cabo de medio minuto, se apaga después de un cuarto de minuto y así sucesivamente en una serie infinita de encendido y apagado. ¿En qué momento convergerá esta serie?\n",
    "\n",
    "La forma que la serie toma es la siguiente:\n",
    "$$1+ \\frac{1}{2}+  \\frac{1}{4} + \\frac{1}{8} + ...$$\n",
    "Por lo que la serie se ve de la siguiente manera:\n",
    "$$\\sum_{n=0}^{\\infty} \\frac{1}{2^n}$$\n",
    "\n",
    "Podemos calcular el límite:"
   ]
  },
  {
   "cell_type": "code",
   "execution_count": 59,
   "id": "2957b386",
   "metadata": {},
   "outputs": [
    {
     "data": {
      "text/latex": [
       "$\\displaystyle 0$"
      ],
      "text/plain": [
       "0"
      ]
     },
     "execution_count": 59,
     "metadata": {},
     "output_type": "execute_result"
    }
   ],
   "source": [
    "# Buscamos el límite\n",
    "n = Symbol('x') \n",
    "y = (1/(2**(n)))\n",
    "limit(y, n, oo)"
   ]
  },
  {
   "cell_type": "markdown",
   "id": "16f5e993",
   "metadata": {},
   "source": [
    "Graficamos la serie"
   ]
  },
  {
   "cell_type": "code",
   "execution_count": 61,
   "id": "5715c239",
   "metadata": {},
   "outputs": [
    {
     "data": {
      "image/png": "[encoded data removed]",
      "text/plain": [
       "<Figure size 800x400 with 1 Axes>"
      ]
     },
     "metadata": {},
     "output_type": "display_data"
    }
   ],
   "source": [
    "%run Ejemplo7.py"
   ]
  },
  {
   "cell_type": "markdown",
   "id": "fefc3b44",
   "metadata": {},
   "source": [
    "Al realizar la suma de la serie, la lámpara converge en el minuto 2 (puntos rojos).\n",
    "Observamos también que la sucesión es decreciente (puntos azules).\n",
    "\n",
    "Pero la pregunta final será si la lámpara estará prendida o apagada al terminar los dos minutos. La pregunta es interesante pero no es fácil de responder en lo abstracto, pues responder dicha pregunta es análogamente a responder si el último número de $\\pi$ es par o impar.\n",
    "\n",
    "\n",
    "## Referencias\n",
    "\n",
    " \n",
    "*   Banach, S. (1991). Calculo diferencial e integral (1.ª ed.). Uteha.\n",
    "\n",
    "*   Thompson, S. P., & Gardner, M. (2012). Cálculo diferencial e integral. McGraw-Hill Interamericana, S.A.\n",
    "\n",
    "*   Courant, R., & John, F. (1996). Introducción al cálculo y al análisis matemático. Limusa.\n",
    "\n",
    "*   Spivak, M., & Marqués, B. F. (1988). Cálculo Infinitesimal. Reverté.\n",
    "\n",
    "*   Briseño, L., Palmas, Ó., & Verdugo, J. (2015). Una mirada al cálculo a través de las sucesiones. Prensas de Ciencias."
   ]
  },
  {
   "cell_type": "code",
   "execution_count": null,
   "id": "836c2a96",
   "metadata": {},
   "outputs": [],
   "source": []
  }
 ],
 "metadata": {
  "kernelspec": {
   "display_name": "Python 3 (ipykernel)",
   "language": "python",
   "name": "python3"
  },
  "language_info": {
   "codemirror_mode": {
    "name": "ipython",
    "version": 3
   },
   "file_extension": ".py",
   "mimetype": "text/x-python",
   "name": "python",
   "nbconvert_exporter": "python",
   "pygments_lexer": "ipython3",
   "version": "3.10.4"
  }
 },
 "nbformat": 4,
 "nbformat_minor": 5
}
