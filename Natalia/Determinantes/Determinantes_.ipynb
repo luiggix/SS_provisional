{
 "cells": [
  {
   "cell_type": "code",
   "execution_count": 3,
   "id": "a3bb797c",
   "metadata": {},
   "outputs": [],
   "source": [
    "import numpy as np\n",
    "from Funciones import *\n",
    "import matplotlib.pyplot as plt"
   ]
  },
  {
   "cell_type": "markdown",
   "id": "c5b24b25",
   "metadata": {},
   "source": [
    "# DETERMINANTES\n",
    "\n",
    "**Objetivo general**\n",
    "\n",
    "- Compreder el concepto de determinante, así como revisar algunas de sus propiedades y, saber applicarlas.\n",
    "\n",
    "**Objetivos particulares**\n",
    "- Repasar la definición de determinante apoyandose de ejemplos que muestran su utilidad.\n",
    "- Estudiar algunas propiedades de los determinantes\n",
    "- Desarrollar de un método específico para el cálculo de determinantes\n",
    "\n",
    "## Contenido\n",
    "- [1 - Introduccion.](#1)\n",
    "- [2 - Definicion de Determinante.](#2)\n",
    "    - [2.1 - Ejemplo de calculo de Determinante.](#2-1)\n",
    "- [3 - Algunas Aplicaciones de Determinantes.](#3)\n",
    "    - [3.1 Cálculo de áreas de figuras en el plano.](#3-1)\n",
    "        - [3-1-1 Ejemplo - Área de un Triangulo](#3-1-1)\n",
    "    - [3-2 Obtención de la ecuación implícita de un plano](#3-2)\n",
    "- [4 - Determinante de Matrices con Python](#4)\n",
    "- [5 - Propiedades de los determinantes](#5)\n",
    "    - [5-1 Propiedad 1](#5-1)\n",
    "    - [5-2 Propiedad 2](#5-2)\n",
    "    - [5-3 Propiedad 3](#5-3)\n",
    "    - [5-4 Propiedad 4](#5-4)\n",
    "    - [5-5 Propiedad 5](#5-5)\n",
    "    - [5-6 Propiedad 6](#5-6)\n",
    "- [6 - Cálculo de determinantes por el método de desarrollo por menores](#6)"
   ]
  },
  {
   "cell_type": "markdown",
   "id": "2458cb96",
   "metadata": {},
   "source": [
    "<a name='1'></a>\n",
    "## **Introducción**\n",
    "\n",
    "\n",
    "La función determinante de una matriz es una herramienta que nos permite clasificar los sistemas de ecuaciones lineales según sus soluciones.\n",
    "La definición de determinante no es sencilla, sin embargo existen reglas que ayudan a obtenerlo dependiendo la dimensión de la matriz, es importante saber que esto solo funciona con __matrices cuadradas__."
   ]
  },
  {
   "cell_type": "markdown",
   "id": "9e99f23b",
   "metadata": {},
   "source": [
    "<a name='2'></a>\n",
    "## **Definición**\n",
    "Para comenzar a entender qué es el determiante y cómo podemos aplicarlo, veamos el siguiente ejemplo:\n",
    "Supongamos que se desea encontrar el __área de un triángulo__ en el plano cartesiano tal que, está constituido por los vértices $A$=(2,0); $B$=(3,4); $C$=(-2,5). Primero, tenemos que saber cómo se define el determinante, para ello consideremos la siguiente definición:\n",
    "\n",
    "Sea $A$ una matriz cuadrada, es decir, $A \\in M_{n\\times n}$ sobre $\\mathbb{R}$, entonces, el determinante de $A$ se define como:\n",
    "\n",
    "$$det(A)=\\begin{cases}\n",
    "a_{0,0}*a_{1,1}-a_{0,1}*a_{1,0} & n=2\\\\\n",
    "\\sum_{i=0}^{n-1}\\left(-1\\right)^{i}*a_{0,i}*det\\left(subMatriz_{0,i}\\left(A\\right)\\right) & n\\geq2\n",
    "\\end{cases}$$\n",
    "\n",
    "Donde la función $subMatriz_{0,i}\\left(A\\right)$ elimina el renglón cero y la columna $i$ de la matriz $A$.\n"
   ]
  },
  {
   "cell_type": "markdown",
   "id": "90d4a88e",
   "metadata": {},
   "source": [
    "<a name='3-1'></a>\n",
    "### **Cálculo del área de un polígono en el plano**\n",
    "Ahora, si conocemos las coordenadas de los vértices de un polígono de $N$ lados, enconces el área la podemos encontrar con base en la siguiente definición.\n",
    "\n",
    "Sea un $P$ un polígono en el plano de $N$ vértices; descritos por los puntos \n",
    "$$\n",
    "\\begin{equation}\n",
    "    \\begin{matrix}\n",
    "        P_0 & = & (x_0,y_0)\\\\\n",
    "        P_1 & = & (x_1,y_1)\\\\\n",
    "        P_2 & = & (x_2,y_2)\\\\\n",
    "        \\vdots & & \\vdots\\\\\n",
    "        P_N & = & (x_N,y_N)\\\\\n",
    "    \\end{matrix}\n",
    "\\end{equation}\n",
    "$$\n",
    "\n",
    "Se calcula el área de dicho poligono con la formula Área:\n",
    "\n",
    "$$\n",
    "Área=\n",
    "\\begin{equation}\n",
    "\\left|\n",
    "\\frac{1}{2}\n",
    "\\left(\n",
    "    \\begin{pmatrix}\n",
    "        x_0 & y_0\\\\\n",
    "        x_1 & y_1\\\\\n",
    "    \\end{pmatrix}\n",
    "    +\n",
    "    \\begin{pmatrix}\n",
    "        x_1 & y_1\\\\\n",
    "        x_2 & y_2\\\\\n",
    "    \\end{pmatrix}\n",
    "    +\n",
    "    \\dots\n",
    "    +\n",
    "    \\begin{pmatrix}\n",
    "        x_{N-1} & y_{N-1}\\\\\n",
    "        x_N & y_N\\\\\n",
    "    \\end{pmatrix}\n",
    "\\right)\n",
    "\\right|\n",
    "\\end{equation}\n",
    "$$"
   ]
  },
  {
   "cell_type": "markdown",
   "id": "28a549b1",
   "metadata": {},
   "source": [
    "<a name='3-1-1'></a>\n",
    "#### Ejemplo - Área de un triángulo\n",
    "Ahora que ya conocemos las expresiones para calcular determiananes de matrices cuadras y áreas de polígonos, procedemos a calcular el área de un triángulo cuyos vértices son: $A$=(2,0); $B$=(3,4); $C$=(-2,5).\n",
    "\n",
    "Primeramente, vamos a dar una visualización sobre el triángulo del cual deseamos encontrar el área usando el promgama Python."
   ]
  },
  {
   "cell_type": "code",
   "execution_count": 9,
   "id": "419b573f",
   "metadata": {},
   "outputs": [
    {
     "data": {
      "image/png": "[encoded data removed]",
      "text/plain": [
       "<Figure size 640x480 with 1 Axes>"
      ]
     },
     "metadata": {},
     "output_type": "display_data"
    }
   ],
   "source": [
    "#Para ingresar los vértices, usamos plt.plot([coordenadas en x],[coordenadas en y]). *Las componentes van seperadas por comas.\n",
    "#Para que el triángulo se cierre;las primeras coordenadas de X e Y se vuelven a ingresar al final de la lista.\n",
    "\n",
    "plt.plot([2,3,-2,2], [0,4,5,0])  \n",
    "\n",
    "\n",
    "plt.show()"
   ]
  },
  {
   "cell_type": "markdown",
   "id": "f563af16",
   "metadata": {},
   "source": [
    "Ahora, usando la definición para calcular áreas de poligonos donde;\n",
    "$$\n",
    "\\begin{equation}\n",
    "    \\begin{matrix}\n",
    "        P_0 & = & (2,0)\\\\\n",
    "        P_1 & = & (3,4)\\\\\n",
    "        P_2 & = & (-2,5)\\\\\n",
    "    \\end{matrix}\n",
    "\\end{equation}\n",
    "$$"
   ]
  },
  {
   "cell_type": "code",
   "execution_count": 13,
   "id": "6fd1b2f2",
   "metadata": {},
   "outputs": [
    {
     "data": {
      "text/plain": [
       "matrix([[5, 4],\n",
       "        [1, 9]])"
      ]
     },
     "execution_count": 13,
     "metadata": {},
     "output_type": "execute_result"
    }
   ],
   "source": [
    "#Primero hacemos la suma de matrices usando np.matrix([[corrdenadas de la fila uno], [coordenadas de la fila dos]]).\n",
    "\n",
    "a = np.matrix([[2, 0], [3, 4]])\n",
    "b = np.matrix([[3, 4], [-2, 5]])\n",
    "\n",
    "a+b"
   ]
  },
  {
   "cell_type": "code",
   "execution_count": 15,
   "id": "e3e1e0e3",
   "metadata": {},
   "outputs": [
    {
     "data": {
      "text/plain": [
       "matrix([[2.5, 2. ],\n",
       "        [0.5, 4.5]])"
      ]
     },
     "execution_count": 15,
     "metadata": {},
     "output_type": "execute_result"
    }
   ],
   "source": [
    "#Ahora tenemos que multiplicar nuestra matriz por 1/2.\n",
    "\n",
    "0.5 * (a+b)"
   ]
  },
  {
   "cell_type": "code",
   "execution_count": 16,
   "id": "ea3b822b",
   "metadata": {},
   "outputs": [
    {
     "data": {
      "text/plain": [
       "10.25"
      ]
     },
     "execution_count": 16,
     "metadata": {},
     "output_type": "execute_result"
    }
   ],
   "source": [
    "#Finalmente, obtenemos el área del triágulo mediante el determiante de la matriz anteriror. Y usando la def. para n=2\n",
    "\n",
    "(2.5*4.5)-(0.5*2)\n",
    "\n"
   ]
  },
  {
   "cell_type": "markdown",
   "id": "613e89f8",
   "metadata": {},
   "source": [
    "Hemos encontrado que el triángulo de vértices $A$ =(2,0); $B$ =(3,4); $C$ =(-2,5) tiene un área $A$ = 10.25"
   ]
  },
  {
   "cell_type": "markdown",
   "id": "9b40c94c",
   "metadata": {},
   "source": [
    "<a name='3-2'></a>\n",
    "### **Obtención de la ecuación implícita de un plano**\n",
    "\n",
    "La obtención de la ecuación implícita de un plano puede efectuarse mediante el desarrollo de un determinante nulo, cuyas entradas están en función de las coordenadas de un punto de dicho plano y un par de vectores del mismo tales que no sean paralelos.\n",
    "\n",
    "Sea $P(P_x,P_y,P_z)$ un punto en un plano y\n",
    "\n",
    "$$\n",
    "\\begin{equation}\n",
    "    \\begin{matrix}\n",
    "    \\vec{u} & = & (u_x,u_y,u_z) \\\\\n",
    "    \\vec{v} & = & (v_x,v_y,v_z) \n",
    "    \\end{matrix}\n",
    "\\end{equation}\n",
    "$$\n",
    "\n",
    "Dos vectores no paralelos del mismo plano. Entonces la ecuación cartesiana de un plano se obtiene resolviendo el siguiente determinante e igualando a cero:\n",
    "\n",
    "$$\n",
    "\\begin{equation}\n",
    "    \\begin{vmatrix}\n",
    "        x-P_x & y-P_y & z-P_z \\\\\n",
    "        u_x & u_y & u_z \\\\\n",
    "        v_x & v_y & v_z\n",
    "    \\end{vmatrix}\n",
    "    =\n",
    "    0\n",
    "\\end{equation}\n",
    "$$\n",
    "\n",
    "De forma que la ecuacion cartesiana del plano queda como:\n",
    "$$\n",
    "\\begin{equation}\n",
    "    Ax+By+Cz+D=0\n",
    "\\end{equation}\n",
    "$$\n",
    "\n",
    "Donde \n",
    "\n",
    "$$\n",
    "\\begin{equation}\n",
    "    \\begin{matrix}\n",
    "        A =  (u_y v_z - u_z v_y)\\\\\n",
    "        B =  (u_z v_x - u_x v_z)\\\\\n",
    "        C =  (u_x v_y - u_y v_x)\\\\\n",
    "        D =  P_x(u_z v_y - u_y v_z) + P_y(u_x v_z - u_z v_x) + P_z(u_y v_x - u_x v_y)\n",
    "    \\end{matrix}\n",
    "\\end{equation}\n",
    "$$"
   ]
  },
  {
   "cell_type": "markdown",
   "id": "9d9d085a",
   "metadata": {},
   "source": [
    "<a name='4'></a>\n",
    "## Determinante de Matrices con Python\n",
    "\n",
    "- Si tenemos una matriz de la siguiente forma:\n",
    "\n",
    "$$\\begin{equation} A_{1\\times 1} =\n",
    "\\begin{pmatrix}\n",
    " a_{11} \n",
    "\\end{pmatrix}\n",
    "\\end{equation}$$\n",
    "\n",
    "Entonces $det(A)$= $ a_{11}$\n",
    "\n",
    "- Para una matriz de ${2 \\times 2}$, es decir:\n",
    "\n",
    "$$\\begin{equation} A_{2\\times 2} =\n",
    "\\begin{pmatrix}\n",
    "a_{11} & a_{12} \\\\\n",
    "a_{21} & a_{22} \n",
    "\\end{pmatrix}\n",
    "\\end{equation}$$\n",
    "\n",
    "Entonces $det(A)$= $ a_{11} $ x $ a_{22} $ - $ a_{12} $ x $ a_{21} $\n",
    "\n",
    "- Para una matriz de ${3 \\times 3}$, es decir:\n",
    "\n",
    "$$\\begin{equation} A_{3\\times 3} =\n",
    "\\begin{pmatrix}\n",
    "a_{11} & a_{12} & a_{13} \\\\\n",
    "a_{21} & a_{22} & a_{23} \\\\\n",
    "a_{31} & a_{32} & a_{33}\n",
    "\\end{pmatrix}\n",
    "\\end{equation}$$\n",
    "\n",
    "Entonces \n",
    "$$\n",
    "\\begin{equation}\n",
    "    det(A) \n",
    "    =\n",
    "    a_{11} a_{22} a_{33} \n",
    "    + \n",
    "    a_{12} a_{23} a_{31}\n",
    "    +\n",
    "    a_{21} a_{32} a_{13}\n",
    "    -\n",
    "    a_{13} a_{22} a_{31}\n",
    "    -\n",
    "    a_{12} a_{21} a_{33}\n",
    "    -\n",
    "    a_{23} a_{32} a_{11}\n",
    "\\end{equation}\n",
    "$$"
   ]
  },
  {
   "cell_type": "markdown",
   "id": "80b0a30f",
   "metadata": {},
   "source": [
    "Es evidente que el cálculo de los determinantes se vuelve mas complejo conforme la dimensión de la matriz aumenta.\n",
    "\n",
    "A continuación se muestra como obtener el determinante con numpy."
   ]
  },
  {
   "cell_type": "code",
   "execution_count": 19,
   "id": "ad5ea415",
   "metadata": {},
   "outputs": [
    {
     "name": "stdout",
     "output_type": "stream",
     "text": [
      "Ingrese la matriz a la que se le sacará el determinante\n",
      "Recuerde que debe ingresar una matriz cuadrada\n",
      "Indique el número de filas: 3\n",
      "Ingrese la matriz\n",
      "Elemento (1,1): 1\n",
      "Elemento (1,2): 3\n",
      "Elemento (1,3): 6\n",
      "Elemento (2,1): 3\n",
      "Elemento (2,2): 11\n",
      "Elemento (2,3): 7\n",
      "Elemento (3,1): 5\n",
      "Elemento (3,2): 3\n",
      "Elemento (3,3): 3\n",
      "su matriz es:\n"
     ]
    },
    {
     "data": {
      "text/latex": [
       "$$\\left(\\begin{array}{ccc}1.0 & 3.0 & 6.0 \\\\3.0 & 11.0 & 7.0 \\\\5.0 & 3.0 & 3.0 \\\\\\end{array}\\right)$$"
      ],
      "text/plain": [
       "<IPython.core.display.Latex object>"
      ]
     },
     "metadata": {},
     "output_type": "display_data"
    },
    {
     "name": "stdout",
     "output_type": "stream",
     "text": [
      "El determinante de su matriz es: -186.00000000000009\n"
     ]
    }
   ],
   "source": [
    "# Importamos la libreria que  da soporte para crear vectores y matrices grandes multidimensionales, \n",
    "#Junto con una gran colección de funciones matemáticas de alto nivel para operar con ellas\n",
    "import numpy as np\n",
    "\n",
    "#Pedimos que nos de la leyenda que nos pida ingresar la matriz\n",
    "print(\"Ingrese la matriz a la que se le sacará el determinante\")\n",
    "\n",
    "#Pedimos que ingrese el número de filas y columnas que tiene la matriz\n",
    "print(\"Recuerde que debe ingresar una matriz cuadrada\")\n",
    "\n",
    "filas = int(input (\"Indique el número de filas: \"))\n",
    "\n",
    "#Creamos la matriz en las que se guardarán los valores que el usuario proporcione \n",
    "matriz1 = np.zeros((filas,filas))\n",
    "\n",
    "# Le pedimos que ingrese la matriz elemento por elemento y vamos llenando\n",
    "# Esta función es igual a la funcion crear_matriz() ocupada antes\n",
    "print ('Ingrese la matriz')\n",
    "for i in range(filas):\n",
    "    for j in range(filas):\n",
    "        matriz1[i][j] = np.array( float(input('Elemento (%d,%d): ' % (i+1, j+1))))\n",
    "        \n",
    "print(\"su matriz es:\" )\n",
    "\n",
    "#Utilizamos una funcion propia para mostrar la matriz ingresada con un mejor formato\n",
    "Mostrar_Matriz(matriz1)\n",
    "\n",
    "#sacamos el determinante\n",
    "#Mediante la función linealg.det() de Numpy obtenemos el determinante\n",
    "print(\"El determinante de su matriz es:\",np.linalg.det(matriz1))\n"
   ]
  },
  {
   "cell_type": "markdown",
   "id": "e81078cb",
   "metadata": {},
   "source": [
    "<a name='5'></a>\n",
    "## **Propiedades de los determinantes**\n",
    "\n",
    "<a name='5-1'></a>\n",
    "### Propiedad 1\n",
    "El determinante de una matriz triangular es igual al producto de sus componentes en la diagonal.\n",
    "\n",
    "Es decir que sea $A$ una matriz como la que se muestra a continuacion:\n",
    "\n",
    "$$\\begin{equation} A_{n\\times n} =\n",
    "\\begin{pmatrix}\n",
    "a_{11} & a_{12} & \\cdots & a_{1n}\\\\\n",
    "0 & a_{22} & \\cdots & a_{2n}\\\\\n",
    "\\vdots & \\vdots & \\ddots & \\vdots\\\\\n",
    "0 & 0 & \\cdots & a_{nn}\n",
    "\\end{pmatrix}\n",
    "\\end{equation}$$\n",
    "\n",
    "Entonces $det(A)$= $a_{11}$*$a_{22}$*$a_{33}$*....*$a_{nn}$\n",
    "\n",
    "A continuación, se muestra un ejemplo de matriz diagonal"
   ]
  },
  {
   "cell_type": "code",
   "execution_count": 91,
   "id": "664f8eda",
   "metadata": {},
   "outputs": [
    {
     "name": "stdout",
     "output_type": "stream",
     "text": [
      "Matriz diagonal A:\n",
      "Ingrese el numero de filas, recuerde que se trata de una matriz Cuadrada: 3\n",
      "Ingrese las entradas de la matriz: \n",
      "\n",
      "Ingrese el valor del elemento (1,1): 11\n",
      "Ingrese el valor del elemento (1,2): 2\n",
      "Ingrese el valor del elemento (1,3): 3\n",
      "Ingrese el valor del elemento (2,2): 1\n",
      "Ingrese el valor del elemento (2,3): 4\n",
      "Ingrese el valor del elemento (3,3): 2\n"
     ]
    },
    {
     "data": {
      "text/latex": [
       "$$\\left(\\begin{array}{ccc}11.0 & 2.0 & 3.0 \\\\0.0 & 1.0 & 4.0 \\\\0.0 & 0.0 & 2.0 \\\\\\end{array}\\right)$$"
      ],
      "text/plain": [
       "<IPython.core.display.Latex object>"
      ]
     },
     "metadata": {},
     "output_type": "display_data"
    }
   ],
   "source": [
    "#Matriz diagonal \n",
    "\n",
    "print(\"Matriz diagonal A:\")\n",
    "\n",
    "#Creamos la matriz mediante la funcion propia DiagonalMatriz()\n",
    "A = DiagonalMatriz()"
   ]
  },
  {
   "cell_type": "markdown",
   "id": "23fd9784",
   "metadata": {},
   "source": [
    "Sacamos el determinante mediante linalg de la paqueteria numpy"
   ]
  },
  {
   "cell_type": "code",
   "execution_count": 112,
   "id": "a3f10fdb",
   "metadata": {},
   "outputs": [
    {
     "name": "stdout",
     "output_type": "stream",
     "text": [
      "El determinante de su matriz, calculado con Numpy, es: 22.000000000000004\n"
     ]
    }
   ],
   "source": [
    "print(\"El determinante de su matriz, calculado con Numpy, es:\", np.linalg.det(A))"
   ]
  },
  {
   "cell_type": "markdown",
   "id": "fdbc8ab2",
   "metadata": {},
   "source": [
    "De igual forma podemos crear una función para calcular el determinante con la formula mostrada"
   ]
  },
  {
   "cell_type": "code",
   "execution_count": 113,
   "id": "803e034a",
   "metadata": {},
   "outputs": [
    {
     "name": "stdout",
     "output_type": "stream",
     "text": [
      "El determinante de su matriz, calculado con la formula, es 11.0 * 1.0 * 2.0 = 22.0\n"
     ]
    }
   ],
   "source": [
    "det = 1\n",
    "cadena = ''\n",
    "for i in range(len(A)):\n",
    "    det = det * A[i][i]\n",
    "    if i in range(0,len(A)-1):\n",
    "        cadena = cadena + f'{A[i][i]} * '\n",
    "    else:\n",
    "        cadena = cadena + f'{A[i][i]} = '\n",
    "print(f'El determinante de su matriz, calculado con la formula, es {cadena}{det}')"
   ]
  },
  {
   "cell_type": "markdown",
   "id": "00aa6def",
   "metadata": {},
   "source": [
    "Notamos que ambos resultados son iguales, salvo decimales que dependen del metodo de redondeo de Python"
   ]
  },
  {
   "cell_type": "markdown",
   "id": "a881fd24",
   "metadata": {},
   "source": [
    "<a name='5-2'></a>\n",
    "### Propiedad 2\n",
    "\n",
    "Si una matriz $B$ se obtiene intercambiando dos filas o intercambiando dos columnas de una matriz $A$ entonces:\n",
    "\n",
    " $det(B)$ = $−det(A)$"
   ]
  },
  {
   "cell_type": "code",
   "execution_count": 120,
   "id": "98be6d76",
   "metadata": {
    "scrolled": true
   },
   "outputs": [
    {
     "name": "stdout",
     "output_type": "stream",
     "text": [
      "Matriz A de dimensión 3x3 :\n"
     ]
    },
    {
     "data": {
      "text/latex": [
       "$$\\left(\\begin{array}{ccc}11 & 2 & 3 \\\\0 & 1 & 4 \\\\6 & 4 & 2 \\\\\\end{array}\\right)$$"
      ],
      "text/plain": [
       "<IPython.core.display.Latex object>"
      ]
     },
     "metadata": {},
     "output_type": "display_data"
    },
    {
     "name": "stdout",
     "output_type": "stream",
     "text": [
      "El determinante de su matriz A es: -124.00000000000003\n",
      "\n",
      "Se intercambian la columna 1 y la columna 2\n",
      "Matriz B de dimensión 3x3 :\n"
     ]
    },
    {
     "data": {
      "text/latex": [
       "$$\\left(\\begin{array}{ccc}2 & 11 & 3 \\\\1 & 0 & 4 \\\\4 & 6 & 2 \\\\\\end{array}\\right)$$"
      ],
      "text/plain": [
       "<IPython.core.display.Latex object>"
      ]
     },
     "metadata": {},
     "output_type": "display_data"
    },
    {
     "name": "stdout",
     "output_type": "stream",
     "text": [
      "El determinante de su matriz B es: 123.99999999999991\n"
     ]
    }
   ],
   "source": [
    "print(\"Matriz A de dimensión 3x3 :\")\n",
    "\n",
    "A= np.array([[11,2,3],[0,1,4],[6,4,2]])\n",
    "Mostrar_Matriz(A)\n",
    "\n",
    "#Sacamos el determinante de A\n",
    "print(\"El determinante de su matriz A es:\", np.linalg.det(A))\n",
    "\n",
    "print(\"\\nSe intercambian la columna 1 y la columna 2\")\n",
    "print(\"Matriz B de dimensión 3x3 :\")\n",
    "B= np.array([[2,11,3],[1,0,4],[4,6,2]])\n",
    "Mostrar_Matriz(B)\n",
    "\n",
    "#sacamos el determinante de B\n",
    "print(\"El determinante de su matriz B es:\", np.linalg.det(B))"
   ]
  },
  {
   "cell_type": "markdown",
   "id": "63c35715",
   "metadata": {},
   "source": [
    "Nuevamente, observamos que la propiedad se cumple, salvo decimales"
   ]
  },
  {
   "cell_type": "markdown",
   "id": "4b356fd4",
   "metadata": {},
   "source": [
    "<a name='5-3'></a>\n",
    "### Propiedad 3\n",
    "\n",
    "Si $A$ y $B$ son matrices diagonales de ${n \\times n}$, entonces $det AB$=$det A$ $det B$. "
   ]
  },
  {
   "cell_type": "code",
   "execution_count": 124,
   "id": "f17f2741",
   "metadata": {},
   "outputs": [
    {
     "name": "stdout",
     "output_type": "stream",
     "text": [
      "Recuerde que deben ser matrices cuadradas y diagonales\n",
      "Indique el número de filas y columnas de la matriz: 3\n",
      "Ingrese la primer matriz\n",
      "Elemento (0,0): 11\n",
      "Elemento (0,1): 2\n",
      "Elemento (0,2): 5\n",
      "Elemento (1,0): -1\n",
      "Elemento (1,1): 3\n",
      "Elemento (1,2): 2\n",
      "Elemento (2,0): 5\n",
      "Elemento (2,1): 0\n",
      "Elemento (2,2): 1\n",
      "su matriz 1 es:\n"
     ]
    },
    {
     "data": {
      "text/latex": [
       "$$\\left(\\begin{array}{ccc}11.0 & 2.0 & 5.0 \\\\-1.0 & 3.0 & 2.0 \\\\5.0 & 0.0 & 1.0 \\\\\\end{array}\\right)$$"
      ],
      "text/plain": [
       "<IPython.core.display.Latex object>"
      ]
     },
     "metadata": {},
     "output_type": "display_data"
    },
    {
     "name": "stdout",
     "output_type": "stream",
     "text": [
      "Ingrese la segunda matriz\n",
      "Elemento (0,0): 3\n",
      "Elemento (0,1): 3\n",
      "Elemento (0,2): 1\n",
      "Elemento (1,0): 0\n",
      "Elemento (1,1): -2\n",
      "Elemento (1,2): 3\n",
      "Elemento (2,0): 9\n",
      "Elemento (2,1): 6\n",
      "Elemento (2,2): 3\n",
      "su matriz 2 es:\n"
     ]
    },
    {
     "data": {
      "text/latex": [
       "$$\\left(\\begin{array}{ccc}3.0 & 3.0 & 1.0 \\\\0.0 & -2.0 & 3.0 \\\\9.0 & 6.0 & 3.0 \\\\\\end{array}\\right)$$"
      ],
      "text/plain": [
       "<IPython.core.display.Latex object>"
      ]
     },
     "metadata": {},
     "output_type": "display_data"
    },
    {
     "name": "stdout",
     "output_type": "stream",
     "text": [
      "El producto de las matrices es:\n"
     ]
    },
    {
     "data": {
      "text/latex": [
       "$$\\left(\\begin{array}{ccc}78.0 & 59.0 & 32.0 \\\\15.0 & 3.0 & 14.0 \\\\24.0 & 21.0 & 8.0 \\\\\\end{array}\\right)$$"
      ],
      "text/plain": [
       "<IPython.core.display.Latex object>"
      ]
     },
     "metadata": {},
     "output_type": "display_data"
    },
    {
     "name": "stdout",
     "output_type": "stream",
     "text": [
      "El determinante de su matriz A es: -20.000000000000007\n",
      "El determinante de su matriz B es: 27.0\n",
      "El determinante de su matriz A*B es: -539.9999999999992\n",
      "Y notemos que -20.000000000000007 * 27.0 es -540.0000000000002\n"
     ]
    }
   ],
   "source": [
    "#Solicitamos al usuario las matrices \n",
    "print(\"Recuerde que deben ser matrices cuadradas y diagonales\")\n",
    "filas1 = int(input (\"Indique el número de filas y columnas de la matriz: \"))\n",
    "\n",
    "\n",
    "#creamos las matrices en las que se guardarán los valores que el usuario proporcione y los de la suma\n",
    "A = np.zeros((filas1,filas1))    \n",
    "B = np.zeros((filas1,filas1))   \n",
    " #llenamos la matriz 1 con los datos del usuario\n",
    "print (\"Ingrese la primer matriz\")\n",
    "\n",
    "for i in range(filas1):\n",
    "        for j in range(filas1):\n",
    "            A[i][j] = float(input('Elemento (%d,%d): ' % (i+1, j+1)))\n",
    "print( \"su matriz 1 es:\")\n",
    "\n",
    "Mostrar_Matriz(A)\n",
    "\n",
    "#llenamos la matriz 2\n",
    "print (\"Ingrese la segunda matriz\")\n",
    "for i in range(filas1):\n",
    "        for j in range(filas1):\n",
    "            B[i][j] = float(input('Elemento (%d,%d): ' % (i+1, j+1)))\n",
    "print( \"su matriz 2 es:\")\n",
    "\n",
    "Mostrar_Matriz(B)\n",
    "\n",
    "#Recordamos que la función dot() nos devuelve un producto matricial\n",
    "C = A.dot(B)\n",
    "print(\"El producto de las matrices es:\")\n",
    "\n",
    "Mostrar_Matriz(C)\n",
    "\n",
    "print(\"El determinante de su matriz A es:\", np.linalg.det(A))\n",
    "\n",
    "print(\"El determinante de su matriz B es:\", np.linalg.det(B))\n",
    "\n",
    "print(\"El determinante de su matriz A*B es:\", np.linalg.det(C))\n",
    "\n",
    "print(f\"Y notemos que {np.linalg.det(A)} * {np.linalg.det(B)} es {np.linalg.det(A) * np.linalg.det(B)}\")"
   ]
  },
  {
   "cell_type": "markdown",
   "id": "c41ce69e",
   "metadata": {},
   "source": [
    "<a name='5-4'></a>\n",
    "### Propiedad 4\n",
    "\n",
    "No se cumple en general que el $det (A + B)$=$det A + det B$"
   ]
  },
  {
   "cell_type": "code",
   "execution_count": 130,
   "id": "8ccda3ae",
   "metadata": {},
   "outputs": [
    {
     "name": "stdout",
     "output_type": "stream",
     "text": [
      "La matriz A es:\n"
     ]
    },
    {
     "data": {
      "text/latex": [
       "$$\\left(\\begin{array}{ccc}11 & 2 \\\\0 & 1 \\\\\\end{array}\\right)$$"
      ],
      "text/plain": [
       "<IPython.core.display.Latex object>"
      ]
     },
     "metadata": {},
     "output_type": "display_data"
    },
    {
     "name": "stdout",
     "output_type": "stream",
     "text": [
      "El determinante de la matriz A es: 11.000000000000002\n",
      "\n",
      "La matriz B es:\n"
     ]
    },
    {
     "data": {
      "text/latex": [
       "$$\\left(\\begin{array}{ccc}23 & 12 \\\\11 & 3 \\\\\\end{array}\\right)$$"
      ],
      "text/plain": [
       "<IPython.core.display.Latex object>"
      ]
     },
     "metadata": {},
     "output_type": "display_data"
    },
    {
     "name": "stdout",
     "output_type": "stream",
     "text": [
      "El determinante de la matriz B es: -62.99999999999999\n",
      "\n",
      "La suma de las matrices es:\n"
     ]
    },
    {
     "data": {
      "text/latex": [
       "$$\\left(\\begin{array}{ccc}34 & 14 \\\\11 & 4 \\\\\\end{array}\\right)$$"
      ],
      "text/plain": [
       "<IPython.core.display.Latex object>"
      ]
     },
     "metadata": {},
     "output_type": "display_data"
    },
    {
     "name": "stdout",
     "output_type": "stream",
     "text": [
      "El determinante de la matriz suma es: -18.000000000000014\n"
     ]
    }
   ],
   "source": [
    "A= np.array([[11,2],[0,1]])\n",
    "print(\"La matriz A es:\")\n",
    "Mostrar_Matriz(A)\n",
    "\n",
    "#sacamos el determinante\n",
    "print(\"El determinante de la matriz A es:\", np.linalg.det(A))\n",
    "\n",
    "S= np.array([[23,12],[11,3]])\n",
    "print(\"\\nLa matriz B es:\")\n",
    "Mostrar_Matriz(S)\n",
    "\n",
    "#sacamos el determinante\n",
    "print(\"El determinante de la matriz B es:\", np.linalg.det(S))\n",
    "\n",
    "\n",
    "print(\"\\nLa suma de las matrices es:\")\n",
    "T=A+S\n",
    "Mostrar_Matriz(T)\n",
    "\n",
    "print(\"El determinante de la matriz suma es:\", np.linalg.det(T))"
   ]
  },
  {
   "cell_type": "markdown",
   "id": "a49c53d1",
   "metadata": {},
   "source": [
    "Pdemos notar que la suma del determinante de $A$ y el determinante de $B$ no son el determinante de la matriz suma"
   ]
  },
  {
   "cell_type": "markdown",
   "id": "75af54da",
   "metadata": {},
   "source": [
    "<a name='5-5'></a>\n",
    "### Propiedad 5\n",
    "\n",
    "Si dos filas (columnas) de $A$ son iguales, entonces $det(A) = 0$"
   ]
  },
  {
   "cell_type": "code",
   "execution_count": 133,
   "id": "54f0f588",
   "metadata": {},
   "outputs": [
    {
     "data": {
      "text/latex": [
       "$$\\left(\\begin{array}{ccc}23 & 12 & 4 \\\\23 & 12 & 4 \\\\11 & 3 & 6 \\\\\\end{array}\\right)$$"
      ],
      "text/plain": [
       "<IPython.core.display.Latex object>"
      ]
     },
     "metadata": {},
     "output_type": "display_data"
    },
    {
     "name": "stdout",
     "output_type": "stream",
     "text": [
      "El determinante de su matriz es: 0.0\n"
     ]
    }
   ],
   "source": [
    "S= np.array([[23,12,4],[23,12,4],[11,3,6]])\n",
    "Mostrar_Matriz(S)\n",
    "\n",
    "#Sacamos el determinante\n",
    "print(\"El determinante de su matriz es:\", np.linalg.det(S))"
   ]
  },
  {
   "cell_type": "markdown",
   "id": "b3785e65",
   "metadata": {},
   "source": [
    "<a name='5-6'></a>\n",
    "### Propiedad 6\n",
    "\n",
    "El determinante de una matriz con un escalar es el escalar por el determinante de la matriz, es decir:\n",
    "\n",
    "Si $C$= $\\tau$*$A_{n\\times n}$ ,  \n",
    "entonces $det(C)$= $\\tau$ * det($A_{n\\times n}$)\n",
    "\n",
    "Estas son solo algunas de las propiedades que los determinantes poseen.\n"
   ]
  },
  {
   "cell_type": "markdown",
   "id": "69a17f07",
   "metadata": {},
   "source": [
    "<a name='6'></a>\n",
    "\n",
    "## **Cálculo de determinantes por el método de desarrollo por menores**\n",
    "\n",
    "Para el cálculo de determinantes por este método se toma como referencia una fila o una columna y se va eliminando sus elementos (de acuerdo a su posición) y formando los determinantes de un orden inferior a la matriz original; el cual queda multiplicado por este elemento y su signo de posición. Es decir cada elemento de la fila o la columna seleccionada se multiplica por su determinante menor y el signo de posición. \n",
    "\n",
    "Los signos de posición se obtienen siempre comenzando con positivo y alternando luego. \n",
    "\n",
    "Por ejemplo para una matriz ${3 \\times 3}$ los signos serían :\n",
    "\n",
    "\n",
    "$$\\begin{equation} A_{3\\times 3} = \n",
    "\\begin{pmatrix}\n",
    "+ & - & +  \\\\\n",
    "- & + & - \\\\\n",
    "+ & - & +\n",
    "\\end{pmatrix}\n",
    "\\end{equation}$$\n",
    "\n",
    "Para una matriz de ${4\\times 4}$ se tiene:\n",
    "\n",
    "$$\\begin{equation} A_{4\\times 4} = \n",
    "\\begin{pmatrix}\n",
    "+ & - & + & - \\\\\n",
    "- & + & - & + \\\\\n",
    "+ & - & + & - \\\\\n",
    "- & + & - & + \n",
    "\\end{pmatrix}\n",
    "\\end{equation}$$\n",
    "\n",
    "Para una matriz de ${5\\times 5}$ se tiene:\n",
    "\n",
    "$$\\begin{equation} A_{5\\times 5} = \n",
    "\\begin{pmatrix}\n",
    "+ & - & + & - & +\\\\\n",
    "- & + & - & + & - \\\\\n",
    "+ & - & + & - & + \\\\\n",
    "- & + & - & + & - \\\\\n",
    "+ & - & + & - & +\n",
    "\\end{pmatrix}\n",
    "\\end{equation}$$\n",
    "\n",
    "y asi sucesivamente se lleva a cabo el procedimiento antes descrito, por ejemplo calcularemos el determinante de una matriz de ${3\\times 3}$.\n",
    "\n",
    "$$\\begin{equation} A_{3\\times 3} = \n",
    "\\begin{pmatrix}\n",
    "a_{11} & a_{12} & a_{13} \\\\\n",
    "a_{21}& a_{22} & a_{23}\\\\\n",
    "a_{31}& a_{32}& a_{33}\n",
    "\\end{pmatrix}\n",
    "\\end{equation}$$\n",
    "\n",
    "Entonces como primer paso tomamos el primer elemento y lo multiplicamos por el determinante de la matriz que se obtiene al eliminar la primera fila y la primer columna, es decir:\n",
    "\n",
    "- primer elemento del determinante :\n",
    "\n",
    "$$\\begin{equation}\n",
    "a_{11}*\\begin{vmatrix}\n",
    "a_{22} & a_{23}\\\\\n",
    "a_{32} & a_{33}\n",
    "\\end{vmatrix}= + a_{11}*[(a_{22}*a_{33})-(a_{23}*a_{32})]=a\n",
    "\\end{equation}$$\n",
    "\n",
    "- segundo elemento del determinante :\n",
    "para este se toma el segundo elemento de la matriz y se multiplica por el determinante de la matriz que resta al quitar el primer renglón y la segunda columna.\n",
    "\n",
    "\n",
    "$$\\begin{equation}\n",
    "-a_{12}*\\begin{vmatrix}\n",
    "a_{21} & a_{23}\\\\\n",
    "a_{31} & a_{33}\n",
    "\\end{vmatrix}= - a_{12}*[(a_{21}*a_{33})-(a_{23}*a_{31})]=b\n",
    "\\end{equation}$$\n",
    "\n",
    "- tercer elemento del determinante :\n",
    "para este se toma el tercer elemento de la matriz y se multiplica por el determinante de la matriz que resta al quitar el primer renglón y la tercer columna.\n",
    "\n",
    "$$\\begin{equation}\n",
    "+a_{13}*\\begin{vmatrix}\n",
    "a_{21} & a_{22}\\\\\n",
    "a_{31} & a_{32}\n",
    "\\end{vmatrix}= a_{13}*[(a_{21}*a_{32})-(a_{22}*a_{31})]=c\n",
    "\\end{equation}$$\n",
    "\n",
    "\n",
    "Todo lo anterior tomando en cuenta los signos de los elementos según la posición del elemento y el signo qe le corresponde por lo que se explico al inicio del método. \n",
    "Por último se obtiene que:\n",
    "\n",
    "\n",
    "$$\\begin{equation} det(A) = \n",
    "\\begin{pmatrix}\n",
    "a_{11} & a_{12} & a_{13} \\\\\n",
    "a_{21}& a_{22} & a_{23}\\\\\n",
    "a_{31}& a_{32}& a_{33}\n",
    "\\end{pmatrix} = \\pm a \\pm b \\pm c\n",
    "\\end{equation}$$\n",
    "\n",
    "De manera similar se hace lo anterior con matrices de orden mayor hasta que se logre disminuir a un orden en el que sea mas fácil calcular el determinante."
   ]
  },
  {
   "cell_type": "markdown",
   "id": "9651c6b2",
   "metadata": {},
   "source": [
    "# **Referencias**\n",
    "\n",
    "•\tKolman, B., & Hill, D. R. (2006). Algebra lineal. Pearson Educación.\n",
    "\n",
    "•\tGrossman, S., & Flores Godoy, J. J. (2012). Álgebra Lineal (Séptima edición). McGraw Hill.\n",
    "\n"
   ]
  }
 ],
 "metadata": {
  "kernelspec": {
   "display_name": "Python 3 (ipykernel)",
   "language": "python",
   "name": "python3"
  },
  "language_info": {
   "codemirror_mode": {
    "name": "ipython",
    "version": 3
   },
   "file_extension": ".py",
   "mimetype": "text/x-python",
   "name": "python",
   "nbconvert_exporter": "python",
   "pygments_lexer": "ipython3",
   "version": "3.9.13"
  }
 },
 "nbformat": 4,
 "nbformat_minor": 5
}
