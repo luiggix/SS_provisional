{
 "cells": [
  {
   "cell_type": "code",
   "execution_count": 1,
   "id": "bb54bf13-87c7-4c12-809b-6c62bec1e526",
   "metadata": {},
   "outputs": [],
   "source": [
    "import numpy as np"
   ]
  },
  {
   "cell_type": "code",
   "execution_count": 11,
   "id": "a65e67ee-5c69-44b5-9304-30b324bf3d0f",
   "metadata": {},
   "outputs": [
    {
     "data": {
      "text/plain": [
       "array(['(-sin(x^2+3))(2x)', '-sin(x^2+3)(2x)', '-2xsin(x^2+3)',\n",
       "       '-sin(x^2+3)2x'], dtype='<U17')"
      ]
     },
     "execution_count": 11,
     "metadata": {},
     "output_type": "execute_result"
    }
   ],
   "source": [
    "np.load('sol07b.npy')"
   ]
  },
  {
   "cell_type": "code",
   "execution_count": null,
   "id": "dfa945ad-387d-4160-a36f-ec09948f1a5f",
   "metadata": {},
   "outputs": [],
   "source": []
  }
 ],
 "metadata": {
  "kernelspec": {
   "display_name": "Python 3 (ipykernel)",
   "language": "python",
   "name": "python3"
  },
  "language_info": {
   "codemirror_mode": {
    "name": "ipython",
    "version": 3
   },
   "file_extension": ".py",
   "mimetype": "text/x-python",
   "name": "python",
   "nbconvert_exporter": "python",
   "pygments_lexer": "ipython3",
   "version": "3.9.7"
  }
 },
 "nbformat": 4,
 "nbformat_minor": 5
}
